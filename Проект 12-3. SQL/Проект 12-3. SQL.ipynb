{
 "cells": [
  {
   "cell_type": "markdown",
   "metadata": {},
   "source": [
    "# Проект по SQL"
   ]
  },
  {
   "cell_type": "markdown",
   "metadata": {},
   "source": [
    "*Целью проекта* является анализ базы данных сервиса для чтения книг по подписке."
   ]
  },
  {
   "cell_type": "markdown",
   "metadata": {},
   "source": [
    "**Описание данных**\n",
    "\n",
    "Таблица \"books\" содержит данные о книгах:\n",
    "-\tbook_id — идентификатор книги;\n",
    "-\tauthor_id — идентификатор автора;\n",
    "-\ttitle — название книги;\n",
    "-\tnum_pages — количество страниц;\n",
    "-\tpublication_date — дата публикации книги;\n",
    "-\tpublisher_id — идентификатор издателя.\n",
    "\n",
    "Таблица \"authors\" содержит данные об авторах:\n",
    "-\tauthor_id — идентификатор автора;\n",
    "-\tauthor — имя автора.\n",
    "\n",
    "Таблица \"publishers\" содержит данные об издательствах:\n",
    "-\tpublisher_id — идентификатор издательства;\n",
    "-\tpublisher — название издательства;\n",
    "\n",
    "Таблица \"ratings\" содержит данные о пользовательских оценках книг:\n",
    "-\trating_id — идентификатор оценки;\n",
    "-\tbook_id — идентификатор книги;\n",
    "-\tusername — имя пользователя, оставившего оценку;\n",
    "-\trating — оценка книги.\n",
    "\n",
    "Таблица \"reviews\" содержит данные о пользовательских обзорах:\n",
    "-\treview_id — идентификатор обзора;\n",
    "-\tbook_id — идентификатор книги;\n",
    "-\tusername — имя автора обзора;\n",
    "-\ttext — текст обзора.\n"
   ]
  },
  {
   "cell_type": "markdown",
   "metadata": {},
   "source": [
    "<h1>Содержание<span class=\"tocSkip\"></span></h1>\n",
    "<div class=\"toc\"><ul class=\"toc-item\"><li><span><a href=\"#Знакомство-с-данными-из-файлов\" data-toc-modified-id=\"Знакомство-с-данными-из-файлов-1\"><span class=\"toc-item-num\">1&nbsp;&nbsp;</span>Знакомство с данными из файлов</a></span></li><li><span><a href=\"#Сколько-книг-вышло-после-1-января-2000-года\" data-toc-modified-id=\"Сколько-книг-вышло-после-1-января-2000-года-2\"><span class=\"toc-item-num\">2&nbsp;&nbsp;</span>Сколько книг вышло после 1 января 2000 года</a></span></li><li><span><a href=\"#Количество-обзоров-и-средняя-оценка-для-каждой-книги\" data-toc-modified-id=\"Количество-обзоров-и-средняя-оценка-для-каждой-книги-3\"><span class=\"toc-item-num\">3&nbsp;&nbsp;</span>Количество обзоров и средняя оценка для каждой книги</a></span></li><li><span><a href=\"#Определение-издательства-,-которое-выпустило-наибольшее-число-книг-толще-50-страниц\" data-toc-modified-id=\"Определение-издательства-,-которое-выпустило-наибольшее-число-книг-толще-50-страниц-4\"><span class=\"toc-item-num\">4&nbsp;&nbsp;</span>Определение издательства, которое выпустило наибольшее число книг толще 50 страниц</a></span></li><li><span><a href=\"#Определение-автора-с-самой-высокой-средней-оценкой-книг-(-учитываем-только-книги-с-50-и-более-оценками)\" data-toc-modified-id=\"Определение-автора-с-самой-высокой-средней-оценкой-книг-(-учитываем-только-книги-с-50-и-более-оценками)-5\"><span class=\"toc-item-num\">5&nbsp;&nbsp;</span>Определение автора с самой высокой средней оценкой книг (учитываем только книги с 50 и более оценками)</a></span></li><li><span><a href=\"#Среднее-количество-обзоров-от-пользователей,-которые-поставили-больше-50-оценок\" data-toc-modified-id=\"Среднее-количество-обзоров-от-пользователей,-которые-поставили-больше-50-оценок-6\"><span class=\"toc-item-num\">6&nbsp;&nbsp;</span>Среднее количество обзоров от пользователей, которые поставили больше 50 оценок</a></span></li><li><span><a href=\"#Общий-вывод\" data-toc-modified-id=\"Общий-вывод-7\"><span class=\"toc-item-num\">7&nbsp;&nbsp;</span>Общий вывод</a></span></li></ul></div>"
   ]
  },
  {
   "cell_type": "markdown",
   "metadata": {},
   "source": [
    "## Знакомство с данными из файлов"
   ]
  },
  {
   "cell_type": "code",
   "execution_count": 1,
   "metadata": {},
   "outputs": [],
   "source": [
    "# импортируем библиотеки\n",
    "import pandas as pd\n",
    "from sqlalchemy import create_engine\n",
    "# устанавливаем параметры\n",
    "db_config = {'user': 'praktikum_student', # имя пользователя\n",
    " 'pwd': 'Sdf4$2;d-d30pp', # пароль\n",
    " 'host': 'rc1b-wcoijxj3yxfsf3fs.mdb.yandexcloud.net',\n",
    " 'port': 6432, # порт подключения\n",
    " 'db': 'data-analyst-final-project-db'} # название базы данных\n",
    "connection_string = 'postgresql://{}:{}@{}:{}/{}'.format(db_config['user'],\n",
    " db_config['pwd'],\n",
    " db_config['host'],\n",
    " db_config['port'],\n",
    " db_config['db'])\n",
    "# сохраняем коннектор\n",
    "engine = create_engine(connection_string, connect_args={'sslmode':'require'}) "
   ]
  },
  {
   "cell_type": "code",
   "execution_count": 2,
   "metadata": {},
   "outputs": [
    {
     "data": {
      "text/html": [
       "<div>\n",
       "<style scoped>\n",
       "    .dataframe tbody tr th:only-of-type {\n",
       "        vertical-align: middle;\n",
       "    }\n",
       "\n",
       "    .dataframe tbody tr th {\n",
       "        vertical-align: top;\n",
       "    }\n",
       "\n",
       "    .dataframe thead th {\n",
       "        text-align: right;\n",
       "    }\n",
       "</style>\n",
       "<table border=\"1\" class=\"dataframe\">\n",
       "  <thead>\n",
       "    <tr style=\"text-align: right;\">\n",
       "      <th></th>\n",
       "      <th>book_id</th>\n",
       "      <th>author_id</th>\n",
       "      <th>title</th>\n",
       "      <th>num_pages</th>\n",
       "      <th>publication_date</th>\n",
       "      <th>publisher_id</th>\n",
       "    </tr>\n",
       "  </thead>\n",
       "  <tbody>\n",
       "    <tr>\n",
       "      <td>0</td>\n",
       "      <td>1</td>\n",
       "      <td>546</td>\n",
       "      <td>'Salem's Lot</td>\n",
       "      <td>594</td>\n",
       "      <td>2005-11-01</td>\n",
       "      <td>93</td>\n",
       "    </tr>\n",
       "    <tr>\n",
       "      <td>1</td>\n",
       "      <td>2</td>\n",
       "      <td>465</td>\n",
       "      <td>1 000 Places to See Before You Die</td>\n",
       "      <td>992</td>\n",
       "      <td>2003-05-22</td>\n",
       "      <td>336</td>\n",
       "    </tr>\n",
       "    <tr>\n",
       "      <td>2</td>\n",
       "      <td>3</td>\n",
       "      <td>407</td>\n",
       "      <td>13 Little Blue Envelopes (Little Blue Envelope...</td>\n",
       "      <td>322</td>\n",
       "      <td>2010-12-21</td>\n",
       "      <td>135</td>\n",
       "    </tr>\n",
       "    <tr>\n",
       "      <td>3</td>\n",
       "      <td>4</td>\n",
       "      <td>82</td>\n",
       "      <td>1491: New Revelations of the Americas Before C...</td>\n",
       "      <td>541</td>\n",
       "      <td>2006-10-10</td>\n",
       "      <td>309</td>\n",
       "    </tr>\n",
       "    <tr>\n",
       "      <td>4</td>\n",
       "      <td>5</td>\n",
       "      <td>125</td>\n",
       "      <td>1776</td>\n",
       "      <td>386</td>\n",
       "      <td>2006-07-04</td>\n",
       "      <td>268</td>\n",
       "    </tr>\n",
       "    <tr>\n",
       "      <td>5</td>\n",
       "      <td>6</td>\n",
       "      <td>257</td>\n",
       "      <td>1st to Die (Women's Murder Club  #1)</td>\n",
       "      <td>424</td>\n",
       "      <td>2005-05-20</td>\n",
       "      <td>116</td>\n",
       "    </tr>\n",
       "    <tr>\n",
       "      <td>6</td>\n",
       "      <td>7</td>\n",
       "      <td>258</td>\n",
       "      <td>2nd Chance (Women's Murder Club  #2)</td>\n",
       "      <td>400</td>\n",
       "      <td>2005-05-20</td>\n",
       "      <td>116</td>\n",
       "    </tr>\n",
       "    <tr>\n",
       "      <td>7</td>\n",
       "      <td>8</td>\n",
       "      <td>260</td>\n",
       "      <td>4th of July (Women's Murder Club  #4)</td>\n",
       "      <td>448</td>\n",
       "      <td>2006-06-01</td>\n",
       "      <td>318</td>\n",
       "    </tr>\n",
       "    <tr>\n",
       "      <td>8</td>\n",
       "      <td>9</td>\n",
       "      <td>563</td>\n",
       "      <td>A Beautiful Mind</td>\n",
       "      <td>461</td>\n",
       "      <td>2002-02-04</td>\n",
       "      <td>104</td>\n",
       "    </tr>\n",
       "    <tr>\n",
       "      <td>9</td>\n",
       "      <td>10</td>\n",
       "      <td>445</td>\n",
       "      <td>A Bend in the Road</td>\n",
       "      <td>341</td>\n",
       "      <td>2005-04-01</td>\n",
       "      <td>116</td>\n",
       "    </tr>\n",
       "    <tr>\n",
       "      <td>10</td>\n",
       "      <td>11</td>\n",
       "      <td>130</td>\n",
       "      <td>A Breath of Snow and Ashes (Outlander  #6)</td>\n",
       "      <td>980</td>\n",
       "      <td>2006-08-29</td>\n",
       "      <td>83</td>\n",
       "    </tr>\n",
       "    <tr>\n",
       "      <td>11</td>\n",
       "      <td>12</td>\n",
       "      <td>541</td>\n",
       "      <td>A Brief History of Time</td>\n",
       "      <td>212</td>\n",
       "      <td>1998-09-01</td>\n",
       "      <td>36</td>\n",
       "    </tr>\n",
       "    <tr>\n",
       "      <td>12</td>\n",
       "      <td>13</td>\n",
       "      <td>359</td>\n",
       "      <td>A Caress of Twilight (Merry Gentry  #2)</td>\n",
       "      <td>348</td>\n",
       "      <td>2005-03-15</td>\n",
       "      <td>33</td>\n",
       "    </tr>\n",
       "    <tr>\n",
       "      <td>13</td>\n",
       "      <td>14</td>\n",
       "      <td>85</td>\n",
       "      <td>A Christmas Carol and Other Christmas Writings</td>\n",
       "      <td>288</td>\n",
       "      <td>2003-10-30</td>\n",
       "      <td>217</td>\n",
       "    </tr>\n",
       "    <tr>\n",
       "      <td>14</td>\n",
       "      <td>15</td>\n",
       "      <td>198</td>\n",
       "      <td>A Clash of Kings  (A Song of Ice and Fire  #2)</td>\n",
       "      <td>969</td>\n",
       "      <td>2002-05-28</td>\n",
       "      <td>35</td>\n",
       "    </tr>\n",
       "  </tbody>\n",
       "</table>\n",
       "</div>"
      ],
      "text/plain": [
       "    book_id  author_id                                              title  \\\n",
       "0         1        546                                       'Salem's Lot   \n",
       "1         2        465                 1 000 Places to See Before You Die   \n",
       "2         3        407  13 Little Blue Envelopes (Little Blue Envelope...   \n",
       "3         4         82  1491: New Revelations of the Americas Before C...   \n",
       "4         5        125                                               1776   \n",
       "5         6        257               1st to Die (Women's Murder Club  #1)   \n",
       "6         7        258               2nd Chance (Women's Murder Club  #2)   \n",
       "7         8        260              4th of July (Women's Murder Club  #4)   \n",
       "8         9        563                                   A Beautiful Mind   \n",
       "9        10        445                                 A Bend in the Road   \n",
       "10       11        130         A Breath of Snow and Ashes (Outlander  #6)   \n",
       "11       12        541                            A Brief History of Time   \n",
       "12       13        359            A Caress of Twilight (Merry Gentry  #2)   \n",
       "13       14         85     A Christmas Carol and Other Christmas Writings   \n",
       "14       15        198     A Clash of Kings  (A Song of Ice and Fire  #2)   \n",
       "\n",
       "    num_pages publication_date  publisher_id  \n",
       "0         594       2005-11-01            93  \n",
       "1         992       2003-05-22           336  \n",
       "2         322       2010-12-21           135  \n",
       "3         541       2006-10-10           309  \n",
       "4         386       2006-07-04           268  \n",
       "5         424       2005-05-20           116  \n",
       "6         400       2005-05-20           116  \n",
       "7         448       2006-06-01           318  \n",
       "8         461       2002-02-04           104  \n",
       "9         341       2005-04-01           116  \n",
       "10        980       2006-08-29            83  \n",
       "11        212       1998-09-01            36  \n",
       "12        348       2005-03-15            33  \n",
       "13        288       2003-10-30           217  \n",
       "14        969       2002-05-28            35  "
      ]
     },
     "execution_count": 2,
     "metadata": {},
     "output_type": "execute_result"
    }
   ],
   "source": [
    "#Выведем содержимое всех баз данных\n",
    "query = ''' \n",
    "SELECT * \n",
    "FROM books\n",
    "LIMIT 15'''\n",
    "pd.io.sql.read_sql(query, con = engine) "
   ]
  },
  {
   "cell_type": "code",
   "execution_count": 3,
   "metadata": {},
   "outputs": [
    {
     "data": {
      "text/html": [
       "<div>\n",
       "<style scoped>\n",
       "    .dataframe tbody tr th:only-of-type {\n",
       "        vertical-align: middle;\n",
       "    }\n",
       "\n",
       "    .dataframe tbody tr th {\n",
       "        vertical-align: top;\n",
       "    }\n",
       "\n",
       "    .dataframe thead th {\n",
       "        text-align: right;\n",
       "    }\n",
       "</style>\n",
       "<table border=\"1\" class=\"dataframe\">\n",
       "  <thead>\n",
       "    <tr style=\"text-align: right;\">\n",
       "      <th></th>\n",
       "      <th>author_id</th>\n",
       "      <th>author</th>\n",
       "    </tr>\n",
       "  </thead>\n",
       "  <tbody>\n",
       "    <tr>\n",
       "      <td>0</td>\n",
       "      <td>1</td>\n",
       "      <td>A.S. Byatt</td>\n",
       "    </tr>\n",
       "    <tr>\n",
       "      <td>1</td>\n",
       "      <td>2</td>\n",
       "      <td>Aesop/Laura Harris/Laura Gibbs</td>\n",
       "    </tr>\n",
       "    <tr>\n",
       "      <td>2</td>\n",
       "      <td>3</td>\n",
       "      <td>Agatha Christie</td>\n",
       "    </tr>\n",
       "    <tr>\n",
       "      <td>3</td>\n",
       "      <td>4</td>\n",
       "      <td>Alan Brennert</td>\n",
       "    </tr>\n",
       "    <tr>\n",
       "      <td>4</td>\n",
       "      <td>5</td>\n",
       "      <td>Alan Moore/David   Lloyd</td>\n",
       "    </tr>\n",
       "    <tr>\n",
       "      <td>5</td>\n",
       "      <td>6</td>\n",
       "      <td>Alan Paton</td>\n",
       "    </tr>\n",
       "    <tr>\n",
       "      <td>6</td>\n",
       "      <td>7</td>\n",
       "      <td>Albert Camus/Justin O'Brien</td>\n",
       "    </tr>\n",
       "    <tr>\n",
       "      <td>7</td>\n",
       "      <td>8</td>\n",
       "      <td>Aldous Huxley</td>\n",
       "    </tr>\n",
       "    <tr>\n",
       "      <td>8</td>\n",
       "      <td>9</td>\n",
       "      <td>Aldous Huxley/Christopher Hitchens</td>\n",
       "    </tr>\n",
       "    <tr>\n",
       "      <td>9</td>\n",
       "      <td>10</td>\n",
       "      <td>Aleksandr Solzhenitsyn/H.T. Willetts</td>\n",
       "    </tr>\n",
       "    <tr>\n",
       "      <td>10</td>\n",
       "      <td>11</td>\n",
       "      <td>Alexander McCall Smith</td>\n",
       "    </tr>\n",
       "    <tr>\n",
       "      <td>11</td>\n",
       "      <td>12</td>\n",
       "      <td>Alexander Pushkin/James E. Falen</td>\n",
       "    </tr>\n",
       "    <tr>\n",
       "      <td>12</td>\n",
       "      <td>13</td>\n",
       "      <td>Alexandre Dumas/Robin Buss</td>\n",
       "    </tr>\n",
       "    <tr>\n",
       "      <td>13</td>\n",
       "      <td>14</td>\n",
       "      <td>Alice Hoffman</td>\n",
       "    </tr>\n",
       "    <tr>\n",
       "      <td>14</td>\n",
       "      <td>15</td>\n",
       "      <td>Alice Walker</td>\n",
       "    </tr>\n",
       "  </tbody>\n",
       "</table>\n",
       "</div>"
      ],
      "text/plain": [
       "    author_id                                author\n",
       "0           1                            A.S. Byatt\n",
       "1           2        Aesop/Laura Harris/Laura Gibbs\n",
       "2           3                       Agatha Christie\n",
       "3           4                         Alan Brennert\n",
       "4           5              Alan Moore/David   Lloyd\n",
       "5           6                            Alan Paton\n",
       "6           7           Albert Camus/Justin O'Brien\n",
       "7           8                         Aldous Huxley\n",
       "8           9    Aldous Huxley/Christopher Hitchens\n",
       "9          10  Aleksandr Solzhenitsyn/H.T. Willetts\n",
       "10         11                Alexander McCall Smith\n",
       "11         12      Alexander Pushkin/James E. Falen\n",
       "12         13            Alexandre Dumas/Robin Buss\n",
       "13         14                         Alice Hoffman\n",
       "14         15                          Alice Walker"
      ]
     },
     "execution_count": 3,
     "metadata": {},
     "output_type": "execute_result"
    }
   ],
   "source": [
    "query = ''' \n",
    "SELECT * \n",
    "FROM authors\n",
    "LIMIT 15'''\n",
    "pd.io.sql.read_sql(query, con = engine) "
   ]
  },
  {
   "cell_type": "code",
   "execution_count": 4,
   "metadata": {},
   "outputs": [
    {
     "data": {
      "text/html": [
       "<div>\n",
       "<style scoped>\n",
       "    .dataframe tbody tr th:only-of-type {\n",
       "        vertical-align: middle;\n",
       "    }\n",
       "\n",
       "    .dataframe tbody tr th {\n",
       "        vertical-align: top;\n",
       "    }\n",
       "\n",
       "    .dataframe thead th {\n",
       "        text-align: right;\n",
       "    }\n",
       "</style>\n",
       "<table border=\"1\" class=\"dataframe\">\n",
       "  <thead>\n",
       "    <tr style=\"text-align: right;\">\n",
       "      <th></th>\n",
       "      <th>publisher_id</th>\n",
       "      <th>publisher</th>\n",
       "    </tr>\n",
       "  </thead>\n",
       "  <tbody>\n",
       "    <tr>\n",
       "      <td>0</td>\n",
       "      <td>1</td>\n",
       "      <td>Ace</td>\n",
       "    </tr>\n",
       "    <tr>\n",
       "      <td>1</td>\n",
       "      <td>2</td>\n",
       "      <td>Ace Book</td>\n",
       "    </tr>\n",
       "    <tr>\n",
       "      <td>2</td>\n",
       "      <td>3</td>\n",
       "      <td>Ace Books</td>\n",
       "    </tr>\n",
       "    <tr>\n",
       "      <td>3</td>\n",
       "      <td>4</td>\n",
       "      <td>Ace Hardcover</td>\n",
       "    </tr>\n",
       "    <tr>\n",
       "      <td>4</td>\n",
       "      <td>5</td>\n",
       "      <td>Addison Wesley Publishing Company</td>\n",
       "    </tr>\n",
       "    <tr>\n",
       "      <td>5</td>\n",
       "      <td>6</td>\n",
       "      <td>Aladdin</td>\n",
       "    </tr>\n",
       "    <tr>\n",
       "      <td>6</td>\n",
       "      <td>7</td>\n",
       "      <td>Aladdin Paperbacks</td>\n",
       "    </tr>\n",
       "    <tr>\n",
       "      <td>7</td>\n",
       "      <td>8</td>\n",
       "      <td>Albin Michel</td>\n",
       "    </tr>\n",
       "    <tr>\n",
       "      <td>8</td>\n",
       "      <td>9</td>\n",
       "      <td>Alfred A. Knopf</td>\n",
       "    </tr>\n",
       "    <tr>\n",
       "      <td>9</td>\n",
       "      <td>10</td>\n",
       "      <td>Alfred A. Knopf Books for Young Readers</td>\n",
       "    </tr>\n",
       "    <tr>\n",
       "      <td>10</td>\n",
       "      <td>11</td>\n",
       "      <td>Alfred A. Knopf Borzoi Books</td>\n",
       "    </tr>\n",
       "    <tr>\n",
       "      <td>11</td>\n",
       "      <td>12</td>\n",
       "      <td>Algonquin Books</td>\n",
       "    </tr>\n",
       "    <tr>\n",
       "      <td>12</td>\n",
       "      <td>13</td>\n",
       "      <td>Allen &amp; Ulwin</td>\n",
       "    </tr>\n",
       "    <tr>\n",
       "      <td>13</td>\n",
       "      <td>14</td>\n",
       "      <td>Amistad</td>\n",
       "    </tr>\n",
       "    <tr>\n",
       "      <td>14</td>\n",
       "      <td>15</td>\n",
       "      <td>Anchor</td>\n",
       "    </tr>\n",
       "  </tbody>\n",
       "</table>\n",
       "</div>"
      ],
      "text/plain": [
       "    publisher_id                                publisher\n",
       "0              1                                      Ace\n",
       "1              2                                 Ace Book\n",
       "2              3                                Ace Books\n",
       "3              4                            Ace Hardcover\n",
       "4              5        Addison Wesley Publishing Company\n",
       "5              6                                  Aladdin\n",
       "6              7                       Aladdin Paperbacks\n",
       "7              8                             Albin Michel\n",
       "8              9                          Alfred A. Knopf\n",
       "9             10  Alfred A. Knopf Books for Young Readers\n",
       "10            11             Alfred A. Knopf Borzoi Books\n",
       "11            12                          Algonquin Books\n",
       "12            13                            Allen & Ulwin\n",
       "13            14                                  Amistad\n",
       "14            15                                   Anchor"
      ]
     },
     "execution_count": 4,
     "metadata": {},
     "output_type": "execute_result"
    }
   ],
   "source": [
    "query = ''' \n",
    "SELECT * \n",
    "FROM publishers\n",
    "LIMIT 15'''\n",
    "pd.io.sql.read_sql(query, con = engine) "
   ]
  },
  {
   "cell_type": "code",
   "execution_count": 5,
   "metadata": {},
   "outputs": [
    {
     "data": {
      "text/html": [
       "<div>\n",
       "<style scoped>\n",
       "    .dataframe tbody tr th:only-of-type {\n",
       "        vertical-align: middle;\n",
       "    }\n",
       "\n",
       "    .dataframe tbody tr th {\n",
       "        vertical-align: top;\n",
       "    }\n",
       "\n",
       "    .dataframe thead th {\n",
       "        text-align: right;\n",
       "    }\n",
       "</style>\n",
       "<table border=\"1\" class=\"dataframe\">\n",
       "  <thead>\n",
       "    <tr style=\"text-align: right;\">\n",
       "      <th></th>\n",
       "      <th>rating_id</th>\n",
       "      <th>book_id</th>\n",
       "      <th>username</th>\n",
       "      <th>rating</th>\n",
       "    </tr>\n",
       "  </thead>\n",
       "  <tbody>\n",
       "    <tr>\n",
       "      <td>0</td>\n",
       "      <td>1</td>\n",
       "      <td>1</td>\n",
       "      <td>ryanfranco</td>\n",
       "      <td>4</td>\n",
       "    </tr>\n",
       "    <tr>\n",
       "      <td>1</td>\n",
       "      <td>2</td>\n",
       "      <td>1</td>\n",
       "      <td>grantpatricia</td>\n",
       "      <td>2</td>\n",
       "    </tr>\n",
       "    <tr>\n",
       "      <td>2</td>\n",
       "      <td>3</td>\n",
       "      <td>1</td>\n",
       "      <td>brandtandrea</td>\n",
       "      <td>5</td>\n",
       "    </tr>\n",
       "    <tr>\n",
       "      <td>3</td>\n",
       "      <td>4</td>\n",
       "      <td>2</td>\n",
       "      <td>lorichen</td>\n",
       "      <td>3</td>\n",
       "    </tr>\n",
       "    <tr>\n",
       "      <td>4</td>\n",
       "      <td>5</td>\n",
       "      <td>2</td>\n",
       "      <td>mariokeller</td>\n",
       "      <td>2</td>\n",
       "    </tr>\n",
       "    <tr>\n",
       "      <td>5</td>\n",
       "      <td>6</td>\n",
       "      <td>3</td>\n",
       "      <td>johnsonamanda</td>\n",
       "      <td>4</td>\n",
       "    </tr>\n",
       "    <tr>\n",
       "      <td>6</td>\n",
       "      <td>7</td>\n",
       "      <td>3</td>\n",
       "      <td>scotttamara</td>\n",
       "      <td>5</td>\n",
       "    </tr>\n",
       "    <tr>\n",
       "      <td>7</td>\n",
       "      <td>8</td>\n",
       "      <td>3</td>\n",
       "      <td>lesliegibbs</td>\n",
       "      <td>5</td>\n",
       "    </tr>\n",
       "    <tr>\n",
       "      <td>8</td>\n",
       "      <td>9</td>\n",
       "      <td>4</td>\n",
       "      <td>abbottjames</td>\n",
       "      <td>5</td>\n",
       "    </tr>\n",
       "    <tr>\n",
       "      <td>9</td>\n",
       "      <td>10</td>\n",
       "      <td>4</td>\n",
       "      <td>valenciaanne</td>\n",
       "      <td>4</td>\n",
       "    </tr>\n",
       "    <tr>\n",
       "      <td>10</td>\n",
       "      <td>11</td>\n",
       "      <td>5</td>\n",
       "      <td>jeromebowen</td>\n",
       "      <td>4</td>\n",
       "    </tr>\n",
       "    <tr>\n",
       "      <td>11</td>\n",
       "      <td>12</td>\n",
       "      <td>5</td>\n",
       "      <td>staylor</td>\n",
       "      <td>4</td>\n",
       "    </tr>\n",
       "    <tr>\n",
       "      <td>12</td>\n",
       "      <td>13</td>\n",
       "      <td>5</td>\n",
       "      <td>susan85</td>\n",
       "      <td>3</td>\n",
       "    </tr>\n",
       "    <tr>\n",
       "      <td>13</td>\n",
       "      <td>14</td>\n",
       "      <td>5</td>\n",
       "      <td>npowers</td>\n",
       "      <td>4</td>\n",
       "    </tr>\n",
       "    <tr>\n",
       "      <td>14</td>\n",
       "      <td>15</td>\n",
       "      <td>5</td>\n",
       "      <td>znelson</td>\n",
       "      <td>5</td>\n",
       "    </tr>\n",
       "  </tbody>\n",
       "</table>\n",
       "</div>"
      ],
      "text/plain": [
       "    rating_id  book_id       username  rating\n",
       "0           1        1     ryanfranco       4\n",
       "1           2        1  grantpatricia       2\n",
       "2           3        1   brandtandrea       5\n",
       "3           4        2       lorichen       3\n",
       "4           5        2    mariokeller       2\n",
       "5           6        3  johnsonamanda       4\n",
       "6           7        3    scotttamara       5\n",
       "7           8        3    lesliegibbs       5\n",
       "8           9        4    abbottjames       5\n",
       "9          10        4   valenciaanne       4\n",
       "10         11        5    jeromebowen       4\n",
       "11         12        5        staylor       4\n",
       "12         13        5        susan85       3\n",
       "13         14        5        npowers       4\n",
       "14         15        5        znelson       5"
      ]
     },
     "execution_count": 5,
     "metadata": {},
     "output_type": "execute_result"
    }
   ],
   "source": [
    "query = ''' \n",
    "SELECT * \n",
    "FROM ratings\n",
    "LIMIT 15'''\n",
    "pd.io.sql.read_sql(query, con = engine) "
   ]
  },
  {
   "cell_type": "code",
   "execution_count": 6,
   "metadata": {
    "scrolled": false
   },
   "outputs": [
    {
     "data": {
      "text/html": [
       "<div>\n",
       "<style scoped>\n",
       "    .dataframe tbody tr th:only-of-type {\n",
       "        vertical-align: middle;\n",
       "    }\n",
       "\n",
       "    .dataframe tbody tr th {\n",
       "        vertical-align: top;\n",
       "    }\n",
       "\n",
       "    .dataframe thead th {\n",
       "        text-align: right;\n",
       "    }\n",
       "</style>\n",
       "<table border=\"1\" class=\"dataframe\">\n",
       "  <thead>\n",
       "    <tr style=\"text-align: right;\">\n",
       "      <th></th>\n",
       "      <th>review_id</th>\n",
       "      <th>book_id</th>\n",
       "      <th>username</th>\n",
       "      <th>text</th>\n",
       "    </tr>\n",
       "  </thead>\n",
       "  <tbody>\n",
       "    <tr>\n",
       "      <td>0</td>\n",
       "      <td>1</td>\n",
       "      <td>1</td>\n",
       "      <td>brandtandrea</td>\n",
       "      <td>Mention society tell send professor analysis. ...</td>\n",
       "    </tr>\n",
       "    <tr>\n",
       "      <td>1</td>\n",
       "      <td>2</td>\n",
       "      <td>1</td>\n",
       "      <td>ryanfranco</td>\n",
       "      <td>Foot glass pretty audience hit themselves. Amo...</td>\n",
       "    </tr>\n",
       "    <tr>\n",
       "      <td>2</td>\n",
       "      <td>3</td>\n",
       "      <td>2</td>\n",
       "      <td>lorichen</td>\n",
       "      <td>Listen treat keep worry. Miss husband tax but ...</td>\n",
       "    </tr>\n",
       "    <tr>\n",
       "      <td>3</td>\n",
       "      <td>4</td>\n",
       "      <td>3</td>\n",
       "      <td>johnsonamanda</td>\n",
       "      <td>Finally month interesting blue could nature cu...</td>\n",
       "    </tr>\n",
       "    <tr>\n",
       "      <td>4</td>\n",
       "      <td>5</td>\n",
       "      <td>3</td>\n",
       "      <td>scotttamara</td>\n",
       "      <td>Nation purpose heavy give wait song will. List...</td>\n",
       "    </tr>\n",
       "    <tr>\n",
       "      <td>5</td>\n",
       "      <td>6</td>\n",
       "      <td>3</td>\n",
       "      <td>lesliegibbs</td>\n",
       "      <td>Analysis no several cause international.</td>\n",
       "    </tr>\n",
       "    <tr>\n",
       "      <td>6</td>\n",
       "      <td>7</td>\n",
       "      <td>4</td>\n",
       "      <td>valenciaanne</td>\n",
       "      <td>One there cost another. Say type save. With pe...</td>\n",
       "    </tr>\n",
       "    <tr>\n",
       "      <td>7</td>\n",
       "      <td>8</td>\n",
       "      <td>4</td>\n",
       "      <td>abbottjames</td>\n",
       "      <td>Within enough mother. There at system full rec...</td>\n",
       "    </tr>\n",
       "    <tr>\n",
       "      <td>8</td>\n",
       "      <td>9</td>\n",
       "      <td>5</td>\n",
       "      <td>npowers</td>\n",
       "      <td>Thank now focus realize economy focus fly. Ite...</td>\n",
       "    </tr>\n",
       "    <tr>\n",
       "      <td>9</td>\n",
       "      <td>10</td>\n",
       "      <td>5</td>\n",
       "      <td>staylor</td>\n",
       "      <td>Game push lot reduce where remember. Including...</td>\n",
       "    </tr>\n",
       "    <tr>\n",
       "      <td>10</td>\n",
       "      <td>11</td>\n",
       "      <td>5</td>\n",
       "      <td>thomas49</td>\n",
       "      <td>Their physical over rise. Couple doctor seven ...</td>\n",
       "    </tr>\n",
       "    <tr>\n",
       "      <td>11</td>\n",
       "      <td>12</td>\n",
       "      <td>5</td>\n",
       "      <td>znelson</td>\n",
       "      <td>Explain individual record wonder we must turn ...</td>\n",
       "    </tr>\n",
       "    <tr>\n",
       "      <td>12</td>\n",
       "      <td>13</td>\n",
       "      <td>6</td>\n",
       "      <td>walter49</td>\n",
       "      <td>Western anyone until executive. Add teach ago ...</td>\n",
       "    </tr>\n",
       "    <tr>\n",
       "      <td>13</td>\n",
       "      <td>14</td>\n",
       "      <td>6</td>\n",
       "      <td>jasongoodman</td>\n",
       "      <td>Much responsibility feel fund media. Wind musi...</td>\n",
       "    </tr>\n",
       "    <tr>\n",
       "      <td>14</td>\n",
       "      <td>15</td>\n",
       "      <td>6</td>\n",
       "      <td>eallen</td>\n",
       "      <td>Money arm first above.</td>\n",
       "    </tr>\n",
       "  </tbody>\n",
       "</table>\n",
       "</div>"
      ],
      "text/plain": [
       "    review_id  book_id       username  \\\n",
       "0           1        1   brandtandrea   \n",
       "1           2        1     ryanfranco   \n",
       "2           3        2       lorichen   \n",
       "3           4        3  johnsonamanda   \n",
       "4           5        3    scotttamara   \n",
       "5           6        3    lesliegibbs   \n",
       "6           7        4   valenciaanne   \n",
       "7           8        4    abbottjames   \n",
       "8           9        5        npowers   \n",
       "9          10        5        staylor   \n",
       "10         11        5       thomas49   \n",
       "11         12        5        znelson   \n",
       "12         13        6       walter49   \n",
       "13         14        6   jasongoodman   \n",
       "14         15        6         eallen   \n",
       "\n",
       "                                                 text  \n",
       "0   Mention society tell send professor analysis. ...  \n",
       "1   Foot glass pretty audience hit themselves. Amo...  \n",
       "2   Listen treat keep worry. Miss husband tax but ...  \n",
       "3   Finally month interesting blue could nature cu...  \n",
       "4   Nation purpose heavy give wait song will. List...  \n",
       "5            Analysis no several cause international.  \n",
       "6   One there cost another. Say type save. With pe...  \n",
       "7   Within enough mother. There at system full rec...  \n",
       "8   Thank now focus realize economy focus fly. Ite...  \n",
       "9   Game push lot reduce where remember. Including...  \n",
       "10  Their physical over rise. Couple doctor seven ...  \n",
       "11  Explain individual record wonder we must turn ...  \n",
       "12  Western anyone until executive. Add teach ago ...  \n",
       "13  Much responsibility feel fund media. Wind musi...  \n",
       "14                             Money arm first above.  "
      ]
     },
     "execution_count": 6,
     "metadata": {},
     "output_type": "execute_result"
    }
   ],
   "source": [
    "query = ''' \n",
    "SELECT * \n",
    "FROM reviews\n",
    "LIMIT 15'''\n",
    "pd.io.sql.read_sql(query, con = engine) "
   ]
  },
  {
   "cell_type": "markdown",
   "metadata": {},
   "source": [
    "*Вывод*\n",
    "\n",
    "Подключение к базам данных прошло хорошо, все данные выгрузились корректно."
   ]
  },
  {
   "cell_type": "markdown",
   "metadata": {},
   "source": [
    "## Сколько книг вышло после 1 января 2000 года"
   ]
  },
  {
   "cell_type": "code",
   "execution_count": 7,
   "metadata": {},
   "outputs": [
    {
     "data": {
      "text/html": [
       "<div>\n",
       "<style scoped>\n",
       "    .dataframe tbody tr th:only-of-type {\n",
       "        vertical-align: middle;\n",
       "    }\n",
       "\n",
       "    .dataframe tbody tr th {\n",
       "        vertical-align: top;\n",
       "    }\n",
       "\n",
       "    .dataframe thead th {\n",
       "        text-align: right;\n",
       "    }\n",
       "</style>\n",
       "<table border=\"1\" class=\"dataframe\">\n",
       "  <thead>\n",
       "    <tr style=\"text-align: right;\">\n",
       "      <th></th>\n",
       "      <th>count_new_books</th>\n",
       "    </tr>\n",
       "  </thead>\n",
       "  <tbody>\n",
       "    <tr>\n",
       "      <td>0</td>\n",
       "      <td>819</td>\n",
       "    </tr>\n",
       "  </tbody>\n",
       "</table>\n",
       "</div>"
      ],
      "text/plain": [
       "   count_new_books\n",
       "0              819"
      ]
     },
     "execution_count": 7,
     "metadata": {},
     "output_type": "execute_result"
    }
   ],
   "source": [
    "query = '''\n",
    "SELECT COUNT(DISTINCT book_id) AS count_new_books\n",
    "    FROM\n",
    "        books\n",
    "    WHERE\n",
    "        publication_date > '2000-01-01' '''\n",
    "    \n",
    "    \n",
    "    \n",
    "pd.io.sql.read_sql(query, con = engine)\n"
   ]
  },
  {
   "cell_type": "code",
   "execution_count": 8,
   "metadata": {
    "scrolled": true
   },
   "outputs": [
    {
     "name": "stdout",
     "output_type": "stream",
     "text": [
      "После 1 января 2000 года вышло 819 книг.\n"
     ]
    }
   ],
   "source": [
    "print('После 1 января 2000 года вышло 819 книг.')"
   ]
  },
  {
   "cell_type": "markdown",
   "metadata": {},
   "source": [
    "## Количество обзоров и средняя оценка для каждой книги"
   ]
  },
  {
   "cell_type": "code",
   "execution_count": 9,
   "metadata": {
    "scrolled": true
   },
   "outputs": [
    {
     "data": {
      "text/html": [
       "<div>\n",
       "<style scoped>\n",
       "    .dataframe tbody tr th:only-of-type {\n",
       "        vertical-align: middle;\n",
       "    }\n",
       "\n",
       "    .dataframe tbody tr th {\n",
       "        vertical-align: top;\n",
       "    }\n",
       "\n",
       "    .dataframe thead th {\n",
       "        text-align: right;\n",
       "    }\n",
       "</style>\n",
       "<table border=\"1\" class=\"dataframe\">\n",
       "  <thead>\n",
       "    <tr style=\"text-align: right;\">\n",
       "      <th></th>\n",
       "      <th>name_book</th>\n",
       "      <th>count_reviews</th>\n",
       "      <th>avg_rating</th>\n",
       "    </tr>\n",
       "  </thead>\n",
       "  <tbody>\n",
       "    <tr>\n",
       "      <td>0</td>\n",
       "      <td>Memoirs of a Geisha</td>\n",
       "      <td>8</td>\n",
       "      <td>4.138462</td>\n",
       "    </tr>\n",
       "    <tr>\n",
       "      <td>1</td>\n",
       "      <td>Twilight (Twilight  #1)</td>\n",
       "      <td>7</td>\n",
       "      <td>3.662500</td>\n",
       "    </tr>\n",
       "    <tr>\n",
       "      <td>2</td>\n",
       "      <td>The Curious Incident of the Dog in the Night-Time</td>\n",
       "      <td>6</td>\n",
       "      <td>4.081081</td>\n",
       "    </tr>\n",
       "    <tr>\n",
       "      <td>3</td>\n",
       "      <td>Outlander (Outlander  #1)</td>\n",
       "      <td>6</td>\n",
       "      <td>4.125000</td>\n",
       "    </tr>\n",
       "    <tr>\n",
       "      <td>4</td>\n",
       "      <td>The Book Thief</td>\n",
       "      <td>6</td>\n",
       "      <td>4.264151</td>\n",
       "    </tr>\n",
       "    <tr>\n",
       "      <td>5</td>\n",
       "      <td>The Catcher in the Rye</td>\n",
       "      <td>6</td>\n",
       "      <td>3.825581</td>\n",
       "    </tr>\n",
       "    <tr>\n",
       "      <td>6</td>\n",
       "      <td>Harry Potter and the Chamber of Secrets (Harry...</td>\n",
       "      <td>6</td>\n",
       "      <td>4.287500</td>\n",
       "    </tr>\n",
       "    <tr>\n",
       "      <td>7</td>\n",
       "      <td>Eat  Pray  Love</td>\n",
       "      <td>6</td>\n",
       "      <td>3.395833</td>\n",
       "    </tr>\n",
       "    <tr>\n",
       "      <td>8</td>\n",
       "      <td>Harry Potter and the Prisoner of Azkaban (Harr...</td>\n",
       "      <td>6</td>\n",
       "      <td>4.414634</td>\n",
       "    </tr>\n",
       "    <tr>\n",
       "      <td>9</td>\n",
       "      <td>The Alchemist</td>\n",
       "      <td>6</td>\n",
       "      <td>3.789474</td>\n",
       "    </tr>\n",
       "  </tbody>\n",
       "</table>\n",
       "</div>"
      ],
      "text/plain": [
       "                                           name_book  count_reviews  \\\n",
       "0                                Memoirs of a Geisha              8   \n",
       "1                            Twilight (Twilight  #1)              7   \n",
       "2  The Curious Incident of the Dog in the Night-Time              6   \n",
       "3                          Outlander (Outlander  #1)              6   \n",
       "4                                     The Book Thief              6   \n",
       "5                             The Catcher in the Rye              6   \n",
       "6  Harry Potter and the Chamber of Secrets (Harry...              6   \n",
       "7                                    Eat  Pray  Love              6   \n",
       "8  Harry Potter and the Prisoner of Azkaban (Harr...              6   \n",
       "9                                      The Alchemist              6   \n",
       "\n",
       "   avg_rating  \n",
       "0    4.138462  \n",
       "1    3.662500  \n",
       "2    4.081081  \n",
       "3    4.125000  \n",
       "4    4.264151  \n",
       "5    3.825581  \n",
       "6    4.287500  \n",
       "7    3.395833  \n",
       "8    4.414634  \n",
       "9    3.789474  "
      ]
     },
     "execution_count": 9,
     "metadata": {},
     "output_type": "execute_result"
    }
   ],
   "source": [
    "query = '''\n",
    "SELECT \n",
    "    books.title AS name_book,\n",
    "    COUNT(DISTINCT reviews.review_id) AS count_reviews,\n",
    "    AVG(ratings.rating) AS avg_rating\n",
    "FROM \n",
    "    books\n",
    "    INNER JOIN reviews ON reviews.book_id=books.book_id\n",
    "    INNER JOIN ratings ON ratings.book_id=books.book_id\n",
    "GROUP BY\n",
    "    books.title \n",
    "ORDER BY \n",
    "    count_reviews DESC\n",
    "LIMIT 10 '''\n",
    "    \n",
    "    \n",
    "    \n",
    "pd.io.sql.read_sql(query, con = engine)\n"
   ]
  },
  {
   "cell_type": "code",
   "execution_count": 10,
   "metadata": {
    "scrolled": true
   },
   "outputs": [
    {
     "data": {
      "text/html": [
       "<div>\n",
       "<style scoped>\n",
       "    .dataframe tbody tr th:only-of-type {\n",
       "        vertical-align: middle;\n",
       "    }\n",
       "\n",
       "    .dataframe tbody tr th {\n",
       "        vertical-align: top;\n",
       "    }\n",
       "\n",
       "    .dataframe thead th {\n",
       "        text-align: right;\n",
       "    }\n",
       "</style>\n",
       "<table border=\"1\" class=\"dataframe\">\n",
       "  <thead>\n",
       "    <tr style=\"text-align: right;\">\n",
       "      <th></th>\n",
       "      <th>name_book</th>\n",
       "      <th>count_reviews</th>\n",
       "      <th>avg_rating</th>\n",
       "    </tr>\n",
       "  </thead>\n",
       "  <tbody>\n",
       "    <tr>\n",
       "      <td>0</td>\n",
       "      <td>Misty of Chincoteague (Misty  #1)</td>\n",
       "      <td>2</td>\n",
       "      <td>5.000000</td>\n",
       "    </tr>\n",
       "    <tr>\n",
       "      <td>1</td>\n",
       "      <td>A Woman of Substance (Emma Harte Saga #1)</td>\n",
       "      <td>2</td>\n",
       "      <td>5.000000</td>\n",
       "    </tr>\n",
       "    <tr>\n",
       "      <td>2</td>\n",
       "      <td>The War of Art: Break Through the Blocks &amp; Win...</td>\n",
       "      <td>2</td>\n",
       "      <td>5.000000</td>\n",
       "    </tr>\n",
       "    <tr>\n",
       "      <td>3</td>\n",
       "      <td>Evening Class</td>\n",
       "      <td>2</td>\n",
       "      <td>5.000000</td>\n",
       "    </tr>\n",
       "    <tr>\n",
       "      <td>4</td>\n",
       "      <td>Wherever You Go  There You Are: Mindfulness Me...</td>\n",
       "      <td>2</td>\n",
       "      <td>5.000000</td>\n",
       "    </tr>\n",
       "    <tr>\n",
       "      <td>5</td>\n",
       "      <td>Dead Souls</td>\n",
       "      <td>2</td>\n",
       "      <td>5.000000</td>\n",
       "    </tr>\n",
       "    <tr>\n",
       "      <td>6</td>\n",
       "      <td>Tai-Pan (Asian Saga  #2)</td>\n",
       "      <td>2</td>\n",
       "      <td>5.000000</td>\n",
       "    </tr>\n",
       "    <tr>\n",
       "      <td>7</td>\n",
       "      <td>The Ghost Map: The Story of London's Most Terr...</td>\n",
       "      <td>2</td>\n",
       "      <td>5.000000</td>\n",
       "    </tr>\n",
       "    <tr>\n",
       "      <td>8</td>\n",
       "      <td>Angels Fall</td>\n",
       "      <td>2</td>\n",
       "      <td>5.000000</td>\n",
       "    </tr>\n",
       "    <tr>\n",
       "      <td>9</td>\n",
       "      <td>Alas  Babylon</td>\n",
       "      <td>2</td>\n",
       "      <td>5.000000</td>\n",
       "    </tr>\n",
       "    <tr>\n",
       "      <td>10</td>\n",
       "      <td>Triptych (Will Trent  #1)</td>\n",
       "      <td>2</td>\n",
       "      <td>5.000000</td>\n",
       "    </tr>\n",
       "    <tr>\n",
       "      <td>11</td>\n",
       "      <td>The Woman in Black</td>\n",
       "      <td>2</td>\n",
       "      <td>5.000000</td>\n",
       "    </tr>\n",
       "    <tr>\n",
       "      <td>12</td>\n",
       "      <td>Welcome to Temptation (Dempseys  #1)</td>\n",
       "      <td>2</td>\n",
       "      <td>5.000000</td>\n",
       "    </tr>\n",
       "    <tr>\n",
       "      <td>13</td>\n",
       "      <td>Stone of Farewell (Memory  Sorrow  and Thorn  #2)</td>\n",
       "      <td>1</td>\n",
       "      <td>5.000000</td>\n",
       "    </tr>\n",
       "    <tr>\n",
       "      <td>14</td>\n",
       "      <td>Light in August</td>\n",
       "      <td>2</td>\n",
       "      <td>5.000000</td>\n",
       "    </tr>\n",
       "    <tr>\n",
       "      <td>15</td>\n",
       "      <td>Neil Gaiman's Neverwhere</td>\n",
       "      <td>2</td>\n",
       "      <td>5.000000</td>\n",
       "    </tr>\n",
       "    <tr>\n",
       "      <td>16</td>\n",
       "      <td>The Demon-Haunted World: Science as a Candle i...</td>\n",
       "      <td>2</td>\n",
       "      <td>5.000000</td>\n",
       "    </tr>\n",
       "    <tr>\n",
       "      <td>17</td>\n",
       "      <td>The Big Bad Wolf  (Alex Cross  #9)</td>\n",
       "      <td>2</td>\n",
       "      <td>5.000000</td>\n",
       "    </tr>\n",
       "    <tr>\n",
       "      <td>18</td>\n",
       "      <td>Marvel 1602</td>\n",
       "      <td>2</td>\n",
       "      <td>5.000000</td>\n",
       "    </tr>\n",
       "    <tr>\n",
       "      <td>19</td>\n",
       "      <td>Women</td>\n",
       "      <td>2</td>\n",
       "      <td>5.000000</td>\n",
       "    </tr>\n",
       "    <tr>\n",
       "      <td>20</td>\n",
       "      <td>My Name Is Asher Lev</td>\n",
       "      <td>2</td>\n",
       "      <td>5.000000</td>\n",
       "    </tr>\n",
       "    <tr>\n",
       "      <td>21</td>\n",
       "      <td>Moneyball: The Art of Winning an Unfair Game</td>\n",
       "      <td>3</td>\n",
       "      <td>5.000000</td>\n",
       "    </tr>\n",
       "    <tr>\n",
       "      <td>22</td>\n",
       "      <td>Piercing the Darkness (Darkness  #2)</td>\n",
       "      <td>2</td>\n",
       "      <td>5.000000</td>\n",
       "    </tr>\n",
       "    <tr>\n",
       "      <td>23</td>\n",
       "      <td>Pop Goes the Weasel (Alex Cross  #5)</td>\n",
       "      <td>2</td>\n",
       "      <td>5.000000</td>\n",
       "    </tr>\n",
       "    <tr>\n",
       "      <td>24</td>\n",
       "      <td>Plum Island (John Corey  #1)</td>\n",
       "      <td>2</td>\n",
       "      <td>5.000000</td>\n",
       "    </tr>\n",
       "    <tr>\n",
       "      <td>25</td>\n",
       "      <td>Emily of New Moon (Emily  #1)</td>\n",
       "      <td>2</td>\n",
       "      <td>5.000000</td>\n",
       "    </tr>\n",
       "    <tr>\n",
       "      <td>26</td>\n",
       "      <td>The Adventures of Tom Sawyer and Adventures of...</td>\n",
       "      <td>1</td>\n",
       "      <td>5.000000</td>\n",
       "    </tr>\n",
       "    <tr>\n",
       "      <td>27</td>\n",
       "      <td>School's Out—Forever (Maximum Ride  #2)</td>\n",
       "      <td>3</td>\n",
       "      <td>5.000000</td>\n",
       "    </tr>\n",
       "    <tr>\n",
       "      <td>28</td>\n",
       "      <td>Evil Under the Sun (Hercule Poirot  #24)</td>\n",
       "      <td>2</td>\n",
       "      <td>5.000000</td>\n",
       "    </tr>\n",
       "    <tr>\n",
       "      <td>29</td>\n",
       "      <td>Stolen (Women of the Otherworld  #2)</td>\n",
       "      <td>2</td>\n",
       "      <td>5.000000</td>\n",
       "    </tr>\n",
       "    <tr>\n",
       "      <td>30</td>\n",
       "      <td>Homage to Catalonia</td>\n",
       "      <td>2</td>\n",
       "      <td>5.000000</td>\n",
       "    </tr>\n",
       "    <tr>\n",
       "      <td>31</td>\n",
       "      <td>Geek Love</td>\n",
       "      <td>2</td>\n",
       "      <td>5.000000</td>\n",
       "    </tr>\n",
       "    <tr>\n",
       "      <td>32</td>\n",
       "      <td>A Dirty Job (Grim Reaper  #1)</td>\n",
       "      <td>4</td>\n",
       "      <td>5.000000</td>\n",
       "    </tr>\n",
       "    <tr>\n",
       "      <td>33</td>\n",
       "      <td>Hard Times</td>\n",
       "      <td>2</td>\n",
       "      <td>5.000000</td>\n",
       "    </tr>\n",
       "    <tr>\n",
       "      <td>34</td>\n",
       "      <td>In the Hand of the Goddess (Song of the Liones...</td>\n",
       "      <td>2</td>\n",
       "      <td>5.000000</td>\n",
       "    </tr>\n",
       "    <tr>\n",
       "      <td>35</td>\n",
       "      <td>Act of Treason (Mitch Rapp  #9)</td>\n",
       "      <td>2</td>\n",
       "      <td>5.000000</td>\n",
       "    </tr>\n",
       "    <tr>\n",
       "      <td>36</td>\n",
       "      <td>Arrows of the Queen (Heralds of Valdemar  #1)</td>\n",
       "      <td>2</td>\n",
       "      <td>5.000000</td>\n",
       "    </tr>\n",
       "    <tr>\n",
       "      <td>37</td>\n",
       "      <td>How to Be a Domestic Goddess: Baking and the A...</td>\n",
       "      <td>1</td>\n",
       "      <td>5.000000</td>\n",
       "    </tr>\n",
       "    <tr>\n",
       "      <td>38</td>\n",
       "      <td>A Fistful of Charms (The Hollows  #4)</td>\n",
       "      <td>2</td>\n",
       "      <td>5.000000</td>\n",
       "    </tr>\n",
       "    <tr>\n",
       "      <td>39</td>\n",
       "      <td>Crucial Conversations: Tools for Talking When ...</td>\n",
       "      <td>2</td>\n",
       "      <td>5.000000</td>\n",
       "    </tr>\n",
       "    <tr>\n",
       "      <td>40</td>\n",
       "      <td>March</td>\n",
       "      <td>2</td>\n",
       "      <td>5.000000</td>\n",
       "    </tr>\n",
       "    <tr>\n",
       "      <td>41</td>\n",
       "      <td>The Walking Dead  Book One (The Walking Dead #...</td>\n",
       "      <td>2</td>\n",
       "      <td>5.000000</td>\n",
       "    </tr>\n",
       "    <tr>\n",
       "      <td>42</td>\n",
       "      <td>Captivating: Unveiling the Mystery of a Woman'...</td>\n",
       "      <td>2</td>\n",
       "      <td>5.000000</td>\n",
       "    </tr>\n",
       "    <tr>\n",
       "      <td>43</td>\n",
       "      <td>Dragonfly in Amber (Outlander  #2)</td>\n",
       "      <td>4</td>\n",
       "      <td>4.875000</td>\n",
       "    </tr>\n",
       "    <tr>\n",
       "      <td>44</td>\n",
       "      <td>Preludes &amp; Nocturnes (The Sandman  #1)</td>\n",
       "      <td>3</td>\n",
       "      <td>4.833333</td>\n",
       "    </tr>\n",
       "    <tr>\n",
       "      <td>45</td>\n",
       "      <td>The Witching Hour (Lives of the Mayfair Witche...</td>\n",
       "      <td>3</td>\n",
       "      <td>4.750000</td>\n",
       "    </tr>\n",
       "    <tr>\n",
       "      <td>46</td>\n",
       "      <td>Lover Revealed (Black Dagger Brotherhood  #4)</td>\n",
       "      <td>3</td>\n",
       "      <td>4.750000</td>\n",
       "    </tr>\n",
       "    <tr>\n",
       "      <td>47</td>\n",
       "      <td>The Monster at the End of this Book</td>\n",
       "      <td>3</td>\n",
       "      <td>4.750000</td>\n",
       "    </tr>\n",
       "    <tr>\n",
       "      <td>48</td>\n",
       "      <td>The Twits</td>\n",
       "      <td>3</td>\n",
       "      <td>4.750000</td>\n",
       "    </tr>\n",
       "    <tr>\n",
       "      <td>49</td>\n",
       "      <td>House of Leaves</td>\n",
       "      <td>4</td>\n",
       "      <td>4.750000</td>\n",
       "    </tr>\n",
       "  </tbody>\n",
       "</table>\n",
       "</div>"
      ],
      "text/plain": [
       "                                            name_book  count_reviews  \\\n",
       "0                   Misty of Chincoteague (Misty  #1)              2   \n",
       "1           A Woman of Substance (Emma Harte Saga #1)              2   \n",
       "2   The War of Art: Break Through the Blocks & Win...              2   \n",
       "3                                       Evening Class              2   \n",
       "4   Wherever You Go  There You Are: Mindfulness Me...              2   \n",
       "5                                          Dead Souls              2   \n",
       "6                            Tai-Pan (Asian Saga  #2)              2   \n",
       "7   The Ghost Map: The Story of London's Most Terr...              2   \n",
       "8                                         Angels Fall              2   \n",
       "9                                       Alas  Babylon              2   \n",
       "10                          Triptych (Will Trent  #1)              2   \n",
       "11                                 The Woman in Black              2   \n",
       "12               Welcome to Temptation (Dempseys  #1)              2   \n",
       "13  Stone of Farewell (Memory  Sorrow  and Thorn  #2)              1   \n",
       "14                                    Light in August              2   \n",
       "15                           Neil Gaiman's Neverwhere              2   \n",
       "16  The Demon-Haunted World: Science as a Candle i...              2   \n",
       "17                 The Big Bad Wolf  (Alex Cross  #9)              2   \n",
       "18                                        Marvel 1602              2   \n",
       "19                                              Women              2   \n",
       "20                               My Name Is Asher Lev              2   \n",
       "21       Moneyball: The Art of Winning an Unfair Game              3   \n",
       "22               Piercing the Darkness (Darkness  #2)              2   \n",
       "23               Pop Goes the Weasel (Alex Cross  #5)              2   \n",
       "24                       Plum Island (John Corey  #1)              2   \n",
       "25                      Emily of New Moon (Emily  #1)              2   \n",
       "26  The Adventures of Tom Sawyer and Adventures of...              1   \n",
       "27            School's Out—Forever (Maximum Ride  #2)              3   \n",
       "28           Evil Under the Sun (Hercule Poirot  #24)              2   \n",
       "29               Stolen (Women of the Otherworld  #2)              2   \n",
       "30                                Homage to Catalonia              2   \n",
       "31                                          Geek Love              2   \n",
       "32                      A Dirty Job (Grim Reaper  #1)              4   \n",
       "33                                         Hard Times              2   \n",
       "34  In the Hand of the Goddess (Song of the Liones...              2   \n",
       "35                    Act of Treason (Mitch Rapp  #9)              2   \n",
       "36      Arrows of the Queen (Heralds of Valdemar  #1)              2   \n",
       "37  How to Be a Domestic Goddess: Baking and the A...              1   \n",
       "38              A Fistful of Charms (The Hollows  #4)              2   \n",
       "39  Crucial Conversations: Tools for Talking When ...              2   \n",
       "40                                              March              2   \n",
       "41  The Walking Dead  Book One (The Walking Dead #...              2   \n",
       "42  Captivating: Unveiling the Mystery of a Woman'...              2   \n",
       "43                 Dragonfly in Amber (Outlander  #2)              4   \n",
       "44             Preludes & Nocturnes (The Sandman  #1)              3   \n",
       "45  The Witching Hour (Lives of the Mayfair Witche...              3   \n",
       "46      Lover Revealed (Black Dagger Brotherhood  #4)              3   \n",
       "47                The Monster at the End of this Book              3   \n",
       "48                                          The Twits              3   \n",
       "49                                    House of Leaves              4   \n",
       "\n",
       "    avg_rating  \n",
       "0     5.000000  \n",
       "1     5.000000  \n",
       "2     5.000000  \n",
       "3     5.000000  \n",
       "4     5.000000  \n",
       "5     5.000000  \n",
       "6     5.000000  \n",
       "7     5.000000  \n",
       "8     5.000000  \n",
       "9     5.000000  \n",
       "10    5.000000  \n",
       "11    5.000000  \n",
       "12    5.000000  \n",
       "13    5.000000  \n",
       "14    5.000000  \n",
       "15    5.000000  \n",
       "16    5.000000  \n",
       "17    5.000000  \n",
       "18    5.000000  \n",
       "19    5.000000  \n",
       "20    5.000000  \n",
       "21    5.000000  \n",
       "22    5.000000  \n",
       "23    5.000000  \n",
       "24    5.000000  \n",
       "25    5.000000  \n",
       "26    5.000000  \n",
       "27    5.000000  \n",
       "28    5.000000  \n",
       "29    5.000000  \n",
       "30    5.000000  \n",
       "31    5.000000  \n",
       "32    5.000000  \n",
       "33    5.000000  \n",
       "34    5.000000  \n",
       "35    5.000000  \n",
       "36    5.000000  \n",
       "37    5.000000  \n",
       "38    5.000000  \n",
       "39    5.000000  \n",
       "40    5.000000  \n",
       "41    5.000000  \n",
       "42    5.000000  \n",
       "43    4.875000  \n",
       "44    4.833333  \n",
       "45    4.750000  \n",
       "46    4.750000  \n",
       "47    4.750000  \n",
       "48    4.750000  \n",
       "49    4.750000  "
      ]
     },
     "execution_count": 10,
     "metadata": {},
     "output_type": "execute_result"
    }
   ],
   "source": [
    "query = '''\n",
    "SELECT \n",
    "    books.title AS name_book,\n",
    "    COUNT(DISTINCT reviews.review_id) AS count_reviews,\n",
    "    AVG(ratings.rating) AS avg_rating\n",
    "FROM \n",
    "    books\n",
    "    INNER JOIN reviews ON reviews.book_id=books.book_id\n",
    "    INNER JOIN ratings ON ratings.book_id=books.book_id\n",
    "GROUP BY\n",
    "    books.title\n",
    "ORDER BY \n",
    "    avg_rating DESC\n",
    "LIMIT 50 '''\n",
    "    \n",
    "    \n",
    "    \n",
    "pd.io.sql.read_sql(query, con = engine)\n"
   ]
  },
  {
   "cell_type": "markdown",
   "metadata": {},
   "source": [
    "## Определение издательства, которое выпустило наибольшее число книг толще 50 страниц"
   ]
  },
  {
   "cell_type": "code",
   "execution_count": 11,
   "metadata": {},
   "outputs": [
    {
     "data": {
      "text/html": [
       "<div>\n",
       "<style scoped>\n",
       "    .dataframe tbody tr th:only-of-type {\n",
       "        vertical-align: middle;\n",
       "    }\n",
       "\n",
       "    .dataframe tbody tr th {\n",
       "        vertical-align: top;\n",
       "    }\n",
       "\n",
       "    .dataframe thead th {\n",
       "        text-align: right;\n",
       "    }\n",
       "</style>\n",
       "<table border=\"1\" class=\"dataframe\">\n",
       "  <thead>\n",
       "    <tr style=\"text-align: right;\">\n",
       "      <th></th>\n",
       "      <th>name_publisher</th>\n",
       "      <th>counts</th>\n",
       "    </tr>\n",
       "  </thead>\n",
       "  <tbody>\n",
       "    <tr>\n",
       "      <td>0</td>\n",
       "      <td>Penguin Books</td>\n",
       "      <td>42</td>\n",
       "    </tr>\n",
       "    <tr>\n",
       "      <td>1</td>\n",
       "      <td>Vintage</td>\n",
       "      <td>31</td>\n",
       "    </tr>\n",
       "    <tr>\n",
       "      <td>2</td>\n",
       "      <td>Grand Central Publishing</td>\n",
       "      <td>25</td>\n",
       "    </tr>\n",
       "  </tbody>\n",
       "</table>\n",
       "</div>"
      ],
      "text/plain": [
       "             name_publisher  counts\n",
       "0             Penguin Books      42\n",
       "1                   Vintage      31\n",
       "2  Grand Central Publishing      25"
      ]
     },
     "execution_count": 11,
     "metadata": {},
     "output_type": "execute_result"
    }
   ],
   "source": [
    "query = '''\n",
    "SELECT \n",
    "    publishers.publisher AS name_publisher,\n",
    "    COUNT(books.num_pages > 50) AS counts\n",
    "FROM \n",
    "    books\n",
    "    INNER JOIN publishers ON publishers.publisher_id=books.publisher_id\n",
    "GROUP BY\n",
    "    publishers.publisher\n",
    "ORDER BY \n",
    "    counts DESC\n",
    "LIMIT 3 '''\n",
    "    \n",
    "    \n",
    "    \n",
    "pd.io.sql.read_sql(query, con = engine)\n"
   ]
  },
  {
   "cell_type": "code",
   "execution_count": 12,
   "metadata": {},
   "outputs": [
    {
     "name": "stdout",
     "output_type": "stream",
     "text": [
      "Издательство, выпустившее наибольшее количество книг толще 50 страниц, - Penguim Books.\n"
     ]
    }
   ],
   "source": [
    "print('Издательство, выпустившее наибольшее количество книг толще 50 страниц, - Penguim Books.')"
   ]
  },
  {
   "cell_type": "markdown",
   "metadata": {},
   "source": [
    "## Определение автора с самой высокой средней оценкой книг (учитываем только книги с 50 и более оценками)"
   ]
  },
  {
   "cell_type": "code",
   "execution_count": 13,
   "metadata": {},
   "outputs": [
    {
     "data": {
      "text/html": [
       "<div>\n",
       "<style scoped>\n",
       "    .dataframe tbody tr th:only-of-type {\n",
       "        vertical-align: middle;\n",
       "    }\n",
       "\n",
       "    .dataframe tbody tr th {\n",
       "        vertical-align: top;\n",
       "    }\n",
       "\n",
       "    .dataframe thead th {\n",
       "        text-align: right;\n",
       "    }\n",
       "</style>\n",
       "<table border=\"1\" class=\"dataframe\">\n",
       "  <thead>\n",
       "    <tr style=\"text-align: right;\">\n",
       "      <th></th>\n",
       "      <th>author</th>\n",
       "      <th>author_id</th>\n",
       "      <th>avg_rating</th>\n",
       "    </tr>\n",
       "  </thead>\n",
       "  <tbody>\n",
       "    <tr>\n",
       "      <td>0</td>\n",
       "      <td>J.K. Rowling/Mary GrandPré</td>\n",
       "      <td>236</td>\n",
       "      <td>4.288462</td>\n",
       "    </tr>\n",
       "    <tr>\n",
       "      <td>1</td>\n",
       "      <td>Markus Zusak/Cao Xuân Việt Khương</td>\n",
       "      <td>402</td>\n",
       "      <td>4.264151</td>\n",
       "    </tr>\n",
       "    <tr>\n",
       "      <td>2</td>\n",
       "      <td>J.R.R. Tolkien</td>\n",
       "      <td>240</td>\n",
       "      <td>4.240964</td>\n",
       "    </tr>\n",
       "  </tbody>\n",
       "</table>\n",
       "</div>"
      ],
      "text/plain": [
       "                              author  author_id  avg_rating\n",
       "0         J.K. Rowling/Mary GrandPré        236    4.288462\n",
       "1  Markus Zusak/Cao Xuân Việt Khương        402    4.264151\n",
       "2                     J.R.R. Tolkien        240    4.240964"
      ]
     },
     "execution_count": 13,
     "metadata": {},
     "output_type": "execute_result"
    }
   ],
   "source": [
    "query = '''\n",
    "SELECT \n",
    "    authors.author,\n",
    "    authors.author_id,\n",
    "    AVG(ratings.rating) AS avg_rating\n",
    "FROM \n",
    "    books\n",
    "    INNER JOIN ratings ON ratings.book_id=books.book_id\n",
    "    INNER JOIN authors ON authors.author_id=books.author_id\n",
    "WHERE\n",
    "    authors.author_id IN (SELECT\n",
    "                              books.author_id\n",
    "                         FROM\n",
    "                             books\n",
    "                         WHERE\n",
    "                         books.book_id IN (SELECT \n",
    "                                                ratings.book_id\n",
    "                                           FROM\n",
    "                                               ratings\n",
    "                                           GROUP BY\n",
    "                                               ratings.book_id\n",
    "                                           HAVING\n",
    "                                               COUNT(ratings.rating_id) > 50))\n",
    "GROUP BY\n",
    "    authors.author, authors.author_id\n",
    "ORDER BY \n",
    "    avg_rating DESC \n",
    "LIMIT 3'''\n",
    "    \n",
    "    \n",
    "    \n",
    "pd.io.sql.read_sql(query, con = engine)\n"
   ]
  },
  {
   "cell_type": "code",
   "execution_count": 14,
   "metadata": {},
   "outputs": [
    {
     "name": "stdout",
     "output_type": "stream",
     "text": [
      "Самый оцениваемый автор книг с самой высокой оценкой - J.K. Rowling/Mary GrandPré.\n"
     ]
    }
   ],
   "source": [
    "print('Самый оцениваемый автор книг с самой высокой оценкой - J.K. Rowling/Mary GrandPré.')"
   ]
  },
  {
   "cell_type": "markdown",
   "metadata": {},
   "source": [
    "## Среднее количество обзоров от пользователей, которые поставили больше 50 оценок"
   ]
  },
  {
   "cell_type": "code",
   "execution_count": 15,
   "metadata": {},
   "outputs": [
    {
     "data": {
      "text/html": [
       "<div>\n",
       "<style scoped>\n",
       "    .dataframe tbody tr th:only-of-type {\n",
       "        vertical-align: middle;\n",
       "    }\n",
       "\n",
       "    .dataframe tbody tr th {\n",
       "        vertical-align: top;\n",
       "    }\n",
       "\n",
       "    .dataframe thead th {\n",
       "        text-align: right;\n",
       "    }\n",
       "</style>\n",
       "<table border=\"1\" class=\"dataframe\">\n",
       "  <thead>\n",
       "    <tr style=\"text-align: right;\">\n",
       "      <th></th>\n",
       "      <th>cnt</th>\n",
       "    </tr>\n",
       "  </thead>\n",
       "  <tbody>\n",
       "    <tr>\n",
       "      <td>0</td>\n",
       "      <td>24.333333</td>\n",
       "    </tr>\n",
       "  </tbody>\n",
       "</table>\n",
       "</div>"
      ],
      "text/plain": [
       "         cnt\n",
       "0  24.333333"
      ]
     },
     "execution_count": 15,
     "metadata": {},
     "output_type": "execute_result"
    }
   ],
   "source": [
    "query = '''\n",
    "SELECT \n",
    "    SUM(SUBQ.cnt_reviews) / COUNT(SUBQ.cnt_reviews) AS cnt\n",
    "FROM (\n",
    "    SELECT\n",
    "        reviews.username,\n",
    "        COUNT(reviews.username) AS cnt_reviews\n",
    "    FROM\n",
    "        reviews\n",
    "    WHERE\n",
    "        reviews.username IN (SELECT\n",
    "                                 ratings.username\n",
    "                             FROM \n",
    "                                 ratings\n",
    "                             GROUP BY\n",
    "                                 ratings.username\n",
    "                             HAVING\n",
    "                                 COUNT(ratings.rating_id) > 50\n",
    "                                 \n",
    "                             )\n",
    "    GROUP BY\n",
    "        username) AS SUBQ '''\n",
    "    \n",
    "    \n",
    "    \n",
    "pd.io.sql.read_sql(query, con = engine)\n"
   ]
  },
  {
   "cell_type": "code",
   "execution_count": 16,
   "metadata": {},
   "outputs": [
    {
     "name": "stdout",
     "output_type": "stream",
     "text": [
      "Среднее количество обзоров активных пользователей равно 24.\n"
     ]
    }
   ],
   "source": [
    "print('Среднее количество обзоров активных пользователей равно 24.')"
   ]
  },
  {
   "cell_type": "markdown",
   "metadata": {},
   "source": [
    "## Общий вывод"
   ]
  },
  {
   "cell_type": "markdown",
   "metadata": {},
   "source": [
    "За последние 20 лет вышло достаточно много книг, есть из чего выбрать читателю. Не оставил равнодушными критиков автор книги Memoirs of a Geisha (\"Мемуары Гейши\") - 8 обзоров, ТОП-3 замыкают произведения часть 1 саги \"Сумерки\" и Любопытный случай с Собакой в ночное время. Среди новых 819 книг 43 имеют высший рейтинг, их стоит иметь в библиотеке. Так же стоит присмотреться к произведениям издательства Penguim Books. Оно стало самым продуктивным за последние два десятилетия. J.K. Rowling/Mary GrandPré стал самым оцениваемым автором книг с самой высокой оценкой. Пользователи довольно активно демонстрируют свои впечатления от прочитанных книг. Так, среднее количество обзоров активных пользователей равно 24."
   ]
  }
 ],
 "metadata": {
  "ExecuteTimeLog": [
   {
    "duration": 119,
    "start_time": "2021-10-25T09:06:33.980Z"
   },
   {
    "duration": -2481,
    "start_time": "2021-10-25T09:06:36.583Z"
   },
   {
    "duration": -2492,
    "start_time": "2021-10-25T09:06:36.596Z"
   },
   {
    "duration": -2493,
    "start_time": "2021-10-25T09:06:36.599Z"
   },
   {
    "duration": -2493,
    "start_time": "2021-10-25T09:06:36.601Z"
   },
   {
    "duration": -2500,
    "start_time": "2021-10-25T09:06:36.610Z"
   },
   {
    "duration": 1184,
    "start_time": "2021-10-25T09:07:19.546Z"
   },
   {
    "duration": 82,
    "start_time": "2021-10-25T09:07:20.734Z"
   },
   {
    "duration": 16,
    "start_time": "2021-10-25T09:07:20.819Z"
   },
   {
    "duration": 24,
    "start_time": "2021-10-25T09:07:20.838Z"
   },
   {
    "duration": 37,
    "start_time": "2021-10-25T09:07:20.865Z"
   },
   {
    "duration": 24,
    "start_time": "2021-10-25T09:07:20.905Z"
   },
   {
    "duration": 457,
    "start_time": "2021-10-25T10:21:54.388Z"
   },
   {
    "duration": 636,
    "start_time": "2021-10-25T10:22:13.514Z"
   },
   {
    "duration": 13,
    "start_time": "2021-10-25T10:22:31.548Z"
   },
   {
    "duration": 4,
    "start_time": "2021-10-25T10:23:37.381Z"
   },
   {
    "duration": 4,
    "start_time": "2021-10-25T10:23:53.921Z"
   },
   {
    "duration": 860,
    "start_time": "2021-10-25T10:28:27.750Z"
   },
   {
    "duration": 105,
    "start_time": "2021-10-25T10:28:28.613Z"
   },
   {
    "duration": -2480,
    "start_time": "2021-10-25T10:28:31.201Z"
   },
   {
    "duration": -2500,
    "start_time": "2021-10-25T10:28:31.223Z"
   },
   {
    "duration": -2503,
    "start_time": "2021-10-25T10:28:31.227Z"
   },
   {
    "duration": -2507,
    "start_time": "2021-10-25T10:28:31.233Z"
   },
   {
    "duration": -2510,
    "start_time": "2021-10-25T10:28:31.237Z"
   },
   {
    "duration": -2518,
    "start_time": "2021-10-25T10:28:31.247Z"
   },
   {
    "duration": -2520,
    "start_time": "2021-10-25T10:28:31.250Z"
   },
   {
    "duration": 58,
    "start_time": "2021-10-25T10:28:59.941Z"
   },
   {
    "duration": 872,
    "start_time": "2021-10-25T10:29:41.013Z"
   },
   {
    "duration": 50,
    "start_time": "2021-10-25T10:29:41.887Z"
   },
   {
    "duration": 17,
    "start_time": "2021-10-25T10:29:41.941Z"
   },
   {
    "duration": 15,
    "start_time": "2021-10-25T10:29:41.961Z"
   },
   {
    "duration": 29,
    "start_time": "2021-10-25T10:29:41.978Z"
   },
   {
    "duration": 18,
    "start_time": "2021-10-25T10:29:42.010Z"
   },
   {
    "duration": 13,
    "start_time": "2021-10-25T10:29:42.030Z"
   },
   {
    "duration": 5,
    "start_time": "2021-10-25T10:29:42.045Z"
   },
   {
    "duration": 20,
    "start_time": "2021-10-25T10:29:42.052Z"
   },
   {
    "duration": 442,
    "start_time": "2021-10-25T10:40:50.293Z"
   },
   {
    "duration": 29,
    "start_time": "2021-10-25T10:41:28.526Z"
   },
   {
    "duration": 16,
    "start_time": "2021-10-25T10:48:58.416Z"
   },
   {
    "duration": 4,
    "start_time": "2021-10-25T10:50:35.591Z"
   },
   {
    "duration": 5,
    "start_time": "2021-10-25T10:50:54.045Z"
   },
   {
    "duration": 356,
    "start_time": "2021-10-25T11:05:15.639Z"
   },
   {
    "duration": 440,
    "start_time": "2021-10-25T11:05:32.110Z"
   },
   {
    "duration": 357,
    "start_time": "2021-10-25T11:05:41.686Z"
   },
   {
    "duration": 348,
    "start_time": "2021-10-25T11:05:56.959Z"
   },
   {
    "duration": 345,
    "start_time": "2021-10-25T11:06:23.628Z"
   },
   {
    "duration": 505,
    "start_time": "2021-10-25T11:07:16.217Z"
   },
   {
    "duration": 514,
    "start_time": "2021-10-25T11:09:03.170Z"
   },
   {
    "duration": 534,
    "start_time": "2021-10-25T11:09:36.515Z"
   },
   {
    "duration": 525,
    "start_time": "2021-10-25T11:09:44.715Z"
   },
   {
    "duration": 346,
    "start_time": "2021-10-25T11:13:15.146Z"
   },
   {
    "duration": 21,
    "start_time": "2021-10-25T11:15:25.334Z"
   },
   {
    "duration": 361,
    "start_time": "2021-10-25T11:16:55.405Z"
   },
   {
    "duration": 25,
    "start_time": "2021-10-25T11:17:02.844Z"
   },
   {
    "duration": 5,
    "start_time": "2021-10-25T11:17:17.780Z"
   },
   {
    "duration": 352,
    "start_time": "2021-10-25T11:34:37.980Z"
   },
   {
    "duration": 348,
    "start_time": "2021-10-25T11:34:58.672Z"
   },
   {
    "duration": 17,
    "start_time": "2021-10-25T11:36:52.390Z"
   },
   {
    "duration": 4,
    "start_time": "2021-10-25T11:37:53.667Z"
   },
   {
    "duration": 943,
    "start_time": "2021-10-25T11:42:22.219Z"
   },
   {
    "duration": 61,
    "start_time": "2021-10-25T11:42:23.165Z"
   },
   {
    "duration": 21,
    "start_time": "2021-10-25T11:42:23.230Z"
   },
   {
    "duration": 21,
    "start_time": "2021-10-25T11:42:23.253Z"
   },
   {
    "duration": 43,
    "start_time": "2021-10-25T11:42:23.277Z"
   },
   {
    "duration": 19,
    "start_time": "2021-10-25T11:42:23.323Z"
   },
   {
    "duration": 16,
    "start_time": "2021-10-25T11:42:23.345Z"
   },
   {
    "duration": 35,
    "start_time": "2021-10-25T11:42:23.364Z"
   },
   {
    "duration": 32,
    "start_time": "2021-10-25T11:42:23.403Z"
   },
   {
    "duration": 16,
    "start_time": "2021-10-25T11:42:23.437Z"
   },
   {
    "duration": 4,
    "start_time": "2021-10-25T11:42:23.456Z"
   },
   {
    "duration": 41,
    "start_time": "2021-10-25T11:42:23.462Z"
   },
   {
    "duration": 6,
    "start_time": "2021-10-25T11:42:23.506Z"
   },
   {
    "duration": 22,
    "start_time": "2021-10-25T11:42:23.514Z"
   },
   {
    "duration": 6,
    "start_time": "2021-10-25T11:42:23.540Z"
   },
   {
    "duration": 931,
    "start_time": "2021-10-25T16:25:20.781Z"
   },
   {
    "duration": 53,
    "start_time": "2021-10-25T16:25:21.715Z"
   },
   {
    "duration": 14,
    "start_time": "2021-10-25T16:25:21.771Z"
   },
   {
    "duration": 21,
    "start_time": "2021-10-25T16:25:21.788Z"
   },
   {
    "duration": 21,
    "start_time": "2021-10-25T16:25:21.811Z"
   },
   {
    "duration": 17,
    "start_time": "2021-10-25T16:25:21.835Z"
   },
   {
    "duration": 45,
    "start_time": "2021-10-25T16:25:21.855Z"
   },
   {
    "duration": 4,
    "start_time": "2021-10-25T16:25:21.904Z"
   },
   {
    "duration": 31,
    "start_time": "2021-10-25T16:25:21.911Z"
   },
   {
    "duration": 14,
    "start_time": "2021-10-25T16:25:21.945Z"
   },
   {
    "duration": 3,
    "start_time": "2021-10-25T16:25:21.961Z"
   },
   {
    "duration": 53,
    "start_time": "2021-10-25T16:25:21.967Z"
   },
   {
    "duration": 9,
    "start_time": "2021-10-25T16:25:22.026Z"
   },
   {
    "duration": 19,
    "start_time": "2021-10-25T16:25:22.037Z"
   },
   {
    "duration": 4,
    "start_time": "2021-10-25T16:25:22.059Z"
   },
   {
    "duration": 28,
    "start_time": "2021-10-25T16:26:12.443Z"
   },
   {
    "duration": 32,
    "start_time": "2021-10-25T16:26:38.821Z"
   },
   {
    "duration": 35,
    "start_time": "2021-10-25T16:26:42.663Z"
   },
   {
    "duration": 505,
    "start_time": "2021-10-25T16:27:12.478Z"
   },
   {
    "duration": 389,
    "start_time": "2021-10-25T16:27:18.317Z"
   },
   {
    "duration": 403,
    "start_time": "2021-10-25T16:27:32.509Z"
   },
   {
    "duration": 405,
    "start_time": "2021-10-25T16:27:56.230Z"
   },
   {
    "duration": 31,
    "start_time": "2021-10-25T16:28:15.679Z"
   },
   {
    "duration": 132,
    "start_time": "2021-10-25T16:30:27.111Z"
   },
   {
    "duration": 270,
    "start_time": "2021-10-26T12:45:22.926Z"
   },
   {
    "duration": 662,
    "start_time": "2021-10-26T12:45:29.097Z"
   },
   {
    "duration": 301,
    "start_time": "2021-10-26T12:45:29.763Z"
   },
   {
    "duration": 82,
    "start_time": "2021-10-26T12:45:30.066Z"
   },
   {
    "duration": 83,
    "start_time": "2021-10-26T12:45:30.150Z"
   },
   {
    "duration": 83,
    "start_time": "2021-10-26T12:45:30.234Z"
   },
   {
    "duration": 84,
    "start_time": "2021-10-26T12:45:30.319Z"
   },
   {
    "duration": 82,
    "start_time": "2021-10-26T12:45:30.405Z"
   },
   {
    "duration": 3,
    "start_time": "2021-10-26T12:45:30.490Z"
   },
   {
    "duration": 391,
    "start_time": "2021-10-26T12:45:30.495Z"
   },
   {
    "duration": -2855,
    "start_time": "2021-10-26T12:45:33.743Z"
   },
   {
    "duration": -2858,
    "start_time": "2021-10-26T12:45:33.747Z"
   },
   {
    "duration": -2870,
    "start_time": "2021-10-26T12:45:33.761Z"
   },
   {
    "duration": -2873,
    "start_time": "2021-10-26T12:45:33.764Z"
   },
   {
    "duration": -2880,
    "start_time": "2021-10-26T12:45:33.772Z"
   },
   {
    "duration": -2899,
    "start_time": "2021-10-26T12:45:33.792Z"
   },
   {
    "duration": -2921,
    "start_time": "2021-10-26T12:45:33.814Z"
   },
   {
    "duration": 321,
    "start_time": "2021-10-26T12:45:46.174Z"
   },
   {
    "duration": 100,
    "start_time": "2021-10-26T12:46:28.586Z"
   },
   {
    "duration": 101,
    "start_time": "2021-10-26T12:46:57.585Z"
   },
   {
    "duration": 99,
    "start_time": "2021-10-26T12:51:43.489Z"
   },
   {
    "duration": 102,
    "start_time": "2021-10-26T12:51:53.429Z"
   },
   {
    "duration": 102,
    "start_time": "2021-10-26T12:51:59.830Z"
   },
   {
    "duration": 106,
    "start_time": "2021-10-26T12:52:20.996Z"
   },
   {
    "duration": 673,
    "start_time": "2021-10-26T13:00:58.597Z"
   },
   {
    "duration": 306,
    "start_time": "2021-10-26T13:00:59.272Z"
   },
   {
    "duration": 86,
    "start_time": "2021-10-26T13:00:59.580Z"
   },
   {
    "duration": 84,
    "start_time": "2021-10-26T13:00:59.668Z"
   },
   {
    "duration": 88,
    "start_time": "2021-10-26T13:00:59.754Z"
   },
   {
    "duration": 86,
    "start_time": "2021-10-26T13:00:59.844Z"
   },
   {
    "duration": 84,
    "start_time": "2021-10-26T13:00:59.932Z"
   },
   {
    "duration": 4,
    "start_time": "2021-10-26T13:01:00.018Z"
   },
   {
    "duration": 126,
    "start_time": "2021-10-26T13:01:00.024Z"
   },
   {
    "duration": 109,
    "start_time": "2021-10-26T13:01:00.152Z"
   },
   {
    "duration": 86,
    "start_time": "2021-10-26T13:01:00.263Z"
   },
   {
    "duration": 3,
    "start_time": "2021-10-26T13:01:00.351Z"
   },
   {
    "duration": 104,
    "start_time": "2021-10-26T13:01:00.356Z"
   },
   {
    "duration": 4,
    "start_time": "2021-10-26T13:01:00.462Z"
   },
   {
    "duration": 96,
    "start_time": "2021-10-26T13:01:00.468Z"
   },
   {
    "duration": 3,
    "start_time": "2021-10-26T13:01:00.566Z"
   }
  ],
  "kernelspec": {
   "display_name": "Python 3 (ipykernel)",
   "language": "python",
   "name": "python3"
  },
  "language_info": {
   "codemirror_mode": {
    "name": "ipython",
    "version": 3
   },
   "file_extension": ".py",
   "mimetype": "text/x-python",
   "name": "python",
   "nbconvert_exporter": "python",
   "pygments_lexer": "ipython3",
   "version": "3.8.10"
  },
  "toc": {
   "base_numbering": 1,
   "nav_menu": {},
   "number_sections": true,
   "sideBar": true,
   "skip_h1_title": true,
   "title_cell": "Table of Contents",
   "title_sidebar": "Contents",
   "toc_cell": false,
   "toc_position": {},
   "toc_section_display": true,
   "toc_window_display": false
  }
 },
 "nbformat": 4,
 "nbformat_minor": 2
}
