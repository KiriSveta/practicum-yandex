{
 "cells": [
  {
   "cell_type": "markdown",
   "metadata": {},
   "source": [
    "# Аналитика интернет-магазина"
   ]
  },
  {
   "cell_type": "markdown",
   "metadata": {},
   "source": [
    "Цель проекта - приоритизировать гипотезы, запустить A/B-тест и проанализировать его результаты."
   ]
  },
  {
   "cell_type": "markdown",
   "metadata": {},
   "source": [
    "**Описание данных.**\n",
    "\n",
    "\n",
    "Файл /datasets/hypothesis.csv содержит:\n",
    "- Hypothesis — краткое описание гипотезы;\n",
    "- Reach — охват пользователей по 10-балльной шкале;\n",
    "- Impact — влияние на пользователей по 10-балльной шкале;\n",
    "- Confidence — уверенность в гипотезе по 10-балльной шкале;\n",
    "- Efforts — затраты ресурсов на проверку гипотезы по 10-балльной шкале. Чем больше значение Efforts, тем дороже проверка гипотезы.\n",
    "\n",
    "\n",
    "Файл /datasets/orders.csv содержит: \n",
    "- transactionId — идентификатор заказа;\n",
    "- visitorId — идентификатор пользователя, совершившего заказ;\n",
    "- date — дата, когда был совершён заказ;\n",
    "- revenue — выручка заказа;\n",
    "- group — группа A/B-теста, в которую попал заказ.\n",
    "\n",
    "\n",
    "Файл /datasets/visitors.csv содержит:\n",
    "- date — дата;\n",
    "- group — группа A/B-теста;\n",
    "- visitors — количество пользователей в указанную дату в указанной группе A/B-теста"
   ]
  },
  {
   "cell_type": "markdown",
   "metadata": {},
   "source": [
    "<h1>Содержание<span class=\"tocSkip\"></span></h1>\n",
    "<div class=\"toc\"><ul class=\"toc-item\"><li><span><a href=\"#Изучение-данных-из-файла-и-предобработка\" data-toc-modified-id=\"Изучение-данных-из-файла-и-предобработка-1\"><span class=\"toc-item-num\">1&nbsp;&nbsp;</span>Изучение данных из файла и предобработка</a></span></li><li><span><a href=\"#Приоритизация-гипотез\" data-toc-modified-id=\"Приоритизация-гипотез-2\"><span class=\"toc-item-num\">2&nbsp;&nbsp;</span>Приоритизация гипотез</a></span></li><li><span><a href=\"#Анализ-A/B-теста\" data-toc-modified-id=\"Анализ-A/B-теста-3\"><span class=\"toc-item-num\">3&nbsp;&nbsp;</span>Анализ A/B-теста</a></span></li><li><span><a href=\"#Выводы-и-рекомендации\" data-toc-modified-id=\"Выводы-и-рекомендации-4\"><span class=\"toc-item-num\">4&nbsp;&nbsp;</span>Выводы и рекомендации</a></span></li></ul></div>"
   ]
  },
  {
   "cell_type": "markdown",
   "metadata": {},
   "source": [
    "## Изучение данных из файлов и предобработка"
   ]
  },
  {
   "cell_type": "code",
   "execution_count": 1,
   "metadata": {},
   "outputs": [],
   "source": [
    "import pandas as pd\n",
    "pd.set_option('max_colwidth', -1)\n",
    "from pandas.plotting import register_matplotlib_converters\n",
    "\n",
    "register_matplotlib_converters()\n",
    "import datetime as dt\n",
    "import matplotlib.pyplot as plt\n",
    "import matplotlib\n",
    "import numpy as np\n",
    "import scipy.stats as stats\n",
    "from scipy import stats as st\n",
    "\n",
    "import math"
   ]
  },
  {
   "cell_type": "code",
   "execution_count": 2,
   "metadata": {},
   "outputs": [],
   "source": [
    "hypothesis = pd.read_csv('/datasets/hypothesis.csv')"
   ]
  },
  {
   "cell_type": "code",
   "execution_count": 3,
   "metadata": {},
   "outputs": [
    {
     "name": "stdout",
     "output_type": "stream",
     "text": [
      "<class 'pandas.core.frame.DataFrame'>\n",
      "RangeIndex: 9 entries, 0 to 8\n",
      "Data columns (total 5 columns):\n",
      "Hypothesis    9 non-null object\n",
      "Reach         9 non-null int64\n",
      "Impact        9 non-null int64\n",
      "Confidence    9 non-null int64\n",
      "Efforts       9 non-null int64\n",
      "dtypes: int64(4), object(1)\n",
      "memory usage: 488.0+ bytes\n"
     ]
    }
   ],
   "source": [
    "hypothesis.info()"
   ]
  },
  {
   "cell_type": "code",
   "execution_count": 4,
   "metadata": {},
   "outputs": [],
   "source": [
    "#изменим наименования столбцов\n",
    "hypothesis = hypothesis.rename(\n",
    "    columns=str.lower\n",
    ")"
   ]
  },
  {
   "cell_type": "code",
   "execution_count": 5,
   "metadata": {},
   "outputs": [
    {
     "name": "stdout",
     "output_type": "stream",
     "text": [
      "<class 'pandas.core.frame.DataFrame'>\n",
      "RangeIndex: 9 entries, 0 to 8\n",
      "Data columns (total 5 columns):\n",
      "hypothesis    9 non-null object\n",
      "reach         9 non-null int64\n",
      "impact        9 non-null int64\n",
      "confidence    9 non-null int64\n",
      "efforts       9 non-null int64\n",
      "dtypes: int64(4), object(1)\n",
      "memory usage: 488.0+ bytes\n"
     ]
    }
   ],
   "source": [
    "#Убедимся в результате\n",
    "hypothesis.info()"
   ]
  },
  {
   "cell_type": "code",
   "execution_count": 6,
   "metadata": {},
   "outputs": [],
   "source": [
    "orders = pd.read_csv('/datasets/orders.csv', sep=',')"
   ]
  },
  {
   "cell_type": "code",
   "execution_count": 7,
   "metadata": {},
   "outputs": [
    {
     "name": "stdout",
     "output_type": "stream",
     "text": [
      "<class 'pandas.core.frame.DataFrame'>\n",
      "RangeIndex: 1197 entries, 0 to 1196\n",
      "Data columns (total 5 columns):\n",
      "transactionId    1197 non-null int64\n",
      "visitorId        1197 non-null int64\n",
      "date             1197 non-null object\n",
      "revenue          1197 non-null int64\n",
      "group            1197 non-null object\n",
      "dtypes: int64(3), object(2)\n",
      "memory usage: 46.9+ KB\n"
     ]
    }
   ],
   "source": [
    "orders.info()"
   ]
  },
  {
   "cell_type": "code",
   "execution_count": 8,
   "metadata": {},
   "outputs": [],
   "source": [
    "#Изменим наименования столбцов\n",
    "orders.set_axis(['transaction_id', 'visitor_id', 'date', 'revenue', 'group'], axis=\"columns\", inplace=True)"
   ]
  },
  {
   "cell_type": "code",
   "execution_count": 9,
   "metadata": {},
   "outputs": [
    {
     "name": "stdout",
     "output_type": "stream",
     "text": [
      "<class 'pandas.core.frame.DataFrame'>\n",
      "RangeIndex: 1197 entries, 0 to 1196\n",
      "Data columns (total 5 columns):\n",
      "transaction_id    1197 non-null int64\n",
      "visitor_id        1197 non-null int64\n",
      "date              1197 non-null object\n",
      "revenue           1197 non-null int64\n",
      "group             1197 non-null object\n",
      "dtypes: int64(3), object(2)\n",
      "memory usage: 46.9+ KB\n"
     ]
    },
    {
     "data": {
      "text/plain": [
       "0"
      ]
     },
     "execution_count": 9,
     "metadata": {},
     "output_type": "execute_result"
    }
   ],
   "source": [
    "#Убедимся в результате\n",
    "orders.info()\n",
    "\n",
    "#В отдельно взятом датафрейме пропусков нет. Проверим на дубликаты.\n",
    "orders.duplicated().sum()"
   ]
  },
  {
   "cell_type": "code",
   "execution_count": 10,
   "metadata": {},
   "outputs": [],
   "source": [
    "visitors = pd.read_csv('/datasets/visitors.csv', sep=',')"
   ]
  },
  {
   "cell_type": "code",
   "execution_count": 11,
   "metadata": {},
   "outputs": [
    {
     "name": "stdout",
     "output_type": "stream",
     "text": [
      "<class 'pandas.core.frame.DataFrame'>\n",
      "RangeIndex: 62 entries, 0 to 61\n",
      "Data columns (total 3 columns):\n",
      "date        62 non-null object\n",
      "group       62 non-null object\n",
      "visitors    62 non-null int64\n",
      "dtypes: int64(1), object(2)\n",
      "memory usage: 1.6+ KB\n"
     ]
    }
   ],
   "source": [
    "visitors.info()"
   ]
  },
  {
   "cell_type": "code",
   "execution_count": 12,
   "metadata": {},
   "outputs": [
    {
     "data": {
      "text/plain": [
       "0"
      ]
     },
     "execution_count": 12,
     "metadata": {},
     "output_type": "execute_result"
    }
   ],
   "source": [
    "#В отдельно взятом датафрейме пропусков нет. Проверим на дубликаты.\n",
    "visitors.duplicated().sum()"
   ]
  },
  {
   "cell_type": "code",
   "execution_count": 13,
   "metadata": {},
   "outputs": [
    {
     "data": {
      "text/plain": [
       "91"
      ]
     },
     "execution_count": 13,
     "metadata": {},
     "output_type": "execute_result"
    }
   ],
   "source": [
    "#Посмотрим есть ли посетители, которые попали в обе группы. Для этого создадим таблицу, \n",
    "#в которой для каждого пользователя будет группа в которой он произвел свой первый заказ. \n",
    "#Далее посмотрим сколько есть несовпадений.\n",
    "\n",
    "first_group_by_customer = orders.groupby('visitor_id', as_index = False).agg({'group':'first'})\n",
    "\n",
    "orders_extra = pd.merge(orders, first_group_by_customer, left_on = ['visitor_id'], right_on = ['visitor_id'], \n",
    "                        suffixes = ['', '_first_order'])\n",
    "\n",
    "len(orders_extra.query('group != group_first_order')['visitor_id'])"
   ]
  },
  {
   "cell_type": "code",
   "execution_count": 14,
   "metadata": {},
   "outputs": [],
   "source": [
    "#Найден 91 заказ, которые были совершены не в \"своих\" группах. \n",
    "#Необходимо удалить пользователей, которые перепутались между группами, \n",
    "#так как они могли делать заказ то в одной, то в другой группе.\n",
    "\n",
    "messed_customers_list = orders_extra.query('group != group_first_order')['visitor_id']\n",
    "\n",
    "len(messed_customers_list.unique())\n",
    "\n",
    "#Всего таких 58 пользователей, а сделали они 158 заказов. Нужно удалить такие\n",
    "\n",
    "orders = orders.query('visitor_id not in @messed_customers_list.values').reset_index(drop = True)\n",
    "\n",
    "#Теперь есть обновленная таблица, только с теми пользователями, которые совершали заказы исключительно в одной группе"
   ]
  },
  {
   "cell_type": "markdown",
   "metadata": {},
   "source": [
    "# Вывод\n",
    "\n",
    "В этом разделе была проведена предобработка данных:\n",
    "- прочтены и изучены данные из файлов;\n",
    "- откорректированы наименования столбцов;\n",
    "- проверены на пропуски и дбуликаты.\n",
    "\n",
    "Кроме того, проведена проверка на попадание одного и того же юзера в обе группы теста. Таких оказалось 58 пользователей. Таблица orders очищена от них. Можно дальше работать."
   ]
  },
  {
   "cell_type": "markdown",
   "metadata": {},
   "source": [
    "## Приоритизация гипотез"
   ]
  },
  {
   "cell_type": "markdown",
   "metadata": {},
   "source": [
    "**2.1. Применим фреймворк ICE для приоритизации гипотез. Отсортируем их по убыванию приоритета.**"
   ]
  },
  {
   "cell_type": "code",
   "execution_count": 15,
   "metadata": {},
   "outputs": [
    {
     "data": {
      "text/html": [
       "<div>\n",
       "<style scoped>\n",
       "    .dataframe tbody tr th:only-of-type {\n",
       "        vertical-align: middle;\n",
       "    }\n",
       "\n",
       "    .dataframe tbody tr th {\n",
       "        vertical-align: top;\n",
       "    }\n",
       "\n",
       "    .dataframe thead th {\n",
       "        text-align: right;\n",
       "    }\n",
       "</style>\n",
       "<table border=\"1\" class=\"dataframe\">\n",
       "  <thead>\n",
       "    <tr style=\"text-align: right;\">\n",
       "      <th></th>\n",
       "      <th>hypothesis</th>\n",
       "      <th>reach</th>\n",
       "      <th>impact</th>\n",
       "      <th>confidence</th>\n",
       "      <th>efforts</th>\n",
       "    </tr>\n",
       "  </thead>\n",
       "  <tbody>\n",
       "    <tr>\n",
       "      <td>0</td>\n",
       "      <td>Добавить два новых канала привлечения трафика, что позволит привлекать на 30% больше пользователей</td>\n",
       "      <td>3</td>\n",
       "      <td>10</td>\n",
       "      <td>8</td>\n",
       "      <td>6</td>\n",
       "    </tr>\n",
       "    <tr>\n",
       "      <td>1</td>\n",
       "      <td>Запустить собственную службу доставки, что сократит срок доставки заказов</td>\n",
       "      <td>2</td>\n",
       "      <td>5</td>\n",
       "      <td>4</td>\n",
       "      <td>10</td>\n",
       "    </tr>\n",
       "    <tr>\n",
       "      <td>2</td>\n",
       "      <td>Добавить блоки рекомендаций товаров на сайт интернет магазина, чтобы повысить конверсию и средний чек заказа</td>\n",
       "      <td>8</td>\n",
       "      <td>3</td>\n",
       "      <td>7</td>\n",
       "      <td>3</td>\n",
       "    </tr>\n",
       "    <tr>\n",
       "      <td>3</td>\n",
       "      <td>Изменить структура категорий, что увеличит конверсию, т.к. пользователи быстрее найдут нужный товар</td>\n",
       "      <td>8</td>\n",
       "      <td>3</td>\n",
       "      <td>3</td>\n",
       "      <td>8</td>\n",
       "    </tr>\n",
       "    <tr>\n",
       "      <td>4</td>\n",
       "      <td>Изменить цвет фона главной страницы, чтобы увеличить вовлеченность пользователей</td>\n",
       "      <td>3</td>\n",
       "      <td>1</td>\n",
       "      <td>1</td>\n",
       "      <td>1</td>\n",
       "    </tr>\n",
       "    <tr>\n",
       "      <td>5</td>\n",
       "      <td>Добавить страницу отзывов клиентов о магазине, что позволит увеличить количество заказов</td>\n",
       "      <td>3</td>\n",
       "      <td>2</td>\n",
       "      <td>2</td>\n",
       "      <td>3</td>\n",
       "    </tr>\n",
       "    <tr>\n",
       "      <td>6</td>\n",
       "      <td>Показать на главной странице баннеры с актуальными акциями и распродажами, чтобы увеличить конверсию</td>\n",
       "      <td>5</td>\n",
       "      <td>3</td>\n",
       "      <td>8</td>\n",
       "      <td>3</td>\n",
       "    </tr>\n",
       "    <tr>\n",
       "      <td>7</td>\n",
       "      <td>Добавить форму подписки на все основные страницы, чтобы собрать базу клиентов для email-рассылок</td>\n",
       "      <td>10</td>\n",
       "      <td>7</td>\n",
       "      <td>8</td>\n",
       "      <td>5</td>\n",
       "    </tr>\n",
       "    <tr>\n",
       "      <td>8</td>\n",
       "      <td>Запустить акцию, дающую скидку на товар в день рождения</td>\n",
       "      <td>1</td>\n",
       "      <td>9</td>\n",
       "      <td>9</td>\n",
       "      <td>5</td>\n",
       "    </tr>\n",
       "  </tbody>\n",
       "</table>\n",
       "</div>"
      ],
      "text/plain": [
       "                                                                                                     hypothesis  \\\n",
       "0  Добавить два новых канала привлечения трафика, что позволит привлекать на 30% больше пользователей             \n",
       "1  Запустить собственную службу доставки, что сократит срок доставки заказов                                      \n",
       "2  Добавить блоки рекомендаций товаров на сайт интернет магазина, чтобы повысить конверсию и средний чек заказа   \n",
       "3  Изменить структура категорий, что увеличит конверсию, т.к. пользователи быстрее найдут нужный товар            \n",
       "4  Изменить цвет фона главной страницы, чтобы увеличить вовлеченность пользователей                               \n",
       "5  Добавить страницу отзывов клиентов о магазине, что позволит увеличить количество заказов                       \n",
       "6  Показать на главной странице баннеры с актуальными акциями и распродажами, чтобы увеличить конверсию           \n",
       "7  Добавить форму подписки на все основные страницы, чтобы собрать базу клиентов для email-рассылок               \n",
       "8  Запустить акцию, дающую скидку на товар в день рождения                                                        \n",
       "\n",
       "   reach  impact  confidence  efforts  \n",
       "0  3      10      8           6        \n",
       "1  2      5       4           10       \n",
       "2  8      3       7           3        \n",
       "3  8      3       3           8        \n",
       "4  3      1       1           1        \n",
       "5  3      2       2           3        \n",
       "6  5      3       8           3        \n",
       "7  10     7       8           5        \n",
       "8  1      9       9           5        "
      ]
     },
     "execution_count": 15,
     "metadata": {},
     "output_type": "execute_result"
    }
   ],
   "source": [
    "hypothesis"
   ]
  },
  {
   "cell_type": "code",
   "execution_count": 16,
   "metadata": {},
   "outputs": [
    {
     "data": {
      "text/html": [
       "<div>\n",
       "<style scoped>\n",
       "    .dataframe tbody tr th:only-of-type {\n",
       "        vertical-align: middle;\n",
       "    }\n",
       "\n",
       "    .dataframe tbody tr th {\n",
       "        vertical-align: top;\n",
       "    }\n",
       "\n",
       "    .dataframe thead th {\n",
       "        text-align: right;\n",
       "    }\n",
       "</style>\n",
       "<table border=\"1\" class=\"dataframe\">\n",
       "  <thead>\n",
       "    <tr style=\"text-align: right;\">\n",
       "      <th></th>\n",
       "      <th>hypothesis</th>\n",
       "      <th>ICE</th>\n",
       "    </tr>\n",
       "  </thead>\n",
       "  <tbody>\n",
       "    <tr>\n",
       "      <td>8</td>\n",
       "      <td>Запустить акцию, дающую скидку на товар в день рождения</td>\n",
       "      <td>16.20</td>\n",
       "    </tr>\n",
       "    <tr>\n",
       "      <td>0</td>\n",
       "      <td>Добавить два новых канала привлечения трафика, что позволит привлекать на 30% больше пользователей</td>\n",
       "      <td>13.33</td>\n",
       "    </tr>\n",
       "    <tr>\n",
       "      <td>7</td>\n",
       "      <td>Добавить форму подписки на все основные страницы, чтобы собрать базу клиентов для email-рассылок</td>\n",
       "      <td>11.20</td>\n",
       "    </tr>\n",
       "    <tr>\n",
       "      <td>6</td>\n",
       "      <td>Показать на главной странице баннеры с актуальными акциями и распродажами, чтобы увеличить конверсию</td>\n",
       "      <td>8.00</td>\n",
       "    </tr>\n",
       "    <tr>\n",
       "      <td>2</td>\n",
       "      <td>Добавить блоки рекомендаций товаров на сайт интернет магазина, чтобы повысить конверсию и средний чек заказа</td>\n",
       "      <td>7.00</td>\n",
       "    </tr>\n",
       "    <tr>\n",
       "      <td>1</td>\n",
       "      <td>Запустить собственную службу доставки, что сократит срок доставки заказов</td>\n",
       "      <td>2.00</td>\n",
       "    </tr>\n",
       "    <tr>\n",
       "      <td>5</td>\n",
       "      <td>Добавить страницу отзывов клиентов о магазине, что позволит увеличить количество заказов</td>\n",
       "      <td>1.33</td>\n",
       "    </tr>\n",
       "    <tr>\n",
       "      <td>3</td>\n",
       "      <td>Изменить структура категорий, что увеличит конверсию, т.к. пользователи быстрее найдут нужный товар</td>\n",
       "      <td>1.12</td>\n",
       "    </tr>\n",
       "    <tr>\n",
       "      <td>4</td>\n",
       "      <td>Изменить цвет фона главной страницы, чтобы увеличить вовлеченность пользователей</td>\n",
       "      <td>1.00</td>\n",
       "    </tr>\n",
       "  </tbody>\n",
       "</table>\n",
       "</div>"
      ],
      "text/plain": [
       "                                                                                                     hypothesis  \\\n",
       "8  Запустить акцию, дающую скидку на товар в день рождения                                                        \n",
       "0  Добавить два новых канала привлечения трафика, что позволит привлекать на 30% больше пользователей             \n",
       "7  Добавить форму подписки на все основные страницы, чтобы собрать базу клиентов для email-рассылок               \n",
       "6  Показать на главной странице баннеры с актуальными акциями и распродажами, чтобы увеличить конверсию           \n",
       "2  Добавить блоки рекомендаций товаров на сайт интернет магазина, чтобы повысить конверсию и средний чек заказа   \n",
       "1  Запустить собственную службу доставки, что сократит срок доставки заказов                                      \n",
       "5  Добавить страницу отзывов клиентов о магазине, что позволит увеличить количество заказов                       \n",
       "3  Изменить структура категорий, что увеличит конверсию, т.к. пользователи быстрее найдут нужный товар            \n",
       "4  Изменить цвет фона главной страницы, чтобы увеличить вовлеченность пользователей                               \n",
       "\n",
       "     ICE  \n",
       "8  16.20  \n",
       "0  13.33  \n",
       "7  11.20  \n",
       "6  8.00   \n",
       "2  7.00   \n",
       "1  2.00   \n",
       "5  1.33   \n",
       "3  1.12   \n",
       "4  1.00   "
      ]
     },
     "execution_count": 16,
     "metadata": {},
     "output_type": "execute_result"
    }
   ],
   "source": [
    "hypothesis['ICE'] = ((hypothesis['impact'] * hypothesis['confidence']) / hypothesis['efforts']).round(2)\n",
    "(hypothesis[['hypothesis', 'ICE']].sort_values(by='ICE', ascending=False))"
   ]
  },
  {
   "cell_type": "markdown",
   "metadata": {},
   "source": [
    "Четверка  наиболее перспективных гипотез: 8, 0, 7, 6."
   ]
  },
  {
   "cell_type": "markdown",
   "metadata": {},
   "source": [
    "**2.2.Применим фреймворк RICE для приоритизации гипотез. Отсортируем их по убыванию приоритета.**"
   ]
  },
  {
   "cell_type": "code",
   "execution_count": 17,
   "metadata": {},
   "outputs": [
    {
     "data": {
      "text/html": [
       "<div>\n",
       "<style scoped>\n",
       "    .dataframe tbody tr th:only-of-type {\n",
       "        vertical-align: middle;\n",
       "    }\n",
       "\n",
       "    .dataframe tbody tr th {\n",
       "        vertical-align: top;\n",
       "    }\n",
       "\n",
       "    .dataframe thead th {\n",
       "        text-align: right;\n",
       "    }\n",
       "</style>\n",
       "<table border=\"1\" class=\"dataframe\">\n",
       "  <thead>\n",
       "    <tr style=\"text-align: right;\">\n",
       "      <th></th>\n",
       "      <th>hypothesis</th>\n",
       "      <th>RICE</th>\n",
       "    </tr>\n",
       "  </thead>\n",
       "  <tbody>\n",
       "    <tr>\n",
       "      <td>7</td>\n",
       "      <td>Добавить форму подписки на все основные страницы, чтобы собрать базу клиентов для email-рассылок</td>\n",
       "      <td>112.0</td>\n",
       "    </tr>\n",
       "    <tr>\n",
       "      <td>2</td>\n",
       "      <td>Добавить блоки рекомендаций товаров на сайт интернет магазина, чтобы повысить конверсию и средний чек заказа</td>\n",
       "      <td>56.0</td>\n",
       "    </tr>\n",
       "    <tr>\n",
       "      <td>0</td>\n",
       "      <td>Добавить два новых канала привлечения трафика, что позволит привлекать на 30% больше пользователей</td>\n",
       "      <td>40.0</td>\n",
       "    </tr>\n",
       "    <tr>\n",
       "      <td>6</td>\n",
       "      <td>Показать на главной странице баннеры с актуальными акциями и распродажами, чтобы увеличить конверсию</td>\n",
       "      <td>40.0</td>\n",
       "    </tr>\n",
       "    <tr>\n",
       "      <td>8</td>\n",
       "      <td>Запустить акцию, дающую скидку на товар в день рождения</td>\n",
       "      <td>16.2</td>\n",
       "    </tr>\n",
       "    <tr>\n",
       "      <td>3</td>\n",
       "      <td>Изменить структура категорий, что увеличит конверсию, т.к. пользователи быстрее найдут нужный товар</td>\n",
       "      <td>9.0</td>\n",
       "    </tr>\n",
       "    <tr>\n",
       "      <td>1</td>\n",
       "      <td>Запустить собственную службу доставки, что сократит срок доставки заказов</td>\n",
       "      <td>4.0</td>\n",
       "    </tr>\n",
       "    <tr>\n",
       "      <td>5</td>\n",
       "      <td>Добавить страницу отзывов клиентов о магазине, что позволит увеличить количество заказов</td>\n",
       "      <td>4.0</td>\n",
       "    </tr>\n",
       "    <tr>\n",
       "      <td>4</td>\n",
       "      <td>Изменить цвет фона главной страницы, чтобы увеличить вовлеченность пользователей</td>\n",
       "      <td>3.0</td>\n",
       "    </tr>\n",
       "  </tbody>\n",
       "</table>\n",
       "</div>"
      ],
      "text/plain": [
       "                                                                                                     hypothesis  \\\n",
       "7  Добавить форму подписки на все основные страницы, чтобы собрать базу клиентов для email-рассылок               \n",
       "2  Добавить блоки рекомендаций товаров на сайт интернет магазина, чтобы повысить конверсию и средний чек заказа   \n",
       "0  Добавить два новых канала привлечения трафика, что позволит привлекать на 30% больше пользователей             \n",
       "6  Показать на главной странице баннеры с актуальными акциями и распродажами, чтобы увеличить конверсию           \n",
       "8  Запустить акцию, дающую скидку на товар в день рождения                                                        \n",
       "3  Изменить структура категорий, что увеличит конверсию, т.к. пользователи быстрее найдут нужный товар            \n",
       "1  Запустить собственную службу доставки, что сократит срок доставки заказов                                      \n",
       "5  Добавить страницу отзывов клиентов о магазине, что позволит увеличить количество заказов                       \n",
       "4  Изменить цвет фона главной страницы, чтобы увеличить вовлеченность пользователей                               \n",
       "\n",
       "    RICE  \n",
       "7  112.0  \n",
       "2  56.0   \n",
       "0  40.0   \n",
       "6  40.0   \n",
       "8  16.2   \n",
       "3  9.0    \n",
       "1  4.0    \n",
       "5  4.0    \n",
       "4  3.0    "
      ]
     },
     "execution_count": 17,
     "metadata": {},
     "output_type": "execute_result"
    }
   ],
   "source": [
    "hypothesis['RICE'] = (hypothesis['impact'] * hypothesis['confidence'] * hypothesis['reach']) / hypothesis['efforts']\n",
    "hypothesis[['hypothesis', 'RICE']].sort_values(by='RICE', ascending=False)"
   ]
  },
  {
   "cell_type": "markdown",
   "metadata": {},
   "source": [
    "При расчете RICE приоритизация следующая: 7, 2, 0, 6. Причем у гипотезы №7 RICE в два раза выше, чем у гипотезы № 2. Это случилось по причине того, что показатель reach у гипотезы №7 выше всех. ТОП-5 гипотез в результате расчета ICE и RICE получился одинаковым."
   ]
  },
  {
   "cell_type": "markdown",
   "metadata": {},
   "source": [
    "## Анализ A/B-теста"
   ]
  },
  {
   "cell_type": "markdown",
   "metadata": {},
   "source": [
    "**3.1. Построим график кумулятивной выручки по группам. Сделаем выводы и предположения.**"
   ]
  },
  {
   "cell_type": "code",
   "execution_count": 18,
   "metadata": {},
   "outputs": [
    {
     "data": {
      "text/html": [
       "<div>\n",
       "<style scoped>\n",
       "    .dataframe tbody tr th:only-of-type {\n",
       "        vertical-align: middle;\n",
       "    }\n",
       "\n",
       "    .dataframe tbody tr th {\n",
       "        vertical-align: top;\n",
       "    }\n",
       "\n",
       "    .dataframe thead th {\n",
       "        text-align: right;\n",
       "    }\n",
       "</style>\n",
       "<table border=\"1\" class=\"dataframe\">\n",
       "  <thead>\n",
       "    <tr style=\"text-align: right;\">\n",
       "      <th></th>\n",
       "      <th>transaction_id</th>\n",
       "      <th>visitor_id</th>\n",
       "      <th>date</th>\n",
       "      <th>revenue</th>\n",
       "      <th>group</th>\n",
       "    </tr>\n",
       "  </thead>\n",
       "  <tbody>\n",
       "    <tr>\n",
       "      <td>0</td>\n",
       "      <td>3667963787</td>\n",
       "      <td>3312258926</td>\n",
       "      <td>2019-08-15</td>\n",
       "      <td>1650</td>\n",
       "      <td>B</td>\n",
       "    </tr>\n",
       "    <tr>\n",
       "      <td>1</td>\n",
       "      <td>2804400009</td>\n",
       "      <td>3642806036</td>\n",
       "      <td>2019-08-15</td>\n",
       "      <td>730</td>\n",
       "      <td>B</td>\n",
       "    </tr>\n",
       "    <tr>\n",
       "      <td>2</td>\n",
       "      <td>3797467345</td>\n",
       "      <td>1196621759</td>\n",
       "      <td>2019-08-15</td>\n",
       "      <td>9759</td>\n",
       "      <td>B</td>\n",
       "    </tr>\n",
       "    <tr>\n",
       "      <td>3</td>\n",
       "      <td>2282983706</td>\n",
       "      <td>2322279887</td>\n",
       "      <td>2019-08-15</td>\n",
       "      <td>2308</td>\n",
       "      <td>B</td>\n",
       "    </tr>\n",
       "    <tr>\n",
       "      <td>4</td>\n",
       "      <td>182168103</td>\n",
       "      <td>935554773</td>\n",
       "      <td>2019-08-15</td>\n",
       "      <td>2210</td>\n",
       "      <td>B</td>\n",
       "    </tr>\n",
       "    <tr>\n",
       "      <td>5</td>\n",
       "      <td>398296753</td>\n",
       "      <td>2900797465</td>\n",
       "      <td>2019-08-15</td>\n",
       "      <td>1860</td>\n",
       "      <td>B</td>\n",
       "    </tr>\n",
       "    <tr>\n",
       "      <td>6</td>\n",
       "      <td>2626614568</td>\n",
       "      <td>78758296</td>\n",
       "      <td>2019-08-15</td>\n",
       "      <td>1044</td>\n",
       "      <td>A</td>\n",
       "    </tr>\n",
       "    <tr>\n",
       "      <td>7</td>\n",
       "      <td>1576988021</td>\n",
       "      <td>295230930</td>\n",
       "      <td>2019-08-15</td>\n",
       "      <td>13710</td>\n",
       "      <td>A</td>\n",
       "    </tr>\n",
       "    <tr>\n",
       "      <td>8</td>\n",
       "      <td>1506739906</td>\n",
       "      <td>1882260405</td>\n",
       "      <td>2019-08-15</td>\n",
       "      <td>1855</td>\n",
       "      <td>B</td>\n",
       "    </tr>\n",
       "    <tr>\n",
       "      <td>9</td>\n",
       "      <td>3649131742</td>\n",
       "      <td>879864040</td>\n",
       "      <td>2019-08-15</td>\n",
       "      <td>4008</td>\n",
       "      <td>A</td>\n",
       "    </tr>\n",
       "  </tbody>\n",
       "</table>\n",
       "</div>"
      ],
      "text/plain": [
       "   transaction_id  visitor_id        date  revenue group\n",
       "0  3667963787      3312258926  2019-08-15  1650     B   \n",
       "1  2804400009      3642806036  2019-08-15  730      B   \n",
       "2  3797467345      1196621759  2019-08-15  9759     B   \n",
       "3  2282983706      2322279887  2019-08-15  2308     B   \n",
       "4  182168103       935554773   2019-08-15  2210     B   \n",
       "5  398296753       2900797465  2019-08-15  1860     B   \n",
       "6  2626614568      78758296    2019-08-15  1044     A   \n",
       "7  1576988021      295230930   2019-08-15  13710    A   \n",
       "8  1506739906      1882260405  2019-08-15  1855     B   \n",
       "9  3649131742      879864040   2019-08-15  4008     A   "
      ]
     },
     "execution_count": 18,
     "metadata": {},
     "output_type": "execute_result"
    }
   ],
   "source": [
    "orders.head(10)"
   ]
  },
  {
   "cell_type": "code",
   "execution_count": 19,
   "metadata": {},
   "outputs": [],
   "source": [
    "orders['date'] = orders['date'].map(\n",
    "    lambda x: dt.datetime.strptime(x, '%Y-%m-%d')\n",
    ")"
   ]
  },
  {
   "cell_type": "code",
   "execution_count": 20,
   "metadata": {},
   "outputs": [
    {
     "data": {
      "text/html": [
       "<div>\n",
       "<style scoped>\n",
       "    .dataframe tbody tr th:only-of-type {\n",
       "        vertical-align: middle;\n",
       "    }\n",
       "\n",
       "    .dataframe tbody tr th {\n",
       "        vertical-align: top;\n",
       "    }\n",
       "\n",
       "    .dataframe thead th {\n",
       "        text-align: right;\n",
       "    }\n",
       "</style>\n",
       "<table border=\"1\" class=\"dataframe\">\n",
       "  <thead>\n",
       "    <tr style=\"text-align: right;\">\n",
       "      <th></th>\n",
       "      <th>date</th>\n",
       "      <th>group</th>\n",
       "      <th>visitors</th>\n",
       "    </tr>\n",
       "  </thead>\n",
       "  <tbody>\n",
       "    <tr>\n",
       "      <td>0</td>\n",
       "      <td>2019-08-01</td>\n",
       "      <td>A</td>\n",
       "      <td>719</td>\n",
       "    </tr>\n",
       "    <tr>\n",
       "      <td>1</td>\n",
       "      <td>2019-08-02</td>\n",
       "      <td>A</td>\n",
       "      <td>619</td>\n",
       "    </tr>\n",
       "    <tr>\n",
       "      <td>2</td>\n",
       "      <td>2019-08-03</td>\n",
       "      <td>A</td>\n",
       "      <td>507</td>\n",
       "    </tr>\n",
       "    <tr>\n",
       "      <td>3</td>\n",
       "      <td>2019-08-04</td>\n",
       "      <td>A</td>\n",
       "      <td>717</td>\n",
       "    </tr>\n",
       "    <tr>\n",
       "      <td>4</td>\n",
       "      <td>2019-08-05</td>\n",
       "      <td>A</td>\n",
       "      <td>756</td>\n",
       "    </tr>\n",
       "    <tr>\n",
       "      <td>5</td>\n",
       "      <td>2019-08-06</td>\n",
       "      <td>A</td>\n",
       "      <td>667</td>\n",
       "    </tr>\n",
       "    <tr>\n",
       "      <td>6</td>\n",
       "      <td>2019-08-07</td>\n",
       "      <td>A</td>\n",
       "      <td>644</td>\n",
       "    </tr>\n",
       "    <tr>\n",
       "      <td>7</td>\n",
       "      <td>2019-08-08</td>\n",
       "      <td>A</td>\n",
       "      <td>610</td>\n",
       "    </tr>\n",
       "    <tr>\n",
       "      <td>8</td>\n",
       "      <td>2019-08-09</td>\n",
       "      <td>A</td>\n",
       "      <td>617</td>\n",
       "    </tr>\n",
       "    <tr>\n",
       "      <td>9</td>\n",
       "      <td>2019-08-10</td>\n",
       "      <td>A</td>\n",
       "      <td>406</td>\n",
       "    </tr>\n",
       "  </tbody>\n",
       "</table>\n",
       "</div>"
      ],
      "text/plain": [
       "         date group  visitors\n",
       "0  2019-08-01  A     719     \n",
       "1  2019-08-02  A     619     \n",
       "2  2019-08-03  A     507     \n",
       "3  2019-08-04  A     717     \n",
       "4  2019-08-05  A     756     \n",
       "5  2019-08-06  A     667     \n",
       "6  2019-08-07  A     644     \n",
       "7  2019-08-08  A     610     \n",
       "8  2019-08-09  A     617     \n",
       "9  2019-08-10  A     406     "
      ]
     },
     "execution_count": 20,
     "metadata": {},
     "output_type": "execute_result"
    }
   ],
   "source": [
    "visitors.head(10)"
   ]
  },
  {
   "cell_type": "code",
   "execution_count": 21,
   "metadata": {},
   "outputs": [
    {
     "data": {
      "text/html": [
       "<div>\n",
       "<style scoped>\n",
       "    .dataframe tbody tr th:only-of-type {\n",
       "        vertical-align: middle;\n",
       "    }\n",
       "\n",
       "    .dataframe tbody tr th {\n",
       "        vertical-align: top;\n",
       "    }\n",
       "\n",
       "    .dataframe thead th {\n",
       "        text-align: right;\n",
       "    }\n",
       "</style>\n",
       "<table border=\"1\" class=\"dataframe\">\n",
       "  <thead>\n",
       "    <tr style=\"text-align: right;\">\n",
       "      <th></th>\n",
       "      <th>transaction_id</th>\n",
       "      <th>visitor_id</th>\n",
       "      <th>date</th>\n",
       "      <th>revenue</th>\n",
       "      <th>group</th>\n",
       "    </tr>\n",
       "  </thead>\n",
       "  <tbody>\n",
       "    <tr>\n",
       "      <td>0</td>\n",
       "      <td>3667963787</td>\n",
       "      <td>3312258926</td>\n",
       "      <td>2019-08-15</td>\n",
       "      <td>1650</td>\n",
       "      <td>B</td>\n",
       "    </tr>\n",
       "    <tr>\n",
       "      <td>1</td>\n",
       "      <td>2804400009</td>\n",
       "      <td>3642806036</td>\n",
       "      <td>2019-08-15</td>\n",
       "      <td>730</td>\n",
       "      <td>B</td>\n",
       "    </tr>\n",
       "    <tr>\n",
       "      <td>2</td>\n",
       "      <td>3797467345</td>\n",
       "      <td>1196621759</td>\n",
       "      <td>2019-08-15</td>\n",
       "      <td>9759</td>\n",
       "      <td>B</td>\n",
       "    </tr>\n",
       "    <tr>\n",
       "      <td>3</td>\n",
       "      <td>2282983706</td>\n",
       "      <td>2322279887</td>\n",
       "      <td>2019-08-15</td>\n",
       "      <td>2308</td>\n",
       "      <td>B</td>\n",
       "    </tr>\n",
       "    <tr>\n",
       "      <td>4</td>\n",
       "      <td>182168103</td>\n",
       "      <td>935554773</td>\n",
       "      <td>2019-08-15</td>\n",
       "      <td>2210</td>\n",
       "      <td>B</td>\n",
       "    </tr>\n",
       "  </tbody>\n",
       "</table>\n",
       "</div>"
      ],
      "text/plain": [
       "   transaction_id  visitor_id       date  revenue group\n",
       "0  3667963787      3312258926 2019-08-15  1650     B   \n",
       "1  2804400009      3642806036 2019-08-15  730      B   \n",
       "2  3797467345      1196621759 2019-08-15  9759     B   \n",
       "3  2282983706      2322279887 2019-08-15  2308     B   \n",
       "4  182168103       935554773  2019-08-15  2210     B   "
      ]
     },
     "execution_count": 21,
     "metadata": {},
     "output_type": "execute_result"
    }
   ],
   "source": [
    "visitors['date'] = visitors['date'].map(\n",
    "    lambda x: dt.datetime.strptime(x, '%Y-%m-%d')\n",
    ")\n",
    "orders.head()"
   ]
  },
  {
   "cell_type": "code",
   "execution_count": 22,
   "metadata": {},
   "outputs": [
    {
     "data": {
      "text/html": [
       "<div>\n",
       "<style scoped>\n",
       "    .dataframe tbody tr th:only-of-type {\n",
       "        vertical-align: middle;\n",
       "    }\n",
       "\n",
       "    .dataframe tbody tr th {\n",
       "        vertical-align: top;\n",
       "    }\n",
       "\n",
       "    .dataframe thead th {\n",
       "        text-align: right;\n",
       "    }\n",
       "</style>\n",
       "<table border=\"1\" class=\"dataframe\">\n",
       "  <thead>\n",
       "    <tr style=\"text-align: right;\">\n",
       "      <th></th>\n",
       "      <th>date</th>\n",
       "      <th>group</th>\n",
       "      <th>visitors</th>\n",
       "    </tr>\n",
       "  </thead>\n",
       "  <tbody>\n",
       "    <tr>\n",
       "      <td>0</td>\n",
       "      <td>2019-08-01</td>\n",
       "      <td>A</td>\n",
       "      <td>719</td>\n",
       "    </tr>\n",
       "    <tr>\n",
       "      <td>1</td>\n",
       "      <td>2019-08-02</td>\n",
       "      <td>A</td>\n",
       "      <td>619</td>\n",
       "    </tr>\n",
       "    <tr>\n",
       "      <td>2</td>\n",
       "      <td>2019-08-03</td>\n",
       "      <td>A</td>\n",
       "      <td>507</td>\n",
       "    </tr>\n",
       "    <tr>\n",
       "      <td>3</td>\n",
       "      <td>2019-08-04</td>\n",
       "      <td>A</td>\n",
       "      <td>717</td>\n",
       "    </tr>\n",
       "    <tr>\n",
       "      <td>4</td>\n",
       "      <td>2019-08-05</td>\n",
       "      <td>A</td>\n",
       "      <td>756</td>\n",
       "    </tr>\n",
       "  </tbody>\n",
       "</table>\n",
       "</div>"
      ],
      "text/plain": [
       "        date group  visitors\n",
       "0 2019-08-01  A     719     \n",
       "1 2019-08-02  A     619     \n",
       "2 2019-08-03  A     507     \n",
       "3 2019-08-04  A     717     \n",
       "4 2019-08-05  A     756     "
      ]
     },
     "execution_count": 22,
     "metadata": {},
     "output_type": "execute_result"
    }
   ],
   "source": [
    "visitors.head()"
   ]
  },
  {
   "cell_type": "code",
   "execution_count": 23,
   "metadata": {},
   "outputs": [],
   "source": [
    "# создаем массив уникальных пар значений дат и групп теста\n",
    "datesGroups = orders[['date', 'group']].drop_duplicates()\n",
    "# получаем агрегированные кумулятивные по дням данные о заказах \n",
    "ordersAggregated = datesGroups.apply(\n",
    "    lambda x: orders[\n",
    "        np.logical_and(\n",
    "            orders['date'] <= x['date'], orders['group'] == x['group']\n",
    "        )\n",
    "    ].agg(\n",
    "        {\n",
    "            'date': 'max',\n",
    "            'group': 'max',\n",
    "            'transaction_id': pd.Series.nunique,\n",
    "            'visitor_id': pd.Series.nunique,\n",
    "            'revenue': 'sum',\n",
    "        }\n",
    "    ),\n",
    "    axis=1,\n",
    ").sort_values(by=['date', 'group'])\n"
   ]
  },
  {
   "cell_type": "code",
   "execution_count": 24,
   "metadata": {},
   "outputs": [],
   "source": [
    "# получаем агрегированные кумулятивные по дням данные о заказах \n",
    "visitorsAggregated = datesGroups.apply(\n",
    "    lambda x: visitors[\n",
    "        np.logical_and(\n",
    "            visitors['date'] <= x['date'], visitors['group'] == x['group']\n",
    "        )\n",
    "    ].agg({'date': 'max', 'group': 'max', 'visitors': 'sum'}),\n",
    "    axis=1,\n",
    ").sort_values(by=['date', 'group'])\n"
   ]
  },
  {
   "cell_type": "code",
   "execution_count": 25,
   "metadata": {},
   "outputs": [],
   "source": [
    "# объединяем кумулятивные данные в одной таблице и присваиваем ее столбцам понятные названия\n",
    "cumulativeData = ordersAggregated.merge(\n",
    "    visitorsAggregated, left_on=['date', 'group'], right_on=['date', 'group']\n",
    ")\n",
    "cumulativeData.columns = [\n",
    "    'date',\n",
    "    'group',\n",
    "    'orders',\n",
    "    'buyers',\n",
    "    'revenue',\n",
    "    'visitors',\n",
    "]\n",
    "# датафрейм с кумулятивным количеством заказов и кумулятивной выручкой по дням в группе А\n",
    "cumulativeRevenueA = cumulativeData[cumulativeData['group']=='A'][['date','revenue', 'orders']]\n",
    "\n",
    "# датафрейм с кумулятивным количеством заказов и кумулятивной выручкой по дням в группе B\n",
    "cumulativeRevenueB = cumulativeData[cumulativeData['group']=='B'][['date','revenue', 'orders']]\n"
   ]
  },
  {
   "cell_type": "code",
   "execution_count": 26,
   "metadata": {},
   "outputs": [
    {
     "data": {
      "image/png": "[encoded data removed]",
      "text/plain": [
       "<Figure size 432x288 with 1 Axes>"
      ]
     },
     "metadata": {
      "needs_background": "light"
     },
     "output_type": "display_data"
    }
   ],
   "source": [
    "# Строим график выручки группы А\n",
    "plt.plot(cumulativeRevenueA['date'], cumulativeRevenueA['revenue'], label='A')\n",
    "# Строим график выручки группы B\n",
    "plt.plot(cumulativeRevenueB['date'], cumulativeRevenueB['revenue'], label='B')\n",
    "\n",
    "plt.title('График выручки по группам')\n",
    "plt.ylabel(\"Выручка\")\n",
    "plt.xlabel(\"Временные метки теста\")\n",
    "plt.xticks(rotation=90)\n",
    "plt.legend();"
   ]
  },
  {
   "cell_type": "markdown",
   "metadata": {},
   "source": [
    "Выручка почти равномерно увеличивается в течение всего теста. Однако графики выручки обеих групп в нескольких точках резко растут. Это может сигнализировать о всплесках числа заказов, либо о появлении очень дорогих заказов в выборке."
   ]
  },
  {
   "cell_type": "markdown",
   "metadata": {},
   "source": [
    "**3.2. Построим график кумулятивного среднего чека по группам. Сделаем выводы и предположения.**"
   ]
  },
  {
   "cell_type": "code",
   "execution_count": 27,
   "metadata": {},
   "outputs": [
    {
     "data": {
      "image/png": "[encoded data removed]",
      "text/plain": [
       "<Figure size 432x288 with 1 Axes>"
      ]
     },
     "metadata": {
      "needs_background": "light"
     },
     "output_type": "display_data"
    }
   ],
   "source": [
    "plt.plot(cumulativeRevenueA['date'], cumulativeRevenueA['revenue']/cumulativeRevenueA['orders'], label='A')\n",
    "plt.plot(cumulativeRevenueB['date'], cumulativeRevenueB['revenue']/cumulativeRevenueB['orders'], label='B')\n",
    "plt.title('График кумулятивного среднего чека по группам')\n",
    "plt.ylabel(\"Средний чек\")\n",
    "plt.xlabel(\"Временные метки теста\")\n",
    "plt.xticks(rotation=90)\n",
    "plt.legend();"
   ]
  },
  {
   "cell_type": "markdown",
   "metadata": {},
   "source": [
    "Кумулятивное значение среднего чека сильно колеблется. Требуется дополнительный анализ выбросов."
   ]
  },
  {
   "cell_type": "markdown",
   "metadata": {},
   "source": [
    "**3.3. Построим график относительного изменения кумулятивного среднего чека группы B к группе A. Сделаем выводы и предположения.**"
   ]
  },
  {
   "cell_type": "code",
   "execution_count": 28,
   "metadata": {},
   "outputs": [
    {
     "data": {
      "image/png": "[encoded data removed]",
      "text/plain": [
       "<Figure size 432x288 with 1 Axes>"
      ]
     },
     "metadata": {
      "needs_background": "light"
     },
     "output_type": "display_data"
    }
   ],
   "source": [
    "# собираем данные в одном датафрейме\n",
    "mergedCumulativeRevenue = cumulativeRevenueA.merge(cumulativeRevenueB, left_on='date', right_on='date', how='left', \n",
    "                                                   suffixes=['A', 'B'])\n",
    "\n",
    "# cтроим отношение средних чеков\n",
    "plt.plot(mergedCumulativeRevenue['date'], (mergedCumulativeRevenue['revenueB']/\n",
    "                                           mergedCumulativeRevenue['ordersB'])/(mergedCumulativeRevenue['revenueA']/\n",
    "                                                                                mergedCumulativeRevenue['ordersA'])-1)\n",
    "\n",
    "# добавляем ось X\n",
    "plt.axhline(y=0, color='black', linestyle='--')\n",
    "plt.title('График относительного изменения кумулятивного среднего чека группы B к группе A')\n",
    "plt.xlabel(\"Временные метки теста\")\n",
    "plt.xticks(rotation=90);"
   ]
  },
  {
   "cell_type": "markdown",
   "metadata": {},
   "source": [
    "С течением времени результаты теста резо и значительно менялись. Видимо, именно тогда были совершены аномальные заказы."
   ]
  },
  {
   "cell_type": "markdown",
   "metadata": {},
   "source": [
    "**3.4. Построим график кумулятивной конверсии по группам. Сделаем выводы и предположения.**"
   ]
  },
  {
   "cell_type": "code",
   "execution_count": 29,
   "metadata": {},
   "outputs": [
    {
     "data": {
      "image/png": "[encoded data removed]",
      "text/plain": [
       "<Figure size 432x288 with 1 Axes>"
      ]
     },
     "metadata": {
      "needs_background": "light"
     },
     "output_type": "display_data"
    }
   ],
   "source": [
    "# считаем кумулятивную конверсию\n",
    "cumulativeData['conversion'] = cumulativeData['orders']/cumulativeData['visitors']\n",
    "\n",
    "# отделяем данные по группе A\n",
    "cumulativeDataA = cumulativeData[cumulativeData['group']=='A']\n",
    "\n",
    "# отделяем данные по группе B\n",
    "cumulativeDataB = cumulativeData[cumulativeData['group']=='B']\n",
    "\n",
    "# строим графики\n",
    "plt.plot(cumulativeDataA['date'], cumulativeDataA['conversion'], label='A')\n",
    "plt.plot(cumulativeDataB['date'], cumulativeDataB['conversion'], label='B')\n",
    "plt.legend()\n",
    "\n",
    "# передадим ему минимальное и максимальное значения оси x; минимальное и максимальное значения оси y\n",
    "plt.axis([\"2019-08-01\", '2019-09-01', 0, 0.05])\n",
    "plt.xlabel(\"Временные метки теста\")\n",
    "plt.xticks(rotation=90)\n",
    "plt.title('График кумулятивной конверсии по группам')\n",
    "plt.ylabel(\"Выручка\");"
   ]
  },
  {
   "cell_type": "markdown",
   "metadata": {},
   "source": [
    "В начале теста сегмент А имел большую конверсию, но постепенно сегмент В выровнялся и зафиксировался примено у одного значения, больше значения сегмента А."
   ]
  },
  {
   "cell_type": "markdown",
   "metadata": {},
   "source": [
    "**3.5. Построим график относительного изменения кумулятивной конверсии группы B к группе A. Сделаем выводы и предположения.**"
   ]
  },
  {
   "cell_type": "code",
   "execution_count": 30,
   "metadata": {},
   "outputs": [
    {
     "data": {
      "image/png": "[encoded data removed]",
      "text/plain": [
       "<Figure size 432x288 with 1 Axes>"
      ]
     },
     "metadata": {
      "needs_background": "light"
     },
     "output_type": "display_data"
    }
   ],
   "source": [
    "mergedCumulativeConversions = cumulativeDataA[['date','conversion']].merge(cumulativeDataB[['date','conversion']], left_on='date', right_on='date', how='left', suffixes=['A', 'B'])\n",
    "\n",
    "plt.plot(mergedCumulativeConversions['date'], mergedCumulativeConversions['conversionB']/mergedCumulativeConversions['conversionA']-1, label=\"Относительный прирост конверсии группы B относительно группы A\")\n",
    "plt.legend()\n",
    "\n",
    "plt.axhline(y=0, color='black', linestyle='--')\n",
    "plt.axhline(y=-0.1, color='grey', linestyle='--')\n",
    "plt.axis([\"2019-08-01\", '2019-09-01', -0.5, 0.5])\n",
    "plt.xlabel(\"Временные метки теста\")\n",
    "plt.xticks(rotation=90)\n",
    "plt.title('График относительного изменения кумулятивной конверсии группы B к группе A');"
   ]
  },
  {
   "cell_type": "markdown",
   "metadata": {},
   "source": [
    "В начале теста группа B проигрывала группе A, затем вырвалась вперёд. С течением времени её конверсия снова падала, но теперь постепенно растёт.\n",
    "В целом отношение конверсии ещё не установилось, и сейчас делать какие-либо выводы по тесту нельзя. Впрочем, сперва стоит проанализировать аномалии, возможно, они изменят картину."
   ]
  },
  {
   "cell_type": "markdown",
   "metadata": {},
   "source": [
    "**3.6. Построим точечный график количества заказов по пользователям. Сделаем выводы и предположения.**"
   ]
  },
  {
   "cell_type": "code",
   "execution_count": 31,
   "metadata": {},
   "outputs": [
    {
     "data": {
      "image/png": "[encoded data removed]",
      "text/plain": [
       "<Figure size 432x288 with 1 Axes>"
      ]
     },
     "metadata": {
      "needs_background": "light"
     },
     "output_type": "display_data"
    }
   ],
   "source": [
    "#построим гистрограмму распределения количества заказов на одного пользователя\n",
    "ordersByUsers = (\n",
    "    orders.drop(['group', 'revenue', 'date'], axis=1)\n",
    "    .groupby('visitor_id', as_index=False)\n",
    "    .agg({'transaction_id': pd.Series.nunique})\n",
    ")\n",
    "ordersByUsers.columns = ['visitors', 'orders']\n",
    "\n",
    "plt.hist(ordersByUsers['orders'])\n",
    "plt.title('Гистограмма распределения количества заказов на одного пользователя')\n",
    "plt.xlabel(\"Количество заказов на одного пользователя\")\n",
    "plt.ylabel(\"Частота попадания\");"
   ]
  },
  {
   "cell_type": "markdown",
   "metadata": {},
   "source": [
    "Большинство покупателей заказывали только один раз. Доля пользователей с 2-3 заказами незначительна."
   ]
  },
  {
   "cell_type": "code",
   "execution_count": 32,
   "metadata": {},
   "outputs": [
    {
     "data": {
      "image/png": "[encoded data removed]",
      "text/plain": [
       "<Figure size 432x288 with 1 Axes>"
      ]
     },
     "metadata": {
      "needs_background": "light"
     },
     "output_type": "display_data"
    }
   ],
   "source": [
    "#Построим точечную диаграмму числа заказов на одного пользователя\n",
    "\n",
    "#print(ordersByUsers.sort_values(by='orders', ascending=False).head(10))\n",
    "\n",
    "# серия из чисел от 0 до количества наблюдений в ordersByUsers\n",
    "x_values = pd.Series(range(0, len(ordersByUsers)))\n",
    "plt.scatter(x_values, ordersByUsers['orders'])\n",
    "plt.title('Tочечный график количества заказов по пользователям')\n",
    "plt.ylabel(\"Количество заказов на 1 пользователя\")\n",
    "plt.xlabel(\"Частота попадания\");"
   ]
  },
  {
   "cell_type": "markdown",
   "metadata": {},
   "source": [
    "Выводы подтверждаются: основная масса пользователей с 1 заказом. Но присутствуют юзеры с 2 и 3 заказами, их точная доля не ясна — непонятно, считать их аномалиями или нет. "
   ]
  },
  {
   "cell_type": "markdown",
   "metadata": {},
   "source": [
    "**3.7. Посчитаем 95-й и 99-й перцентили количества заказов на пользователя. Выберем границу для определения аномальных пользователей.**"
   ]
  },
  {
   "cell_type": "code",
   "execution_count": 33,
   "metadata": {},
   "outputs": [
    {
     "name": "stdout",
     "output_type": "stream",
     "text": [
      "[1. 2.]\n"
     ]
    }
   ],
   "source": [
    "#посчитаем выборочные перцентили количества заказов на одного пользователя:\n",
    "\n",
    "print(np.percentile(ordersByUsers['orders'], [95, 99])) "
   ]
  },
  {
   "cell_type": "markdown",
   "metadata": {},
   "source": [
    "Не более 5% пользователей оформляли больше чем 1 заказ. И не более 1% пользователей заказывали более 2х раз.\n",
    "Разумно выбрать 1 заказ на одного пользователя за нижнюю границу числа заказов, и отсеять аномальных пользователей по ней. "
   ]
  },
  {
   "cell_type": "markdown",
   "metadata": {},
   "source": [
    "**3.8. Построим точечный график стоимостей заказов. Сделаем выводы и предположения.**"
   ]
  },
  {
   "cell_type": "code",
   "execution_count": 34,
   "metadata": {},
   "outputs": [
    {
     "data": {
      "image/png": "[encoded data removed]",
      "text/plain": [
       "<Figure size 432x288 with 1 Axes>"
      ]
     },
     "metadata": {
      "needs_background": "light"
     },
     "output_type": "display_data"
    }
   ],
   "source": [
    "x_values = pd.Series(range(0, len(orders['revenue'])))\n",
    "plt.scatter(x_values, orders['revenue'])\n",
    "plt.title('Точечный график стоимостей заказов')\n",
    "plt.ylim(0, 250000)\n",
    "plt.ylabel(\"Выручка\");"
   ]
  },
  {
   "cell_type": "markdown",
   "metadata": {},
   "source": [
    " Есть немного дорогих заказов. По графику можно выбрать границу аномальных заказов - выше 50 000 рублей. Однако принято отсеивать от 1% до 5% наблюдений с крайними значениями."
   ]
  },
  {
   "cell_type": "markdown",
   "metadata": {},
   "source": [
    "**3.9. Посчитаем 95-й и 99-й перцентили стоимости заказов. Выберем границу для определения аномальных заказов.**"
   ]
  },
  {
   "cell_type": "code",
   "execution_count": 35,
   "metadata": {},
   "outputs": [
    {
     "name": "stdout",
     "output_type": "stream",
     "text": [
      "[26785. 53904.]\n"
     ]
    }
   ],
   "source": [
    "print(np.percentile(orders['revenue'], [95, 99])) "
   ]
  },
  {
   "cell_type": "markdown",
   "metadata": {},
   "source": [
    "Не более 5% заказов дороже 26785 рублей и не более 1% дороже 53904 рублей. Разумно выбрать стоимость заказа в 26785 рублей  (5%), как и по количеству заазов на 1 пользователя, за нижнюю границу числа заказов, и отсеять аномальных пользователей по ней. "
   ]
  },
  {
   "cell_type": "markdown",
   "metadata": {},
   "source": [
    "**3.10. Посчитаем статистическую значимость различий в конверсии между группами по «сырым» данным. Сделаем выводы и предположения.**"
   ]
  },
  {
   "cell_type": "code",
   "execution_count": 36,
   "metadata": {},
   "outputs": [],
   "source": [
    "#Изучим код и устройство таблиц\n",
    "\n",
    "visitorsADaily = visitors[visitors['group'] == 'A'][['date', 'visitors']]\n",
    "visitorsADaily.columns = ['date', 'visitorsPerDateA']\n",
    "\n",
    "visitorsACummulative = visitorsADaily.apply(\n",
    "    lambda x: visitorsADaily[visitorsADaily['date'] <= x['date']].agg(\n",
    "        {'date': 'max', 'visitorsPerDateA': 'sum'}\n",
    "    ),\n",
    "    axis=1,\n",
    ")\n",
    "visitorsACummulative.columns = ['date', 'visitorsCummulativeA']\n",
    "\n",
    "visitorsBDaily = visitors[visitors['group'] == 'B'][['date', 'visitors']]\n",
    "visitorsBDaily.columns = ['date', 'visitorsPerDateB']\n",
    "\n",
    "visitorsBCummulative = visitorsBDaily.apply(\n",
    "    lambda x: visitorsBDaily[visitorsBDaily['date'] <= x['date']].agg(\n",
    "        {'date': 'max', 'visitorsPerDateB': 'sum'}\n",
    "    ),\n",
    "    axis=1,\n",
    ")\n",
    "visitorsBCummulative.columns = ['date', 'visitorsCummulativeB']\n",
    "\n"
   ]
  },
  {
   "cell_type": "code",
   "execution_count": 37,
   "metadata": {},
   "outputs": [],
   "source": [
    "ordersADaily = (\n",
    "    orders[orders['group'] == 'A'][['date', 'transaction_id', 'visitor_id', 'revenue']]\n",
    "    .groupby('date', as_index=False)\n",
    "    .agg({'transaction_id': pd.Series.nunique, 'revenue': 'sum'})\n",
    ")\n",
    "ordersADaily.columns = ['date', 'ordersPerDateA', 'revenuePerDateA']\n",
    "\n",
    "ordersACummulative = ordersADaily.apply(\n",
    "    lambda x: ordersADaily[ordersADaily['date'] <= x['date']].agg(\n",
    "        {'date': 'max', 'ordersPerDateA': 'sum', 'revenuePerDateA': 'sum'}\n",
    "    ),\n",
    "    axis=1,\n",
    ").sort_values(by=['date'])\n",
    "ordersACummulative.columns = [\n",
    "    'date',\n",
    "    'ordersCummulativeA',\n",
    "    'revenueCummulativeA',\n",
    "]\n",
    "\n",
    "ordersBDaily = (\n",
    "    orders[orders['group'] == 'B'][['date', 'transaction_id', 'visitor_id', 'revenue']]\n",
    "    .groupby('date', as_index=False)\n",
    "    .agg({'transaction_id': pd.Series.nunique, 'revenue': 'sum'})\n",
    ")\n",
    "ordersBDaily.columns = ['date', 'ordersPerDateB', 'revenuePerDateB']\n",
    "\n",
    "ordersBCummulative = ordersBDaily.apply(\n",
    "    lambda x: ordersBDaily[ordersBDaily['date'] <= x['date']].agg(\n",
    "        {'date': 'max', 'ordersPerDateB': 'sum', 'revenuePerDateB': 'sum'}\n",
    "    ),\n",
    "    axis=1,\n",
    ").sort_values(by=['date'])\n",
    "ordersBCummulative.columns = [\n",
    "    'date',\n",
    "    'ordersCummulativeB',\n",
    "    'revenueCummulativeB',\n",
    "]\n",
    "\n"
   ]
  },
  {
   "cell_type": "code",
   "execution_count": 38,
   "metadata": {},
   "outputs": [],
   "source": [
    "data = (\n",
    "    ordersADaily.merge(\n",
    "        ordersBDaily, left_on='date', right_on='date', how='left'\n",
    "    )\n",
    "    .merge(ordersACummulative, left_on='date', right_on='date', how='left')\n",
    "    .merge(ordersBCummulative, left_on='date', right_on='date', how='left')\n",
    "    .merge(visitorsADaily, left_on='date', right_on='date', how='left')\n",
    "    .merge(visitorsBDaily, left_on='date', right_on='date', how='left')\n",
    "    .merge(visitorsACummulative, left_on='date', right_on='date', how='left')\n",
    "    .merge(visitorsBCummulative, left_on='date', right_on='date', how='left')\n",
    ")\n",
    "\n",
    "#print(data.head(5))\n"
   ]
  },
  {
   "cell_type": "code",
   "execution_count": 39,
   "metadata": {},
   "outputs": [
    {
     "name": "stdout",
     "output_type": "stream",
     "text": [
      "0.160\n"
     ]
    }
   ],
   "source": [
    "#Посчитаем статистическую значимость различия в конверсии между группами\n",
    "ordersByUsersA = (\n",
    "    orders[orders['group'] == 'A']\n",
    "    .groupby('visitor_id', as_index=False)\n",
    "    .agg({'transaction_id': pd.Series.nunique})\n",
    ")\n",
    "ordersByUsersA.columns = ['visitors', 'orders']\n",
    "\n",
    "ordersByUsersB = (\n",
    "    orders[orders['group'] == 'B']\n",
    "    .groupby('visitor_id', as_index=False)\n",
    "    .agg({'transaction_id': pd.Series.nunique})\n",
    ")\n",
    "ordersByUsersB.columns = ['visitors', 'orders'] \n",
    "sampleA = pd.concat([ordersByUsersA['orders'],pd.Series(0, \n",
    "                                                        index=np.arange(data['visitorsPerDateA'].sum() - \n",
    "                                                                        len(ordersByUsersA['orders'])), \n",
    "                                                        name='orders')],axis=0)\n",
    "\n",
    "sampleB = pd.concat([ordersByUsersB['orders'],pd.Series(0, \n",
    "                                                        index=np.arange(data['visitorsPerDateB'].sum() - \n",
    "                                                                        len(ordersByUsersB['orders'])), \n",
    "                                                        name='orders')],axis=0)\n",
    "\n",
    "p_value = stats.mannwhitneyu(sampleA, sampleB, alternative = 'two-sided')[1]\n",
    "\n",
    "\n",
    "\n",
    "print(\"{0:.3f}\".format((data['ordersPerDateB'].sum()/data['visitorsPerDateB'].sum())/(data['ordersPerDateA'].sum()\n",
    "                                                                                      /data['visitorsPerDateA'].sum())-1))\n",
    "\n"
   ]
  },
  {
   "cell_type": "code",
   "execution_count": 40,
   "metadata": {},
   "outputs": [
    {
     "name": "stdout",
     "output_type": "stream",
     "text": [
      "p-значение:  0.011018084110014691\n",
      "Отвергаем нулевую гипотезу\n"
     ]
    }
   ],
   "source": [
    "# H0: Конверсия в группе A РАВНА конверсии в группе B\n",
    "# H1: Конверсия в группе A НЕ РАВНА конверсии в группе B\n",
    "alpha=0.05\n",
    "\n",
    "print('p-значение: ', p_value)\n",
    "if (p_value < alpha):\n",
    "    print(\"Отвергаем нулевую гипотезу\")\n",
    "else:\n",
    "    print(\"Не получилось отвергнуть нулевую гипотезу\")"
   ]
  },
  {
   "cell_type": "markdown",
   "metadata": {},
   "source": [
    "P-value значительно меньше 0,05, поэтому нулевую гипотезу отвергаем. Анализ \"сырых данных\" сообщает, что в конверсии между группами есть статистиески значимые различия. Относительный прирост конверсии группы В к конверсии группы А 16%."
   ]
  },
  {
   "cell_type": "code",
   "execution_count": 41,
   "metadata": {},
   "outputs": [],
   "source": [
    "#import scipy\n",
    "#scipy.__version__"
   ]
  },
  {
   "cell_type": "markdown",
   "metadata": {},
   "source": [
    "**3.11. Посчитаем статистическую значимость различий в среднем чеке заказа между группами по «сырым» данным. Сделаем выводы и предположения.**"
   ]
  },
  {
   "cell_type": "code",
   "execution_count": 42,
   "metadata": {},
   "outputs": [
    {
     "name": "stdout",
     "output_type": "stream",
     "text": [
      "0.287\n"
     ]
    }
   ],
   "source": [
    "#print('{0:.3f}'.format(stats.mannwhitneyu(orders[orders['group']=='A']['revenue'], orders[orders['group']=='B']['revenue'])[1]))\n",
    "print('{0:.3f}'.format(orders[orders['group']=='B']['revenue'].mean()/orders[orders['group']=='A']['revenue'].mean()-1)) "
   ]
  },
  {
   "cell_type": "code",
   "execution_count": 43,
   "metadata": {},
   "outputs": [
    {
     "name": "stdout",
     "output_type": "stream",
     "text": [
      "p-значение:  0.8294908998149533\n",
      "Не получилось отвергнуть H0: вывод о различии сделать нельзя\n"
     ]
    }
   ],
   "source": [
    "# Воспользуемся критерием Манна-Уитни\n",
    "# H0: Средний чек A НЕ ПРЕВОСХОДИТ среднему чеку группы B\n",
    "# H1: Средний чек A ПРЕВОСХОДИТ среднему чеку группы B\n",
    "alpha = 0.05\n",
    "pvalue = stats.mannwhitneyu(orders[orders['group']=='A']['revenue'], orders[orders['group']=='B']['revenue'], \n",
    "                            alternative = 'two-sided')[1]\n",
    "\n",
    "print('p-значение: ', pvalue)\n",
    "if (pvalue < alpha):\n",
    "    print(\"Отвергаем H0: разница статистически значима\")\n",
    "else:\n",
    "    print(\"Не получилось отвергнуть H0: вывод о различии сделать нельзя\")"
   ]
  },
  {
   "cell_type": "markdown",
   "metadata": {},
   "source": [
    "P-value больше 0,05 - Не получилось отвергнуть нулевую гипотезу - статистически значимых различий в среднем чеке между группами нет. Относительное различие среднего чека между группами рано 28,7%."
   ]
  },
  {
   "cell_type": "markdown",
   "metadata": {},
   "source": [
    "**3.12. Посчитаем статистическую значимость различий в конверсии между группами по «очищенным» данным. Сделаем выводы и предположения.**"
   ]
  },
  {
   "cell_type": "code",
   "execution_count": 44,
   "metadata": {},
   "outputs": [],
   "source": [
    "#Примем за аномальных пользователей тех, кто совершил больше 1 заказа или совершил заказ дороже 26785 рублей. \n",
    "\n",
    "usersWithManyOrders = pd.concat(\n",
    "    [\n",
    "        ordersByUsersA[ordersByUsersA['orders'] > 1]['visitors'],\n",
    "        ordersByUsersB[ordersByUsersB['orders'] > 1]['visitors'],\n",
    "    ],\n",
    "    axis=0,\n",
    ")\n",
    "usersWithExpensiveOrders = orders[orders['revenue'] > 26785]['visitor_id']\n",
    "abnormalUsers = (\n",
    "    pd.concat([usersWithManyOrders, usersWithExpensiveOrders], axis=0)\n",
    "    .drop_duplicates()\n",
    "    .sort_values()\n",
    ")\n",
    "\n",
    "#print(abnormalUsers.head(5))\n",
    "#print(abnormalUsers.shape)\n"
   ]
  },
  {
   "cell_type": "code",
   "execution_count": 45,
   "metadata": {},
   "outputs": [
    {
     "name": "stdout",
     "output_type": "stream",
     "text": [
      "0.174\n"
     ]
    }
   ],
   "source": [
    "sampleAFiltered = pd.concat(\n",
    "    [\n",
    "        ordersByUsersA[\n",
    "            np.logical_not(ordersByUsersA['visitors'].isin(abnormalUsers))\n",
    "        ]['orders'],\n",
    "        pd.Series(\n",
    "            0,\n",
    "            index=np.arange(\n",
    "                data['visitorsPerDateA'].sum() - len(ordersByUsersA['orders'])\n",
    "            ),\n",
    "            name='orders',\n",
    "        ),\n",
    "    ],\n",
    "    axis=0,\n",
    ")\n",
    "\n",
    "sampleBFiltered = pd.concat(\n",
    "    [\n",
    "        ordersByUsersB[\n",
    "            np.logical_not(ordersByUsersB['visitors'].isin(abnormalUsers))\n",
    "        ]['orders'],\n",
    "        pd.Series(\n",
    "            0,\n",
    "            index=np.arange(\n",
    "                data['visitorsPerDateB'].sum() - len(ordersByUsersB['orders'])\n",
    "            ),\n",
    "            name='orders',\n",
    "        ),\n",
    "    ],\n",
    "    axis=0,\n",
    ")\n",
    "#print('{0:.5f}'.format(stats.mannwhitneyu(sampleAFiltered, sampleBFiltered)[1]))\n",
    "print('{0:.3f}'.format(sampleBFiltered.mean()/sampleAFiltered.mean()-1)) "
   ]
  },
  {
   "cell_type": "code",
   "execution_count": 46,
   "metadata": {},
   "outputs": [
    {
     "name": "stdout",
     "output_type": "stream",
     "text": [
      "p-значение:  0.01593020716573976\n",
      "Отвергаем нулевую гипотезу\n"
     ]
    }
   ],
   "source": [
    "# H0: Конверсия в группе A РАВНА конверсии в группе B\n",
    "# H1: Конверсия в группе A НЕ РАВНА конверсии в группе B\n",
    "alpha=0.05\n",
    "p_value = stats.mannwhitneyu(sampleAFiltered, sampleBFiltered, alternative = 'two-sided')[1]\n",
    "print('p-значение: ', p_value)\n",
    "if (p_value < alpha):\n",
    "    print(\"Отвергаем нулевую гипотезу\")\n",
    "else:\n",
    "    print(\"Не получилось отвергнуть нулевую гипотезу\")"
   ]
  },
  {
   "cell_type": "markdown",
   "metadata": {},
   "source": [
    "Статистическая значимость достигнута. Сегмент В значительно лучше сегмента А."
   ]
  },
  {
   "cell_type": "markdown",
   "metadata": {},
   "source": [
    "**3.13. Посчитаем  статистическую значимость различий в среднем чеке заказа между группами по «очищенным» данным. Сделаем выводы и предположения.**"
   ]
  },
  {
   "cell_type": "code",
   "execution_count": 47,
   "metadata": {},
   "outputs": [
    {
     "name": "stdout",
     "output_type": "stream",
     "text": [
      "-0.034\n"
     ]
    }
   ],
   "source": [
    "#print('{0:.3f}'.format(stats.mannwhitneyu(orders[np.logical_and(orders['group'] == 'A', \n",
    "#np.logical_not(orders['visitor_id'].isin(abnormalUsers)),)]['revenue'], \n",
    "#orders[np.logical_and(orders['group'] == 'B', np.logical_not(orders['visitor_id'].isin(abnormalUsers)),)]['revenue'],)[1]))\n",
    "\n",
    "print(\"{0:.3f}\".format(\n",
    "        orders[\n",
    "            np.logical_and(\n",
    "                orders['group'] == 'B',\n",
    "                np.logical_not(orders['visitor_id'].isin(abnormalUsers)),\n",
    "            )\n",
    "        ]['revenue'].mean()\n",
    "        / orders[\n",
    "            np.logical_and(\n",
    "                orders['group'] == 'A',\n",
    "                np.logical_not(orders['visitor_id'].isin(abnormalUsers)),\n",
    "            )\n",
    "        ]['revenue'].mean()\n",
    "        - 1\n",
    "    )\n",
    ")"
   ]
  },
  {
   "cell_type": "code",
   "execution_count": 48,
   "metadata": {},
   "outputs": [
    {
     "name": "stdout",
     "output_type": "stream",
     "text": [
      "p-значение:  0.7271286894009963\n",
      "Не получилось отвергнуть H0: вывод о различии сделать нельзя\n"
     ]
    }
   ],
   "source": [
    "# Воспользуемся критерием Манна-Уитни\n",
    "# H0: Средний чек A НЕ ПРЕВОСХОДИТ среднему чеку группы B\n",
    "# H1: Средний чек A ПРЕВОСХОДИТ среднему чеку группы B\n",
    "alpha = 0.05\n",
    "\n",
    "pvalue = stats.mannwhitneyu(\n",
    "            orders[\n",
    "                np.logical_and(\n",
    "                    orders['group'] == 'A',\n",
    "                    np.logical_not(orders['visitor_id'].isin(abnormalUsers)),\n",
    "                )\n",
    "            ]['revenue'],\n",
    "            orders[\n",
    "                np.logical_and(\n",
    "                    orders['group'] == 'B',\n",
    "                    np.logical_not(orders['visitor_id'].isin(abnormalUsers)),\n",
    "                )\n",
    "            ]['revenue'], alternative = 'two-sided'\n",
    "        )[1]\n",
    "print('p-значение: ', pvalue)\n",
    "if (pvalue < alpha):\n",
    "    print(\"Отвергаем H0: разница статистически значима\")\n",
    "else:\n",
    "    print(\"Не получилось отвергнуть H0: вывод о различии сделать нельзя\")"
   ]
  },
  {
   "cell_type": "markdown",
   "metadata": {},
   "source": [
    "Результаты по среднему чеку практически не изменились."
   ]
  },
  {
   "cell_type": "markdown",
   "metadata": {},
   "source": [
    "**3.14. Примите решение по результатам теста и объясните его. Варианты решений: 1. Остановить тест, зафиксировать победу одной из групп. 2. Остановить тест, зафиксировать отсутствие различий между группами. 3. Продолжить тест.**"
   ]
  },
  {
   "cell_type": "markdown",
   "metadata": {},
   "source": [
    "Имеющиеся факты:\n",
    "\n",
    "-    Есть статистически значимое различие по конверсии между группами как по сырым данным, так и после фильтрации аномалий.\n",
    "-    Нет статистически значимого различия по среднему чеку между группами ни по «сырым», ни по данным после фильтрации аномалий.\n",
    "-    График различия конверсии между группами сообщает, что результаты группы B лучше группы A: имеют тенденцию к росту, либо зафиксировались около среднего значения.\n",
    "-    График различия среднего чека колеблется: он-то и позволил нам найти аномалии. Сделать из этого графика определённые выводы нельзя."
   ]
  },
  {
   "cell_type": "markdown",
   "metadata": {},
   "source": [
    " **Исходя из обнаруженных фактов, тест следует остановить и признать его неуспешным. Продолжать смысла нет, потому как вероятность, что при имеющихся данных сегмент B на самом деле лучше сегмента A — практически нулевая.**"
   ]
  },
  {
   "cell_type": "markdown",
   "metadata": {},
   "source": [
    "## Выводы и рекомендации"
   ]
  },
  {
   "cell_type": "markdown",
   "metadata": {},
   "source": [
    "Целью проекта было приоритизировать гипотезы, запустить A/B-тест и проанализировать его результаты. Для приоритизации были предоставлены гипотезы и их показатели (Reach — охват пользователей по 10-балльной шкале; Impact — влияние на пользователей по 10-балльной шкале; Confidence — уверенность в гипотезе по 10-балльной шкале; Efforts — затраты ресурсов на проверку гипотезы по 10-балльной шкале). В результате применения фреймворка ICE и RICE мы получили одинаковый ТОП-5 гипотез (7, 2, 0, 6, 8).\n",
    "\n",
    "Для проведения А/В-теста нам предоставлены данные о пользователях и их заказах. В начале анализа проведена предобработка данных и проверка корректности состава групп теста, по итогам которой были выявлены 58 пользователей, попавших в обе группы. Их удалили.\n",
    "\n",
    "Анализ выручки по группам показал, что выручка почти равномерно увеличивается в течение всего теста, присутствуют в нескольких точках резкие скачки роста. Это произошло из-за появлении очень большого количества и дорогих заказов в выборке. В ходе проведения теста выявлено, что чаще всего на 1 пользователя приходится 1 заказ суммой до 27000 рублей. Эти значения и были выставлены границей для \"чистки\" данных. Однако тест на \"очищенных\" данных дал те же результаты, что и \"сырые\", а именно:\n",
    "\n",
    "-   Есть статистически значимое различие по конверсии между группами как по \"сырым\" данным, так и после фильтрации аномалий;\n",
    "-   Нет статистически значимого различия по среднему чеку между группами ни по «сырым», ни по данным после фильтрации аномалий;\n",
    "-   График различия конверсии между группами сообщает, что результаты группы B лучше группы A: имеют тенденцию к росту.\n",
    "\n",
    "Исходя из обнаруженных фактов, тест следует остановить и признать его неуспешным. Продолжать смысла нет, потому как вероятность, что при имеющихся данных сегмент B на самом деле лучше сегмента A — практически нулевая.\n"
   ]
  }
 ],
 "metadata": {
  "ExecuteTimeLog": [
   {
    "duration": 624,
    "start_time": "2021-08-21T11:19:04.779Z"
   },
   {
    "duration": 17,
    "start_time": "2021-08-21T11:20:57.266Z"
   },
   {
    "duration": 6,
    "start_time": "2021-08-21T11:20:57.983Z"
   },
   {
    "duration": 36,
    "start_time": "2021-08-21T11:20:58.875Z"
   },
   {
    "duration": 6,
    "start_time": "2021-08-21T11:20:59.629Z"
   },
   {
    "duration": 16,
    "start_time": "2021-08-21T11:21:02.542Z"
   },
   {
    "duration": 5,
    "start_time": "2021-08-21T11:21:03.311Z"
   },
   {
    "duration": 3,
    "start_time": "2021-08-21T11:27:57.490Z"
   },
   {
    "duration": 2,
    "start_time": "2021-08-21T11:28:21.679Z"
   },
   {
    "duration": 286,
    "start_time": "2021-08-21T11:29:14.652Z"
   },
   {
    "duration": 5,
    "start_time": "2021-08-21T11:30:32.044Z"
   },
   {
    "duration": 6,
    "start_time": "2021-08-21T11:30:46.151Z"
   },
   {
    "duration": 3,
    "start_time": "2021-08-21T11:30:58.585Z"
   },
   {
    "duration": 303,
    "start_time": "2021-08-21T11:30:59.318Z"
   },
   {
    "duration": 581,
    "start_time": "2021-08-21T11:31:07.031Z"
   },
   {
    "duration": 16,
    "start_time": "2021-08-21T11:31:07.614Z"
   },
   {
    "duration": 9,
    "start_time": "2021-08-21T11:31:07.632Z"
   },
   {
    "duration": 6,
    "start_time": "2021-08-21T11:31:07.643Z"
   },
   {
    "duration": 312,
    "start_time": "2021-08-21T11:31:07.651Z"
   },
   {
    "duration": -635,
    "start_time": "2021-08-21T11:31:08.601Z"
   },
   {
    "duration": -648,
    "start_time": "2021-08-21T11:31:08.615Z"
   },
   {
    "duration": -650,
    "start_time": "2021-08-21T11:31:08.619Z"
   },
   {
    "duration": -664,
    "start_time": "2021-08-21T11:31:08.634Z"
   },
   {
    "duration": -679,
    "start_time": "2021-08-21T11:31:08.650Z"
   },
   {
    "duration": -691,
    "start_time": "2021-08-21T11:31:08.664Z"
   },
   {
    "duration": -692,
    "start_time": "2021-08-21T11:31:08.666Z"
   },
   {
    "duration": -706,
    "start_time": "2021-08-21T11:31:08.681Z"
   },
   {
    "duration": 287,
    "start_time": "2021-08-21T11:31:40.961Z"
   },
   {
    "duration": 6,
    "start_time": "2021-08-21T11:32:46.116Z"
   },
   {
    "duration": 231,
    "start_time": "2021-08-21T11:35:42.000Z"
   },
   {
    "duration": 582,
    "start_time": "2021-08-21T11:35:58.020Z"
   },
   {
    "duration": 16,
    "start_time": "2021-08-21T11:35:58.604Z"
   },
   {
    "duration": 8,
    "start_time": "2021-08-21T11:35:58.622Z"
   },
   {
    "duration": 12,
    "start_time": "2021-08-21T11:35:58.631Z"
   },
   {
    "duration": 4,
    "start_time": "2021-08-21T11:35:58.645Z"
   },
   {
    "duration": 37,
    "start_time": "2021-08-21T11:35:58.650Z"
   },
   {
    "duration": 6,
    "start_time": "2021-08-21T11:35:58.689Z"
   },
   {
    "duration": 4,
    "start_time": "2021-08-21T11:35:58.696Z"
   },
   {
    "duration": 17,
    "start_time": "2021-08-21T11:35:58.701Z"
   },
   {
    "duration": 7,
    "start_time": "2021-08-21T11:35:58.720Z"
   },
   {
    "duration": 6,
    "start_time": "2021-08-21T11:35:58.729Z"
   },
   {
    "duration": 11,
    "start_time": "2021-08-21T11:35:58.737Z"
   },
   {
    "duration": 9,
    "start_time": "2021-08-21T11:35:58.749Z"
   },
   {
    "duration": 586,
    "start_time": "2021-08-21T11:36:52.515Z"
   },
   {
    "duration": 17,
    "start_time": "2021-08-21T11:36:53.103Z"
   },
   {
    "duration": 8,
    "start_time": "2021-08-21T11:36:53.122Z"
   },
   {
    "duration": 5,
    "start_time": "2021-08-21T11:36:53.132Z"
   },
   {
    "duration": 7,
    "start_time": "2021-08-21T11:36:53.139Z"
   },
   {
    "duration": 37,
    "start_time": "2021-08-21T11:36:53.148Z"
   },
   {
    "duration": 6,
    "start_time": "2021-08-21T11:36:53.187Z"
   },
   {
    "duration": 6,
    "start_time": "2021-08-21T11:36:53.194Z"
   },
   {
    "duration": 18,
    "start_time": "2021-08-21T11:36:53.201Z"
   },
   {
    "duration": 8,
    "start_time": "2021-08-21T11:36:53.220Z"
   },
   {
    "duration": 8,
    "start_time": "2021-08-21T11:36:53.229Z"
   },
   {
    "duration": 8,
    "start_time": "2021-08-21T11:36:53.238Z"
   },
   {
    "duration": 3,
    "start_time": "2021-08-21T11:36:53.457Z"
   },
   {
    "duration": 600,
    "start_time": "2021-08-21T11:39:54.806Z"
   },
   {
    "duration": 16,
    "start_time": "2021-08-21T11:39:55.408Z"
   },
   {
    "duration": 14,
    "start_time": "2021-08-21T11:39:55.426Z"
   },
   {
    "duration": 7,
    "start_time": "2021-08-21T11:39:55.442Z"
   },
   {
    "duration": 8,
    "start_time": "2021-08-21T11:39:55.450Z"
   },
   {
    "duration": 42,
    "start_time": "2021-08-21T11:39:55.459Z"
   },
   {
    "duration": 6,
    "start_time": "2021-08-21T11:39:55.503Z"
   },
   {
    "duration": 12,
    "start_time": "2021-08-21T11:39:55.510Z"
   },
   {
    "duration": 24,
    "start_time": "2021-08-21T11:39:55.524Z"
   },
   {
    "duration": 8,
    "start_time": "2021-08-21T11:39:55.550Z"
   },
   {
    "duration": 10,
    "start_time": "2021-08-21T11:39:55.560Z"
   },
   {
    "duration": 9,
    "start_time": "2021-08-21T11:39:55.571Z"
   },
   {
    "duration": 21,
    "start_time": "2021-08-21T11:39:55.581Z"
   },
   {
    "duration": 7,
    "start_time": "2021-08-21T11:41:01.391Z"
   },
   {
    "duration": 17,
    "start_time": "2021-08-21T11:41:02.600Z"
   },
   {
    "duration": 6,
    "start_time": "2021-08-21T11:41:15.121Z"
   },
   {
    "duration": 4,
    "start_time": "2021-08-21T11:41:15.836Z"
   },
   {
    "duration": 5,
    "start_time": "2021-08-21T11:41:18.520Z"
   },
   {
    "duration": 304,
    "start_time": "2021-08-21T11:43:03.513Z"
   },
   {
    "duration": 11,
    "start_time": "2021-08-21T11:44:03.004Z"
   },
   {
    "duration": 5,
    "start_time": "2021-08-21T11:44:27.581Z"
   },
   {
    "duration": 10,
    "start_time": "2021-08-21T11:49:48.163Z"
   },
   {
    "duration": 12,
    "start_time": "2021-08-21T11:51:47.171Z"
   },
   {
    "duration": 8,
    "start_time": "2021-08-21T11:54:25.348Z"
   },
   {
    "duration": 8,
    "start_time": "2021-08-21T11:55:11.229Z"
   },
   {
    "duration": 608,
    "start_time": "2021-08-21T12:15:35.642Z"
   },
   {
    "duration": 16,
    "start_time": "2021-08-21T12:15:36.252Z"
   },
   {
    "duration": 9,
    "start_time": "2021-08-21T12:15:36.270Z"
   },
   {
    "duration": 8,
    "start_time": "2021-08-21T12:15:36.281Z"
   },
   {
    "duration": 7,
    "start_time": "2021-08-21T12:15:36.291Z"
   },
   {
    "duration": 37,
    "start_time": "2021-08-21T12:15:36.300Z"
   },
   {
    "duration": 6,
    "start_time": "2021-08-21T12:15:36.339Z"
   },
   {
    "duration": 4,
    "start_time": "2021-08-21T12:15:36.349Z"
   },
   {
    "duration": 11,
    "start_time": "2021-08-21T12:15:36.355Z"
   },
   {
    "duration": 16,
    "start_time": "2021-08-21T12:15:36.367Z"
   },
   {
    "duration": 8,
    "start_time": "2021-08-21T12:15:36.384Z"
   },
   {
    "duration": 9,
    "start_time": "2021-08-21T12:15:36.394Z"
   },
   {
    "duration": 11,
    "start_time": "2021-08-21T12:15:36.404Z"
   },
   {
    "duration": 9,
    "start_time": "2021-08-21T12:15:36.416Z"
   },
   {
    "duration": 12,
    "start_time": "2021-08-21T12:15:36.427Z"
   },
   {
    "duration": 10,
    "start_time": "2021-08-21T12:15:36.440Z"
   },
   {
    "duration": 14,
    "start_time": "2021-08-21T12:15:36.452Z"
   },
   {
    "duration": 9,
    "start_time": "2021-08-21T12:17:12.351Z"
   },
   {
    "duration": 655,
    "start_time": "2021-08-21T12:18:40.998Z"
   },
   {
    "duration": 17,
    "start_time": "2021-08-21T12:18:41.655Z"
   },
   {
    "duration": 8,
    "start_time": "2021-08-21T12:18:41.674Z"
   },
   {
    "duration": 4,
    "start_time": "2021-08-21T12:18:41.683Z"
   },
   {
    "duration": 8,
    "start_time": "2021-08-21T12:18:41.689Z"
   },
   {
    "duration": 37,
    "start_time": "2021-08-21T12:18:41.699Z"
   },
   {
    "duration": 5,
    "start_time": "2021-08-21T12:18:41.738Z"
   },
   {
    "duration": 5,
    "start_time": "2021-08-21T12:18:41.744Z"
   },
   {
    "duration": 16,
    "start_time": "2021-08-21T12:18:41.751Z"
   },
   {
    "duration": 18,
    "start_time": "2021-08-21T12:18:41.769Z"
   },
   {
    "duration": 10,
    "start_time": "2021-08-21T12:18:41.789Z"
   },
   {
    "duration": 10,
    "start_time": "2021-08-21T12:18:41.801Z"
   },
   {
    "duration": 13,
    "start_time": "2021-08-21T12:18:41.813Z"
   },
   {
    "duration": 10,
    "start_time": "2021-08-21T12:18:41.828Z"
   },
   {
    "duration": 9,
    "start_time": "2021-08-21T12:18:41.839Z"
   },
   {
    "duration": 11,
    "start_time": "2021-08-21T12:18:41.849Z"
   },
   {
    "duration": 31,
    "start_time": "2021-08-21T12:18:41.862Z"
   },
   {
    "duration": 11,
    "start_time": "2021-08-21T12:18:41.896Z"
   },
   {
    "duration": 1675,
    "start_time": "2021-08-21T12:18:41.909Z"
   },
   {
    "duration": 564,
    "start_time": "2021-08-21T12:19:31.748Z"
   },
   {
    "duration": 17,
    "start_time": "2021-08-21T12:19:32.313Z"
   },
   {
    "duration": 8,
    "start_time": "2021-08-21T12:19:32.331Z"
   },
   {
    "duration": 4,
    "start_time": "2021-08-21T12:19:32.341Z"
   },
   {
    "duration": 7,
    "start_time": "2021-08-21T12:19:32.347Z"
   },
   {
    "duration": 47,
    "start_time": "2021-08-21T12:19:32.355Z"
   },
   {
    "duration": 5,
    "start_time": "2021-08-21T12:19:32.404Z"
   },
   {
    "duration": 8,
    "start_time": "2021-08-21T12:19:32.411Z"
   },
   {
    "duration": 11,
    "start_time": "2021-08-21T12:19:32.420Z"
   },
   {
    "duration": 16,
    "start_time": "2021-08-21T12:19:32.433Z"
   },
   {
    "duration": 9,
    "start_time": "2021-08-21T12:19:32.450Z"
   },
   {
    "duration": 9,
    "start_time": "2021-08-21T12:19:32.461Z"
   },
   {
    "duration": 19,
    "start_time": "2021-08-21T12:19:32.471Z"
   },
   {
    "duration": 8,
    "start_time": "2021-08-21T12:19:32.491Z"
   },
   {
    "duration": 7,
    "start_time": "2021-08-21T12:19:32.501Z"
   },
   {
    "duration": 13,
    "start_time": "2021-08-21T12:19:32.510Z"
   },
   {
    "duration": 16,
    "start_time": "2021-08-21T12:19:32.524Z"
   },
   {
    "duration": 17,
    "start_time": "2021-08-21T12:19:32.541Z"
   },
   {
    "duration": 1822,
    "start_time": "2021-08-21T12:19:32.560Z"
   },
   {
    "duration": 7,
    "start_time": "2021-08-21T12:19:51.437Z"
   },
   {
    "duration": 1417,
    "start_time": "2021-08-21T12:20:06.911Z"
   },
   {
    "duration": 9,
    "start_time": "2021-08-21T12:20:35.986Z"
   },
   {
    "duration": 1014,
    "start_time": "2021-08-21T12:20:48.258Z"
   },
   {
    "duration": -667,
    "start_time": "2021-08-21T12:20:49.941Z"
   },
   {
    "duration": 626,
    "start_time": "2021-08-21T12:21:09.358Z"
   },
   {
    "duration": 17,
    "start_time": "2021-08-21T12:21:09.985Z"
   },
   {
    "duration": 10,
    "start_time": "2021-08-21T12:21:10.004Z"
   },
   {
    "duration": 7,
    "start_time": "2021-08-21T12:21:10.015Z"
   },
   {
    "duration": 13,
    "start_time": "2021-08-21T12:21:10.023Z"
   },
   {
    "duration": 39,
    "start_time": "2021-08-21T12:21:10.037Z"
   },
   {
    "duration": 6,
    "start_time": "2021-08-21T12:21:10.078Z"
   },
   {
    "duration": 5,
    "start_time": "2021-08-21T12:21:10.086Z"
   },
   {
    "duration": 11,
    "start_time": "2021-08-21T12:21:10.092Z"
   },
   {
    "duration": 16,
    "start_time": "2021-08-21T12:21:10.104Z"
   },
   {
    "duration": 9,
    "start_time": "2021-08-21T12:21:10.121Z"
   },
   {
    "duration": 9,
    "start_time": "2021-08-21T12:21:10.131Z"
   },
   {
    "duration": 13,
    "start_time": "2021-08-21T12:21:10.141Z"
   },
   {
    "duration": 8,
    "start_time": "2021-08-21T12:21:10.156Z"
   },
   {
    "duration": 8,
    "start_time": "2021-08-21T12:21:10.165Z"
   },
   {
    "duration": 15,
    "start_time": "2021-08-21T12:21:10.174Z"
   },
   {
    "duration": 15,
    "start_time": "2021-08-21T12:21:10.191Z"
   },
   {
    "duration": 13,
    "start_time": "2021-08-21T12:21:10.207Z"
   },
   {
    "duration": 10,
    "start_time": "2021-08-21T12:21:10.221Z"
   },
   {
    "duration": 9,
    "start_time": "2021-08-21T12:21:10.233Z"
   },
   {
    "duration": 5811,
    "start_time": "2021-08-21T13:29:07.024Z"
   },
   {
    "duration": 485,
    "start_time": "2021-08-21T13:31:56.682Z"
   },
   {
    "duration": 161,
    "start_time": "2021-08-21T13:33:34.654Z"
   },
   {
    "duration": 281,
    "start_time": "2021-08-21T13:37:01.264Z"
   },
   {
    "duration": 294,
    "start_time": "2021-08-21T13:37:10.275Z"
   },
   {
    "duration": 163,
    "start_time": "2021-08-21T13:41:43.601Z"
   },
   {
    "duration": 387,
    "start_time": "2021-08-21T13:42:21.441Z"
   },
   {
    "duration": 265,
    "start_time": "2021-08-21T13:42:47.526Z"
   },
   {
    "duration": 613,
    "start_time": "2021-08-21T13:47:17.003Z"
   },
   {
    "duration": 17,
    "start_time": "2021-08-21T13:47:17.618Z"
   },
   {
    "duration": 16,
    "start_time": "2021-08-21T13:47:17.637Z"
   },
   {
    "duration": 23,
    "start_time": "2021-08-21T13:47:17.655Z"
   },
   {
    "duration": 24,
    "start_time": "2021-08-21T13:47:17.679Z"
   },
   {
    "duration": 56,
    "start_time": "2021-08-21T13:47:17.705Z"
   },
   {
    "duration": 27,
    "start_time": "2021-08-21T13:47:17.763Z"
   },
   {
    "duration": 30,
    "start_time": "2021-08-21T13:47:17.793Z"
   },
   {
    "duration": 27,
    "start_time": "2021-08-21T13:47:17.825Z"
   },
   {
    "duration": 29,
    "start_time": "2021-08-21T13:47:17.854Z"
   },
   {
    "duration": 20,
    "start_time": "2021-08-21T13:47:17.884Z"
   },
   {
    "duration": 22,
    "start_time": "2021-08-21T13:47:17.906Z"
   },
   {
    "duration": 22,
    "start_time": "2021-08-21T13:47:17.930Z"
   },
   {
    "duration": 39,
    "start_time": "2021-08-21T13:47:17.954Z"
   },
   {
    "duration": 20,
    "start_time": "2021-08-21T13:47:17.995Z"
   },
   {
    "duration": 19,
    "start_time": "2021-08-21T13:47:18.017Z"
   },
   {
    "duration": 39,
    "start_time": "2021-08-21T13:47:18.038Z"
   },
   {
    "duration": 25,
    "start_time": "2021-08-21T13:47:18.078Z"
   },
   {
    "duration": 18,
    "start_time": "2021-08-21T13:47:18.104Z"
   },
   {
    "duration": 25,
    "start_time": "2021-08-21T13:47:18.124Z"
   },
   {
    "duration": 498,
    "start_time": "2021-08-21T13:47:18.151Z"
   },
   {
    "duration": 171,
    "start_time": "2021-08-21T13:47:18.651Z"
   },
   {
    "duration": 250,
    "start_time": "2021-08-21T13:47:18.825Z"
   },
   {
    "duration": 216,
    "start_time": "2021-08-21T13:47:19.077Z"
   },
   {
    "duration": 165,
    "start_time": "2021-08-21T13:49:05.427Z"
   },
   {
    "duration": 172,
    "start_time": "2021-08-21T13:49:11.385Z"
   },
   {
    "duration": 163,
    "start_time": "2021-08-21T13:49:20.034Z"
   },
   {
    "duration": 168,
    "start_time": "2021-08-21T13:49:28.360Z"
   },
   {
    "duration": 163,
    "start_time": "2021-08-21T13:50:05.098Z"
   },
   {
    "duration": 277,
    "start_time": "2021-08-21T13:53:06.137Z"
   },
   {
    "duration": 175,
    "start_time": "2021-08-21T13:53:38.517Z"
   },
   {
    "duration": 255,
    "start_time": "2021-08-21T13:53:59.936Z"
   },
   {
    "duration": 418,
    "start_time": "2021-08-21T18:27:03.008Z"
   },
   {
    "duration": 1195,
    "start_time": "2021-08-21T18:27:56.346Z"
   },
   {
    "duration": 20,
    "start_time": "2021-08-21T18:27:57.545Z"
   },
   {
    "duration": 13,
    "start_time": "2021-08-21T18:27:57.570Z"
   },
   {
    "duration": 8,
    "start_time": "2021-08-21T18:27:57.587Z"
   },
   {
    "duration": 17,
    "start_time": "2021-08-21T18:27:57.599Z"
   },
   {
    "duration": 38,
    "start_time": "2021-08-21T18:27:57.619Z"
   },
   {
    "duration": 11,
    "start_time": "2021-08-21T18:27:57.663Z"
   },
   {
    "duration": 17,
    "start_time": "2021-08-21T18:27:57.678Z"
   },
   {
    "duration": 25,
    "start_time": "2021-08-21T18:27:57.701Z"
   },
   {
    "duration": 36,
    "start_time": "2021-08-21T18:27:57.730Z"
   },
   {
    "duration": 12,
    "start_time": "2021-08-21T18:27:57.769Z"
   },
   {
    "duration": 15,
    "start_time": "2021-08-21T18:27:57.784Z"
   },
   {
    "duration": 23,
    "start_time": "2021-08-21T18:27:57.801Z"
   },
   {
    "duration": 41,
    "start_time": "2021-08-21T18:27:57.826Z"
   },
   {
    "duration": 12,
    "start_time": "2021-08-21T18:27:57.870Z"
   },
   {
    "duration": 15,
    "start_time": "2021-08-21T18:27:57.885Z"
   },
   {
    "duration": 20,
    "start_time": "2021-08-21T18:27:57.903Z"
   },
   {
    "duration": 46,
    "start_time": "2021-08-21T18:27:57.925Z"
   },
   {
    "duration": 11,
    "start_time": "2021-08-21T18:27:57.974Z"
   },
   {
    "duration": 8,
    "start_time": "2021-08-21T18:27:57.988Z"
   },
   {
    "duration": 969,
    "start_time": "2021-08-21T18:27:57.999Z"
   },
   {
    "duration": 335,
    "start_time": "2021-08-21T18:27:58.970Z"
   },
   {
    "duration": 431,
    "start_time": "2021-08-21T18:27:59.308Z"
   },
   {
    "duration": 377,
    "start_time": "2021-08-21T18:27:59.742Z"
   },
   {
    "duration": 544,
    "start_time": "2021-08-21T18:28:00.122Z"
   },
   {
    "duration": 539,
    "start_time": "2021-08-21T18:28:00.669Z"
   },
   {
    "duration": 339,
    "start_time": "2021-08-21T18:28:45.947Z"
   },
   {
    "duration": 383,
    "start_time": "2021-08-21T18:28:54.666Z"
   },
   {
    "duration": 363,
    "start_time": "2021-08-21T18:29:00.087Z"
   },
   {
    "duration": 374,
    "start_time": "2021-08-21T18:29:33.987Z"
   },
   {
    "duration": 436,
    "start_time": "2021-08-21T18:29:59.634Z"
   },
   {
    "duration": 361,
    "start_time": "2021-08-21T18:33:20.829Z"
   },
   {
    "duration": 8833,
    "start_time": "2021-08-21T18:33:47.805Z"
   },
   {
    "duration": 330,
    "start_time": "2021-08-21T19:14:51.060Z"
   },
   {
    "duration": 316,
    "start_time": "2021-08-21T19:15:18.983Z"
   },
   {
    "duration": 8670,
    "start_time": "2021-08-21T19:16:47.435Z"
   },
   {
    "duration": 598,
    "start_time": "2021-08-21T19:19:16.927Z"
   },
   {
    "duration": 589,
    "start_time": "2021-08-21T19:21:05.057Z"
   },
   {
    "duration": 5,
    "start_time": "2021-08-21T19:23:47.035Z"
   },
   {
    "duration": 243,
    "start_time": "2021-08-21T19:25:25.082Z"
   },
   {
    "duration": 264,
    "start_time": "2021-08-21T19:26:12.199Z"
   },
   {
    "duration": 414,
    "start_time": "2021-08-21T19:35:09.752Z"
   },
   {
    "duration": 5,
    "start_time": "2021-08-21T19:38:14.178Z"
   },
   {
    "duration": 6,
    "start_time": "2021-08-21T19:39:11.121Z"
   },
   {
    "duration": 6,
    "start_time": "2021-08-21T19:39:39.902Z"
   },
   {
    "duration": 107,
    "start_time": "2021-08-21T19:40:01.302Z"
   },
   {
    "duration": 520,
    "start_time": "2021-08-21T19:47:39.769Z"
   },
   {
    "duration": 750,
    "start_time": "2021-08-21T19:50:44.747Z"
   },
   {
    "duration": 845,
    "start_time": "2021-08-21T19:51:06.631Z"
   },
   {
    "duration": 1144,
    "start_time": "2021-08-21T19:52:24.558Z"
   },
   {
    "duration": 1375,
    "start_time": "2021-08-21T19:52:51.160Z"
   },
   {
    "duration": 18,
    "start_time": "2021-08-21T19:52:52.538Z"
   },
   {
    "duration": 10,
    "start_time": "2021-08-21T19:52:52.563Z"
   },
   {
    "duration": 10,
    "start_time": "2021-08-21T19:52:52.575Z"
   },
   {
    "duration": 13,
    "start_time": "2021-08-21T19:52:52.588Z"
   },
   {
    "duration": 52,
    "start_time": "2021-08-21T19:52:52.603Z"
   },
   {
    "duration": 10,
    "start_time": "2021-08-21T19:52:52.658Z"
   },
   {
    "duration": 17,
    "start_time": "2021-08-21T19:52:52.672Z"
   },
   {
    "duration": 28,
    "start_time": "2021-08-21T19:52:52.692Z"
   },
   {
    "duration": 17,
    "start_time": "2021-08-21T19:52:52.723Z"
   },
   {
    "duration": 24,
    "start_time": "2021-08-21T19:52:52.743Z"
   },
   {
    "duration": 13,
    "start_time": "2021-08-21T19:52:52.770Z"
   },
   {
    "duration": 24,
    "start_time": "2021-08-21T19:52:52.786Z"
   },
   {
    "duration": 14,
    "start_time": "2021-08-21T19:52:52.814Z"
   },
   {
    "duration": 14,
    "start_time": "2021-08-21T19:52:52.863Z"
   },
   {
    "duration": 15,
    "start_time": "2021-08-21T19:52:52.880Z"
   },
   {
    "duration": 22,
    "start_time": "2021-08-21T19:52:52.897Z"
   },
   {
    "duration": 46,
    "start_time": "2021-08-21T19:52:52.922Z"
   },
   {
    "duration": 11,
    "start_time": "2021-08-21T19:52:52.970Z"
   },
   {
    "duration": 11,
    "start_time": "2021-08-21T19:52:52.984Z"
   },
   {
    "duration": 928,
    "start_time": "2021-08-21T19:52:52.997Z"
   },
   {
    "duration": 311,
    "start_time": "2021-08-21T19:52:53.927Z"
   },
   {
    "duration": 536,
    "start_time": "2021-08-21T19:52:54.243Z"
   },
   {
    "duration": 468,
    "start_time": "2021-08-21T19:52:54.783Z"
   },
   {
    "duration": 579,
    "start_time": "2021-08-21T19:52:55.254Z"
   },
   {
    "duration": 493,
    "start_time": "2021-08-21T19:52:55.836Z"
   },
   {
    "duration": -454,
    "start_time": "2021-08-21T19:52:56.787Z"
   },
   {
    "duration": -478,
    "start_time": "2021-08-21T19:52:56.813Z"
   },
   {
    "duration": -481,
    "start_time": "2021-08-21T19:52:56.818Z"
   },
   {
    "duration": -485,
    "start_time": "2021-08-21T19:52:56.824Z"
   },
   {
    "duration": -498,
    "start_time": "2021-08-21T19:52:56.839Z"
   },
   {
    "duration": 347,
    "start_time": "2021-08-21T19:53:46.923Z"
   },
   {
    "duration": 455,
    "start_time": "2021-08-21T19:54:59.112Z"
   },
   {
    "duration": 352,
    "start_time": "2021-08-21T19:55:01.897Z"
   },
   {
    "duration": 7,
    "start_time": "2021-08-21T19:55:07.270Z"
   },
   {
    "duration": 385,
    "start_time": "2021-08-21T19:55:09.677Z"
   },
   {
    "duration": 6,
    "start_time": "2021-08-21T19:55:13.834Z"
   },
   {
    "duration": 637,
    "start_time": "2021-08-21T19:55:15.790Z"
   },
   {
    "duration": 10,
    "start_time": "2021-08-21T19:56:53.128Z"
   },
   {
    "duration": 10,
    "start_time": "2021-08-21T19:57:01.464Z"
   },
   {
    "duration": 15,
    "start_time": "2021-08-21T20:15:13.961Z"
   },
   {
    "duration": -519,
    "start_time": "2021-08-21T20:22:13.548Z"
   },
   {
    "duration": 8395,
    "start_time": "2021-08-21T20:22:43.939Z"
   },
   {
    "duration": 9014,
    "start_time": "2021-08-21T20:24:06.819Z"
   },
   {
    "duration": 1341,
    "start_time": "2021-08-21T20:25:31.883Z"
   },
   {
    "duration": 18,
    "start_time": "2021-08-21T20:25:33.226Z"
   },
   {
    "duration": 20,
    "start_time": "2021-08-21T20:25:33.247Z"
   },
   {
    "duration": 15,
    "start_time": "2021-08-21T20:25:33.270Z"
   },
   {
    "duration": 13,
    "start_time": "2021-08-21T20:25:33.288Z"
   },
   {
    "duration": 47,
    "start_time": "2021-08-21T20:25:33.304Z"
   },
   {
    "duration": 8,
    "start_time": "2021-08-21T20:25:33.354Z"
   },
   {
    "duration": 6,
    "start_time": "2021-08-21T20:25:33.366Z"
   },
   {
    "duration": 30,
    "start_time": "2021-08-21T20:25:33.375Z"
   },
   {
    "duration": 17,
    "start_time": "2021-08-21T20:25:33.408Z"
   },
   {
    "duration": 9,
    "start_time": "2021-08-21T20:25:33.427Z"
   },
   {
    "duration": 7,
    "start_time": "2021-08-21T20:25:33.463Z"
   },
   {
    "duration": 13,
    "start_time": "2021-08-21T20:25:33.474Z"
   },
   {
    "duration": 14,
    "start_time": "2021-08-21T20:25:33.489Z"
   },
   {
    "duration": 60,
    "start_time": "2021-08-21T20:25:33.505Z"
   },
   {
    "duration": 17,
    "start_time": "2021-08-21T20:25:33.567Z"
   },
   {
    "duration": 21,
    "start_time": "2021-08-21T20:25:33.586Z"
   },
   {
    "duration": 11,
    "start_time": "2021-08-21T20:25:33.609Z"
   },
   {
    "duration": 10,
    "start_time": "2021-08-21T20:25:33.662Z"
   },
   {
    "duration": 7,
    "start_time": "2021-08-21T20:25:33.675Z"
   },
   {
    "duration": 949,
    "start_time": "2021-08-21T20:25:33.685Z"
   },
   {
    "duration": 309,
    "start_time": "2021-08-21T20:25:34.637Z"
   },
   {
    "duration": 413,
    "start_time": "2021-08-21T20:25:34.951Z"
   },
   {
    "duration": 347,
    "start_time": "2021-08-21T20:25:35.367Z"
   },
   {
    "duration": 467,
    "start_time": "2021-08-21T20:25:35.716Z"
   },
   {
    "duration": 472,
    "start_time": "2021-08-21T20:25:36.186Z"
   },
   {
    "duration": 386,
    "start_time": "2021-08-21T20:25:36.661Z"
   },
   {
    "duration": 13,
    "start_time": "2021-08-21T20:25:37.049Z"
   },
   {
    "duration": 399,
    "start_time": "2021-08-21T20:25:37.065Z"
   },
   {
    "duration": 6,
    "start_time": "2021-08-21T20:25:37.467Z"
   },
   {
    "duration": 645,
    "start_time": "2021-08-21T20:25:37.476Z"
   },
   {
    "duration": 12,
    "start_time": "2021-08-21T20:25:38.124Z"
   },
   {
    "duration": 9333,
    "start_time": "2021-08-21T20:25:38.139Z"
   },
   {
    "duration": 8810,
    "start_time": "2021-08-21T20:28:30.326Z"
   },
   {
    "duration": 9132,
    "start_time": "2021-08-21T20:30:47.810Z"
   },
   {
    "duration": 8546,
    "start_time": "2021-08-21T20:31:39.396Z"
   },
   {
    "duration": 8850,
    "start_time": "2021-08-21T20:32:30.521Z"
   },
   {
    "duration": 8431,
    "start_time": "2021-08-21T20:33:53.153Z"
   },
   {
    "duration": 1394,
    "start_time": "2021-08-21T20:34:17.931Z"
   },
   {
    "duration": 18,
    "start_time": "2021-08-21T20:34:19.327Z"
   },
   {
    "duration": 15,
    "start_time": "2021-08-21T20:34:19.348Z"
   },
   {
    "duration": 6,
    "start_time": "2021-08-21T20:34:19.366Z"
   },
   {
    "duration": 9,
    "start_time": "2021-08-21T20:34:19.375Z"
   },
   {
    "duration": 35,
    "start_time": "2021-08-21T20:34:19.387Z"
   },
   {
    "duration": 10,
    "start_time": "2021-08-21T20:34:19.424Z"
   },
   {
    "duration": 26,
    "start_time": "2021-08-21T20:34:19.438Z"
   },
   {
    "duration": 19,
    "start_time": "2021-08-21T20:34:19.467Z"
   },
   {
    "duration": 16,
    "start_time": "2021-08-21T20:34:19.489Z"
   },
   {
    "duration": 13,
    "start_time": "2021-08-21T20:34:19.508Z"
   },
   {
    "duration": 39,
    "start_time": "2021-08-21T20:34:19.523Z"
   },
   {
    "duration": 13,
    "start_time": "2021-08-21T20:34:19.565Z"
   },
   {
    "duration": 13,
    "start_time": "2021-08-21T20:34:19.580Z"
   },
   {
    "duration": 12,
    "start_time": "2021-08-21T20:34:19.596Z"
   },
   {
    "duration": 54,
    "start_time": "2021-08-21T20:34:19.610Z"
   },
   {
    "duration": 20,
    "start_time": "2021-08-21T20:34:19.667Z"
   },
   {
    "duration": 21,
    "start_time": "2021-08-21T20:34:19.689Z"
   },
   {
    "duration": 21,
    "start_time": "2021-08-21T20:34:19.713Z"
   },
   {
    "duration": 33,
    "start_time": "2021-08-21T20:34:19.736Z"
   },
   {
    "duration": 1356,
    "start_time": "2021-08-21T20:34:19.772Z"
   },
   {
    "duration": 447,
    "start_time": "2021-08-21T20:34:21.131Z"
   },
   {
    "duration": 528,
    "start_time": "2021-08-21T20:34:21.585Z"
   },
   {
    "duration": 469,
    "start_time": "2021-08-21T20:34:22.116Z"
   },
   {
    "duration": 623,
    "start_time": "2021-08-21T20:34:22.588Z"
   },
   {
    "duration": 703,
    "start_time": "2021-08-21T20:34:23.214Z"
   },
   {
    "duration": 535,
    "start_time": "2021-08-21T20:34:23.921Z"
   },
   {
    "duration": 6,
    "start_time": "2021-08-21T20:34:24.463Z"
   },
   {
    "duration": 551,
    "start_time": "2021-08-21T20:34:24.472Z"
   },
   {
    "duration": 6,
    "start_time": "2021-08-21T20:34:25.026Z"
   },
   {
    "duration": 1001,
    "start_time": "2021-08-21T20:34:25.035Z"
   },
   {
    "duration": 32,
    "start_time": "2021-08-21T20:34:26.039Z"
   },
   {
    "duration": 8866,
    "start_time": "2021-08-21T20:34:26.074Z"
   },
   {
    "duration": 12,
    "start_time": "2021-08-21T20:34:55.121Z"
   },
   {
    "duration": 13,
    "start_time": "2021-08-21T20:35:17.280Z"
   },
   {
    "duration": 8668,
    "start_time": "2021-08-21T20:40:11.774Z"
   },
   {
    "duration": 8269,
    "start_time": "2021-08-21T20:40:40.368Z"
   },
   {
    "duration": 1322,
    "start_time": "2021-08-21T20:41:56.910Z"
   },
   {
    "duration": 18,
    "start_time": "2021-08-21T20:41:58.234Z"
   },
   {
    "duration": 20,
    "start_time": "2021-08-21T20:41:58.254Z"
   },
   {
    "duration": 9,
    "start_time": "2021-08-21T20:41:58.277Z"
   },
   {
    "duration": 16,
    "start_time": "2021-08-21T20:41:58.288Z"
   },
   {
    "duration": 38,
    "start_time": "2021-08-21T20:41:58.307Z"
   },
   {
    "duration": 11,
    "start_time": "2021-08-21T20:41:58.347Z"
   },
   {
    "duration": 7,
    "start_time": "2021-08-21T20:41:58.360Z"
   },
   {
    "duration": 20,
    "start_time": "2021-08-21T20:41:58.373Z"
   },
   {
    "duration": 17,
    "start_time": "2021-08-21T20:41:58.397Z"
   },
   {
    "duration": 10,
    "start_time": "2021-08-21T20:41:58.416Z"
   },
   {
    "duration": 36,
    "start_time": "2021-08-21T20:41:58.428Z"
   },
   {
    "duration": 18,
    "start_time": "2021-08-21T20:41:58.466Z"
   },
   {
    "duration": 13,
    "start_time": "2021-08-21T20:41:58.487Z"
   },
   {
    "duration": 12,
    "start_time": "2021-08-21T20:41:58.503Z"
   },
   {
    "duration": 54,
    "start_time": "2021-08-21T20:41:58.518Z"
   },
   {
    "duration": 22,
    "start_time": "2021-08-21T20:41:58.574Z"
   },
   {
    "duration": 11,
    "start_time": "2021-08-21T20:41:58.598Z"
   },
   {
    "duration": 22,
    "start_time": "2021-08-21T20:41:58.611Z"
   },
   {
    "duration": 33,
    "start_time": "2021-08-21T20:41:58.636Z"
   },
   {
    "duration": 921,
    "start_time": "2021-08-21T20:41:58.672Z"
   },
   {
    "duration": 321,
    "start_time": "2021-08-21T20:41:59.596Z"
   },
   {
    "duration": 456,
    "start_time": "2021-08-21T20:41:59.919Z"
   },
   {
    "duration": 335,
    "start_time": "2021-08-21T20:42:00.377Z"
   },
   {
    "duration": 471,
    "start_time": "2021-08-21T20:42:00.715Z"
   },
   {
    "duration": 475,
    "start_time": "2021-08-21T20:42:01.189Z"
   },
   {
    "duration": 395,
    "start_time": "2021-08-21T20:42:01.669Z"
   },
   {
    "duration": 5,
    "start_time": "2021-08-21T20:42:02.067Z"
   },
   {
    "duration": 404,
    "start_time": "2021-08-21T20:42:02.075Z"
   },
   {
    "duration": 6,
    "start_time": "2021-08-21T20:42:02.481Z"
   },
   {
    "duration": 708,
    "start_time": "2021-08-21T20:42:02.489Z"
   },
   {
    "duration": 14,
    "start_time": "2021-08-21T20:42:03.200Z"
   },
   {
    "duration": 8535,
    "start_time": "2021-08-21T20:42:03.217Z"
   },
   {
    "duration": 9434,
    "start_time": "2021-08-21T20:47:42.408Z"
   },
   {
    "duration": 8723,
    "start_time": "2021-08-21T20:50:40.177Z"
   },
   {
    "duration": 14,
    "start_time": "2021-08-21T20:52:28.768Z"
   },
   {
    "duration": 28,
    "start_time": "2021-08-21T20:54:22.192Z"
   },
   {
    "duration": 21,
    "start_time": "2021-08-21T20:56:48.490Z"
   },
   {
    "duration": 1778,
    "start_time": "2021-08-21T21:18:38.957Z"
   },
   {
    "duration": 19,
    "start_time": "2021-08-21T21:18:40.739Z"
   },
   {
    "duration": 12,
    "start_time": "2021-08-21T21:18:40.763Z"
   },
   {
    "duration": 5,
    "start_time": "2021-08-21T21:18:40.779Z"
   },
   {
    "duration": 15,
    "start_time": "2021-08-21T21:18:40.787Z"
   },
   {
    "duration": 39,
    "start_time": "2021-08-21T21:18:40.805Z"
   },
   {
    "duration": 15,
    "start_time": "2021-08-21T21:18:40.848Z"
   },
   {
    "duration": 5,
    "start_time": "2021-08-21T21:18:40.869Z"
   },
   {
    "duration": 21,
    "start_time": "2021-08-21T21:18:40.877Z"
   },
   {
    "duration": 18,
    "start_time": "2021-08-21T21:18:40.901Z"
   },
   {
    "duration": 41,
    "start_time": "2021-08-21T21:18:40.922Z"
   },
   {
    "duration": 9,
    "start_time": "2021-08-21T21:18:40.966Z"
   },
   {
    "duration": 20,
    "start_time": "2021-08-21T21:18:40.979Z"
   },
   {
    "duration": 20,
    "start_time": "2021-08-21T21:18:41.002Z"
   },
   {
    "duration": 50,
    "start_time": "2021-08-21T21:18:41.025Z"
   },
   {
    "duration": 13,
    "start_time": "2021-08-21T21:18:41.077Z"
   },
   {
    "duration": 20,
    "start_time": "2021-08-21T21:18:41.093Z"
   },
   {
    "duration": 16,
    "start_time": "2021-08-21T21:18:41.115Z"
   },
   {
    "duration": 36,
    "start_time": "2021-08-21T21:18:41.134Z"
   },
   {
    "duration": 8,
    "start_time": "2021-08-21T21:18:41.173Z"
   },
   {
    "duration": 921,
    "start_time": "2021-08-21T21:18:41.184Z"
   },
   {
    "duration": 311,
    "start_time": "2021-08-21T21:18:42.108Z"
   },
   {
    "duration": 423,
    "start_time": "2021-08-21T21:18:42.426Z"
   },
   {
    "duration": 328,
    "start_time": "2021-08-21T21:18:42.852Z"
   },
   {
    "duration": 420,
    "start_time": "2021-08-21T21:18:43.182Z"
   },
   {
    "duration": 437,
    "start_time": "2021-08-21T21:18:43.605Z"
   },
   {
    "duration": 392,
    "start_time": "2021-08-21T21:18:44.044Z"
   },
   {
    "duration": 6,
    "start_time": "2021-08-21T21:18:44.438Z"
   },
   {
    "duration": 442,
    "start_time": "2021-08-21T21:18:44.446Z"
   },
   {
    "duration": 5,
    "start_time": "2021-08-21T21:18:44.891Z"
   },
   {
    "duration": 652,
    "start_time": "2021-08-21T21:18:44.899Z"
   },
   {
    "duration": 19,
    "start_time": "2021-08-21T21:18:45.553Z"
   },
   {
    "duration": 29,
    "start_time": "2021-08-21T21:18:45.574Z"
   },
   {
    "duration": 56,
    "start_time": "2021-08-21T21:18:45.606Z"
   },
   {
    "duration": 1364,
    "start_time": "2021-08-21T21:23:03.849Z"
   },
   {
    "duration": 16,
    "start_time": "2021-08-21T21:23:05.216Z"
   },
   {
    "duration": 20,
    "start_time": "2021-08-21T21:23:05.235Z"
   },
   {
    "duration": 12,
    "start_time": "2021-08-21T21:23:05.258Z"
   },
   {
    "duration": 18,
    "start_time": "2021-08-21T21:23:05.272Z"
   },
   {
    "duration": 44,
    "start_time": "2021-08-21T21:23:05.292Z"
   },
   {
    "duration": 8,
    "start_time": "2021-08-21T21:23:05.338Z"
   },
   {
    "duration": 10,
    "start_time": "2021-08-21T21:23:05.350Z"
   },
   {
    "duration": 32,
    "start_time": "2021-08-21T21:23:05.363Z"
   },
   {
    "duration": 18,
    "start_time": "2021-08-21T21:23:05.397Z"
   },
   {
    "duration": 17,
    "start_time": "2021-08-21T21:23:05.417Z"
   },
   {
    "duration": 13,
    "start_time": "2021-08-21T21:23:05.436Z"
   },
   {
    "duration": 30,
    "start_time": "2021-08-21T21:23:05.452Z"
   },
   {
    "duration": 19,
    "start_time": "2021-08-21T21:23:05.485Z"
   },
   {
    "duration": 12,
    "start_time": "2021-08-21T21:23:05.507Z"
   },
   {
    "duration": 16,
    "start_time": "2021-08-21T21:23:05.522Z"
   },
   {
    "duration": 36,
    "start_time": "2021-08-21T21:23:05.540Z"
   },
   {
    "duration": 15,
    "start_time": "2021-08-21T21:23:05.579Z"
   },
   {
    "duration": 13,
    "start_time": "2021-08-21T21:23:05.597Z"
   },
   {
    "duration": 16,
    "start_time": "2021-08-21T21:23:05.613Z"
   },
   {
    "duration": 929,
    "start_time": "2021-08-21T21:23:05.632Z"
   },
   {
    "duration": 297,
    "start_time": "2021-08-21T21:23:06.564Z"
   },
   {
    "duration": 401,
    "start_time": "2021-08-21T21:23:06.866Z"
   },
   {
    "duration": 346,
    "start_time": "2021-08-21T21:23:07.270Z"
   },
   {
    "duration": 460,
    "start_time": "2021-08-21T21:23:07.619Z"
   },
   {
    "duration": 453,
    "start_time": "2021-08-21T21:23:08.082Z"
   },
   {
    "duration": 398,
    "start_time": "2021-08-21T21:23:08.537Z"
   },
   {
    "duration": 5,
    "start_time": "2021-08-21T21:23:08.937Z"
   },
   {
    "duration": 420,
    "start_time": "2021-08-21T21:23:08.944Z"
   },
   {
    "duration": 5,
    "start_time": "2021-08-21T21:23:09.366Z"
   },
   {
    "duration": 650,
    "start_time": "2021-08-21T21:23:09.374Z"
   },
   {
    "duration": 13,
    "start_time": "2021-08-21T21:23:10.027Z"
   },
   {
    "duration": 26,
    "start_time": "2021-08-21T21:23:10.063Z"
   },
   {
    "duration": 20,
    "start_time": "2021-08-21T21:23:10.091Z"
   },
   {
    "duration": 1331,
    "start_time": "2021-08-22T03:48:07.286Z"
   },
   {
    "duration": 20,
    "start_time": "2021-08-22T03:48:08.619Z"
   },
   {
    "duration": 19,
    "start_time": "2021-08-22T03:48:08.643Z"
   },
   {
    "duration": 11,
    "start_time": "2021-08-22T03:48:08.665Z"
   },
   {
    "duration": 11,
    "start_time": "2021-08-22T03:48:08.679Z"
   },
   {
    "duration": 43,
    "start_time": "2021-08-22T03:48:08.692Z"
   },
   {
    "duration": 8,
    "start_time": "2021-08-22T03:48:08.738Z"
   },
   {
    "duration": 5,
    "start_time": "2021-08-22T03:48:08.750Z"
   },
   {
    "duration": 19,
    "start_time": "2021-08-22T03:48:08.758Z"
   },
   {
    "duration": 19,
    "start_time": "2021-08-22T03:48:08.779Z"
   },
   {
    "duration": 8,
    "start_time": "2021-08-22T03:48:08.801Z"
   },
   {
    "duration": 10,
    "start_time": "2021-08-22T03:48:08.811Z"
   },
   {
    "duration": 34,
    "start_time": "2021-08-22T03:48:08.823Z"
   },
   {
    "duration": 16,
    "start_time": "2021-08-22T03:48:08.859Z"
   },
   {
    "duration": 12,
    "start_time": "2021-08-22T03:48:08.877Z"
   },
   {
    "duration": 14,
    "start_time": "2021-08-22T03:48:08.891Z"
   },
   {
    "duration": 52,
    "start_time": "2021-08-22T03:48:08.907Z"
   },
   {
    "duration": 10,
    "start_time": "2021-08-22T03:48:08.962Z"
   },
   {
    "duration": 11,
    "start_time": "2021-08-22T03:48:08.974Z"
   },
   {
    "duration": 10,
    "start_time": "2021-08-22T03:48:08.987Z"
   },
   {
    "duration": 1038,
    "start_time": "2021-08-22T03:48:09.000Z"
   },
   {
    "duration": 322,
    "start_time": "2021-08-22T03:48:10.040Z"
   },
   {
    "duration": 384,
    "start_time": "2021-08-22T03:48:10.366Z"
   },
   {
    "duration": 334,
    "start_time": "2021-08-22T03:48:10.753Z"
   },
   {
    "duration": 437,
    "start_time": "2021-08-22T03:48:11.089Z"
   },
   {
    "duration": 481,
    "start_time": "2021-08-22T03:48:11.528Z"
   },
   {
    "duration": 439,
    "start_time": "2021-08-22T03:48:12.012Z"
   },
   {
    "duration": 5,
    "start_time": "2021-08-22T03:48:12.454Z"
   },
   {
    "duration": 415,
    "start_time": "2021-08-22T03:48:12.461Z"
   },
   {
    "duration": 6,
    "start_time": "2021-08-22T03:48:12.878Z"
   },
   {
    "duration": 683,
    "start_time": "2021-08-22T03:48:12.886Z"
   },
   {
    "duration": 14,
    "start_time": "2021-08-22T03:48:13.572Z"
   },
   {
    "duration": 25,
    "start_time": "2021-08-22T03:48:13.588Z"
   },
   {
    "duration": 50,
    "start_time": "2021-08-22T03:48:13.616Z"
   },
   {
    "duration": 141,
    "start_time": "2021-08-22T20:04:04.477Z"
   },
   {
    "duration": 1355,
    "start_time": "2021-08-22T20:19:33.271Z"
   },
   {
    "duration": 17,
    "start_time": "2021-08-22T20:19:34.629Z"
   },
   {
    "duration": 13,
    "start_time": "2021-08-22T20:19:34.650Z"
   },
   {
    "duration": 5,
    "start_time": "2021-08-22T20:19:34.666Z"
   },
   {
    "duration": 9,
    "start_time": "2021-08-22T20:19:34.673Z"
   },
   {
    "duration": 59,
    "start_time": "2021-08-22T20:19:34.685Z"
   },
   {
    "duration": 8,
    "start_time": "2021-08-22T20:19:34.746Z"
   },
   {
    "duration": 4,
    "start_time": "2021-08-22T20:19:34.758Z"
   },
   {
    "duration": 18,
    "start_time": "2021-08-22T20:19:34.765Z"
   },
   {
    "duration": 17,
    "start_time": "2021-08-22T20:19:34.785Z"
   },
   {
    "duration": 10,
    "start_time": "2021-08-22T20:19:34.805Z"
   },
   {
    "duration": 10,
    "start_time": "2021-08-22T20:19:34.817Z"
   },
   {
    "duration": 44,
    "start_time": "2021-08-22T20:19:34.829Z"
   },
   {
    "duration": 13,
    "start_time": "2021-08-22T20:19:34.876Z"
   },
   {
    "duration": 12,
    "start_time": "2021-08-22T20:19:34.892Z"
   },
   {
    "duration": 14,
    "start_time": "2021-08-22T20:19:34.906Z"
   },
   {
    "duration": 56,
    "start_time": "2021-08-22T20:19:34.922Z"
   },
   {
    "duration": 14,
    "start_time": "2021-08-22T20:19:34.980Z"
   },
   {
    "duration": 11,
    "start_time": "2021-08-22T20:19:34.996Z"
   },
   {
    "duration": 11,
    "start_time": "2021-08-22T20:19:35.010Z"
   },
   {
    "duration": 938,
    "start_time": "2021-08-22T20:19:35.024Z"
   },
   {
    "duration": 347,
    "start_time": "2021-08-22T20:19:35.965Z"
   },
   {
    "duration": 455,
    "start_time": "2021-08-22T20:19:36.317Z"
   },
   {
    "duration": 339,
    "start_time": "2021-08-22T20:19:36.775Z"
   },
   {
    "duration": 456,
    "start_time": "2021-08-22T20:19:37.116Z"
   },
   {
    "duration": 457,
    "start_time": "2021-08-22T20:19:37.575Z"
   },
   {
    "duration": 402,
    "start_time": "2021-08-22T20:19:38.034Z"
   },
   {
    "duration": 6,
    "start_time": "2021-08-22T20:19:38.438Z"
   },
   {
    "duration": 408,
    "start_time": "2021-08-22T20:19:38.446Z"
   },
   {
    "duration": 7,
    "start_time": "2021-08-22T20:19:38.857Z"
   },
   {
    "duration": 640,
    "start_time": "2021-08-22T20:19:38.867Z"
   },
   {
    "duration": 13,
    "start_time": "2021-08-22T20:19:39.509Z"
   },
   {
    "duration": 51,
    "start_time": "2021-08-22T20:19:39.524Z"
   },
   {
    "duration": 22,
    "start_time": "2021-08-22T20:19:39.578Z"
   },
   {
    "duration": 121,
    "start_time": "2021-08-22T20:21:40.329Z"
   },
   {
    "duration": 121,
    "start_time": "2021-08-22T20:22:13.420Z"
   },
   {
    "duration": 515,
    "start_time": "2021-08-22T20:28:22.416Z"
   },
   {
    "duration": 359,
    "start_time": "2021-08-22T20:29:16.817Z"
   },
   {
    "duration": 384,
    "start_time": "2021-08-22T20:29:27.134Z"
   },
   {
    "duration": 12,
    "start_time": "2021-08-22T20:30:32.690Z"
   },
   {
    "duration": 15,
    "start_time": "2021-08-22T20:31:05.484Z"
   },
   {
    "duration": 1759,
    "start_time": "2021-08-22T20:35:54.282Z"
   },
   {
    "duration": 22,
    "start_time": "2021-08-22T20:35:56.044Z"
   },
   {
    "duration": 13,
    "start_time": "2021-08-22T20:35:56.070Z"
   },
   {
    "duration": 11,
    "start_time": "2021-08-22T20:35:56.086Z"
   },
   {
    "duration": 13,
    "start_time": "2021-08-22T20:35:56.100Z"
   },
   {
    "duration": 71,
    "start_time": "2021-08-22T20:35:56.117Z"
   },
   {
    "duration": 13,
    "start_time": "2021-08-22T20:35:56.191Z"
   },
   {
    "duration": 10,
    "start_time": "2021-08-22T20:35:56.209Z"
   },
   {
    "duration": 20,
    "start_time": "2021-08-22T20:35:56.223Z"
   },
   {
    "duration": 17,
    "start_time": "2021-08-22T20:35:56.246Z"
   },
   {
    "duration": 18,
    "start_time": "2021-08-22T20:35:56.266Z"
   },
   {
    "duration": 19,
    "start_time": "2021-08-22T20:35:56.287Z"
   },
   {
    "duration": 31,
    "start_time": "2021-08-22T20:35:56.308Z"
   },
   {
    "duration": 22,
    "start_time": "2021-08-22T20:35:56.341Z"
   },
   {
    "duration": 12,
    "start_time": "2021-08-22T20:35:56.366Z"
   },
   {
    "duration": 19,
    "start_time": "2021-08-22T20:35:56.380Z"
   },
   {
    "duration": 28,
    "start_time": "2021-08-22T20:35:56.401Z"
   },
   {
    "duration": 33,
    "start_time": "2021-08-22T20:35:56.432Z"
   },
   {
    "duration": 14,
    "start_time": "2021-08-22T20:35:56.468Z"
   },
   {
    "duration": 14,
    "start_time": "2021-08-22T20:35:56.484Z"
   },
   {
    "duration": 933,
    "start_time": "2021-08-22T20:35:56.501Z"
   },
   {
    "duration": 306,
    "start_time": "2021-08-22T20:35:57.437Z"
   },
   {
    "duration": 420,
    "start_time": "2021-08-22T20:35:57.747Z"
   },
   {
    "duration": 349,
    "start_time": "2021-08-22T20:35:58.170Z"
   },
   {
    "duration": 459,
    "start_time": "2021-08-22T20:35:58.521Z"
   },
   {
    "duration": 467,
    "start_time": "2021-08-22T20:35:58.982Z"
   },
   {
    "duration": 400,
    "start_time": "2021-08-22T20:35:59.452Z"
   },
   {
    "duration": 9,
    "start_time": "2021-08-22T20:35:59.854Z"
   },
   {
    "duration": 411,
    "start_time": "2021-08-22T20:35:59.865Z"
   },
   {
    "duration": 5,
    "start_time": "2021-08-22T20:36:00.279Z"
   },
   {
    "duration": 689,
    "start_time": "2021-08-22T20:36:00.287Z"
   },
   {
    "duration": 14,
    "start_time": "2021-08-22T20:36:00.978Z"
   },
   {
    "duration": 36,
    "start_time": "2021-08-22T20:36:00.995Z"
   },
   {
    "duration": 40,
    "start_time": "2021-08-22T20:36:01.034Z"
   },
   {
    "duration": 1356,
    "start_time": "2021-08-22T20:47:09.273Z"
   },
   {
    "duration": 19,
    "start_time": "2021-08-22T20:47:10.632Z"
   },
   {
    "duration": 15,
    "start_time": "2021-08-22T20:47:10.656Z"
   },
   {
    "duration": 6,
    "start_time": "2021-08-22T20:47:10.674Z"
   },
   {
    "duration": 12,
    "start_time": "2021-08-22T20:47:10.683Z"
   },
   {
    "duration": 48,
    "start_time": "2021-08-22T20:47:10.698Z"
   },
   {
    "duration": 16,
    "start_time": "2021-08-22T20:47:10.748Z"
   },
   {
    "duration": 5,
    "start_time": "2021-08-22T20:47:10.768Z"
   },
   {
    "duration": 17,
    "start_time": "2021-08-22T20:47:10.776Z"
   },
   {
    "duration": 18,
    "start_time": "2021-08-22T20:47:10.795Z"
   },
   {
    "duration": 12,
    "start_time": "2021-08-22T20:47:10.817Z"
   },
   {
    "duration": 38,
    "start_time": "2021-08-22T20:47:10.832Z"
   },
   {
    "duration": 18,
    "start_time": "2021-08-22T20:47:10.873Z"
   },
   {
    "duration": 22,
    "start_time": "2021-08-22T20:47:10.894Z"
   },
   {
    "duration": 53,
    "start_time": "2021-08-22T20:47:10.919Z"
   },
   {
    "duration": 16,
    "start_time": "2021-08-22T20:47:10.975Z"
   },
   {
    "duration": 30,
    "start_time": "2021-08-22T20:47:10.995Z"
   },
   {
    "duration": 45,
    "start_time": "2021-08-22T20:47:11.028Z"
   },
   {
    "duration": 15,
    "start_time": "2021-08-22T20:47:11.076Z"
   },
   {
    "duration": 11,
    "start_time": "2021-08-22T20:47:11.094Z"
   },
   {
    "duration": 587,
    "start_time": "2021-08-22T20:47:11.108Z"
   },
   {
    "duration": 388,
    "start_time": "2021-08-22T20:47:11.699Z"
   },
   {
    "duration": 23,
    "start_time": "2021-08-22T20:47:12.094Z"
   },
   {
    "duration": 477,
    "start_time": "2021-08-22T20:47:12.121Z"
   },
   {
    "duration": 456,
    "start_time": "2021-08-22T20:47:12.602Z"
   },
   {
    "duration": 105,
    "start_time": "2021-08-22T20:47:13.063Z"
   },
   {
    "duration": -898,
    "start_time": "2021-08-22T20:47:14.070Z"
   },
   {
    "duration": -910,
    "start_time": "2021-08-22T20:47:14.084Z"
   },
   {
    "duration": -917,
    "start_time": "2021-08-22T20:47:14.093Z"
   },
   {
    "duration": -926,
    "start_time": "2021-08-22T20:47:14.104Z"
   },
   {
    "duration": -949,
    "start_time": "2021-08-22T20:47:14.130Z"
   },
   {
    "duration": -960,
    "start_time": "2021-08-22T20:47:14.143Z"
   },
   {
    "duration": -977,
    "start_time": "2021-08-22T20:47:14.162Z"
   },
   {
    "duration": -989,
    "start_time": "2021-08-22T20:47:14.176Z"
   },
   {
    "duration": -1019,
    "start_time": "2021-08-22T20:47:14.209Z"
   },
   {
    "duration": -1035,
    "start_time": "2021-08-22T20:47:14.227Z"
   },
   {
    "duration": -1048,
    "start_time": "2021-08-22T20:47:14.242Z"
   },
   {
    "duration": 1360,
    "start_time": "2021-08-22T20:50:18.624Z"
   },
   {
    "duration": 17,
    "start_time": "2021-08-22T20:50:19.987Z"
   },
   {
    "duration": 15,
    "start_time": "2021-08-22T20:50:20.007Z"
   },
   {
    "duration": 18,
    "start_time": "2021-08-22T20:50:20.024Z"
   },
   {
    "duration": 13,
    "start_time": "2021-08-22T20:50:20.044Z"
   },
   {
    "duration": 72,
    "start_time": "2021-08-22T20:50:20.059Z"
   },
   {
    "duration": 11,
    "start_time": "2021-08-22T20:50:20.135Z"
   },
   {
    "duration": 8,
    "start_time": "2021-08-22T20:50:20.152Z"
   },
   {
    "duration": 27,
    "start_time": "2021-08-22T20:50:20.168Z"
   },
   {
    "duration": 19,
    "start_time": "2021-08-22T20:50:20.197Z"
   },
   {
    "duration": 12,
    "start_time": "2021-08-22T20:50:20.218Z"
   },
   {
    "duration": 18,
    "start_time": "2021-08-22T20:50:20.232Z"
   },
   {
    "duration": 20,
    "start_time": "2021-08-22T20:50:20.252Z"
   },
   {
    "duration": 26,
    "start_time": "2021-08-22T20:50:20.275Z"
   },
   {
    "duration": 12,
    "start_time": "2021-08-22T20:50:20.304Z"
   },
   {
    "duration": 43,
    "start_time": "2021-08-22T20:50:20.319Z"
   },
   {
    "duration": 21,
    "start_time": "2021-08-22T20:50:20.370Z"
   },
   {
    "duration": 20,
    "start_time": "2021-08-22T20:50:20.394Z"
   },
   {
    "duration": 19,
    "start_time": "2021-08-22T20:50:20.417Z"
   },
   {
    "duration": 35,
    "start_time": "2021-08-22T20:50:20.438Z"
   },
   {
    "duration": 535,
    "start_time": "2021-08-22T20:50:20.476Z"
   },
   {
    "duration": 388,
    "start_time": "2021-08-22T20:50:21.014Z"
   },
   {
    "duration": 22,
    "start_time": "2021-08-22T20:50:21.409Z"
   },
   {
    "duration": 472,
    "start_time": "2021-08-22T20:50:21.436Z"
   },
   {
    "duration": 439,
    "start_time": "2021-08-22T20:50:21.911Z"
   },
   {
    "duration": 517,
    "start_time": "2021-08-22T20:50:22.353Z"
   },
   {
    "duration": 470,
    "start_time": "2021-08-22T20:50:22.873Z"
   },
   {
    "duration": 445,
    "start_time": "2021-08-22T20:50:23.346Z"
   },
   {
    "duration": 450,
    "start_time": "2021-08-22T20:50:23.793Z"
   },
   {
    "duration": 391,
    "start_time": "2021-08-22T20:50:24.246Z"
   },
   {
    "duration": 6,
    "start_time": "2021-08-22T20:50:24.640Z"
   },
   {
    "duration": 539,
    "start_time": "2021-08-22T20:50:24.648Z"
   },
   {
    "duration": 8,
    "start_time": "2021-08-22T20:50:25.191Z"
   },
   {
    "duration": 996,
    "start_time": "2021-08-22T20:50:25.202Z"
   },
   {
    "duration": 19,
    "start_time": "2021-08-22T20:50:26.201Z"
   },
   {
    "duration": 68,
    "start_time": "2021-08-22T20:50:26.224Z"
   },
   {
    "duration": 24,
    "start_time": "2021-08-22T20:50:26.295Z"
   },
   {
    "duration": 1667,
    "start_time": "2021-08-22T21:04:16.772Z"
   },
   {
    "duration": 18,
    "start_time": "2021-08-22T21:04:18.442Z"
   },
   {
    "duration": 14,
    "start_time": "2021-08-22T21:04:18.463Z"
   },
   {
    "duration": 9,
    "start_time": "2021-08-22T21:04:18.479Z"
   },
   {
    "duration": 20,
    "start_time": "2021-08-22T21:04:18.491Z"
   },
   {
    "duration": 43,
    "start_time": "2021-08-22T21:04:18.514Z"
   },
   {
    "duration": 18,
    "start_time": "2021-08-22T21:04:18.560Z"
   },
   {
    "duration": 12,
    "start_time": "2021-08-22T21:04:18.582Z"
   },
   {
    "duration": 31,
    "start_time": "2021-08-22T21:04:18.597Z"
   },
   {
    "duration": 23,
    "start_time": "2021-08-22T21:04:18.631Z"
   },
   {
    "duration": 20,
    "start_time": "2021-08-22T21:04:18.656Z"
   },
   {
    "duration": 18,
    "start_time": "2021-08-22T21:04:18.678Z"
   },
   {
    "duration": 34,
    "start_time": "2021-08-22T21:04:18.699Z"
   },
   {
    "duration": 11,
    "start_time": "2021-08-22T21:04:18.736Z"
   },
   {
    "duration": 19,
    "start_time": "2021-08-22T21:04:18.749Z"
   },
   {
    "duration": 24,
    "start_time": "2021-08-22T21:04:18.771Z"
   },
   {
    "duration": 27,
    "start_time": "2021-08-22T21:04:18.798Z"
   },
   {
    "duration": 22,
    "start_time": "2021-08-22T21:04:18.828Z"
   },
   {
    "duration": 29,
    "start_time": "2021-08-22T21:04:18.853Z"
   },
   {
    "duration": 23,
    "start_time": "2021-08-22T21:04:18.884Z"
   },
   {
    "duration": 27,
    "start_time": "2021-08-22T21:04:18.909Z"
   },
   {
    "duration": 18,
    "start_time": "2021-08-22T21:04:18.938Z"
   },
   {
    "duration": 366,
    "start_time": "2021-08-22T21:04:18.963Z"
   },
   {
    "duration": 395,
    "start_time": "2021-08-22T21:04:19.332Z"
   },
   {
    "duration": 25,
    "start_time": "2021-08-22T21:04:19.731Z"
   },
   {
    "duration": 492,
    "start_time": "2021-08-22T21:04:19.763Z"
   },
   {
    "duration": 352,
    "start_time": "2021-08-22T21:04:20.258Z"
   },
   {
    "duration": 437,
    "start_time": "2021-08-22T21:04:20.613Z"
   },
   {
    "duration": 339,
    "start_time": "2021-08-22T21:04:21.053Z"
   },
   {
    "duration": 432,
    "start_time": "2021-08-22T21:04:21.395Z"
   },
   {
    "duration": 463,
    "start_time": "2021-08-22T21:04:21.830Z"
   },
   {
    "duration": 409,
    "start_time": "2021-08-22T21:04:22.295Z"
   },
   {
    "duration": 5,
    "start_time": "2021-08-22T21:04:22.707Z"
   },
   {
    "duration": 450,
    "start_time": "2021-08-22T21:04:22.715Z"
   },
   {
    "duration": 6,
    "start_time": "2021-08-22T21:04:23.168Z"
   },
   {
    "duration": 684,
    "start_time": "2021-08-22T21:04:23.177Z"
   },
   {
    "duration": 12,
    "start_time": "2021-08-22T21:04:23.864Z"
   },
   {
    "duration": 36,
    "start_time": "2021-08-22T21:04:23.879Z"
   },
   {
    "duration": 45,
    "start_time": "2021-08-22T21:04:23.917Z"
   },
   {
    "duration": 6,
    "start_time": "2021-08-22T21:09:06.775Z"
   },
   {
    "duration": 26,
    "start_time": "2021-08-22T21:09:06.783Z"
   },
   {
    "duration": 17,
    "start_time": "2021-08-22T21:09:06.811Z"
   },
   {
    "duration": 21,
    "start_time": "2021-08-22T21:09:06.830Z"
   },
   {
    "duration": 19,
    "start_time": "2021-08-22T21:09:06.854Z"
   },
   {
    "duration": 44,
    "start_time": "2021-08-22T21:09:06.876Z"
   },
   {
    "duration": 12,
    "start_time": "2021-08-22T21:09:06.923Z"
   },
   {
    "duration": 9,
    "start_time": "2021-08-22T21:09:06.938Z"
   },
   {
    "duration": 21,
    "start_time": "2021-08-22T21:09:06.951Z"
   },
   {
    "duration": 18,
    "start_time": "2021-08-22T21:09:06.975Z"
   },
   {
    "duration": 11,
    "start_time": "2021-08-22T21:09:06.997Z"
   },
   {
    "duration": 23,
    "start_time": "2021-08-22T21:09:07.011Z"
   },
   {
    "duration": 48,
    "start_time": "2021-08-22T21:09:07.037Z"
   },
   {
    "duration": 15,
    "start_time": "2021-08-22T21:09:07.088Z"
   },
   {
    "duration": 19,
    "start_time": "2021-08-22T21:09:07.107Z"
   },
   {
    "duration": 46,
    "start_time": "2021-08-22T21:09:07.129Z"
   },
   {
    "duration": 22,
    "start_time": "2021-08-22T21:09:07.179Z"
   },
   {
    "duration": 22,
    "start_time": "2021-08-22T21:09:07.204Z"
   },
   {
    "duration": 44,
    "start_time": "2021-08-22T21:09:07.229Z"
   },
   {
    "duration": 15,
    "start_time": "2021-08-22T21:09:07.275Z"
   },
   {
    "duration": 13,
    "start_time": "2021-08-22T21:09:07.293Z"
   },
   {
    "duration": 11,
    "start_time": "2021-08-22T21:09:07.308Z"
   },
   {
    "duration": 351,
    "start_time": "2021-08-22T21:09:07.361Z"
   },
   {
    "duration": 275,
    "start_time": "2021-08-22T21:09:07.714Z"
   },
   {
    "duration": 17,
    "start_time": "2021-08-22T21:09:07.991Z"
   },
   {
    "duration": 391,
    "start_time": "2021-08-22T21:09:08.011Z"
   },
   {
    "duration": 328,
    "start_time": "2021-08-22T21:09:08.404Z"
   },
   {
    "duration": 404,
    "start_time": "2021-08-22T21:09:08.735Z"
   },
   {
    "duration": 321,
    "start_time": "2021-08-22T21:09:09.147Z"
   },
   {
    "duration": 445,
    "start_time": "2021-08-22T21:09:09.471Z"
   },
   {
    "duration": 579,
    "start_time": "2021-08-22T21:09:09.919Z"
   },
   {
    "duration": 381,
    "start_time": "2021-08-22T21:09:10.501Z"
   },
   {
    "duration": 6,
    "start_time": "2021-08-22T21:09:10.884Z"
   },
   {
    "duration": 413,
    "start_time": "2021-08-22T21:09:10.893Z"
   },
   {
    "duration": 5,
    "start_time": "2021-08-22T21:09:11.308Z"
   },
   {
    "duration": 681,
    "start_time": "2021-08-22T21:09:11.315Z"
   },
   {
    "duration": 15,
    "start_time": "2021-08-22T21:09:11.999Z"
   },
   {
    "duration": 25,
    "start_time": "2021-08-22T21:09:12.016Z"
   },
   {
    "duration": 29,
    "start_time": "2021-08-22T21:09:12.044Z"
   },
   {
    "duration": 1405,
    "start_time": "2021-08-22T21:10:39.158Z"
   },
   {
    "duration": 20,
    "start_time": "2021-08-22T21:10:40.566Z"
   },
   {
    "duration": 15,
    "start_time": "2021-08-22T21:10:40.589Z"
   },
   {
    "duration": 16,
    "start_time": "2021-08-22T21:10:40.607Z"
   },
   {
    "duration": 18,
    "start_time": "2021-08-22T21:10:40.625Z"
   },
   {
    "duration": 48,
    "start_time": "2021-08-22T21:10:40.646Z"
   },
   {
    "duration": 9,
    "start_time": "2021-08-22T21:10:40.697Z"
   },
   {
    "duration": 5,
    "start_time": "2021-08-22T21:10:40.711Z"
   },
   {
    "duration": 18,
    "start_time": "2021-08-22T21:10:40.719Z"
   },
   {
    "duration": 16,
    "start_time": "2021-08-22T21:10:40.740Z"
   },
   {
    "duration": 16,
    "start_time": "2021-08-22T21:10:40.759Z"
   },
   {
    "duration": 11,
    "start_time": "2021-08-22T21:10:40.778Z"
   },
   {
    "duration": 23,
    "start_time": "2021-08-22T21:10:40.791Z"
   },
   {
    "duration": 10,
    "start_time": "2021-08-22T21:10:40.817Z"
   },
   {
    "duration": 52,
    "start_time": "2021-08-22T21:10:40.830Z"
   },
   {
    "duration": 15,
    "start_time": "2021-08-22T21:10:40.885Z"
   },
   {
    "duration": 19,
    "start_time": "2021-08-22T21:10:40.902Z"
   },
   {
    "duration": 63,
    "start_time": "2021-08-22T21:10:40.923Z"
   },
   {
    "duration": 18,
    "start_time": "2021-08-22T21:10:40.989Z"
   },
   {
    "duration": 16,
    "start_time": "2021-08-22T21:10:41.010Z"
   },
   {
    "duration": 42,
    "start_time": "2021-08-22T21:10:41.029Z"
   },
   {
    "duration": 8,
    "start_time": "2021-08-22T21:10:41.074Z"
   },
   {
    "duration": 482,
    "start_time": "2021-08-22T21:10:41.088Z"
   },
   {
    "duration": 288,
    "start_time": "2021-08-22T21:10:41.572Z"
   },
   {
    "duration": 20,
    "start_time": "2021-08-22T21:10:41.863Z"
   },
   {
    "duration": 331,
    "start_time": "2021-08-22T21:10:41.886Z"
   },
   {
    "duration": 406,
    "start_time": "2021-08-22T21:10:42.220Z"
   },
   {
    "duration": 428,
    "start_time": "2021-08-22T21:10:42.628Z"
   },
   {
    "duration": 328,
    "start_time": "2021-08-22T21:10:43.062Z"
   },
   {
    "duration": 447,
    "start_time": "2021-08-22T21:10:43.393Z"
   },
   {
    "duration": 537,
    "start_time": "2021-08-22T21:10:43.842Z"
   },
   {
    "duration": 394,
    "start_time": "2021-08-22T21:10:44.381Z"
   },
   {
    "duration": 6,
    "start_time": "2021-08-22T21:10:44.777Z"
   },
   {
    "duration": 403,
    "start_time": "2021-08-22T21:10:44.786Z"
   },
   {
    "duration": 5,
    "start_time": "2021-08-22T21:10:45.192Z"
   },
   {
    "duration": 659,
    "start_time": "2021-08-22T21:10:45.199Z"
   },
   {
    "duration": 22,
    "start_time": "2021-08-22T21:10:45.863Z"
   },
   {
    "duration": 29,
    "start_time": "2021-08-22T21:10:45.888Z"
   },
   {
    "duration": 52,
    "start_time": "2021-08-22T21:10:45.919Z"
   },
   {
    "duration": 2402,
    "start_time": "2021-08-22T21:11:16.296Z"
   },
   {
    "duration": 10,
    "start_time": "2021-08-22T21:11:31.161Z"
   },
   {
    "duration": 1553,
    "start_time": "2021-08-22T21:12:21.189Z"
   },
   {
    "duration": 24,
    "start_time": "2021-08-22T21:12:22.745Z"
   },
   {
    "duration": 9,
    "start_time": "2021-08-22T21:12:22.774Z"
   },
   {
    "duration": 7,
    "start_time": "2021-08-22T21:12:22.786Z"
   },
   {
    "duration": 13,
    "start_time": "2021-08-22T21:12:22.795Z"
   },
   {
    "duration": 36,
    "start_time": "2021-08-22T21:12:22.811Z"
   },
   {
    "duration": 8,
    "start_time": "2021-08-22T21:12:22.850Z"
   },
   {
    "duration": 5,
    "start_time": "2021-08-22T21:12:22.877Z"
   },
   {
    "duration": 23,
    "start_time": "2021-08-22T21:12:22.885Z"
   },
   {
    "duration": 16,
    "start_time": "2021-08-22T21:12:22.911Z"
   },
   {
    "duration": 18,
    "start_time": "2021-08-22T21:12:22.929Z"
   },
   {
    "duration": 7,
    "start_time": "2021-08-22T21:12:22.967Z"
   },
   {
    "duration": 24,
    "start_time": "2021-08-22T21:12:22.976Z"
   },
   {
    "duration": 11,
    "start_time": "2021-08-22T21:12:23.003Z"
   },
   {
    "duration": 50,
    "start_time": "2021-08-22T21:12:23.017Z"
   },
   {
    "duration": 18,
    "start_time": "2021-08-22T21:12:23.071Z"
   },
   {
    "duration": 16,
    "start_time": "2021-08-22T21:12:23.092Z"
   },
   {
    "duration": 16,
    "start_time": "2021-08-22T21:12:23.110Z"
   },
   {
    "duration": 24,
    "start_time": "2021-08-22T21:12:23.162Z"
   },
   {
    "duration": 17,
    "start_time": "2021-08-22T21:12:23.189Z"
   },
   {
    "duration": 17,
    "start_time": "2021-08-22T21:12:23.209Z"
   },
   {
    "duration": 43,
    "start_time": "2021-08-22T21:12:23.229Z"
   },
   {
    "duration": 412,
    "start_time": "2021-08-22T21:12:23.281Z"
   },
   {
    "duration": 306,
    "start_time": "2021-08-22T21:12:23.695Z"
   },
   {
    "duration": 17,
    "start_time": "2021-08-22T21:12:24.004Z"
   },
   {
    "duration": 348,
    "start_time": "2021-08-22T21:12:24.024Z"
   },
   {
    "duration": 328,
    "start_time": "2021-08-22T21:12:24.377Z"
   },
   {
    "duration": 432,
    "start_time": "2021-08-22T21:12:24.708Z"
   },
   {
    "duration": 321,
    "start_time": "2021-08-22T21:12:25.143Z"
   },
   {
    "duration": 412,
    "start_time": "2021-08-22T21:12:25.466Z"
   },
   {
    "duration": 511,
    "start_time": "2021-08-22T21:12:25.880Z"
   },
   {
    "duration": 434,
    "start_time": "2021-08-22T21:12:26.393Z"
   },
   {
    "duration": 5,
    "start_time": "2021-08-22T21:12:26.829Z"
   },
   {
    "duration": 421,
    "start_time": "2021-08-22T21:12:26.837Z"
   },
   {
    "duration": 8,
    "start_time": "2021-08-22T21:12:27.261Z"
   },
   {
    "duration": 623,
    "start_time": "2021-08-22T21:12:27.273Z"
   },
   {
    "duration": 13,
    "start_time": "2021-08-22T21:12:27.898Z"
   },
   {
    "duration": 54,
    "start_time": "2021-08-22T21:12:27.914Z"
   },
   {
    "duration": 23,
    "start_time": "2021-08-22T21:12:27.971Z"
   },
   {
    "duration": 444,
    "start_time": "2021-08-22T21:15:46.655Z"
   },
   {
    "duration": 869,
    "start_time": "2021-08-22T21:16:01.055Z"
   },
   {
    "duration": 330,
    "start_time": "2021-08-22T21:16:07.795Z"
   },
   {
    "duration": 342,
    "start_time": "2021-08-22T21:18:14.139Z"
   },
   {
    "duration": 322,
    "start_time": "2021-08-22T21:19:35.905Z"
   },
   {
    "duration": 423,
    "start_time": "2021-08-22T21:20:44.758Z"
   },
   {
    "duration": 435,
    "start_time": "2021-08-22T21:21:28.038Z"
   },
   {
    "duration": 328,
    "start_time": "2021-08-22T21:22:09.557Z"
   },
   {
    "duration": 450,
    "start_time": "2021-08-22T21:22:34.985Z"
   },
   {
    "duration": 1513,
    "start_time": "2021-08-22T21:24:41.129Z"
   },
   {
    "duration": 20,
    "start_time": "2021-08-22T21:24:42.645Z"
   },
   {
    "duration": 13,
    "start_time": "2021-08-22T21:24:42.670Z"
   },
   {
    "duration": 8,
    "start_time": "2021-08-22T21:24:42.687Z"
   },
   {
    "duration": 12,
    "start_time": "2021-08-22T21:24:42.697Z"
   },
   {
    "duration": 51,
    "start_time": "2021-08-22T21:24:42.713Z"
   },
   {
    "duration": 9,
    "start_time": "2021-08-22T21:24:42.768Z"
   },
   {
    "duration": 5,
    "start_time": "2021-08-22T21:24:42.784Z"
   },
   {
    "duration": 24,
    "start_time": "2021-08-22T21:24:42.794Z"
   },
   {
    "duration": 59,
    "start_time": "2021-08-22T21:24:42.821Z"
   },
   {
    "duration": 12,
    "start_time": "2021-08-22T21:24:42.884Z"
   },
   {
    "duration": 7,
    "start_time": "2021-08-22T21:24:42.899Z"
   },
   {
    "duration": 54,
    "start_time": "2021-08-22T21:24:42.909Z"
   },
   {
    "duration": 12,
    "start_time": "2021-08-22T21:24:42.965Z"
   },
   {
    "duration": 17,
    "start_time": "2021-08-22T21:24:42.980Z"
   },
   {
    "duration": 18,
    "start_time": "2021-08-22T21:24:43.000Z"
   },
   {
    "duration": 54,
    "start_time": "2021-08-22T21:24:43.021Z"
   },
   {
    "duration": 14,
    "start_time": "2021-08-22T21:24:43.078Z"
   },
   {
    "duration": 19,
    "start_time": "2021-08-22T21:24:43.095Z"
   },
   {
    "duration": 50,
    "start_time": "2021-08-22T21:24:43.117Z"
   },
   {
    "duration": 15,
    "start_time": "2021-08-22T21:24:43.170Z"
   },
   {
    "duration": 10,
    "start_time": "2021-08-22T21:24:43.188Z"
   },
   {
    "duration": 379,
    "start_time": "2021-08-22T21:24:43.203Z"
   },
   {
    "duration": 279,
    "start_time": "2021-08-22T21:24:43.585Z"
   },
   {
    "duration": 17,
    "start_time": "2021-08-22T21:24:43.867Z"
   },
   {
    "duration": 353,
    "start_time": "2021-08-22T21:24:43.886Z"
   },
   {
    "duration": 353,
    "start_time": "2021-08-22T21:24:44.242Z"
   },
   {
    "duration": 419,
    "start_time": "2021-08-22T21:24:44.598Z"
   },
   {
    "duration": 354,
    "start_time": "2021-08-22T21:24:45.019Z"
   },
   {
    "duration": 444,
    "start_time": "2021-08-22T21:24:45.376Z"
   },
   {
    "duration": 530,
    "start_time": "2021-08-22T21:24:45.822Z"
   },
   {
    "duration": 407,
    "start_time": "2021-08-22T21:24:46.362Z"
   },
   {
    "duration": 6,
    "start_time": "2021-08-22T21:24:46.772Z"
   },
   {
    "duration": 561,
    "start_time": "2021-08-22T21:24:46.781Z"
   },
   {
    "duration": 17,
    "start_time": "2021-08-22T21:24:47.345Z"
   },
   {
    "duration": 217,
    "start_time": "2021-08-22T21:24:47.365Z"
   },
   {
    "duration": 264,
    "start_time": "2021-08-22T21:24:47.585Z"
   },
   {
    "duration": 39,
    "start_time": "2021-08-22T21:24:47.863Z"
   },
   {
    "duration": 273,
    "start_time": "2021-08-22T21:24:47.905Z"
   },
   {
    "duration": 16,
    "start_time": "2021-08-22T21:24:48.180Z"
   },
   {
    "duration": 27,
    "start_time": "2021-08-22T21:24:48.199Z"
   },
   {
    "duration": 48,
    "start_time": "2021-08-22T21:24:48.229Z"
   },
   {
    "duration": 544,
    "start_time": "2021-08-22T21:31:48.854Z"
   },
   {
    "duration": 124,
    "start_time": "2021-08-22T21:35:57.582Z"
   },
   {
    "duration": 502,
    "start_time": "2021-08-22T21:36:03.331Z"
   },
   {
    "duration": 310,
    "start_time": "2021-08-22T21:39:03.782Z"
   },
   {
    "duration": 358,
    "start_time": "2021-08-22T21:41:54.664Z"
   },
   {
    "duration": 407,
    "start_time": "2021-08-22T21:42:45.782Z"
   },
   {
    "duration": 822,
    "start_time": "2021-08-22T21:43:45.521Z"
   },
   {
    "duration": 296,
    "start_time": "2021-08-22T21:44:29.512Z"
   },
   {
    "duration": 324,
    "start_time": "2021-08-22T21:44:46.215Z"
   },
   {
    "duration": 329,
    "start_time": "2021-08-22T21:44:58.726Z"
   },
   {
    "duration": 131,
    "start_time": "2021-08-22T21:45:27.140Z"
   },
   {
    "duration": 124,
    "start_time": "2021-08-22T21:45:45.575Z"
   },
   {
    "duration": 112,
    "start_time": "2021-08-22T21:46:09.756Z"
   },
   {
    "duration": 145,
    "start_time": "2021-08-22T21:46:21.444Z"
   },
   {
    "duration": 116,
    "start_time": "2021-08-22T21:46:48.907Z"
   },
   {
    "duration": 1342,
    "start_time": "2021-08-22T21:47:16.283Z"
   },
   {
    "duration": 18,
    "start_time": "2021-08-22T21:47:17.629Z"
   },
   {
    "duration": 17,
    "start_time": "2021-08-22T21:47:17.650Z"
   },
   {
    "duration": 9,
    "start_time": "2021-08-22T21:47:17.670Z"
   },
   {
    "duration": 14,
    "start_time": "2021-08-22T21:47:17.681Z"
   },
   {
    "duration": 54,
    "start_time": "2021-08-22T21:47:17.697Z"
   },
   {
    "duration": 8,
    "start_time": "2021-08-22T21:47:17.753Z"
   },
   {
    "duration": 6,
    "start_time": "2021-08-22T21:47:17.765Z"
   },
   {
    "duration": 18,
    "start_time": "2021-08-22T21:47:17.774Z"
   },
   {
    "duration": 16,
    "start_time": "2021-08-22T21:47:17.794Z"
   },
   {
    "duration": 15,
    "start_time": "2021-08-22T21:47:17.813Z"
   },
   {
    "duration": 8,
    "start_time": "2021-08-22T21:47:17.862Z"
   },
   {
    "duration": 30,
    "start_time": "2021-08-22T21:47:17.873Z"
   },
   {
    "duration": 12,
    "start_time": "2021-08-22T21:47:17.905Z"
   },
   {
    "duration": 43,
    "start_time": "2021-08-22T21:47:17.919Z"
   },
   {
    "duration": 17,
    "start_time": "2021-08-22T21:47:17.965Z"
   },
   {
    "duration": 16,
    "start_time": "2021-08-22T21:47:17.985Z"
   },
   {
    "duration": 11,
    "start_time": "2021-08-22T21:47:18.004Z"
   },
   {
    "duration": 62,
    "start_time": "2021-08-22T21:47:18.018Z"
   },
   {
    "duration": 14,
    "start_time": "2021-08-22T21:47:18.082Z"
   },
   {
    "duration": 17,
    "start_time": "2021-08-22T21:47:18.098Z"
   },
   {
    "duration": 12,
    "start_time": "2021-08-22T21:47:18.118Z"
   },
   {
    "duration": 366,
    "start_time": "2021-08-22T21:47:18.134Z"
   },
   {
    "duration": 284,
    "start_time": "2021-08-22T21:47:18.503Z"
   },
   {
    "duration": 16,
    "start_time": "2021-08-22T21:47:18.790Z"
   },
   {
    "duration": 353,
    "start_time": "2021-08-22T21:47:18.808Z"
   },
   {
    "duration": 342,
    "start_time": "2021-08-22T21:47:19.164Z"
   },
   {
    "duration": 472,
    "start_time": "2021-08-22T21:47:19.508Z"
   },
   {
    "duration": 365,
    "start_time": "2021-08-22T21:47:19.983Z"
   },
   {
    "duration": 458,
    "start_time": "2021-08-22T21:47:20.350Z"
   },
   {
    "duration": 478,
    "start_time": "2021-08-22T21:47:20.810Z"
   },
   {
    "duration": 402,
    "start_time": "2021-08-22T21:47:21.290Z"
   },
   {
    "duration": 6,
    "start_time": "2021-08-22T21:47:21.696Z"
   },
   {
    "duration": 129,
    "start_time": "2021-08-22T21:47:21.705Z"
   },
   {
    "duration": -594,
    "start_time": "2021-08-22T21:47:22.431Z"
   },
   {
    "duration": -622,
    "start_time": "2021-08-22T21:47:22.461Z"
   },
   {
    "duration": -653,
    "start_time": "2021-08-22T21:47:22.493Z"
   },
   {
    "duration": -692,
    "start_time": "2021-08-22T21:47:22.534Z"
   },
   {
    "duration": -714,
    "start_time": "2021-08-22T21:47:22.557Z"
   },
   {
    "duration": -738,
    "start_time": "2021-08-22T21:47:22.583Z"
   },
   {
    "duration": -761,
    "start_time": "2021-08-22T21:47:22.607Z"
   },
   {
    "duration": -779,
    "start_time": "2021-08-22T21:47:22.626Z"
   },
   {
    "duration": -792,
    "start_time": "2021-08-22T21:47:22.640Z"
   },
   {
    "duration": 130,
    "start_time": "2021-08-22T21:47:37.388Z"
   },
   {
    "duration": 121,
    "start_time": "2021-08-22T21:48:03.898Z"
   },
   {
    "duration": 126,
    "start_time": "2021-08-22T21:49:24.902Z"
   },
   {
    "duration": 121,
    "start_time": "2021-08-22T21:49:42.031Z"
   },
   {
    "duration": 414,
    "start_time": "2021-08-22T21:51:33.922Z"
   },
   {
    "duration": 378,
    "start_time": "2021-08-22T21:52:54.993Z"
   },
   {
    "duration": 465,
    "start_time": "2021-08-22T21:53:05.788Z"
   },
   {
    "duration": 6,
    "start_time": "2021-08-22T21:54:18.910Z"
   },
   {
    "duration": 279,
    "start_time": "2021-08-22T21:57:17.936Z"
   },
   {
    "duration": 345,
    "start_time": "2021-08-22T21:57:20.846Z"
   },
   {
    "duration": 54,
    "start_time": "2021-08-22T21:57:27.149Z"
   },
   {
    "duration": 250,
    "start_time": "2021-08-22T21:57:31.556Z"
   },
   {
    "duration": 213,
    "start_time": "2021-08-22T22:07:17.554Z"
   },
   {
    "duration": 476,
    "start_time": "2021-08-22T22:07:21.528Z"
   },
   {
    "duration": 1334,
    "start_time": "2021-08-22T22:07:58.792Z"
   },
   {
    "duration": 19,
    "start_time": "2021-08-22T22:08:00.129Z"
   },
   {
    "duration": 52,
    "start_time": "2021-08-22T22:08:00.151Z"
   },
   {
    "duration": 25,
    "start_time": "2021-08-22T22:08:00.206Z"
   },
   {
    "duration": 41,
    "start_time": "2021-08-22T22:08:00.233Z"
   },
   {
    "duration": 53,
    "start_time": "2021-08-22T22:08:00.277Z"
   },
   {
    "duration": 18,
    "start_time": "2021-08-22T22:08:00.333Z"
   },
   {
    "duration": 37,
    "start_time": "2021-08-22T22:08:00.355Z"
   },
   {
    "duration": 31,
    "start_time": "2021-08-22T22:08:00.396Z"
   },
   {
    "duration": 20,
    "start_time": "2021-08-22T22:08:00.430Z"
   },
   {
    "duration": 36,
    "start_time": "2021-08-22T22:08:00.452Z"
   },
   {
    "duration": 20,
    "start_time": "2021-08-22T22:08:00.490Z"
   },
   {
    "duration": 35,
    "start_time": "2021-08-22T22:08:00.513Z"
   },
   {
    "duration": 16,
    "start_time": "2021-08-22T22:08:00.551Z"
   },
   {
    "duration": 27,
    "start_time": "2021-08-22T22:08:00.569Z"
   },
   {
    "duration": 32,
    "start_time": "2021-08-22T22:08:00.598Z"
   },
   {
    "duration": 25,
    "start_time": "2021-08-22T22:08:00.632Z"
   },
   {
    "duration": 26,
    "start_time": "2021-08-22T22:08:00.660Z"
   },
   {
    "duration": 30,
    "start_time": "2021-08-22T22:08:00.689Z"
   },
   {
    "duration": 28,
    "start_time": "2021-08-22T22:08:00.722Z"
   },
   {
    "duration": 19,
    "start_time": "2021-08-22T22:08:00.753Z"
   },
   {
    "duration": 28,
    "start_time": "2021-08-22T22:08:00.774Z"
   },
   {
    "duration": 337,
    "start_time": "2021-08-22T22:08:00.807Z"
   },
   {
    "duration": 296,
    "start_time": "2021-08-22T22:08:01.147Z"
   },
   {
    "duration": 25,
    "start_time": "2021-08-22T22:08:01.445Z"
   },
   {
    "duration": 357,
    "start_time": "2021-08-22T22:08:01.472Z"
   },
   {
    "duration": 341,
    "start_time": "2021-08-22T22:08:01.831Z"
   },
   {
    "duration": 429,
    "start_time": "2021-08-22T22:08:02.175Z"
   },
   {
    "duration": 342,
    "start_time": "2021-08-22T22:08:02.607Z"
   },
   {
    "duration": 470,
    "start_time": "2021-08-22T22:08:02.952Z"
   },
   {
    "duration": 514,
    "start_time": "2021-08-22T22:08:03.425Z"
   },
   {
    "duration": 480,
    "start_time": "2021-08-22T22:08:03.941Z"
   },
   {
    "duration": 6,
    "start_time": "2021-08-22T22:08:04.423Z"
   },
   {
    "duration": 431,
    "start_time": "2021-08-22T22:08:04.431Z"
   },
   {
    "duration": 6,
    "start_time": "2021-08-22T22:08:04.864Z"
   },
   {
    "duration": 202,
    "start_time": "2021-08-22T22:08:04.873Z"
   },
   {
    "duration": 249,
    "start_time": "2021-08-22T22:08:05.078Z"
   },
   {
    "duration": 43,
    "start_time": "2021-08-22T22:08:05.330Z"
   },
   {
    "duration": 204,
    "start_time": "2021-08-22T22:08:05.376Z"
   },
   {
    "duration": 499,
    "start_time": "2021-08-22T22:08:05.583Z"
   },
   {
    "duration": -1814,
    "start_time": "2021-08-22T22:08:07.899Z"
   },
   {
    "duration": -1830,
    "start_time": "2021-08-22T22:08:07.916Z"
   },
   {
    "duration": -1847,
    "start_time": "2021-08-22T22:08:07.934Z"
   },
   {
    "duration": 1363,
    "start_time": "2021-08-22T22:09:24.153Z"
   },
   {
    "duration": 17,
    "start_time": "2021-08-22T22:09:25.519Z"
   },
   {
    "duration": 11,
    "start_time": "2021-08-22T22:09:25.539Z"
   },
   {
    "duration": 13,
    "start_time": "2021-08-22T22:09:25.552Z"
   },
   {
    "duration": 13,
    "start_time": "2021-08-22T22:09:25.567Z"
   },
   {
    "duration": 48,
    "start_time": "2021-08-22T22:09:25.583Z"
   },
   {
    "duration": 8,
    "start_time": "2021-08-22T22:09:25.634Z"
   },
   {
    "duration": 5,
    "start_time": "2021-08-22T22:09:25.646Z"
   },
   {
    "duration": 22,
    "start_time": "2021-08-22T22:09:25.654Z"
   },
   {
    "duration": 16,
    "start_time": "2021-08-22T22:09:25.679Z"
   },
   {
    "duration": 10,
    "start_time": "2021-08-22T22:09:25.698Z"
   },
   {
    "duration": 9,
    "start_time": "2021-08-22T22:09:25.711Z"
   },
   {
    "duration": 47,
    "start_time": "2021-08-22T22:09:25.723Z"
   },
   {
    "duration": 11,
    "start_time": "2021-08-22T22:09:25.773Z"
   },
   {
    "duration": 19,
    "start_time": "2021-08-22T22:09:25.787Z"
   },
   {
    "duration": 31,
    "start_time": "2021-08-22T22:09:25.808Z"
   },
   {
    "duration": 31,
    "start_time": "2021-08-22T22:09:25.841Z"
   },
   {
    "duration": 22,
    "start_time": "2021-08-22T22:09:25.876Z"
   },
   {
    "duration": 18,
    "start_time": "2021-08-22T22:09:25.900Z"
   },
   {
    "duration": 13,
    "start_time": "2021-08-22T22:09:25.920Z"
   },
   {
    "duration": 17,
    "start_time": "2021-08-22T22:09:25.962Z"
   },
   {
    "duration": 13,
    "start_time": "2021-08-22T22:09:25.981Z"
   },
   {
    "duration": 366,
    "start_time": "2021-08-22T22:09:25.999Z"
   },
   {
    "duration": 279,
    "start_time": "2021-08-22T22:09:26.368Z"
   },
   {
    "duration": 18,
    "start_time": "2021-08-22T22:09:26.661Z"
   },
   {
    "duration": 357,
    "start_time": "2021-08-22T22:09:26.681Z"
   },
   {
    "duration": 353,
    "start_time": "2021-08-22T22:09:27.041Z"
   },
   {
    "duration": 468,
    "start_time": "2021-08-22T22:09:27.397Z"
   },
   {
    "duration": 337,
    "start_time": "2021-08-22T22:09:27.867Z"
   },
   {
    "duration": 482,
    "start_time": "2021-08-22T22:09:28.207Z"
   },
   {
    "duration": 510,
    "start_time": "2021-08-22T22:09:28.691Z"
   },
   {
    "duration": 409,
    "start_time": "2021-08-22T22:09:29.203Z"
   },
   {
    "duration": 6,
    "start_time": "2021-08-22T22:09:29.614Z"
   },
   {
    "duration": 440,
    "start_time": "2021-08-22T22:09:29.622Z"
   },
   {
    "duration": 6,
    "start_time": "2021-08-22T22:09:30.064Z"
   },
   {
    "duration": 210,
    "start_time": "2021-08-22T22:09:30.072Z"
   },
   {
    "duration": 258,
    "start_time": "2021-08-22T22:09:30.285Z"
   },
   {
    "duration": 47,
    "start_time": "2021-08-22T22:09:30.545Z"
   },
   {
    "duration": 206,
    "start_time": "2021-08-22T22:09:30.596Z"
   },
   {
    "duration": 480,
    "start_time": "2021-08-22T22:09:30.805Z"
   },
   {
    "duration": -574,
    "start_time": "2021-08-22T22:09:31.862Z"
   },
   {
    "duration": -596,
    "start_time": "2021-08-22T22:09:31.886Z"
   },
   {
    "duration": -602,
    "start_time": "2021-08-22T22:09:31.893Z"
   },
   {
    "duration": 221,
    "start_time": "2021-08-22T22:12:37.468Z"
   },
   {
    "duration": 200,
    "start_time": "2021-08-22T22:17:54.639Z"
   },
   {
    "duration": 6,
    "start_time": "2021-08-22T22:17:55.773Z"
   },
   {
    "duration": 9,
    "start_time": "2021-08-22T22:32:38.923Z"
   },
   {
    "duration": 357,
    "start_time": "2021-08-22T22:32:40.356Z"
   },
   {
    "duration": 14,
    "start_time": "2021-08-22T22:33:17.833Z"
   },
   {
    "duration": 362,
    "start_time": "2021-08-22T22:34:53.221Z"
   },
   {
    "duration": 11,
    "start_time": "2021-08-22T22:35:16.595Z"
   },
   {
    "duration": 28,
    "start_time": "2021-08-22T22:38:07.858Z"
   },
   {
    "duration": 12,
    "start_time": "2021-08-22T22:39:12.054Z"
   },
   {
    "duration": 18,
    "start_time": "2021-08-22T22:39:14.050Z"
   },
   {
    "duration": 10,
    "start_time": "2021-08-22T22:39:47.929Z"
   },
   {
    "duration": 20,
    "start_time": "2021-08-22T22:41:20.870Z"
   },
   {
    "duration": 14,
    "start_time": "2021-08-22T22:41:44.309Z"
   },
   {
    "duration": 2558,
    "start_time": "2021-08-23T07:50:12.534Z"
   },
   {
    "duration": 20,
    "start_time": "2021-08-23T07:50:15.095Z"
   },
   {
    "duration": 22,
    "start_time": "2021-08-23T07:50:15.119Z"
   },
   {
    "duration": 22,
    "start_time": "2021-08-23T07:50:15.144Z"
   },
   {
    "duration": 20,
    "start_time": "2021-08-23T07:50:15.169Z"
   },
   {
    "duration": 61,
    "start_time": "2021-08-23T07:50:15.192Z"
   },
   {
    "duration": 10,
    "start_time": "2021-08-23T07:50:15.263Z"
   },
   {
    "duration": 21,
    "start_time": "2021-08-23T07:50:15.276Z"
   },
   {
    "duration": 32,
    "start_time": "2021-08-23T07:50:15.300Z"
   },
   {
    "duration": 31,
    "start_time": "2021-08-23T07:50:15.335Z"
   },
   {
    "duration": 12,
    "start_time": "2021-08-23T07:50:15.369Z"
   },
   {
    "duration": 11,
    "start_time": "2021-08-23T07:50:15.383Z"
   },
   {
    "duration": 26,
    "start_time": "2021-08-23T07:50:15.396Z"
   },
   {
    "duration": 11,
    "start_time": "2021-08-23T07:50:15.424Z"
   },
   {
    "duration": 15,
    "start_time": "2021-08-23T07:50:15.459Z"
   },
   {
    "duration": 17,
    "start_time": "2021-08-23T07:50:15.477Z"
   },
   {
    "duration": 16,
    "start_time": "2021-08-23T07:50:15.497Z"
   },
   {
    "duration": 50,
    "start_time": "2021-08-23T07:50:15.517Z"
   },
   {
    "duration": 23,
    "start_time": "2021-08-23T07:50:15.570Z"
   },
   {
    "duration": 15,
    "start_time": "2021-08-23T07:50:15.595Z"
   },
   {
    "duration": 41,
    "start_time": "2021-08-23T07:50:15.613Z"
   },
   {
    "duration": 13,
    "start_time": "2021-08-23T07:50:15.656Z"
   },
   {
    "duration": 368,
    "start_time": "2021-08-23T07:50:15.676Z"
   },
   {
    "duration": 286,
    "start_time": "2021-08-23T07:50:16.048Z"
   },
   {
    "duration": 31,
    "start_time": "2021-08-23T07:50:16.337Z"
   },
   {
    "duration": 341,
    "start_time": "2021-08-23T07:50:16.374Z"
   },
   {
    "duration": 347,
    "start_time": "2021-08-23T07:50:16.717Z"
   },
   {
    "duration": 442,
    "start_time": "2021-08-23T07:50:17.067Z"
   },
   {
    "duration": 333,
    "start_time": "2021-08-23T07:50:17.512Z"
   },
   {
    "duration": 449,
    "start_time": "2021-08-23T07:50:17.857Z"
   },
   {
    "duration": 533,
    "start_time": "2021-08-23T07:50:18.309Z"
   },
   {
    "duration": 437,
    "start_time": "2021-08-23T07:50:18.844Z"
   },
   {
    "duration": 6,
    "start_time": "2021-08-23T07:50:19.284Z"
   },
   {
    "duration": 431,
    "start_time": "2021-08-23T07:50:19.292Z"
   },
   {
    "duration": 6,
    "start_time": "2021-08-23T07:50:19.725Z"
   },
   {
    "duration": 236,
    "start_time": "2021-08-23T07:50:19.733Z"
   },
   {
    "duration": 255,
    "start_time": "2021-08-23T07:50:19.972Z"
   },
   {
    "duration": 47,
    "start_time": "2021-08-23T07:50:20.229Z"
   },
   {
    "duration": 255,
    "start_time": "2021-08-23T07:50:20.279Z"
   },
   {
    "duration": 20,
    "start_time": "2021-08-23T07:50:20.537Z"
   },
   {
    "duration": 23,
    "start_time": "2021-08-23T07:50:20.559Z"
   },
   {
    "duration": 29,
    "start_time": "2021-08-23T07:50:20.585Z"
   },
   {
    "duration": 21,
    "start_time": "2021-08-23T07:50:20.616Z"
   },
   {
    "duration": 39,
    "start_time": "2021-08-23T07:50:20.640Z"
   },
   {
    "duration": 27,
    "start_time": "2021-08-23T07:50:20.681Z"
   },
   {
    "duration": 102,
    "start_time": "2021-08-23T07:50:20.710Z"
   },
   {
    "duration": -85,
    "start_time": "2021-08-23T07:50:20.900Z"
   },
   {
    "duration": 1388,
    "start_time": "2021-08-23T07:50:59.635Z"
   },
   {
    "duration": 22,
    "start_time": "2021-08-23T07:51:01.026Z"
   },
   {
    "duration": 21,
    "start_time": "2021-08-23T07:51:01.051Z"
   },
   {
    "duration": 15,
    "start_time": "2021-08-23T07:51:01.075Z"
   },
   {
    "duration": 20,
    "start_time": "2021-08-23T07:51:01.093Z"
   },
   {
    "duration": 62,
    "start_time": "2021-08-23T07:51:01.116Z"
   },
   {
    "duration": 15,
    "start_time": "2021-08-23T07:51:01.180Z"
   },
   {
    "duration": 11,
    "start_time": "2021-08-23T07:51:01.199Z"
   },
   {
    "duration": 35,
    "start_time": "2021-08-23T07:51:01.213Z"
   },
   {
    "duration": 29,
    "start_time": "2021-08-23T07:51:01.250Z"
   },
   {
    "duration": 32,
    "start_time": "2021-08-23T07:51:01.282Z"
   },
   {
    "duration": 12,
    "start_time": "2021-08-23T07:51:01.317Z"
   },
   {
    "duration": 40,
    "start_time": "2021-08-23T07:51:01.331Z"
   },
   {
    "duration": 11,
    "start_time": "2021-08-23T07:51:01.374Z"
   },
   {
    "duration": 25,
    "start_time": "2021-08-23T07:51:01.387Z"
   },
   {
    "duration": 34,
    "start_time": "2021-08-23T07:51:01.414Z"
   },
   {
    "duration": 42,
    "start_time": "2021-08-23T07:51:01.450Z"
   },
   {
    "duration": 23,
    "start_time": "2021-08-23T07:51:01.495Z"
   },
   {
    "duration": 57,
    "start_time": "2021-08-23T07:51:01.521Z"
   },
   {
    "duration": 31,
    "start_time": "2021-08-23T07:51:01.581Z"
   },
   {
    "duration": 21,
    "start_time": "2021-08-23T07:51:01.614Z"
   },
   {
    "duration": 36,
    "start_time": "2021-08-23T07:51:01.638Z"
   },
   {
    "duration": 355,
    "start_time": "2021-08-23T07:51:01.679Z"
   },
   {
    "duration": 288,
    "start_time": "2021-08-23T07:51:02.036Z"
   },
   {
    "duration": 33,
    "start_time": "2021-08-23T07:51:02.327Z"
   },
   {
    "duration": 359,
    "start_time": "2021-08-23T07:51:02.363Z"
   },
   {
    "duration": 369,
    "start_time": "2021-08-23T07:51:02.724Z"
   },
   {
    "duration": 436,
    "start_time": "2021-08-23T07:51:03.096Z"
   },
   {
    "duration": 352,
    "start_time": "2021-08-23T07:51:03.535Z"
   },
   {
    "duration": 455,
    "start_time": "2021-08-23T07:51:03.890Z"
   },
   {
    "duration": 625,
    "start_time": "2021-08-23T07:51:04.348Z"
   },
   {
    "duration": 449,
    "start_time": "2021-08-23T07:51:04.977Z"
   },
   {
    "duration": 6,
    "start_time": "2021-08-23T07:51:05.429Z"
   },
   {
    "duration": 482,
    "start_time": "2021-08-23T07:51:05.438Z"
   },
   {
    "duration": 5,
    "start_time": "2021-08-23T07:51:05.922Z"
   },
   {
    "duration": 209,
    "start_time": "2021-08-23T07:51:05.929Z"
   },
   {
    "duration": 248,
    "start_time": "2021-08-23T07:51:06.141Z"
   },
   {
    "duration": 39,
    "start_time": "2021-08-23T07:51:06.392Z"
   },
   {
    "duration": 249,
    "start_time": "2021-08-23T07:51:06.433Z"
   },
   {
    "duration": 5,
    "start_time": "2021-08-23T07:51:06.685Z"
   },
   {
    "duration": 11,
    "start_time": "2021-08-23T07:51:06.692Z"
   },
   {
    "duration": 16,
    "start_time": "2021-08-23T07:51:06.706Z"
   },
   {
    "duration": 42,
    "start_time": "2021-08-23T07:51:06.724Z"
   },
   {
    "duration": 14,
    "start_time": "2021-08-23T07:51:06.769Z"
   },
   {
    "duration": 10,
    "start_time": "2021-08-23T07:51:06.785Z"
   },
   {
    "duration": 112,
    "start_time": "2021-08-23T07:51:06.798Z"
   },
   {
    "duration": -55,
    "start_time": "2021-08-23T07:51:06.968Z"
   },
   {
    "duration": 1338,
    "start_time": "2021-08-23T07:53:21.483Z"
   },
   {
    "duration": 21,
    "start_time": "2021-08-23T07:53:22.824Z"
   },
   {
    "duration": 24,
    "start_time": "2021-08-23T07:53:22.848Z"
   },
   {
    "duration": 22,
    "start_time": "2021-08-23T07:53:22.876Z"
   },
   {
    "duration": 18,
    "start_time": "2021-08-23T07:53:22.901Z"
   },
   {
    "duration": 54,
    "start_time": "2021-08-23T07:53:22.922Z"
   },
   {
    "duration": 23,
    "start_time": "2021-08-23T07:53:22.979Z"
   },
   {
    "duration": 18,
    "start_time": "2021-08-23T07:53:23.006Z"
   },
   {
    "duration": 24,
    "start_time": "2021-08-23T07:53:23.030Z"
   },
   {
    "duration": 23,
    "start_time": "2021-08-23T07:53:23.057Z"
   },
   {
    "duration": 17,
    "start_time": "2021-08-23T07:53:23.083Z"
   },
   {
    "duration": 10,
    "start_time": "2021-08-23T07:53:23.102Z"
   },
   {
    "duration": 28,
    "start_time": "2021-08-23T07:53:23.114Z"
   },
   {
    "duration": 20,
    "start_time": "2021-08-23T07:53:23.144Z"
   },
   {
    "duration": 18,
    "start_time": "2021-08-23T07:53:23.166Z"
   },
   {
    "duration": 16,
    "start_time": "2021-08-23T07:53:23.187Z"
   },
   {
    "duration": 48,
    "start_time": "2021-08-23T07:53:23.206Z"
   },
   {
    "duration": 13,
    "start_time": "2021-08-23T07:53:23.257Z"
   },
   {
    "duration": 31,
    "start_time": "2021-08-23T07:53:23.273Z"
   },
   {
    "duration": 18,
    "start_time": "2021-08-23T07:53:23.307Z"
   },
   {
    "duration": 36,
    "start_time": "2021-08-23T07:53:23.328Z"
   },
   {
    "duration": 15,
    "start_time": "2021-08-23T07:53:23.367Z"
   },
   {
    "duration": 359,
    "start_time": "2021-08-23T07:53:23.384Z"
   },
   {
    "duration": 277,
    "start_time": "2021-08-23T07:53:23.745Z"
   },
   {
    "duration": 34,
    "start_time": "2021-08-23T07:53:24.024Z"
   },
   {
    "duration": 415,
    "start_time": "2021-08-23T07:53:24.060Z"
   },
   {
    "duration": 392,
    "start_time": "2021-08-23T07:53:24.483Z"
   },
   {
    "duration": 412,
    "start_time": "2021-08-23T07:53:24.878Z"
   },
   {
    "duration": 344,
    "start_time": "2021-08-23T07:53:25.293Z"
   },
   {
    "duration": 457,
    "start_time": "2021-08-23T07:53:25.640Z"
   },
   {
    "duration": 496,
    "start_time": "2021-08-23T07:53:26.099Z"
   },
   {
    "duration": 420,
    "start_time": "2021-08-23T07:53:26.598Z"
   },
   {
    "duration": 6,
    "start_time": "2021-08-23T07:53:27.021Z"
   },
   {
    "duration": 408,
    "start_time": "2021-08-23T07:53:27.029Z"
   },
   {
    "duration": 6,
    "start_time": "2021-08-23T07:53:27.440Z"
   },
   {
    "duration": 206,
    "start_time": "2021-08-23T07:53:27.455Z"
   },
   {
    "duration": 237,
    "start_time": "2021-08-23T07:53:27.663Z"
   },
   {
    "duration": 52,
    "start_time": "2021-08-23T07:53:27.903Z"
   },
   {
    "duration": 230,
    "start_time": "2021-08-23T07:53:27.958Z"
   },
   {
    "duration": 5,
    "start_time": "2021-08-23T07:53:28.191Z"
   },
   {
    "duration": 13,
    "start_time": "2021-08-23T07:53:28.199Z"
   },
   {
    "duration": 40,
    "start_time": "2021-08-23T07:53:28.215Z"
   },
   {
    "duration": 13,
    "start_time": "2021-08-23T07:53:28.257Z"
   },
   {
    "duration": 14,
    "start_time": "2021-08-23T07:53:28.273Z"
   },
   {
    "duration": 12,
    "start_time": "2021-08-23T07:53:28.289Z"
   },
   {
    "duration": 53,
    "start_time": "2021-08-23T07:53:28.304Z"
   },
   {
    "duration": 14,
    "start_time": "2021-08-23T07:53:28.360Z"
   },
   {
    "duration": 1098,
    "start_time": "2021-08-23T10:54:38.509Z"
   },
   {
    "duration": 16,
    "start_time": "2021-08-23T10:54:39.609Z"
   },
   {
    "duration": 11,
    "start_time": "2021-08-23T10:54:39.627Z"
   },
   {
    "duration": 12,
    "start_time": "2021-08-23T10:54:39.640Z"
   },
   {
    "duration": 7,
    "start_time": "2021-08-23T10:54:39.654Z"
   },
   {
    "duration": 42,
    "start_time": "2021-08-23T10:54:39.663Z"
   },
   {
    "duration": 7,
    "start_time": "2021-08-23T10:54:39.707Z"
   },
   {
    "duration": 19,
    "start_time": "2021-08-23T10:54:39.717Z"
   },
   {
    "duration": 17,
    "start_time": "2021-08-23T10:54:39.738Z"
   },
   {
    "duration": 16,
    "start_time": "2021-08-23T10:54:39.756Z"
   },
   {
    "duration": 8,
    "start_time": "2021-08-23T10:54:39.773Z"
   },
   {
    "duration": 9,
    "start_time": "2021-08-23T10:54:39.783Z"
   },
   {
    "duration": 18,
    "start_time": "2021-08-23T10:54:39.793Z"
   },
   {
    "duration": 7,
    "start_time": "2021-08-23T10:54:39.812Z"
   },
   {
    "duration": 22,
    "start_time": "2021-08-23T10:54:39.821Z"
   },
   {
    "duration": 19,
    "start_time": "2021-08-23T10:54:39.845Z"
   },
   {
    "duration": 10,
    "start_time": "2021-08-23T10:54:39.866Z"
   },
   {
    "duration": 10,
    "start_time": "2021-08-23T10:54:39.878Z"
   },
   {
    "duration": 16,
    "start_time": "2021-08-23T10:54:39.890Z"
   },
   {
    "duration": 13,
    "start_time": "2021-08-23T10:54:39.907Z"
   },
   {
    "duration": 24,
    "start_time": "2021-08-23T10:54:39.922Z"
   },
   {
    "duration": 8,
    "start_time": "2021-08-23T10:54:39.947Z"
   },
   {
    "duration": 202,
    "start_time": "2021-08-23T10:54:39.958Z"
   },
   {
    "duration": 152,
    "start_time": "2021-08-23T10:54:40.162Z"
   },
   {
    "duration": 10,
    "start_time": "2021-08-23T10:54:40.315Z"
   },
   {
    "duration": 207,
    "start_time": "2021-08-23T10:54:40.326Z"
   },
   {
    "duration": 194,
    "start_time": "2021-08-23T10:54:40.534Z"
   },
   {
    "duration": 311,
    "start_time": "2021-08-23T10:54:40.730Z"
   },
   {
    "duration": 192,
    "start_time": "2021-08-23T10:54:41.042Z"
   },
   {
    "duration": 343,
    "start_time": "2021-08-23T10:54:41.236Z"
   },
   {
    "duration": 275,
    "start_time": "2021-08-23T10:54:41.581Z"
   },
   {
    "duration": 287,
    "start_time": "2021-08-23T10:54:41.857Z"
   },
   {
    "duration": 3,
    "start_time": "2021-08-23T10:54:42.146Z"
   },
   {
    "duration": 270,
    "start_time": "2021-08-23T10:54:42.151Z"
   },
   {
    "duration": 4,
    "start_time": "2021-08-23T10:54:42.423Z"
   },
   {
    "duration": 120,
    "start_time": "2021-08-23T10:54:42.429Z"
   },
   {
    "duration": 131,
    "start_time": "2021-08-23T10:54:42.551Z"
   },
   {
    "duration": 21,
    "start_time": "2021-08-23T10:54:42.683Z"
   },
   {
    "duration": 116,
    "start_time": "2021-08-23T10:54:42.705Z"
   },
   {
    "duration": 4,
    "start_time": "2021-08-23T10:54:42.822Z"
   },
   {
    "duration": 19,
    "start_time": "2021-08-23T10:54:42.827Z"
   },
   {
    "duration": 14,
    "start_time": "2021-08-23T10:54:42.847Z"
   },
   {
    "duration": 7,
    "start_time": "2021-08-23T10:54:42.863Z"
   },
   {
    "duration": 10,
    "start_time": "2021-08-23T10:54:42.872Z"
   },
   {
    "duration": 10,
    "start_time": "2021-08-23T10:54:42.883Z"
   },
   {
    "duration": 8,
    "start_time": "2021-08-23T10:54:42.894Z"
   },
   {
    "duration": 12,
    "start_time": "2021-08-23T10:54:42.903Z"
   },
   {
    "duration": 383,
    "start_time": "2021-08-23T11:08:18.731Z"
   },
   {
    "duration": 4,
    "start_time": "2021-08-23T11:08:28.622Z"
   },
   {
    "duration": 1059,
    "start_time": "2021-08-23T11:49:35.067Z"
   },
   {
    "duration": 17,
    "start_time": "2021-08-23T11:49:36.128Z"
   },
   {
    "duration": 9,
    "start_time": "2021-08-23T11:49:36.147Z"
   },
   {
    "duration": 7,
    "start_time": "2021-08-23T11:49:36.158Z"
   },
   {
    "duration": 10,
    "start_time": "2021-08-23T11:49:36.166Z"
   },
   {
    "duration": 81,
    "start_time": "2021-08-23T11:49:36.177Z"
   },
   {
    "duration": 6,
    "start_time": "2021-08-23T11:49:36.260Z"
   },
   {
    "duration": 4,
    "start_time": "2021-08-23T11:49:36.268Z"
   },
   {
    "duration": 12,
    "start_time": "2021-08-23T11:49:36.274Z"
   },
   {
    "duration": 16,
    "start_time": "2021-08-23T11:49:36.288Z"
   },
   {
    "duration": 7,
    "start_time": "2021-08-23T11:49:36.306Z"
   },
   {
    "duration": 7,
    "start_time": "2021-08-23T11:49:36.315Z"
   },
   {
    "duration": 15,
    "start_time": "2021-08-23T11:49:36.324Z"
   },
   {
    "duration": 8,
    "start_time": "2021-08-23T11:49:36.341Z"
   },
   {
    "duration": 13,
    "start_time": "2021-08-23T11:49:36.351Z"
   },
   {
    "duration": 10,
    "start_time": "2021-08-23T11:49:36.385Z"
   },
   {
    "duration": 15,
    "start_time": "2021-08-23T11:49:36.397Z"
   },
   {
    "duration": 10,
    "start_time": "2021-08-23T11:49:36.413Z"
   },
   {
    "duration": 14,
    "start_time": "2021-08-23T11:49:36.424Z"
   },
   {
    "duration": 9,
    "start_time": "2021-08-23T11:49:36.439Z"
   },
   {
    "duration": 35,
    "start_time": "2021-08-23T11:49:36.450Z"
   },
   {
    "duration": 7,
    "start_time": "2021-08-23T11:49:36.487Z"
   },
   {
    "duration": 210,
    "start_time": "2021-08-23T11:49:36.497Z"
   },
   {
    "duration": 150,
    "start_time": "2021-08-23T11:49:36.710Z"
   },
   {
    "duration": 10,
    "start_time": "2021-08-23T11:49:36.862Z"
   },
   {
    "duration": 229,
    "start_time": "2021-08-23T11:49:36.874Z"
   },
   {
    "duration": 230,
    "start_time": "2021-08-23T11:49:37.104Z"
   },
   {
    "duration": 310,
    "start_time": "2021-08-23T11:49:37.336Z"
   },
   {
    "duration": 221,
    "start_time": "2021-08-23T11:49:37.648Z"
   },
   {
    "duration": 369,
    "start_time": "2021-08-23T11:49:37.871Z"
   },
   {
    "duration": 325,
    "start_time": "2021-08-23T11:49:38.242Z"
   },
   {
    "duration": 340,
    "start_time": "2021-08-23T11:49:38.569Z"
   },
   {
    "duration": 4,
    "start_time": "2021-08-23T11:49:38.911Z"
   },
   {
    "duration": 286,
    "start_time": "2021-08-23T11:49:38.916Z"
   },
   {
    "duration": 5,
    "start_time": "2021-08-23T11:49:39.203Z"
   },
   {
    "duration": 122,
    "start_time": "2021-08-23T11:49:39.209Z"
   },
   {
    "duration": 160,
    "start_time": "2021-08-23T11:49:39.332Z"
   },
   {
    "duration": 22,
    "start_time": "2021-08-23T11:49:39.494Z"
   },
   {
    "duration": 131,
    "start_time": "2021-08-23T11:49:39.518Z"
   },
   {
    "duration": 3,
    "start_time": "2021-08-23T11:49:39.651Z"
   },
   {
    "duration": 6,
    "start_time": "2021-08-23T11:49:39.655Z"
   },
   {
    "duration": 7,
    "start_time": "2021-08-23T11:49:39.663Z"
   },
   {
    "duration": 19,
    "start_time": "2021-08-23T11:49:39.671Z"
   },
   {
    "duration": 7,
    "start_time": "2021-08-23T11:49:39.692Z"
   },
   {
    "duration": 9,
    "start_time": "2021-08-23T11:49:39.700Z"
   },
   {
    "duration": 9,
    "start_time": "2021-08-23T11:49:39.710Z"
   },
   {
    "duration": 8,
    "start_time": "2021-08-23T11:49:39.720Z"
   },
   {
    "duration": 10,
    "start_time": "2021-08-23T11:49:39.729Z"
   },
   {
    "duration": 7,
    "start_time": "2021-08-23T11:50:38.407Z"
   },
   {
    "duration": 10,
    "start_time": "2021-08-23T11:51:30.414Z"
   },
   {
    "duration": 1069,
    "start_time": "2021-08-23T11:53:17.079Z"
   },
   {
    "duration": 17,
    "start_time": "2021-08-23T11:53:18.150Z"
   },
   {
    "duration": 11,
    "start_time": "2021-08-23T11:53:18.169Z"
   },
   {
    "duration": 8,
    "start_time": "2021-08-23T11:53:18.182Z"
   },
   {
    "duration": 12,
    "start_time": "2021-08-23T11:53:18.192Z"
   },
   {
    "duration": 60,
    "start_time": "2021-08-23T11:53:18.205Z"
   },
   {
    "duration": 7,
    "start_time": "2021-08-23T11:53:18.268Z"
   },
   {
    "duration": 3,
    "start_time": "2021-08-23T11:53:18.279Z"
   },
   {
    "duration": 17,
    "start_time": "2021-08-23T11:53:18.285Z"
   },
   {
    "duration": 17,
    "start_time": "2021-08-23T11:53:18.304Z"
   },
   {
    "duration": 9,
    "start_time": "2021-08-23T11:53:18.324Z"
   },
   {
    "duration": 17,
    "start_time": "2021-08-23T11:53:18.335Z"
   },
   {
    "duration": 20,
    "start_time": "2021-08-23T11:53:18.356Z"
   },
   {
    "duration": 10,
    "start_time": "2021-08-23T11:53:18.386Z"
   },
   {
    "duration": 14,
    "start_time": "2021-08-23T11:53:18.398Z"
   },
   {
    "duration": 14,
    "start_time": "2021-08-23T11:53:18.414Z"
   },
   {
    "duration": 13,
    "start_time": "2021-08-23T11:53:18.430Z"
   },
   {
    "duration": 40,
    "start_time": "2021-08-23T11:53:18.445Z"
   },
   {
    "duration": 12,
    "start_time": "2021-08-23T11:53:18.487Z"
   },
   {
    "duration": 9,
    "start_time": "2021-08-23T11:53:18.500Z"
   },
   {
    "duration": 10,
    "start_time": "2021-08-23T11:53:18.511Z"
   },
   {
    "duration": 8,
    "start_time": "2021-08-23T11:53:18.523Z"
   },
   {
    "duration": 223,
    "start_time": "2021-08-23T11:53:18.535Z"
   },
   {
    "duration": 161,
    "start_time": "2021-08-23T11:53:18.760Z"
   },
   {
    "duration": 12,
    "start_time": "2021-08-23T11:53:18.923Z"
   },
   {
    "duration": 227,
    "start_time": "2021-08-23T11:53:18.937Z"
   },
   {
    "duration": 225,
    "start_time": "2021-08-23T11:53:19.166Z"
   },
   {
    "duration": 323,
    "start_time": "2021-08-23T11:53:19.393Z"
   },
   {
    "duration": 223,
    "start_time": "2021-08-23T11:53:19.717Z"
   },
   {
    "duration": 351,
    "start_time": "2021-08-23T11:53:19.941Z"
   },
   {
    "duration": 313,
    "start_time": "2021-08-23T11:53:20.294Z"
   },
   {
    "duration": 312,
    "start_time": "2021-08-23T11:53:20.608Z"
   },
   {
    "duration": 4,
    "start_time": "2021-08-23T11:53:20.922Z"
   },
   {
    "duration": 286,
    "start_time": "2021-08-23T11:53:20.927Z"
   },
   {
    "duration": 5,
    "start_time": "2021-08-23T11:53:21.214Z"
   },
   {
    "duration": 127,
    "start_time": "2021-08-23T11:53:21.220Z"
   },
   {
    "duration": 143,
    "start_time": "2021-08-23T11:53:21.349Z"
   },
   {
    "duration": 22,
    "start_time": "2021-08-23T11:53:21.493Z"
   },
   {
    "duration": 123,
    "start_time": "2021-08-23T11:53:21.516Z"
   },
   {
    "duration": 3,
    "start_time": "2021-08-23T11:53:21.640Z"
   },
   {
    "duration": 13,
    "start_time": "2021-08-23T11:53:21.645Z"
   },
   {
    "duration": 28,
    "start_time": "2021-08-23T11:53:21.659Z"
   },
   {
    "duration": 26,
    "start_time": "2021-08-23T11:53:21.689Z"
   },
   {
    "duration": 9,
    "start_time": "2021-08-23T11:53:21.717Z"
   },
   {
    "duration": 26,
    "start_time": "2021-08-23T11:53:21.728Z"
   },
   {
    "duration": 29,
    "start_time": "2021-08-23T11:53:21.756Z"
   },
   {
    "duration": 19,
    "start_time": "2021-08-23T11:53:21.787Z"
   },
   {
    "duration": 25,
    "start_time": "2021-08-23T11:53:21.808Z"
   },
   {
    "duration": 1158,
    "start_time": "2021-08-23T12:51:29.604Z"
   },
   {
    "duration": 18,
    "start_time": "2021-08-23T12:51:30.763Z"
   },
   {
    "duration": 23,
    "start_time": "2021-08-23T12:51:30.782Z"
   },
   {
    "duration": 22,
    "start_time": "2021-08-23T12:51:30.807Z"
   },
   {
    "duration": 13,
    "start_time": "2021-08-23T12:51:30.831Z"
   },
   {
    "duration": 54,
    "start_time": "2021-08-23T12:51:30.845Z"
   },
   {
    "duration": 16,
    "start_time": "2021-08-23T12:51:30.901Z"
   },
   {
    "duration": 9,
    "start_time": "2021-08-23T12:51:30.919Z"
   },
   {
    "duration": 29,
    "start_time": "2021-08-23T12:51:30.930Z"
   },
   {
    "duration": 23,
    "start_time": "2021-08-23T12:51:30.960Z"
   },
   {
    "duration": 22,
    "start_time": "2021-08-23T12:51:30.984Z"
   },
   {
    "duration": 15,
    "start_time": "2021-08-23T12:51:31.008Z"
   },
   {
    "duration": 25,
    "start_time": "2021-08-23T12:51:31.025Z"
   },
   {
    "duration": 25,
    "start_time": "2021-08-23T12:51:31.052Z"
   },
   {
    "duration": 44,
    "start_time": "2021-08-23T12:51:31.078Z"
   },
   {
    "duration": 29,
    "start_time": "2021-08-23T12:51:31.123Z"
   },
   {
    "duration": 25,
    "start_time": "2021-08-23T12:51:31.154Z"
   },
   {
    "duration": 23,
    "start_time": "2021-08-23T12:51:31.180Z"
   },
   {
    "duration": 41,
    "start_time": "2021-08-23T12:51:31.205Z"
   },
   {
    "duration": 25,
    "start_time": "2021-08-23T12:51:31.247Z"
   },
   {
    "duration": 36,
    "start_time": "2021-08-23T12:51:31.274Z"
   },
   {
    "duration": 31,
    "start_time": "2021-08-23T12:51:31.312Z"
   },
   {
    "duration": 207,
    "start_time": "2021-08-23T12:51:31.346Z"
   },
   {
    "duration": 152,
    "start_time": "2021-08-23T12:51:31.555Z"
   },
   {
    "duration": 28,
    "start_time": "2021-08-23T12:51:31.709Z"
   },
   {
    "duration": 212,
    "start_time": "2021-08-23T12:51:31.739Z"
   },
   {
    "duration": 203,
    "start_time": "2021-08-23T12:51:31.953Z"
   },
   {
    "duration": 345,
    "start_time": "2021-08-23T12:51:32.157Z"
   },
   {
    "duration": 215,
    "start_time": "2021-08-23T12:51:32.504Z"
   },
   {
    "duration": 335,
    "start_time": "2021-08-23T12:51:32.721Z"
   },
   {
    "duration": 393,
    "start_time": "2021-08-23T12:51:33.059Z"
   },
   {
    "duration": 317,
    "start_time": "2021-08-23T12:51:33.454Z"
   },
   {
    "duration": 5,
    "start_time": "2021-08-23T12:51:33.773Z"
   },
   {
    "duration": 284,
    "start_time": "2021-08-23T12:51:33.780Z"
   },
   {
    "duration": 4,
    "start_time": "2021-08-23T12:51:34.066Z"
   },
   {
    "duration": 125,
    "start_time": "2021-08-23T12:51:34.072Z"
   },
   {
    "duration": 142,
    "start_time": "2021-08-23T12:51:34.199Z"
   },
   {
    "duration": 24,
    "start_time": "2021-08-23T12:51:34.342Z"
   },
   {
    "duration": 130,
    "start_time": "2021-08-23T12:51:34.368Z"
   },
   {
    "duration": 3,
    "start_time": "2021-08-23T12:51:34.500Z"
   },
   {
    "duration": 11,
    "start_time": "2021-08-23T12:51:34.505Z"
   },
   {
    "duration": 12,
    "start_time": "2021-08-23T12:51:34.518Z"
   },
   {
    "duration": 23,
    "start_time": "2021-08-23T12:51:34.540Z"
   },
   {
    "duration": 18,
    "start_time": "2021-08-23T12:51:34.564Z"
   },
   {
    "duration": 25,
    "start_time": "2021-08-23T12:51:34.584Z"
   },
   {
    "duration": 15,
    "start_time": "2021-08-23T12:51:34.611Z"
   },
   {
    "duration": 9,
    "start_time": "2021-08-23T12:51:34.627Z"
   },
   {
    "duration": 14,
    "start_time": "2021-08-23T12:51:34.637Z"
   }
  ],
  "kernelspec": {
   "display_name": "Python 3 (ipykernel)",
   "language": "python",
   "name": "python3"
  },
  "language_info": {
   "codemirror_mode": {
    "name": "ipython",
    "version": 3
   },
   "file_extension": ".py",
   "mimetype": "text/x-python",
   "name": "python",
   "nbconvert_exporter": "python",
   "pygments_lexer": "ipython3",
   "version": "3.8.10"
  },
  "toc": {
   "base_numbering": 1,
   "nav_menu": {},
   "number_sections": true,
   "sideBar": true,
   "skip_h1_title": true,
   "title_cell": "Table of Contents",
   "title_sidebar": "Contents",
   "toc_cell": false,
   "toc_position": {},
   "toc_section_display": true,
   "toc_window_display": false
  }
 },
 "nbformat": 4,
 "nbformat_minor": 2
}
