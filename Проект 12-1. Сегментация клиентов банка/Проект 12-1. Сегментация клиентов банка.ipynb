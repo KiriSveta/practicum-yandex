{
 "cells": [
  {
   "cell_type": "markdown",
   "id": "ecf92ffb",
   "metadata": {},
   "source": [
    "# Банки — Сегментация пользователей по потреблению "
   ]
  },
  {
   "cell_type": "markdown",
   "id": "f12cc6f9",
   "metadata": {},
   "source": [
    "**Ссылка на презентацию**  https://drive.google.com/file/d/1n5i38CUvItJEvo4q62XX2Dlsggs_v19S/view?usp=sharing"
   ]
  },
  {
   "cell_type": "markdown",
   "id": "2941142b",
   "metadata": {},
   "source": [
    "**Ссылка на дашборд:** Скину чуть позже"
   ]
  },
  {
   "cell_type": "markdown",
   "id": "8978a0a3",
   "metadata": {},
   "source": [
    "**Цель проекта** - сегментация пользователей банка для формирования персональных программ по работе с клиентами"
   ]
  },
  {
   "cell_type": "markdown",
   "id": "3dc5965f",
   "metadata": {},
   "source": [
    "*Сегментация клиентской базы — это инструмент повышения эффективности работы с клиентами путем их распределения по отдельным группам, или сегментам, в соответствии с их запросам и потребностями.*\n",
    "\n",
    "*Сегментация клиентской базы позволяет определить уникальные подходы к каждой группе клиентов, чтобы каждый из них чувствовал, что ваше предложение адресовано лично ему.*"
   ]
  },
  {
   "cell_type": "markdown",
   "id": "956db39a",
   "metadata": {},
   "source": [
    "**Заказчик анализа** - продуктовый менеджер"
   ]
  },
  {
   "cell_type": "markdown",
   "id": "f15828bf",
   "metadata": {},
   "source": [
    "*Описание данных*"
   ]
  },
  {
   "cell_type": "markdown",
   "id": "1085ada8",
   "metadata": {},
   "source": [
    "Датасет содержит данные о клиентах банка «Метанпром». Банк располагается в Ярославле и областных городах: Ростов Великий и Рыбинск.\n",
    "\n",
    "Колонки:\n",
    "\n",
    "- `userid` — идентификатор пользователя,\n",
    "- `score` — баллы кредитного скоринга,\n",
    "- `City` — город,\n",
    "- `Gender` — пол,\n",
    "- `Age` — возраст,\n",
    "- `Objects` — количество объектов в собственности,\n",
    "- `Balance` — баланс на счёте,\n",
    "- `Products` — количество продуктов, которыми пользуется клиент,\n",
    "- `CreditCard` — есть ли кредитная карта,\n",
    "- `Loyalty` — активный клиент,\n",
    "- `estimated_salary` — заработная плата клиента,\n",
    "- `Churn` — ушёл или нет."
   ]
  },
  {
   "cell_type": "markdown",
   "id": "ab2c58ab",
   "metadata": {},
   "source": [
    " <h1>Содержание<span class=\"tocSkip\"></span></h1>\n",
    "<div class=\"toc\"><ul class=\"toc-item\"><li><span><a href=\"#Знакомство-с-данными-и-предобработка\" data-toc-modified-id=\"Знакомство-с-данными-и-предобработка-1\"><span class=\"toc-item-num\">1&nbsp;&nbsp;</span>Знакомство с данными и предобработка</a></span></li><li><span><a href=\"#Исследовательский-анализ-данных\" data-toc-modified-id=\"Исследовательский-анализ-данных-2\"><span class=\"toc-item-num\">2&nbsp;&nbsp;</span>Исследовательский анализ данных</a></span></li><li><span><a href=\"#Сегментация-пользователей-банка\" data-toc-modified-id=\"Сегментация-пользователей-банка-3\"><span class=\"toc-item-num\">3&nbsp;&nbsp;</span>Сегментация пользователей банка</a></span></li><li><span><a href=\"#Проверка-гипотез\" data-toc-modified-id=\"Проверка-гипотез-4\"><span class=\"toc-item-num\">4&nbsp;&nbsp;</span>Проверка гипотез</a></span></li><li><span><a href=\"#Выводы-и-рекомендации\" data-toc-modified-id=\"Выводы-и-рекомендации-5\"><span class=\"toc-item-num\">5&nbsp;&nbsp;</span>Выводы и рекомендации</a></span></li></ul></div>"
   ]
  },
  {
   "cell_type": "markdown",
   "id": "be218fcf",
   "metadata": {},
   "source": [
    "# 1. Знакомство с данными и предобработка"
   ]
  },
  {
   "cell_type": "code",
   "execution_count": 1,
   "id": "d2288d99",
   "metadata": {},
   "outputs": [],
   "source": [
    "import pandas as pd\n",
    "pd.set_option('max_colwidth', -1)\n",
    "pd.options.display.float_format = '{:,.2f}'.format\n",
    "import matplotlib.pyplot as plt\n",
    "from plotly import graph_objects as go\n",
    "from pandas.plotting import register_matplotlib_converters\n",
    "import seaborn as sns\n",
    "from scipy import stats as st\n",
    "import numpy as np\n",
    "from sklearn.preprocessing import OneHotEncoder\n",
    "import warnings\n",
    "warnings.filterwarnings('ignore')"
   ]
  },
  {
   "cell_type": "code",
   "execution_count": 2,
   "id": "4e507430",
   "metadata": {},
   "outputs": [],
   "source": [
    "df = pd.read_csv('/datasets/bank_dataset.csv')"
   ]
  },
  {
   "cell_type": "code",
   "execution_count": 3,
   "id": "2371590c",
   "metadata": {},
   "outputs": [
    {
     "name": "stdout",
     "output_type": "stream",
     "text": [
      "<class 'pandas.core.frame.DataFrame'>\n",
      "RangeIndex: 10000 entries, 0 to 9999\n",
      "Data columns (total 12 columns):\n",
      "userid              10000 non-null int64\n",
      "score               10000 non-null int64\n",
      "City                10000 non-null object\n",
      "Gender              10000 non-null object\n",
      "Age                 10000 non-null int64\n",
      "Objects             10000 non-null int64\n",
      "Balance             6383 non-null float64\n",
      "Products            10000 non-null int64\n",
      "CreditCard          10000 non-null int64\n",
      "Loyalty             10000 non-null int64\n",
      "estimated_salary    10000 non-null float64\n",
      "Churn               10000 non-null int64\n",
      "dtypes: float64(2), int64(8), object(2)\n",
      "memory usage: 937.6+ KB\n"
     ]
    }
   ],
   "source": [
    "#посмотрим на размер и общую информацию о датасете\n",
    "df.info()"
   ]
  },
  {
   "cell_type": "markdown",
   "id": "2b68edd7",
   "metadata": {},
   "source": [
    "Видим, что собрана информация о 10000 клиентов, лишь у чуть больше половины из которых есть дебетовая карта или счет. Пропуски мы заполнять не будем, т.к. это может исказить данные. Наименования столбцов необходимо привести к единообразию (к нижнему регистру), тип данных во всех столбцах корректный."
   ]
  },
  {
   "cell_type": "code",
   "execution_count": 4,
   "id": "66ecd918",
   "metadata": {},
   "outputs": [],
   "source": [
    "#приведем наименования столбцов к нижнему регистру\n",
    "df.columns = df.columns.str.lower() "
   ]
  },
  {
   "cell_type": "code",
   "execution_count": 5,
   "id": "39ee6451",
   "metadata": {},
   "outputs": [
    {
     "data": {
      "text/plain": [
       "0"
      ]
     },
     "execution_count": 5,
     "metadata": {},
     "output_type": "execute_result"
    }
   ],
   "source": [
    "#проверим на дубликаты\n",
    "df.duplicated().sum()"
   ]
  },
  {
   "cell_type": "code",
   "execution_count": 6,
   "id": "03e8fee6",
   "metadata": {},
   "outputs": [
    {
     "data": {
      "text/html": [
       "<div>\n",
       "<style scoped>\n",
       "    .dataframe tbody tr th:only-of-type {\n",
       "        vertical-align: middle;\n",
       "    }\n",
       "\n",
       "    .dataframe tbody tr th {\n",
       "        vertical-align: top;\n",
       "    }\n",
       "\n",
       "    .dataframe thead th {\n",
       "        text-align: right;\n",
       "    }\n",
       "</style>\n",
       "<table border=\"1\" class=\"dataframe\">\n",
       "  <thead>\n",
       "    <tr style=\"text-align: right;\">\n",
       "      <th></th>\n",
       "      <th>userid</th>\n",
       "      <th>score</th>\n",
       "      <th>city</th>\n",
       "      <th>gender</th>\n",
       "      <th>age</th>\n",
       "      <th>objects</th>\n",
       "      <th>balance</th>\n",
       "      <th>products</th>\n",
       "      <th>creditcard</th>\n",
       "      <th>loyalty</th>\n",
       "      <th>estimated_salary</th>\n",
       "      <th>churn</th>\n",
       "    </tr>\n",
       "  </thead>\n",
       "  <tbody>\n",
       "    <tr>\n",
       "      <td>0</td>\n",
       "      <td>15677338</td>\n",
       "      <td>619</td>\n",
       "      <td>Ярославль</td>\n",
       "      <td>Ж</td>\n",
       "      <td>42</td>\n",
       "      <td>2</td>\n",
       "      <td>nan</td>\n",
       "      <td>1</td>\n",
       "      <td>1</td>\n",
       "      <td>1</td>\n",
       "      <td>101,348.88</td>\n",
       "      <td>1</td>\n",
       "    </tr>\n",
       "    <tr>\n",
       "      <td>1</td>\n",
       "      <td>15690047</td>\n",
       "      <td>608</td>\n",
       "      <td>Рыбинск</td>\n",
       "      <td>Ж</td>\n",
       "      <td>41</td>\n",
       "      <td>1</td>\n",
       "      <td>83,807.86</td>\n",
       "      <td>1</td>\n",
       "      <td>0</td>\n",
       "      <td>1</td>\n",
       "      <td>112,542.58</td>\n",
       "      <td>0</td>\n",
       "    </tr>\n",
       "    <tr>\n",
       "      <td>2</td>\n",
       "      <td>15662040</td>\n",
       "      <td>502</td>\n",
       "      <td>Ярославль</td>\n",
       "      <td>Ж</td>\n",
       "      <td>42</td>\n",
       "      <td>8</td>\n",
       "      <td>159,660.80</td>\n",
       "      <td>3</td>\n",
       "      <td>1</td>\n",
       "      <td>0</td>\n",
       "      <td>113,931.57</td>\n",
       "      <td>1</td>\n",
       "    </tr>\n",
       "    <tr>\n",
       "      <td>3</td>\n",
       "      <td>15744090</td>\n",
       "      <td>699</td>\n",
       "      <td>Ярославль</td>\n",
       "      <td>Ж</td>\n",
       "      <td>39</td>\n",
       "      <td>1</td>\n",
       "      <td>nan</td>\n",
       "      <td>2</td>\n",
       "      <td>0</td>\n",
       "      <td>0</td>\n",
       "      <td>93,826.63</td>\n",
       "      <td>0</td>\n",
       "    </tr>\n",
       "    <tr>\n",
       "      <td>4</td>\n",
       "      <td>15780624</td>\n",
       "      <td>850</td>\n",
       "      <td>Рыбинск</td>\n",
       "      <td>Ж</td>\n",
       "      <td>43</td>\n",
       "      <td>2</td>\n",
       "      <td>125,510.82</td>\n",
       "      <td>1</td>\n",
       "      <td>1</td>\n",
       "      <td>1</td>\n",
       "      <td>79,084.10</td>\n",
       "      <td>0</td>\n",
       "    </tr>\n",
       "    <tr>\n",
       "      <td>5</td>\n",
       "      <td>15616748</td>\n",
       "      <td>645</td>\n",
       "      <td>Рыбинск</td>\n",
       "      <td>М</td>\n",
       "      <td>44</td>\n",
       "      <td>8</td>\n",
       "      <td>113,755.78</td>\n",
       "      <td>2</td>\n",
       "      <td>1</td>\n",
       "      <td>0</td>\n",
       "      <td>149,756.71</td>\n",
       "      <td>1</td>\n",
       "    </tr>\n",
       "    <tr>\n",
       "      <td>6</td>\n",
       "      <td>15635267</td>\n",
       "      <td>822</td>\n",
       "      <td>Ярославль</td>\n",
       "      <td>М</td>\n",
       "      <td>50</td>\n",
       "      <td>7</td>\n",
       "      <td>nan</td>\n",
       "      <td>2</td>\n",
       "      <td>1</td>\n",
       "      <td>1</td>\n",
       "      <td>10,062.80</td>\n",
       "      <td>0</td>\n",
       "    </tr>\n",
       "    <tr>\n",
       "      <td>7</td>\n",
       "      <td>15698884</td>\n",
       "      <td>376</td>\n",
       "      <td>Ростов Великий</td>\n",
       "      <td>Ж</td>\n",
       "      <td>29</td>\n",
       "      <td>4</td>\n",
       "      <td>115,046.74</td>\n",
       "      <td>4</td>\n",
       "      <td>1</td>\n",
       "      <td>0</td>\n",
       "      <td>119,346.88</td>\n",
       "      <td>1</td>\n",
       "    </tr>\n",
       "    <tr>\n",
       "      <td>8</td>\n",
       "      <td>15835101</td>\n",
       "      <td>501</td>\n",
       "      <td>Ярославль</td>\n",
       "      <td>М</td>\n",
       "      <td>44</td>\n",
       "      <td>4</td>\n",
       "      <td>142,051.07</td>\n",
       "      <td>2</td>\n",
       "      <td>0</td>\n",
       "      <td>1</td>\n",
       "      <td>74,940.50</td>\n",
       "      <td>0</td>\n",
       "    </tr>\n",
       "    <tr>\n",
       "      <td>9</td>\n",
       "      <td>15635125</td>\n",
       "      <td>684</td>\n",
       "      <td>Ярославль</td>\n",
       "      <td>М</td>\n",
       "      <td>27</td>\n",
       "      <td>2</td>\n",
       "      <td>134,603.88</td>\n",
       "      <td>1</td>\n",
       "      <td>1</td>\n",
       "      <td>1</td>\n",
       "      <td>71,725.73</td>\n",
       "      <td>0</td>\n",
       "    </tr>\n",
       "  </tbody>\n",
       "</table>\n",
       "</div>"
      ],
      "text/plain": [
       "     userid  score            city gender  age  objects    balance  products  \\\n",
       "0  15677338  619    Ярославль       Ж      42   2       nan         1          \n",
       "1  15690047  608    Рыбинск         Ж      41   1       83,807.86   1          \n",
       "2  15662040  502    Ярославль       Ж      42   8       159,660.80  3          \n",
       "3  15744090  699    Ярославль       Ж      39   1       nan         2          \n",
       "4  15780624  850    Рыбинск         Ж      43   2       125,510.82  1          \n",
       "5  15616748  645    Рыбинск         М      44   8       113,755.78  2          \n",
       "6  15635267  822    Ярославль       М      50   7       nan         2          \n",
       "7  15698884  376    Ростов Великий  Ж      29   4       115,046.74  4          \n",
       "8  15835101  501    Ярославль       М      44   4       142,051.07  2          \n",
       "9  15635125  684    Ярославль       М      27   2       134,603.88  1          \n",
       "\n",
       "   creditcard  loyalty  estimated_salary  churn  \n",
       "0  1           1       101,348.88         1      \n",
       "1  0           1       112,542.58         0      \n",
       "2  1           0       113,931.57         1      \n",
       "3  0           0       93,826.63          0      \n",
       "4  1           1       79,084.10          0      \n",
       "5  1           0       149,756.71         1      \n",
       "6  1           1       10,062.80          0      \n",
       "7  1           0       119,346.88         1      \n",
       "8  0           1       74,940.50          0      \n",
       "9  1           1       71,725.73          0      "
      ]
     },
     "execution_count": 6,
     "metadata": {},
     "output_type": "execute_result"
    }
   ],
   "source": [
    "#посмотрим на первые 10 строк датасета\n",
    "df.head(10)"
   ]
  },
  {
   "cell_type": "code",
   "execution_count": 7,
   "id": "6649a1a3",
   "metadata": {},
   "outputs": [
    {
     "data": {
      "text/plain": [
       "array(['Ярославль', 'Рыбинск', 'Ростов Великий'], dtype=object)"
      ]
     },
     "execution_count": 7,
     "metadata": {},
     "output_type": "execute_result"
    }
   ],
   "source": [
    "#посмотрим на разнообразие городов\n",
    "df['city'].unique()"
   ]
  },
  {
   "cell_type": "markdown",
   "id": "b48cd435",
   "metadata": {},
   "source": [
    "Их всего три. Отлично! Исключили вероятность неправильного написания названий городов."
   ]
  },
  {
   "cell_type": "markdown",
   "id": "6570d9d5",
   "metadata": {},
   "source": [
    "# 2. Исследовательский анализ данных"
   ]
  },
  {
   "cell_type": "code",
   "execution_count": 8,
   "id": "3b8a9f0a",
   "metadata": {},
   "outputs": [
    {
     "data": {
      "text/plain": [
       "gender\n",
       "Ж    4543\n",
       "М    5457\n",
       "Name: userid, dtype: int64"
      ]
     },
     "execution_count": 8,
     "metadata": {},
     "output_type": "execute_result"
    }
   ],
   "source": [
    "df.groupby('gender')['userid'].count()"
   ]
  },
  {
   "cell_type": "code",
   "execution_count": 9,
   "id": "a2a8c34a",
   "metadata": {},
   "outputs": [
    {
     "data": {
      "text/html": [
       "<div>\n",
       "<style scoped>\n",
       "    .dataframe tbody tr th:only-of-type {\n",
       "        vertical-align: middle;\n",
       "    }\n",
       "\n",
       "    .dataframe tbody tr th {\n",
       "        vertical-align: top;\n",
       "    }\n",
       "\n",
       "    .dataframe thead th {\n",
       "        text-align: right;\n",
       "    }\n",
       "</style>\n",
       "<table border=\"1\" class=\"dataframe\">\n",
       "  <thead>\n",
       "    <tr style=\"text-align: right;\">\n",
       "      <th></th>\n",
       "      <th>userid</th>\n",
       "      <th>score</th>\n",
       "      <th>age</th>\n",
       "      <th>objects</th>\n",
       "      <th>balance</th>\n",
       "      <th>products</th>\n",
       "      <th>creditcard</th>\n",
       "      <th>loyalty</th>\n",
       "      <th>estimated_salary</th>\n",
       "      <th>churn</th>\n",
       "    </tr>\n",
       "  </thead>\n",
       "  <tbody>\n",
       "    <tr>\n",
       "      <td>count</td>\n",
       "      <td>10,000.00</td>\n",
       "      <td>10,000.00</td>\n",
       "      <td>10,000.00</td>\n",
       "      <td>10,000.00</td>\n",
       "      <td>6,383.00</td>\n",
       "      <td>10,000.00</td>\n",
       "      <td>10,000.00</td>\n",
       "      <td>10,000.00</td>\n",
       "      <td>10,000.00</td>\n",
       "      <td>10,000.00</td>\n",
       "    </tr>\n",
       "    <tr>\n",
       "      <td>mean</td>\n",
       "      <td>15,733,676.57</td>\n",
       "      <td>650.53</td>\n",
       "      <td>38.92</td>\n",
       "      <td>5.01</td>\n",
       "      <td>119,827.49</td>\n",
       "      <td>1.53</td>\n",
       "      <td>0.71</td>\n",
       "      <td>0.52</td>\n",
       "      <td>100,090.24</td>\n",
       "      <td>0.20</td>\n",
       "    </tr>\n",
       "    <tr>\n",
       "      <td>std</td>\n",
       "      <td>71,936.19</td>\n",
       "      <td>96.65</td>\n",
       "      <td>10.49</td>\n",
       "      <td>2.89</td>\n",
       "      <td>30,095.06</td>\n",
       "      <td>0.58</td>\n",
       "      <td>0.46</td>\n",
       "      <td>0.50</td>\n",
       "      <td>57,510.49</td>\n",
       "      <td>0.40</td>\n",
       "    </tr>\n",
       "    <tr>\n",
       "      <td>min</td>\n",
       "      <td>15,608,437.00</td>\n",
       "      <td>350.00</td>\n",
       "      <td>18.00</td>\n",
       "      <td>0.00</td>\n",
       "      <td>3,768.69</td>\n",
       "      <td>1.00</td>\n",
       "      <td>0.00</td>\n",
       "      <td>0.00</td>\n",
       "      <td>11.58</td>\n",
       "      <td>0.00</td>\n",
       "    </tr>\n",
       "    <tr>\n",
       "      <td>25%</td>\n",
       "      <td>15,671,264.25</td>\n",
       "      <td>584.00</td>\n",
       "      <td>32.00</td>\n",
       "      <td>3.00</td>\n",
       "      <td>100,181.98</td>\n",
       "      <td>1.00</td>\n",
       "      <td>0.00</td>\n",
       "      <td>0.00</td>\n",
       "      <td>51,002.11</td>\n",
       "      <td>0.00</td>\n",
       "    </tr>\n",
       "    <tr>\n",
       "      <td>50%</td>\n",
       "      <td>15,733,474.00</td>\n",
       "      <td>652.00</td>\n",
       "      <td>37.00</td>\n",
       "      <td>5.00</td>\n",
       "      <td>119,839.69</td>\n",
       "      <td>1.00</td>\n",
       "      <td>1.00</td>\n",
       "      <td>1.00</td>\n",
       "      <td>100,193.91</td>\n",
       "      <td>0.00</td>\n",
       "    </tr>\n",
       "    <tr>\n",
       "      <td>75%</td>\n",
       "      <td>15,795,969.75</td>\n",
       "      <td>718.00</td>\n",
       "      <td>44.00</td>\n",
       "      <td>7.00</td>\n",
       "      <td>139,512.29</td>\n",
       "      <td>2.00</td>\n",
       "      <td>1.00</td>\n",
       "      <td>1.00</td>\n",
       "      <td>149,388.25</td>\n",
       "      <td>0.00</td>\n",
       "    </tr>\n",
       "    <tr>\n",
       "      <td>max</td>\n",
       "      <td>15,858,426.00</td>\n",
       "      <td>850.00</td>\n",
       "      <td>92.00</td>\n",
       "      <td>10.00</td>\n",
       "      <td>250,898.09</td>\n",
       "      <td>4.00</td>\n",
       "      <td>1.00</td>\n",
       "      <td>1.00</td>\n",
       "      <td>199,992.48</td>\n",
       "      <td>1.00</td>\n",
       "    </tr>\n",
       "  </tbody>\n",
       "</table>\n",
       "</div>"
      ],
      "text/plain": [
       "             userid     score       age   objects    balance  products  \\\n",
       "count 10,000.00     10,000.00 10,000.00 10,000.00 6,383.00   10,000.00   \n",
       "mean  15,733,676.57 650.53    38.92     5.01      119,827.49 1.53        \n",
       "std   71,936.19     96.65     10.49     2.89      30,095.06  0.58        \n",
       "min   15,608,437.00 350.00    18.00     0.00      3,768.69   1.00        \n",
       "25%   15,671,264.25 584.00    32.00     3.00      100,181.98 1.00        \n",
       "50%   15,733,474.00 652.00    37.00     5.00      119,839.69 1.00        \n",
       "75%   15,795,969.75 718.00    44.00     7.00      139,512.29 2.00        \n",
       "max   15,858,426.00 850.00    92.00     10.00     250,898.09 4.00        \n",
       "\n",
       "       creditcard   loyalty  estimated_salary     churn  \n",
       "count 10,000.00   10,000.00 10,000.00         10,000.00  \n",
       "mean  0.71        0.52      100,090.24        0.20       \n",
       "std   0.46        0.50      57,510.49         0.40       \n",
       "min   0.00        0.00      11.58             0.00       \n",
       "25%   0.00        0.00      51,002.11         0.00       \n",
       "50%   1.00        1.00      100,193.91        0.00       \n",
       "75%   1.00        1.00      149,388.25        0.00       \n",
       "max   1.00        1.00      199,992.48        1.00       "
      ]
     },
     "execution_count": 9,
     "metadata": {},
     "output_type": "execute_result"
    }
   ],
   "source": [
    "df.describe()"
   ]
  },
  {
   "cell_type": "markdown",
   "id": "ebe0b65f",
   "metadata": {},
   "source": [
    "Здесь можно сделать следующие выводы:\n",
    "\n",
    "- в датасете почти на 10% больше мужчин;\n",
    "- средний возраст клиента 39 лет;\n",
    "- среднее количество объектов во владении равно 5;\n",
    "- баланс на счету разный - от 3769 руб. до 250898 руб. Ориентироваться на средние значения нельзя, т.к. столбец содержит 36% пропусков;\n",
    "- среднее количество потребляемых банковских продуктов - не более 2х;\n",
    "- кредитные карты есть лишь у 71% клиентов;\n",
    "- активными клиентов банк считает лишь 52%;\n",
    "- оцененный банком доход клиентов разный - от 11 рублей до 200 тысяч рублей;\n",
    "- отток клиентов составляет 20%."
   ]
  },
  {
   "cell_type": "markdown",
   "id": "a2aa3957",
   "metadata": {},
   "source": [
    "В предоставленных данных собрана информация о клиентах из трех городов: Ярославль (областной центр, население по данным Яндекс.Карты 601,4 тысяч человек), Рыбинск (районный центр Ярославской области, население по данным Яндекс.Карты 184,6 тысяч человек) и Ростов Великий (районный центр Ярославской области, население по данным Яндекс.Карты 30,5 тысяч человек). Так как в статусе городов и их численности населения есть значимые различия, считаю целесообразным проводить исследовательский анализ данных и дальнейшую сегментацию по каждому городу отдельно."
   ]
  },
  {
   "cell_type": "code",
   "execution_count": 10,
   "id": "54d67ed6",
   "metadata": {},
   "outputs": [
    {
     "data": {
      "text/html": [
       "<div>\n",
       "<style scoped>\n",
       "    .dataframe tbody tr th:only-of-type {\n",
       "        vertical-align: middle;\n",
       "    }\n",
       "\n",
       "    .dataframe tbody tr th {\n",
       "        vertical-align: top;\n",
       "    }\n",
       "\n",
       "    .dataframe thead th {\n",
       "        text-align: right;\n",
       "    }\n",
       "</style>\n",
       "<table border=\"1\" class=\"dataframe\">\n",
       "  <thead>\n",
       "    <tr style=\"text-align: right;\">\n",
       "      <th></th>\n",
       "      <th>userid</th>\n",
       "      <th>score</th>\n",
       "      <th>city</th>\n",
       "      <th>gender</th>\n",
       "      <th>age</th>\n",
       "      <th>objects</th>\n",
       "      <th>balance</th>\n",
       "      <th>products</th>\n",
       "      <th>creditcard</th>\n",
       "      <th>loyalty</th>\n",
       "      <th>estimated_salary</th>\n",
       "      <th>churn</th>\n",
       "    </tr>\n",
       "  </thead>\n",
       "  <tbody>\n",
       "    <tr>\n",
       "      <td>7</td>\n",
       "      <td>15698884</td>\n",
       "      <td>376</td>\n",
       "      <td>Ростов Великий</td>\n",
       "      <td>Ж</td>\n",
       "      <td>29</td>\n",
       "      <td>4</td>\n",
       "      <td>115,046.74</td>\n",
       "      <td>4</td>\n",
       "      <td>1</td>\n",
       "      <td>0</td>\n",
       "      <td>119,346.88</td>\n",
       "      <td>1</td>\n",
       "    </tr>\n",
       "    <tr>\n",
       "      <td>15</td>\n",
       "      <td>15686702</td>\n",
       "      <td>616</td>\n",
       "      <td>Ростов Великий</td>\n",
       "      <td>М</td>\n",
       "      <td>45</td>\n",
       "      <td>3</td>\n",
       "      <td>143,129.41</td>\n",
       "      <td>2</td>\n",
       "      <td>0</td>\n",
       "      <td>1</td>\n",
       "      <td>64,327.26</td>\n",
       "      <td>0</td>\n",
       "    </tr>\n",
       "    <tr>\n",
       "      <td>16</td>\n",
       "      <td>15780188</td>\n",
       "      <td>653</td>\n",
       "      <td>Ростов Великий</td>\n",
       "      <td>М</td>\n",
       "      <td>58</td>\n",
       "      <td>1</td>\n",
       "      <td>132,602.88</td>\n",
       "      <td>1</td>\n",
       "      <td>1</td>\n",
       "      <td>0</td>\n",
       "      <td>5,097.67</td>\n",
       "      <td>1</td>\n",
       "    </tr>\n",
       "    <tr>\n",
       "      <td>26</td>\n",
       "      <td>15779552</td>\n",
       "      <td>756</td>\n",
       "      <td>Ростов Великий</td>\n",
       "      <td>М</td>\n",
       "      <td>36</td>\n",
       "      <td>2</td>\n",
       "      <td>136,815.64</td>\n",
       "      <td>1</td>\n",
       "      <td>1</td>\n",
       "      <td>1</td>\n",
       "      <td>170,041.95</td>\n",
       "      <td>0</td>\n",
       "    </tr>\n",
       "    <tr>\n",
       "      <td>28</td>\n",
       "      <td>15771429</td>\n",
       "      <td>574</td>\n",
       "      <td>Ростов Великий</td>\n",
       "      <td>Ж</td>\n",
       "      <td>43</td>\n",
       "      <td>3</td>\n",
       "      <td>141,349.43</td>\n",
       "      <td>1</td>\n",
       "      <td>1</td>\n",
       "      <td>1</td>\n",
       "      <td>100,187.43</td>\n",
       "      <td>0</td>\n",
       "    </tr>\n",
       "  </tbody>\n",
       "</table>\n",
       "</div>"
      ],
      "text/plain": [
       "      userid  score            city gender  age  objects    balance  products  \\\n",
       "7   15698884  376    Ростов Великий  Ж      29   4       115,046.74  4          \n",
       "15  15686702  616    Ростов Великий  М      45   3       143,129.41  2          \n",
       "16  15780188  653    Ростов Великий  М      58   1       132,602.88  1          \n",
       "26  15779552  756    Ростов Великий  М      36   2       136,815.64  1          \n",
       "28  15771429  574    Ростов Великий  Ж      43   3       141,349.43  1          \n",
       "\n",
       "    creditcard  loyalty  estimated_salary  churn  \n",
       "7   1           0       119,346.88         1      \n",
       "15  0           1       64,327.26          0      \n",
       "16  1           0       5,097.67           1      \n",
       "26  1           1       170,041.95         0      \n",
       "28  1           1       100,187.43         0      "
      ]
     },
     "metadata": {},
     "output_type": "display_data"
    },
    {
     "data": {
      "text/html": [
       "<div>\n",
       "<style scoped>\n",
       "    .dataframe tbody tr th:only-of-type {\n",
       "        vertical-align: middle;\n",
       "    }\n",
       "\n",
       "    .dataframe tbody tr th {\n",
       "        vertical-align: top;\n",
       "    }\n",
       "\n",
       "    .dataframe thead th {\n",
       "        text-align: right;\n",
       "    }\n",
       "</style>\n",
       "<table border=\"1\" class=\"dataframe\">\n",
       "  <thead>\n",
       "    <tr style=\"text-align: right;\">\n",
       "      <th></th>\n",
       "      <th>userid</th>\n",
       "      <th>score</th>\n",
       "      <th>city</th>\n",
       "      <th>gender</th>\n",
       "      <th>age</th>\n",
       "      <th>objects</th>\n",
       "      <th>balance</th>\n",
       "      <th>products</th>\n",
       "      <th>creditcard</th>\n",
       "      <th>loyalty</th>\n",
       "      <th>estimated_salary</th>\n",
       "      <th>churn</th>\n",
       "    </tr>\n",
       "  </thead>\n",
       "  <tbody>\n",
       "    <tr>\n",
       "      <td>1</td>\n",
       "      <td>15690047</td>\n",
       "      <td>608</td>\n",
       "      <td>Рыбинск</td>\n",
       "      <td>Ж</td>\n",
       "      <td>41</td>\n",
       "      <td>1</td>\n",
       "      <td>83,807.86</td>\n",
       "      <td>1</td>\n",
       "      <td>0</td>\n",
       "      <td>1</td>\n",
       "      <td>112,542.58</td>\n",
       "      <td>0</td>\n",
       "    </tr>\n",
       "    <tr>\n",
       "      <td>4</td>\n",
       "      <td>15780624</td>\n",
       "      <td>850</td>\n",
       "      <td>Рыбинск</td>\n",
       "      <td>Ж</td>\n",
       "      <td>43</td>\n",
       "      <td>2</td>\n",
       "      <td>125,510.82</td>\n",
       "      <td>1</td>\n",
       "      <td>1</td>\n",
       "      <td>1</td>\n",
       "      <td>79,084.10</td>\n",
       "      <td>0</td>\n",
       "    </tr>\n",
       "    <tr>\n",
       "      <td>5</td>\n",
       "      <td>15616748</td>\n",
       "      <td>645</td>\n",
       "      <td>Рыбинск</td>\n",
       "      <td>М</td>\n",
       "      <td>44</td>\n",
       "      <td>8</td>\n",
       "      <td>113,755.78</td>\n",
       "      <td>2</td>\n",
       "      <td>1</td>\n",
       "      <td>0</td>\n",
       "      <td>149,756.71</td>\n",
       "      <td>1</td>\n",
       "    </tr>\n",
       "    <tr>\n",
       "      <td>11</td>\n",
       "      <td>15779909</td>\n",
       "      <td>497</td>\n",
       "      <td>Рыбинск</td>\n",
       "      <td>М</td>\n",
       "      <td>24</td>\n",
       "      <td>3</td>\n",
       "      <td>nan</td>\n",
       "      <td>2</td>\n",
       "      <td>1</td>\n",
       "      <td>0</td>\n",
       "      <td>76,390.01</td>\n",
       "      <td>0</td>\n",
       "    </tr>\n",
       "    <tr>\n",
       "      <td>14</td>\n",
       "      <td>15643618</td>\n",
       "      <td>635</td>\n",
       "      <td>Рыбинск</td>\n",
       "      <td>Ж</td>\n",
       "      <td>35</td>\n",
       "      <td>7</td>\n",
       "      <td>nan</td>\n",
       "      <td>2</td>\n",
       "      <td>1</td>\n",
       "      <td>1</td>\n",
       "      <td>65,951.65</td>\n",
       "      <td>0</td>\n",
       "    </tr>\n",
       "  </tbody>\n",
       "</table>\n",
       "</div>"
      ],
      "text/plain": [
       "      userid  score     city gender  age  objects    balance  products  \\\n",
       "1   15690047  608    Рыбинск  Ж      41   1       83,807.86   1          \n",
       "4   15780624  850    Рыбинск  Ж      43   2       125,510.82  1          \n",
       "5   15616748  645    Рыбинск  М      44   8       113,755.78  2          \n",
       "11  15779909  497    Рыбинск  М      24   3       nan         2          \n",
       "14  15643618  635    Рыбинск  Ж      35   7       nan         2          \n",
       "\n",
       "    creditcard  loyalty  estimated_salary  churn  \n",
       "1   0           1       112,542.58         0      \n",
       "4   1           1       79,084.10          0      \n",
       "5   1           0       149,756.71         1      \n",
       "11  1           0       76,390.01          0      \n",
       "14  1           1       65,951.65          0      "
      ]
     },
     "metadata": {},
     "output_type": "display_data"
    },
    {
     "data": {
      "text/html": [
       "<div>\n",
       "<style scoped>\n",
       "    .dataframe tbody tr th:only-of-type {\n",
       "        vertical-align: middle;\n",
       "    }\n",
       "\n",
       "    .dataframe tbody tr th {\n",
       "        vertical-align: top;\n",
       "    }\n",
       "\n",
       "    .dataframe thead th {\n",
       "        text-align: right;\n",
       "    }\n",
       "</style>\n",
       "<table border=\"1\" class=\"dataframe\">\n",
       "  <thead>\n",
       "    <tr style=\"text-align: right;\">\n",
       "      <th></th>\n",
       "      <th>userid</th>\n",
       "      <th>score</th>\n",
       "      <th>city</th>\n",
       "      <th>gender</th>\n",
       "      <th>age</th>\n",
       "      <th>objects</th>\n",
       "      <th>balance</th>\n",
       "      <th>products</th>\n",
       "      <th>creditcard</th>\n",
       "      <th>loyalty</th>\n",
       "      <th>estimated_salary</th>\n",
       "      <th>churn</th>\n",
       "    </tr>\n",
       "  </thead>\n",
       "  <tbody>\n",
       "    <tr>\n",
       "      <td>0</td>\n",
       "      <td>15677338</td>\n",
       "      <td>619</td>\n",
       "      <td>Ярославль</td>\n",
       "      <td>Ж</td>\n",
       "      <td>42</td>\n",
       "      <td>2</td>\n",
       "      <td>nan</td>\n",
       "      <td>1</td>\n",
       "      <td>1</td>\n",
       "      <td>1</td>\n",
       "      <td>101,348.88</td>\n",
       "      <td>1</td>\n",
       "    </tr>\n",
       "    <tr>\n",
       "      <td>2</td>\n",
       "      <td>15662040</td>\n",
       "      <td>502</td>\n",
       "      <td>Ярославль</td>\n",
       "      <td>Ж</td>\n",
       "      <td>42</td>\n",
       "      <td>8</td>\n",
       "      <td>159,660.80</td>\n",
       "      <td>3</td>\n",
       "      <td>1</td>\n",
       "      <td>0</td>\n",
       "      <td>113,931.57</td>\n",
       "      <td>1</td>\n",
       "    </tr>\n",
       "    <tr>\n",
       "      <td>3</td>\n",
       "      <td>15744090</td>\n",
       "      <td>699</td>\n",
       "      <td>Ярославль</td>\n",
       "      <td>Ж</td>\n",
       "      <td>39</td>\n",
       "      <td>1</td>\n",
       "      <td>nan</td>\n",
       "      <td>2</td>\n",
       "      <td>0</td>\n",
       "      <td>0</td>\n",
       "      <td>93,826.63</td>\n",
       "      <td>0</td>\n",
       "    </tr>\n",
       "    <tr>\n",
       "      <td>6</td>\n",
       "      <td>15635267</td>\n",
       "      <td>822</td>\n",
       "      <td>Ярославль</td>\n",
       "      <td>М</td>\n",
       "      <td>50</td>\n",
       "      <td>7</td>\n",
       "      <td>nan</td>\n",
       "      <td>2</td>\n",
       "      <td>1</td>\n",
       "      <td>1</td>\n",
       "      <td>10,062.80</td>\n",
       "      <td>0</td>\n",
       "    </tr>\n",
       "    <tr>\n",
       "      <td>8</td>\n",
       "      <td>15835101</td>\n",
       "      <td>501</td>\n",
       "      <td>Ярославль</td>\n",
       "      <td>М</td>\n",
       "      <td>44</td>\n",
       "      <td>4</td>\n",
       "      <td>142,051.07</td>\n",
       "      <td>2</td>\n",
       "      <td>0</td>\n",
       "      <td>1</td>\n",
       "      <td>74,940.50</td>\n",
       "      <td>0</td>\n",
       "    </tr>\n",
       "  </tbody>\n",
       "</table>\n",
       "</div>"
      ],
      "text/plain": [
       "     userid  score       city gender  age  objects    balance  products  \\\n",
       "0  15677338  619    Ярославль  Ж      42   2       nan         1          \n",
       "2  15662040  502    Ярославль  Ж      42   8       159,660.80  3          \n",
       "3  15744090  699    Ярославль  Ж      39   1       nan         2          \n",
       "6  15635267  822    Ярославль  М      50   7       nan         2          \n",
       "8  15835101  501    Ярославль  М      44   4       142,051.07  2          \n",
       "\n",
       "   creditcard  loyalty  estimated_salary  churn  \n",
       "0  1           1       101,348.88         1      \n",
       "2  1           0       113,931.57         1      \n",
       "3  0           0       93,826.63          0      \n",
       "6  1           1       10,062.80          0      \n",
       "8  0           1       74,940.50          0      "
      ]
     },
     "metadata": {},
     "output_type": "display_data"
    }
   ],
   "source": [
    "gp = df.groupby('city')\n",
    "datasets = []\n",
    "\n",
    "for city in gp.groups.keys():\n",
    "    datasets.append(df.query('city == \"' + city + '\"'))\n",
    "    \n",
    "for dataset in datasets:\n",
    "    display(dataset.head())\n",
    "    \n",
    "df_rostov_vel = datasets[0]\n",
    "df_rybinsk = datasets[1]\n",
    "df_yaroslavl = datasets[2]"
   ]
  },
  {
   "cell_type": "code",
   "execution_count": 11,
   "id": "40c0bab4",
   "metadata": {},
   "outputs": [
    {
     "data": {
      "image/png": "[encoded data removed]",
      "text/plain": [
       "<Figure size 1296x1440 with 12 Axes>"
      ]
     },
     "metadata": {
      "needs_background": "light"
     },
     "output_type": "display_data"
    }
   ],
   "source": [
    "fig, ax = plt.subplots(nrows=4, ncols=3, figsize=(18, 20))\n",
    "\n",
    "columns = [\n",
    "    'score', \n",
    "    'age', \n",
    "    'objects', \n",
    "    'estimated_salary', \n",
    "]\n",
    "\n",
    "colors = [\n",
    "    'r',\n",
    "    'g',\n",
    "    'b',\n",
    "]\n",
    "\n",
    "    \n",
    "for i, dataset in enumerate(datasets):\n",
    "    clients_no_churn = dataset.query('churn == 0')\n",
    "    clients_churn = dataset.query('churn != 0')\n",
    "    \n",
    "    for j, column in enumerate(columns):\n",
    "        sns.distplot(clients_no_churn[column], ax = ax[j][i])\n",
    "        sns.distplot(clients_churn[column], color = colors[i], ax = ax[j][i])\n",
    "        ax[j][i].legend(labels = ('Остались', 'Ушли'))\n",
    "        ax[j][i].set_title('Распределение ' + column + ' для города ' + dataset['city'].iloc[0])\n",
    "        fig.tight_layout() \n",
    "\n",
    "\n",
    "plt.show()      "
   ]
  },
  {
   "cell_type": "code",
   "execution_count": 12,
   "id": "6d11d681",
   "metadata": {},
   "outputs": [
    {
     "data": {
      "image/png": "[encoded data removed]",
      "text/plain": [
       "<Figure size 1080x360 with 3 Axes>"
      ]
     },
     "metadata": {
      "needs_background": "light"
     },
     "output_type": "display_data"
    }
   ],
   "source": [
    "fig, ax = plt.subplots(nrows=1, ncols=3, figsize=(15, 5))\n",
    "\n",
    "column = 'products'\n",
    "\n",
    "colors = [\n",
    "    'r',\n",
    "    'g',\n",
    "    'b',\n",
    "]\n",
    "\n",
    "    \n",
    "for i, dataset in enumerate(datasets):   \n",
    "    sns.countplot(dataset[column], hue = 'churn', data = dataset, ax = ax[i], color = colors[i])\n",
    "    ax[i].legend(labels = ('Остались', 'Ушли'))\n",
    "    ax[i].set_title(column + ' для города ' + dataset['city'].iloc[0])\n",
    "        \n",
    "\n",
    "plt.show()      "
   ]
  },
  {
   "cell_type": "code",
   "execution_count": 13,
   "id": "f65698f9",
   "metadata": {
    "scrolled": false
   },
   "outputs": [
    {
     "data": {
      "image/png": "[encoded data removed]",
      "text/plain": [
       "<Figure size 1296x1296 with 9 Axes>"
      ]
     },
     "metadata": {
      "needs_background": "light"
     },
     "output_type": "display_data"
    }
   ],
   "source": [
    "#посмотрим на бинарные признаки\n",
    "fig, ax = plt.subplots(nrows=3, ncols=3, figsize=(18, 18))\n",
    "\n",
    "columns = [\n",
    "    'gender', \n",
    "    'creditcard', \n",
    "    'loyalty',\n",
    "]\n",
    "\n",
    "for i, dataset in enumerate(datasets):   \n",
    "    for j, column in enumerate(columns):\n",
    "        sns.countplot(x = dataset[column], hue = 'churn', data = dataset, ax = ax[j][i], color = colors[i])\n",
    "        ax[j][i].set_title(column + ' для города ' + dataset['city'].iloc[0])\n",
    "\n",
    "plt.show()"
   ]
  },
  {
   "cell_type": "markdown",
   "id": "286ba3cd",
   "metadata": {},
   "source": [
    "*Посмотрим на средние значения признаков двух групп - тех, кто ушел в отток, и тех, кто остался*"
   ]
  },
  {
   "cell_type": "code",
   "execution_count": 14,
   "id": "97baed1c",
   "metadata": {
    "scrolled": true
   },
   "outputs": [
    {
     "data": {
      "text/html": [
       "<style  type=\"text/css\" >\n",
       "</style><table id=\"T_1062d680_2ee2_11ec_bbed_02420a399500\" ><thead>    <tr>        <th class=\"index_name level0\" >churn</th>        <th class=\"col_heading level0 col0\" >0</th>        <th class=\"col_heading level0 col1\" >1</th>    </tr></thead><tbody>\n",
       "                <tr>\n",
       "                        <th id=\"T_1062d680_2ee2_11ec_bbed_02420a399500level0_row0\" class=\"row_heading level0 row0\" >userid</th>\n",
       "                        <td id=\"T_1062d680_2ee2_11ec_bbed_02420a399500row0_col0\" class=\"data row0 col0\" >1.57342e+07</td>\n",
       "                        <td id=\"T_1062d680_2ee2_11ec_bbed_02420a399500row0_col1\" class=\"data row0 col1\" >1.57314e+07</td>\n",
       "            </tr>\n",
       "            <tr>\n",
       "                        <th id=\"T_1062d680_2ee2_11ec_bbed_02420a399500level0_row1\" class=\"row_heading level0 row1\" >score</th>\n",
       "                        <td id=\"T_1062d680_2ee2_11ec_bbed_02420a399500row1_col0\" class=\"data row1 col0\" >653.261</td>\n",
       "                        <td id=\"T_1062d680_2ee2_11ec_bbed_02420a399500row1_col1\" class=\"data row1 col1\" >647.689</td>\n",
       "            </tr>\n",
       "            <tr>\n",
       "                        <th id=\"T_1062d680_2ee2_11ec_bbed_02420a399500level0_row2\" class=\"row_heading level0 row2\" >age</th>\n",
       "                        <td id=\"T_1062d680_2ee2_11ec_bbed_02420a399500row2_col0\" class=\"data row2 col0\" >37.3115</td>\n",
       "                        <td id=\"T_1062d680_2ee2_11ec_bbed_02420a399500row2_col1\" class=\"data row2 col1\" >44.8943</td>\n",
       "            </tr>\n",
       "            <tr>\n",
       "                        <th id=\"T_1062d680_2ee2_11ec_bbed_02420a399500level0_row3\" class=\"row_heading level0 row3\" >objects</th>\n",
       "                        <td id=\"T_1062d680_2ee2_11ec_bbed_02420a399500row3_col0\" class=\"data row3 col0\" >5.0118</td>\n",
       "                        <td id=\"T_1062d680_2ee2_11ec_bbed_02420a399500row3_col1\" class=\"data row3 col1\" >5.00614</td>\n",
       "            </tr>\n",
       "            <tr>\n",
       "                        <th id=\"T_1062d680_2ee2_11ec_bbed_02420a399500level0_row4\" class=\"row_heading level0 row4\" >balance</th>\n",
       "                        <td id=\"T_1062d680_2ee2_11ec_bbed_02420a399500row4_col0\" class=\"data row4 col0\" >119427</td>\n",
       "                        <td id=\"T_1062d680_2ee2_11ec_bbed_02420a399500row4_col1\" class=\"data row4 col1\" >120361</td>\n",
       "            </tr>\n",
       "            <tr>\n",
       "                        <th id=\"T_1062d680_2ee2_11ec_bbed_02420a399500level0_row5\" class=\"row_heading level0 row5\" >products</th>\n",
       "                        <td id=\"T_1062d680_2ee2_11ec_bbed_02420a399500row5_col0\" class=\"data row5 col0\" >1.55103</td>\n",
       "                        <td id=\"T_1062d680_2ee2_11ec_bbed_02420a399500row5_col1\" class=\"data row5 col1\" >1.45455</td>\n",
       "            </tr>\n",
       "            <tr>\n",
       "                        <th id=\"T_1062d680_2ee2_11ec_bbed_02420a399500level0_row6\" class=\"row_heading level0 row6\" >creditcard</th>\n",
       "                        <td id=\"T_1062d680_2ee2_11ec_bbed_02420a399500row6_col0\" class=\"data row6 col0\" >0.716224</td>\n",
       "                        <td id=\"T_1062d680_2ee2_11ec_bbed_02420a399500row6_col1\" class=\"data row6 col1\" >0.708845</td>\n",
       "            </tr>\n",
       "            <tr>\n",
       "                        <th id=\"T_1062d680_2ee2_11ec_bbed_02420a399500level0_row7\" class=\"row_heading level0 row7\" >loyalty</th>\n",
       "                        <td id=\"T_1062d680_2ee2_11ec_bbed_02420a399500row7_col0\" class=\"data row7 col0\" >0.561652</td>\n",
       "                        <td id=\"T_1062d680_2ee2_11ec_bbed_02420a399500row7_col1\" class=\"data row7 col1\" >0.363636</td>\n",
       "            </tr>\n",
       "            <tr>\n",
       "                        <th id=\"T_1062d680_2ee2_11ec_bbed_02420a399500level0_row8\" class=\"row_heading level0 row8\" >estimated_salary</th>\n",
       "                        <td id=\"T_1062d680_2ee2_11ec_bbed_02420a399500row8_col0\" class=\"data row8 col0\" >102415</td>\n",
       "                        <td id=\"T_1062d680_2ee2_11ec_bbed_02420a399500row8_col1\" class=\"data row8 col1\" >98403.9</td>\n",
       "            </tr>\n",
       "    </tbody></table>"
      ],
      "text/plain": [
       "<pandas.io.formats.style.Styler at 0x7fefa45f3550>"
      ]
     },
     "execution_count": 14,
     "metadata": {},
     "output_type": "execute_result"
    }
   ],
   "source": [
    "df_rostov_vel.groupby('churn').agg('mean').T.style"
   ]
  },
  {
   "cell_type": "markdown",
   "id": "04e5c708",
   "metadata": {},
   "source": [
    "Видно, что в Ростове Великом:\n",
    "- бОльшая часть ушедших имеет возраст 45+;\n",
    "- ушедшие и оставшиеся имеют примерно одинаковые баллы кредитного скоринга;\n",
    "- у оставшихся и у ушедших объектов примерно одинаковое количество;\n",
    "- ушедшие имели до 4х кредитных продукта, но чаще 1;\n",
    "- оставшиеся имели чаще 2 продукта или 1;\n",
    "- оцененный доход у ушедших немного ниже."
   ]
  },
  {
   "cell_type": "markdown",
   "id": "5736b80c",
   "metadata": {},
   "source": [
    "Среди ушедших в Рыбинске:\n",
    "- женщин больше;\n",
    "- владельцев кредитных карт среди ушедших в 2 раза больше;\n",
    "- бОльшая часть клиентов не имела активности согласно критериям банка."
   ]
  },
  {
   "cell_type": "code",
   "execution_count": 15,
   "id": "e355349f",
   "metadata": {
    "scrolled": true
   },
   "outputs": [
    {
     "data": {
      "text/html": [
       "<style  type=\"text/css\" >\n",
       "</style><table id=\"T_106753e0_2ee2_11ec_bbed_02420a399500\" ><thead>    <tr>        <th class=\"index_name level0\" >churn</th>        <th class=\"col_heading level0 col0\" >0</th>        <th class=\"col_heading level0 col1\" >1</th>    </tr></thead><tbody>\n",
       "                <tr>\n",
       "                        <th id=\"T_106753e0_2ee2_11ec_bbed_02420a399500level0_row0\" class=\"row_heading level0 row0\" >userid</th>\n",
       "                        <td id=\"T_106753e0_2ee2_11ec_bbed_02420a399500row0_col0\" class=\"data row0 col0\" >1.57355e+07</td>\n",
       "                        <td id=\"T_106753e0_2ee2_11ec_bbed_02420a399500row0_col1\" class=\"data row0 col1\" >1.57304e+07</td>\n",
       "            </tr>\n",
       "            <tr>\n",
       "                        <th id=\"T_106753e0_2ee2_11ec_bbed_02420a399500level0_row1\" class=\"row_heading level0 row1\" >score</th>\n",
       "                        <td id=\"T_106753e0_2ee2_11ec_bbed_02420a399500row1_col0\" class=\"data row1 col0\" >652.104</td>\n",
       "                        <td id=\"T_106753e0_2ee2_11ec_bbed_02420a399500row1_col1\" class=\"data row1 col1\" >647.484</td>\n",
       "            </tr>\n",
       "            <tr>\n",
       "                        <th id=\"T_106753e0_2ee2_11ec_bbed_02420a399500level0_row2\" class=\"row_heading level0 row2\" >age</th>\n",
       "                        <td id=\"T_106753e0_2ee2_11ec_bbed_02420a399500row2_col0\" class=\"data row2 col0\" >37.8391</td>\n",
       "                        <td id=\"T_106753e0_2ee2_11ec_bbed_02420a399500row2_col1\" class=\"data row2 col1\" >44.1477</td>\n",
       "            </tr>\n",
       "            <tr>\n",
       "                        <th id=\"T_106753e0_2ee2_11ec_bbed_02420a399500level0_row3\" class=\"row_heading level0 row3\" >objects</th>\n",
       "                        <td id=\"T_106753e0_2ee2_11ec_bbed_02420a399500row3_col0\" class=\"data row3 col0\" >5.10756</td>\n",
       "                        <td id=\"T_106753e0_2ee2_11ec_bbed_02420a399500row3_col1\" class=\"data row3 col1\" >4.65617</td>\n",
       "            </tr>\n",
       "            <tr>\n",
       "                        <th id=\"T_106753e0_2ee2_11ec_bbed_02420a399500level0_row4\" class=\"row_heading level0 row4\" >balance</th>\n",
       "                        <td id=\"T_106753e0_2ee2_11ec_bbed_02420a399500row4_col0\" class=\"data row4 col0\" >119821</td>\n",
       "                        <td id=\"T_106753e0_2ee2_11ec_bbed_02420a399500row4_col1\" class=\"data row4 col1\" >119792</td>\n",
       "            </tr>\n",
       "            <tr>\n",
       "                        <th id=\"T_106753e0_2ee2_11ec_bbed_02420a399500level0_row5\" class=\"row_heading level0 row5\" >products</th>\n",
       "                        <td id=\"T_106753e0_2ee2_11ec_bbed_02420a399500row5_col0\" class=\"data row5 col0\" >1.54457</td>\n",
       "                        <td id=\"T_106753e0_2ee2_11ec_bbed_02420a399500row5_col1\" class=\"data row5 col1\" >1.51332</td>\n",
       "            </tr>\n",
       "            <tr>\n",
       "                        <th id=\"T_106753e0_2ee2_11ec_bbed_02420a399500level0_row6\" class=\"row_heading level0 row6\" >creditcard</th>\n",
       "                        <td id=\"T_106753e0_2ee2_11ec_bbed_02420a399500row6_col0\" class=\"data row6 col0\" >0.699128</td>\n",
       "                        <td id=\"T_106753e0_2ee2_11ec_bbed_02420a399500row6_col1\" class=\"data row6 col1\" >0.673123</td>\n",
       "            </tr>\n",
       "            <tr>\n",
       "                        <th id=\"T_106753e0_2ee2_11ec_bbed_02420a399500level0_row7\" class=\"row_heading level0 row7\" >loyalty</th>\n",
       "                        <td id=\"T_106753e0_2ee2_11ec_bbed_02420a399500row7_col0\" class=\"data row7 col0\" >0.567345</td>\n",
       "                        <td id=\"T_106753e0_2ee2_11ec_bbed_02420a399500row7_col1\" class=\"data row7 col1\" >0.341404</td>\n",
       "            </tr>\n",
       "            <tr>\n",
       "                        <th id=\"T_106753e0_2ee2_11ec_bbed_02420a399500level0_row8\" class=\"row_heading level0 row8\" >estimated_salary</th>\n",
       "                        <td id=\"T_106753e0_2ee2_11ec_bbed_02420a399500row8_col0\" class=\"data row8 col0\" >98602.4</td>\n",
       "                        <td id=\"T_106753e0_2ee2_11ec_bbed_02420a399500row8_col1\" class=\"data row8 col1\" >103630</td>\n",
       "            </tr>\n",
       "    </tbody></table>"
      ],
      "text/plain": [
       "<pandas.io.formats.style.Styler at 0x7fef18136210>"
      ]
     },
     "execution_count": 15,
     "metadata": {},
     "output_type": "execute_result"
    }
   ],
   "source": [
    "df_rybinsk.groupby('churn').agg('mean').T.style"
   ]
  },
  {
   "cell_type": "markdown",
   "id": "424eb3e7",
   "metadata": {},
   "source": [
    "Видно, что в Рыбинске:\n",
    "- средний возраст ушедших 44 г; \n",
    "- ушедшие и оставшиеся имеют примерно одинаковые баллы кредитного скоринга;\n",
    "- у оставшихся объектов почти в 2 раза больше;\n",
    "- ушедшие имели до 4х кредитных продукта,но чаще 1;\n",
    "- оставшиеся имели чаще 2 продукта или 1;\n",
    "- оцененный доход у ушедших немного выше."
   ]
  },
  {
   "cell_type": "markdown",
   "id": "2079cef0",
   "metadata": {},
   "source": [
    "Среди ушедших в Рыбинске:\n",
    "- примерно одинаковое количество мужчин и женщин, но женщин чуть больше;\n",
    "- бОльшая часть клиентов имела кредитную карту;\n",
    "- бОльшая часть клиентов не имела активности согласно критериям банка."
   ]
  },
  {
   "cell_type": "code",
   "execution_count": 16,
   "id": "d2e456a3",
   "metadata": {
    "scrolled": false
   },
   "outputs": [
    {
     "data": {
      "text/html": [
       "<style  type=\"text/css\" >\n",
       "</style><table id=\"T_106a7d72_2ee2_11ec_bbed_02420a399500\" ><thead>    <tr>        <th class=\"index_name level0\" >churn</th>        <th class=\"col_heading level0 col0\" >0</th>        <th class=\"col_heading level0 col1\" >1</th>    </tr></thead><tbody>\n",
       "                <tr>\n",
       "                        <th id=\"T_106a7d72_2ee2_11ec_bbed_02420a399500level0_row0\" class=\"row_heading level0 row0\" >userid</th>\n",
       "                        <td id=\"T_106a7d72_2ee2_11ec_bbed_02420a399500row0_col0\" class=\"data row0 col0\" >1.5733e+07</td>\n",
       "                        <td id=\"T_106a7d72_2ee2_11ec_bbed_02420a399500row0_col1\" class=\"data row0 col1\" >1.57354e+07</td>\n",
       "            </tr>\n",
       "            <tr>\n",
       "                        <th id=\"T_106a7d72_2ee2_11ec_bbed_02420a399500level0_row1\" class=\"row_heading level0 row1\" >score</th>\n",
       "                        <td id=\"T_106a7d72_2ee2_11ec_bbed_02420a399500row1_col0\" class=\"data row1 col0\" >651.162</td>\n",
       "                        <td id=\"T_106a7d72_2ee2_11ec_bbed_02420a399500row1_col1\" class=\"data row1 col1\" >641.915</td>\n",
       "            </tr>\n",
       "            <tr>\n",
       "                        <th id=\"T_106a7d72_2ee2_11ec_bbed_02420a399500level0_row2\" class=\"row_heading level0 row2\" >age</th>\n",
       "                        <td id=\"T_106a7d72_2ee2_11ec_bbed_02420a399500row2_col0\" class=\"data row2 col0\" >37.236</td>\n",
       "                        <td id=\"T_106a7d72_2ee2_11ec_bbed_02420a399500row2_col1\" class=\"data row2 col1\" >45.1333</td>\n",
       "            </tr>\n",
       "            <tr>\n",
       "                        <th id=\"T_106a7d72_2ee2_11ec_bbed_02420a399500level0_row3\" class=\"row_heading level0 row3\" >objects</th>\n",
       "                        <td id=\"T_106a7d72_2ee2_11ec_bbed_02420a399500row3_col0\" class=\"data row3 col0\" >5.00547</td>\n",
       "                        <td id=\"T_106a7d72_2ee2_11ec_bbed_02420a399500row3_col1\" class=\"data row3 col1\" >5</td>\n",
       "            </tr>\n",
       "            <tr>\n",
       "                        <th id=\"T_106a7d72_2ee2_11ec_bbed_02420a399500level0_row4\" class=\"row_heading level0 row4\" >balance</th>\n",
       "                        <td id=\"T_106a7d72_2ee2_11ec_bbed_02420a399500row4_col0\" class=\"data row4 col0\" >119485</td>\n",
       "                        <td id=\"T_106a7d72_2ee2_11ec_bbed_02420a399500row4_col1\" class=\"data row4 col1\" >121916</td>\n",
       "            </tr>\n",
       "            <tr>\n",
       "                        <th id=\"T_106a7d72_2ee2_11ec_bbed_02420a399500level0_row5\" class=\"row_heading level0 row5\" >products</th>\n",
       "                        <td id=\"T_106a7d72_2ee2_11ec_bbed_02420a399500row5_col0\" class=\"data row5 col0\" >1.54139</td>\n",
       "                        <td id=\"T_106a7d72_2ee2_11ec_bbed_02420a399500row5_col1\" class=\"data row5 col1\" >1.47654</td>\n",
       "            </tr>\n",
       "            <tr>\n",
       "                        <th id=\"T_106a7d72_2ee2_11ec_bbed_02420a399500level0_row6\" class=\"row_heading level0 row6\" >creditcard</th>\n",
       "                        <td id=\"T_106a7d72_2ee2_11ec_bbed_02420a399500row6_col0\" class=\"data row6 col0\" >0.707422</td>\n",
       "                        <td id=\"T_106a7d72_2ee2_11ec_bbed_02420a399500row6_col1\" class=\"data row6 col1\" >0.702469</td>\n",
       "            </tr>\n",
       "            <tr>\n",
       "                        <th id=\"T_106a7d72_2ee2_11ec_bbed_02420a399500level0_row7\" class=\"row_heading level0 row7\" >loyalty</th>\n",
       "                        <td id=\"T_106a7d72_2ee2_11ec_bbed_02420a399500row7_col0\" class=\"data row7 col0\" >0.545433</td>\n",
       "                        <td id=\"T_106a7d72_2ee2_11ec_bbed_02420a399500row7_col1\" class=\"data row7 col1\" >0.367901</td>\n",
       "            </tr>\n",
       "            <tr>\n",
       "                        <th id=\"T_106a7d72_2ee2_11ec_bbed_02420a399500level0_row8\" class=\"row_heading level0 row8\" >estimated_salary</th>\n",
       "                        <td id=\"T_106a7d72_2ee2_11ec_bbed_02420a399500row8_col0\" class=\"data row8 col0\" >99217.1</td>\n",
       "                        <td id=\"T_106a7d72_2ee2_11ec_bbed_02420a399500row8_col1\" class=\"data row8 col1\" >103439</td>\n",
       "            </tr>\n",
       "    </tbody></table>"
      ],
      "text/plain": [
       "<pandas.io.formats.style.Styler at 0x7fef19e2fb50>"
      ]
     },
     "execution_count": 16,
     "metadata": {},
     "output_type": "execute_result"
    }
   ],
   "source": [
    "df_yaroslavl.groupby('churn').agg('mean').T.style"
   ]
  },
  {
   "cell_type": "markdown",
   "id": "31a435be",
   "metadata": {},
   "source": [
    "Видно, что в Ярославле:\n",
    "- средний возраст ушедших 45+; \n",
    "- ушедшие и оставшиеся имеют примерно одинаковые баллы кредитного скоринга;\n",
    "- у оставшихся объектов почти на 50% больше;\n",
    "- ушедшие имели до 4х кредитных продукта;\n",
    "- у оставшихся количество потребляемых банковских продуктов не выше 2х;\n",
    "- оцененный доход у ушедших немного выше."
   ]
  },
  {
   "cell_type": "markdown",
   "id": "4a369bd5",
   "metadata": {},
   "source": [
    "Среди ушедших в Ярославле:\n",
    "- примерно одинаковое количество мужчин и женщин, но женщин чуть больше;\n",
    "- бОльшая часть клиентов имела кредитную карту;\n",
    "- бОльшая часть клиентов не имела активности согласно критериям банка."
   ]
  },
  {
   "cell_type": "code",
   "execution_count": 17,
   "id": "e7a73f3d",
   "metadata": {},
   "outputs": [],
   "source": [
    "cm = df.corr(method='spearman')"
   ]
  },
  {
   "cell_type": "code",
   "execution_count": 18,
   "id": "fa354b8f",
   "metadata": {},
   "outputs": [
    {
     "data": {
      "image/png": "[encoded data removed]",
      "text/plain": [
       "<Figure size 1080x864 with 2 Axes>"
      ]
     },
     "metadata": {
      "needs_background": "light"
     },
     "output_type": "display_data"
    }
   ],
   "source": [
    "plt.figure(figsize=(15, 12))\n",
    "heatmap = sns.heatmap(cm, annot=True, square=True, cmap= 'OrRd')\n",
    "heatmap.set_title('Матрица корреляций', fontdict={'fontsize':12}, pad=12);"
   ]
  },
  {
   "cell_type": "markdown",
   "id": "f585e843",
   "metadata": {},
   "source": [
    "На матрице явно видны зависимости между фактом оттока и возрастом.\n"
   ]
  },
  {
   "cell_type": "code",
   "execution_count": 19,
   "id": "155d3668",
   "metadata": {},
   "outputs": [],
   "source": [
    "df_pivot = df.query('churn == 1').pivot_table(index='city', values = ['score', 'age', 'objects', 'balance', 'products'], aggfunc=['mean', 'median'])"
   ]
  },
  {
   "cell_type": "code",
   "execution_count": 20,
   "id": "fd9346ca",
   "metadata": {},
   "outputs": [
    {
     "data": {
      "text/html": [
       "<style  type=\"text/css\" >\n",
       "</style><table id=\"T_1159ff28_2ee2_11ec_bbed_02420a399500\" ><thead>    <tr>        <th class=\"blank\" ></th>        <th class=\"index_name level0\" >city</th>        <th class=\"col_heading level0 col0\" >Ростов Великий</th>        <th class=\"col_heading level0 col1\" >Рыбинск</th>        <th class=\"col_heading level0 col2\" >Ярославль</th>    </tr></thead><tbody>\n",
       "                <tr>\n",
       "                        <th id=\"T_1159ff28_2ee2_11ec_bbed_02420a399500level0_row0\" class=\"row_heading level0 row0\" rowspan=5>mean</th>\n",
       "                        <th id=\"T_1159ff28_2ee2_11ec_bbed_02420a399500level1_row0\" class=\"row_heading level1 row0\" >age</th>\n",
       "                        <td id=\"T_1159ff28_2ee2_11ec_bbed_02420a399500row0_col0\" class=\"data row0 col0\" >44.8943</td>\n",
       "                        <td id=\"T_1159ff28_2ee2_11ec_bbed_02420a399500row0_col1\" class=\"data row0 col1\" >44.1477</td>\n",
       "                        <td id=\"T_1159ff28_2ee2_11ec_bbed_02420a399500row0_col2\" class=\"data row0 col2\" >45.1333</td>\n",
       "            </tr>\n",
       "            <tr>\n",
       "                                <th id=\"T_1159ff28_2ee2_11ec_bbed_02420a399500level1_row1\" class=\"row_heading level1 row1\" >balance</th>\n",
       "                        <td id=\"T_1159ff28_2ee2_11ec_bbed_02420a399500row1_col0\" class=\"data row1 col0\" >120361</td>\n",
       "                        <td id=\"T_1159ff28_2ee2_11ec_bbed_02420a399500row1_col1\" class=\"data row1 col1\" >119792</td>\n",
       "                        <td id=\"T_1159ff28_2ee2_11ec_bbed_02420a399500row1_col2\" class=\"data row1 col2\" >121916</td>\n",
       "            </tr>\n",
       "            <tr>\n",
       "                                <th id=\"T_1159ff28_2ee2_11ec_bbed_02420a399500level1_row2\" class=\"row_heading level1 row2\" >objects</th>\n",
       "                        <td id=\"T_1159ff28_2ee2_11ec_bbed_02420a399500row2_col0\" class=\"data row2 col0\" >5.00614</td>\n",
       "                        <td id=\"T_1159ff28_2ee2_11ec_bbed_02420a399500row2_col1\" class=\"data row2 col1\" >4.65617</td>\n",
       "                        <td id=\"T_1159ff28_2ee2_11ec_bbed_02420a399500row2_col2\" class=\"data row2 col2\" >5</td>\n",
       "            </tr>\n",
       "            <tr>\n",
       "                                <th id=\"T_1159ff28_2ee2_11ec_bbed_02420a399500level1_row3\" class=\"row_heading level1 row3\" >products</th>\n",
       "                        <td id=\"T_1159ff28_2ee2_11ec_bbed_02420a399500row3_col0\" class=\"data row3 col0\" >1.45455</td>\n",
       "                        <td id=\"T_1159ff28_2ee2_11ec_bbed_02420a399500row3_col1\" class=\"data row3 col1\" >1.51332</td>\n",
       "                        <td id=\"T_1159ff28_2ee2_11ec_bbed_02420a399500row3_col2\" class=\"data row3 col2\" >1.47654</td>\n",
       "            </tr>\n",
       "            <tr>\n",
       "                                <th id=\"T_1159ff28_2ee2_11ec_bbed_02420a399500level1_row4\" class=\"row_heading level1 row4\" >score</th>\n",
       "                        <td id=\"T_1159ff28_2ee2_11ec_bbed_02420a399500row4_col0\" class=\"data row4 col0\" >647.689</td>\n",
       "                        <td id=\"T_1159ff28_2ee2_11ec_bbed_02420a399500row4_col1\" class=\"data row4 col1\" >647.484</td>\n",
       "                        <td id=\"T_1159ff28_2ee2_11ec_bbed_02420a399500row4_col2\" class=\"data row4 col2\" >641.915</td>\n",
       "            </tr>\n",
       "            <tr>\n",
       "                        <th id=\"T_1159ff28_2ee2_11ec_bbed_02420a399500level0_row5\" class=\"row_heading level0 row5\" rowspan=5>median</th>\n",
       "                        <th id=\"T_1159ff28_2ee2_11ec_bbed_02420a399500level1_row5\" class=\"row_heading level1 row5\" >age</th>\n",
       "                        <td id=\"T_1159ff28_2ee2_11ec_bbed_02420a399500row5_col0\" class=\"data row5 col0\" >45</td>\n",
       "                        <td id=\"T_1159ff28_2ee2_11ec_bbed_02420a399500row5_col1\" class=\"data row5 col1\" >44</td>\n",
       "                        <td id=\"T_1159ff28_2ee2_11ec_bbed_02420a399500row5_col2\" class=\"data row5 col2\" >45</td>\n",
       "            </tr>\n",
       "            <tr>\n",
       "                                <th id=\"T_1159ff28_2ee2_11ec_bbed_02420a399500level1_row6\" class=\"row_heading level1 row6\" >balance</th>\n",
       "                        <td id=\"T_1159ff28_2ee2_11ec_bbed_02420a399500row6_col0\" class=\"data row6 col0\" >118951</td>\n",
       "                        <td id=\"T_1159ff28_2ee2_11ec_bbed_02420a399500row6_col1\" class=\"data row6 col1\" >118540</td>\n",
       "                        <td id=\"T_1159ff28_2ee2_11ec_bbed_02420a399500row6_col2\" class=\"data row6 col2\" >123498</td>\n",
       "            </tr>\n",
       "            <tr>\n",
       "                                <th id=\"T_1159ff28_2ee2_11ec_bbed_02420a399500level1_row7\" class=\"row_heading level1 row7\" >objects</th>\n",
       "                        <td id=\"T_1159ff28_2ee2_11ec_bbed_02420a399500row7_col0\" class=\"data row7 col0\" >5</td>\n",
       "                        <td id=\"T_1159ff28_2ee2_11ec_bbed_02420a399500row7_col1\" class=\"data row7 col1\" >5</td>\n",
       "                        <td id=\"T_1159ff28_2ee2_11ec_bbed_02420a399500row7_col2\" class=\"data row7 col2\" >5</td>\n",
       "            </tr>\n",
       "            <tr>\n",
       "                                <th id=\"T_1159ff28_2ee2_11ec_bbed_02420a399500level1_row8\" class=\"row_heading level1 row8\" >products</th>\n",
       "                        <td id=\"T_1159ff28_2ee2_11ec_bbed_02420a399500row8_col0\" class=\"data row8 col0\" >1</td>\n",
       "                        <td id=\"T_1159ff28_2ee2_11ec_bbed_02420a399500row8_col1\" class=\"data row8 col1\" >1</td>\n",
       "                        <td id=\"T_1159ff28_2ee2_11ec_bbed_02420a399500row8_col2\" class=\"data row8 col2\" >1</td>\n",
       "            </tr>\n",
       "            <tr>\n",
       "                                <th id=\"T_1159ff28_2ee2_11ec_bbed_02420a399500level1_row9\" class=\"row_heading level1 row9\" >score</th>\n",
       "                        <td id=\"T_1159ff28_2ee2_11ec_bbed_02420a399500row9_col0\" class=\"data row9 col0\" >646</td>\n",
       "                        <td id=\"T_1159ff28_2ee2_11ec_bbed_02420a399500row9_col1\" class=\"data row9 col1\" >649</td>\n",
       "                        <td id=\"T_1159ff28_2ee2_11ec_bbed_02420a399500row9_col2\" class=\"data row9 col2\" >643.5</td>\n",
       "            </tr>\n",
       "    </tbody></table>"
      ],
      "text/plain": [
       "<pandas.io.formats.style.Styler at 0x7fef19e363d0>"
      ]
     },
     "execution_count": 20,
     "metadata": {},
     "output_type": "execute_result"
    }
   ],
   "source": [
    "df_pivot.T.style"
   ]
  },
  {
   "cell_type": "markdown",
   "id": "179f7164",
   "metadata": {},
   "source": [
    "# Вывод\n",
    "\n",
    "Клиенты банка \"Метанпром\" в трех городах не очень-то отличаются друг от друга. Ушедшие клиенты во всех городах - это в большинстве случаев женщины возраста 44+, владельцы кредитных карт с баллами кредитного скоринга от 643 до 647. Ушедшие клиенты - владельцы чаще 5 объектов и потребители не более 2х банковских продуктов."
   ]
  },
  {
   "cell_type": "markdown",
   "id": "75c2b46d",
   "metadata": {},
   "source": [
    "**2.1. Исследовательский анализ данных клиентов банка \"Метанпром\" г. Ярославля**"
   ]
  },
  {
   "cell_type": "markdown",
   "id": "96b95351",
   "metadata": {},
   "source": [
    "# 3. Сегментация пользователей банка"
   ]
  },
  {
   "cell_type": "markdown",
   "id": "0fcd73ef",
   "metadata": {},
   "source": [
    "**3.1. Сегментация ушедших клиентов по потребляемым продуктам  в Ярославле** "
   ]
  },
  {
   "cell_type": "code",
   "execution_count": 21,
   "id": "e4cb7f02",
   "metadata": {},
   "outputs": [
    {
     "data": {
      "text/plain": [
       "products  gender\n",
       "1         Ж         311\n",
       "          М         253\n",
       "2         Ж         82 \n",
       "          М         53 \n",
       "3         Ж         48 \n",
       "          М         34 \n",
       "4         Ж         19 \n",
       "          М         10 \n",
       "Name: userid, dtype: int64"
      ]
     },
     "execution_count": 21,
     "metadata": {},
     "output_type": "execute_result"
    }
   ],
   "source": [
    "clients_churn_yaroslavl = df_yaroslavl.query('churn == 1')\n",
    "clients_churn_yaroslavl.groupby(['products', 'gender'])['userid'].count()"
   ]
  },
  {
   "cell_type": "code",
   "execution_count": 22,
   "id": "2445cdc3",
   "metadata": {},
   "outputs": [
    {
     "data": {
      "text/html": [
       "<div>\n",
       "<style scoped>\n",
       "    .dataframe tbody tr th:only-of-type {\n",
       "        vertical-align: middle;\n",
       "    }\n",
       "\n",
       "    .dataframe tbody tr th {\n",
       "        vertical-align: top;\n",
       "    }\n",
       "\n",
       "    .dataframe thead th {\n",
       "        text-align: right;\n",
       "    }\n",
       "</style>\n",
       "<table border=\"1\" class=\"dataframe\">\n",
       "  <thead>\n",
       "    <tr style=\"text-align: right;\">\n",
       "      <th></th>\n",
       "      <th></th>\n",
       "      <th>age</th>\n",
       "      <th>creditcard</th>\n",
       "      <th>estimated_salary</th>\n",
       "      <th>loyalty</th>\n",
       "      <th>objects</th>\n",
       "      <th>score</th>\n",
       "    </tr>\n",
       "    <tr>\n",
       "      <th>products</th>\n",
       "      <th>gender</th>\n",
       "      <th></th>\n",
       "      <th></th>\n",
       "      <th></th>\n",
       "      <th></th>\n",
       "      <th></th>\n",
       "      <th></th>\n",
       "    </tr>\n",
       "  </thead>\n",
       "  <tbody>\n",
       "    <tr>\n",
       "      <td rowspan=\"2\" valign=\"top\">1</td>\n",
       "      <td>Ж</td>\n",
       "      <td>45.53</td>\n",
       "      <td>0.72</td>\n",
       "      <td>104,074.20</td>\n",
       "      <td>0.36</td>\n",
       "      <td>4.80</td>\n",
       "      <td>642.68</td>\n",
       "    </tr>\n",
       "    <tr>\n",
       "      <td>М</td>\n",
       "      <td>45.08</td>\n",
       "      <td>0.71</td>\n",
       "      <td>99,675.61</td>\n",
       "      <td>0.32</td>\n",
       "      <td>5.18</td>\n",
       "      <td>643.34</td>\n",
       "    </tr>\n",
       "    <tr>\n",
       "      <td rowspan=\"2\" valign=\"top\">2</td>\n",
       "      <td>Ж</td>\n",
       "      <td>43.79</td>\n",
       "      <td>0.63</td>\n",
       "      <td>102,623.64</td>\n",
       "      <td>0.40</td>\n",
       "      <td>5.10</td>\n",
       "      <td>645.49</td>\n",
       "    </tr>\n",
       "    <tr>\n",
       "      <td>М</td>\n",
       "      <td>44.30</td>\n",
       "      <td>0.64</td>\n",
       "      <td>103,983.86</td>\n",
       "      <td>0.47</td>\n",
       "      <td>4.34</td>\n",
       "      <td>623.21</td>\n",
       "    </tr>\n",
       "    <tr>\n",
       "      <td rowspan=\"2\" valign=\"top\">3</td>\n",
       "      <td>Ж</td>\n",
       "      <td>45.75</td>\n",
       "      <td>0.67</td>\n",
       "      <td>97,418.08</td>\n",
       "      <td>0.31</td>\n",
       "      <td>5.02</td>\n",
       "      <td>635.77</td>\n",
       "    </tr>\n",
       "    <tr>\n",
       "      <td>М</td>\n",
       "      <td>44.09</td>\n",
       "      <td>0.88</td>\n",
       "      <td>122,136.29</td>\n",
       "      <td>0.44</td>\n",
       "      <td>5.44</td>\n",
       "      <td>633.03</td>\n",
       "    </tr>\n",
       "    <tr>\n",
       "      <td rowspan=\"2\" valign=\"top\">4</td>\n",
       "      <td>Ж</td>\n",
       "      <td>47.74</td>\n",
       "      <td>0.63</td>\n",
       "      <td>116,299.36</td>\n",
       "      <td>0.63</td>\n",
       "      <td>5.95</td>\n",
       "      <td>677.42</td>\n",
       "    </tr>\n",
       "    <tr>\n",
       "      <td>М</td>\n",
       "      <td>45.20</td>\n",
       "      <td>0.40</td>\n",
       "      <td>123,613.54</td>\n",
       "      <td>0.50</td>\n",
       "      <td>6.00</td>\n",
       "      <td>644.00</td>\n",
       "    </tr>\n",
       "  </tbody>\n",
       "</table>\n",
       "</div>"
      ],
      "text/plain": [
       "                  age  creditcard  estimated_salary  loyalty  objects  score\n",
       "products gender                                                             \n",
       "1        Ж      45.53 0.72        104,074.20        0.36     4.80     642.68\n",
       "         М      45.08 0.71        99,675.61         0.32     5.18     643.34\n",
       "2        Ж      43.79 0.63        102,623.64        0.40     5.10     645.49\n",
       "         М      44.30 0.64        103,983.86        0.47     4.34     623.21\n",
       "3        Ж      45.75 0.67        97,418.08         0.31     5.02     635.77\n",
       "         М      44.09 0.88        122,136.29        0.44     5.44     633.03\n",
       "4        Ж      47.74 0.63        116,299.36        0.63     5.95     677.42\n",
       "         М      45.20 0.40        123,613.54        0.50     6.00     644.00"
      ]
     },
     "execution_count": 22,
     "metadata": {},
     "output_type": "execute_result"
    }
   ],
   "source": [
    "df_yaroslavl.query('churn == 1').pivot_table(index=['products', 'gender'], values=['score', 'age', 'objects', 'creditcard', 'loyalty', 'estimated_salary'], aggfunc='mean')"
   ]
  },
  {
   "cell_type": "markdown",
   "id": "28ebaea8",
   "metadata": {},
   "source": [
    "Из данных видно, что в Ярославле:\n",
    "\n",
    "1. Ушедшие пользователи 1 кредитного продукта - это в большинстве своем женщины (55%) 46 лет, в 72% случаев являлись владельцами кредитных карт с оцененным доходом в 104 тыс. руб. и с довольно низкой активностью (36%), владелицы не менее 4х и не более 5 объектов и со средним баллом кредитного скоринга равным 643. Мужчины (их 45%) чуть младше, но также возраста 45+, в 71% случаев являлись владельцами кредитных карт с оцененным доходом в 100 тыс рублей, так же  с низкой активностью (в 32%), владельцы не менее 5 объектов и со средним баллом кредитного скоринга равным 643.\n",
    "\n",
    "2. Ушедшие пользователи 2х кредитных продуктов - это в большинстве своем женщины (61%) возрастом ближе к 44 годам, в 63% случаев являлись владельцами кредитных карт с оцененным доходом в 103 тыс. руб. и с активностью 40%, владелицы не менее 5 объектов и со средним баллом кредитного скоринга равным 645. Мужчины (их 39%) чуть старше (44 г), в 64% случаев являлись владельцами кредитных карт с оцененным доходом в 104 тыс рублей, с чуть более высокой активностью в 47%), владельцы не менее 4 и не более 5 объектов и со средним баллом кредитного скоринга равным 623.\n",
    "\n",
    "3. Ушедшие пользователи 3 кредитных продуктов - это в большинстве своем женщины (59%) 46 лет, в 67% случаев являлись владельцами кредитных карт с оцененным доходом в 97 тыс. руб. и с довольно низкой активностью (31%), владелицы 5 объектов и со средним баллом кредитного скоринга равным 636. Мужчины (их 41%) чуть младше, но также возраста 44+, в 88% случаев являлись владельцами кредитных карт с оцененным доходом в 122 тыс рублей, с более высокой активностью в 44%, владельцы  5 объектов и со средним баллом кредитного скоринга равным 633.\n",
    "\n",
    "4. Ушедшие пользователи 4 кредитных продуктов - это в большинстве своем женщины (66%) 48 лет в 63% случаев являлись владельцами кредитных карт с оцененным доходом в 116 тыс. руб. и с довольно высокой активностью (63%), владелицы не менее 5 и не более 6 объектов и со средним баллом кредитного скоринга равным 677. Мужчины (их 34%) чуть младше, но также возхраста 45+, в 40% случаев являлись владельцами кредитных карт с оцененным доходом в 124 тыс рублей, со средней активностью (в 50%), владельцы 6 объектов и со средним баллом кредитного скоринга равным 644."
   ]
  },
  {
   "cell_type": "markdown",
   "id": "5792c93c",
   "metadata": {},
   "source": [
    "**3.2. Сегментация оставшихся клиентов по потребляемым продуктам  в Ярославле** "
   ]
  },
  {
   "cell_type": "code",
   "execution_count": 23,
   "id": "cda0c8fb",
   "metadata": {},
   "outputs": [
    {
     "data": {
      "text/plain": [
       "products  gender\n",
       "1         Ж         805 \n",
       "          М         1145\n",
       "2         Ж         989 \n",
       "          М         1243\n",
       "3         Ж         7   \n",
       "          М         15  \n",
       "Name: userid, dtype: int64"
      ]
     },
     "execution_count": 23,
     "metadata": {},
     "output_type": "execute_result"
    }
   ],
   "source": [
    "clients_no_churn_yaroslavl = df_yaroslavl.query('churn == 0')\n",
    "clients_no_churn_yaroslavl.groupby(['products', 'gender'])['userid'].count()"
   ]
  },
  {
   "cell_type": "code",
   "execution_count": 24,
   "id": "a64fe87d",
   "metadata": {},
   "outputs": [
    {
     "data": {
      "text/html": [
       "<div>\n",
       "<style scoped>\n",
       "    .dataframe tbody tr th:only-of-type {\n",
       "        vertical-align: middle;\n",
       "    }\n",
       "\n",
       "    .dataframe tbody tr th {\n",
       "        vertical-align: top;\n",
       "    }\n",
       "\n",
       "    .dataframe thead th {\n",
       "        text-align: right;\n",
       "    }\n",
       "</style>\n",
       "<table border=\"1\" class=\"dataframe\">\n",
       "  <thead>\n",
       "    <tr style=\"text-align: right;\">\n",
       "      <th></th>\n",
       "      <th></th>\n",
       "      <th>age</th>\n",
       "      <th>creditcard</th>\n",
       "      <th>estimated_salary</th>\n",
       "      <th>loyalty</th>\n",
       "      <th>objects</th>\n",
       "      <th>score</th>\n",
       "    </tr>\n",
       "    <tr>\n",
       "      <th>products</th>\n",
       "      <th>gender</th>\n",
       "      <th></th>\n",
       "      <th></th>\n",
       "      <th></th>\n",
       "      <th></th>\n",
       "      <th></th>\n",
       "      <th></th>\n",
       "    </tr>\n",
       "  </thead>\n",
       "  <tbody>\n",
       "    <tr>\n",
       "      <td rowspan=\"2\" valign=\"top\">1</td>\n",
       "      <td>Ж</td>\n",
       "      <td>37.43</td>\n",
       "      <td>0.70</td>\n",
       "      <td>95,513.17</td>\n",
       "      <td>0.57</td>\n",
       "      <td>4.93</td>\n",
       "      <td>648.55</td>\n",
       "    </tr>\n",
       "    <tr>\n",
       "      <td>М</td>\n",
       "      <td>37.37</td>\n",
       "      <td>0.72</td>\n",
       "      <td>99,397.79</td>\n",
       "      <td>0.53</td>\n",
       "      <td>4.98</td>\n",
       "      <td>650.07</td>\n",
       "    </tr>\n",
       "    <tr>\n",
       "      <td rowspan=\"2\" valign=\"top\">2</td>\n",
       "      <td>Ж</td>\n",
       "      <td>36.83</td>\n",
       "      <td>0.70</td>\n",
       "      <td>101,135.68</td>\n",
       "      <td>0.54</td>\n",
       "      <td>4.97</td>\n",
       "      <td>651.94</td>\n",
       "    </tr>\n",
       "    <tr>\n",
       "      <td>М</td>\n",
       "      <td>37.24</td>\n",
       "      <td>0.71</td>\n",
       "      <td>100,177.95</td>\n",
       "      <td>0.55</td>\n",
       "      <td>5.11</td>\n",
       "      <td>652.79</td>\n",
       "    </tr>\n",
       "    <tr>\n",
       "      <td rowspan=\"2\" valign=\"top\">3</td>\n",
       "      <td>Ж</td>\n",
       "      <td>37.71</td>\n",
       "      <td>1.00</td>\n",
       "      <td>76,502.15</td>\n",
       "      <td>0.57</td>\n",
       "      <td>6.14</td>\n",
       "      <td>681.14</td>\n",
       "    </tr>\n",
       "    <tr>\n",
       "      <td>М</td>\n",
       "      <td>42.67</td>\n",
       "      <td>0.67</td>\n",
       "      <td>88,681.22</td>\n",
       "      <td>0.67</td>\n",
       "      <td>4.27</td>\n",
       "      <td>675.20</td>\n",
       "    </tr>\n",
       "  </tbody>\n",
       "</table>\n",
       "</div>"
      ],
      "text/plain": [
       "                  age  creditcard  estimated_salary  loyalty  objects  score\n",
       "products gender                                                             \n",
       "1        Ж      37.43 0.70        95,513.17         0.57     4.93     648.55\n",
       "         М      37.37 0.72        99,397.79         0.53     4.98     650.07\n",
       "2        Ж      36.83 0.70        101,135.68        0.54     4.97     651.94\n",
       "         М      37.24 0.71        100,177.95        0.55     5.11     652.79\n",
       "3        Ж      37.71 1.00        76,502.15         0.57     6.14     681.14\n",
       "         М      42.67 0.67        88,681.22         0.67     4.27     675.20"
      ]
     },
     "execution_count": 24,
     "metadata": {},
     "output_type": "execute_result"
    }
   ],
   "source": [
    "df_yaroslavl.query('churn == 0').pivot_table(index=['products', 'gender'], values=['score', 'age', 'objects', 'creditcard', 'loyalty', 'estimated_salary'], aggfunc='mean')"
   ]
  },
  {
   "cell_type": "markdown",
   "id": "e42fb183",
   "metadata": {},
   "source": [
    "Из данных видно, что в Ярославле:\n",
    "\n",
    "1. Оставшиеся пользователи 1 кредитного продукта - это в большинстве своем мужчины (59%) 37 лет, в 72% случаев являются владельцами кредитных карт с оцененным доходом в 99 тыс. руб. и со средней активностью (53%), владельцы не менее 4 и не более 5 объектов и со средним баллом кредитного скоринга равным 650. Женщины (их 41%) того же возраста, в 70% случаев являются владельцами кредитных карт с оцененным доходом в 96 тыс рублей, так же со средней активностью (в 57%), владельцы не менее 4 и не более 5 объектов и со средним баллом кредитного скоринга равным 649.\n",
    "2. Оставшиеся пользователи 2х кредитных продуктов - это в большинстве своем мужчины (56%) 37 лет, в 71% случаев являются владельцами кредитных карт с оцененным доходом в 100 тыс. руб. и со средней активностью (55%), владельцы 5 объектов и со средним баллом кредитного скоринга равным 653. Женщины (их 44%) чуть младше, но также возраста 35+, в 70% случаев являются владельцами кредитных карт с оцененным доходом в 101 тыс рублей, так же  со средней активностью (в 54%), владельцы не менее 4 и не более 5 объектов и со средним баллом кредитного скоринга равным 652.\n",
    "3. Оставшиеся пользователи 3х кредитных продуктов - это в большинстве своем мужчины (68%) 43 лет, в 67% случаев являются владельцами кредитных карт с оцененным доходом в 89 тыс. руб. и с активностью в 67%, владельцы в среднем 4 объектов и со средним баллом кредитного скоринга равным 675. ХЖенщины (их 32%) 38 лет, в 100% случаев являются владельцами кредитных карт с оцененным доходом в 77 тыс рублей, с активностью в 57%, владельцы 6 объектов и со средним баллом кредитного скоринга равным 681.\n",
    "4. Среди оставшихся клиентов потребителей 4х банковских продуктов нет."
   ]
  },
  {
   "cell_type": "markdown",
   "id": "5760b65d",
   "metadata": {},
   "source": [
    "**3.3. Сегментация ушедших клиентов по потребляемым продуктам в Рыбинске** "
   ]
  },
  {
   "cell_type": "code",
   "execution_count": 25,
   "id": "ef2f7aa4",
   "metadata": {},
   "outputs": [
    {
     "data": {
      "text/plain": [
       "products  gender\n",
       "1         Ж         138\n",
       "          М         129\n",
       "2         Ж         53 \n",
       "          М         34 \n",
       "3         Ж         35 \n",
       "          М         17 \n",
       "4         Ж         5  \n",
       "          М         2  \n",
       "Name: userid, dtype: int64"
      ]
     },
     "execution_count": 25,
     "metadata": {},
     "output_type": "execute_result"
    }
   ],
   "source": [
    "clients_churn_rybinsk = df_rybinsk.query('churn == 1')\n",
    "clients_churn_rybinsk.groupby(['products', 'gender'])['userid'].count()"
   ]
  },
  {
   "cell_type": "code",
   "execution_count": 26,
   "id": "591b6be5",
   "metadata": {},
   "outputs": [
    {
     "data": {
      "text/html": [
       "<div>\n",
       "<style scoped>\n",
       "    .dataframe tbody tr th:only-of-type {\n",
       "        vertical-align: middle;\n",
       "    }\n",
       "\n",
       "    .dataframe tbody tr th {\n",
       "        vertical-align: top;\n",
       "    }\n",
       "\n",
       "    .dataframe thead th {\n",
       "        text-align: right;\n",
       "    }\n",
       "</style>\n",
       "<table border=\"1\" class=\"dataframe\">\n",
       "  <thead>\n",
       "    <tr style=\"text-align: right;\">\n",
       "      <th></th>\n",
       "      <th></th>\n",
       "      <th>age</th>\n",
       "      <th>creditcard</th>\n",
       "      <th>estimated_salary</th>\n",
       "      <th>loyalty</th>\n",
       "      <th>objects</th>\n",
       "      <th>score</th>\n",
       "    </tr>\n",
       "    <tr>\n",
       "      <th>products</th>\n",
       "      <th>gender</th>\n",
       "      <th></th>\n",
       "      <th></th>\n",
       "      <th></th>\n",
       "      <th></th>\n",
       "      <th></th>\n",
       "      <th></th>\n",
       "    </tr>\n",
       "  </thead>\n",
       "  <tbody>\n",
       "    <tr>\n",
       "      <td rowspan=\"2\" valign=\"top\">1</td>\n",
       "      <td>Ж</td>\n",
       "      <td>43.34</td>\n",
       "      <td>0.69</td>\n",
       "      <td>104,989.56</td>\n",
       "      <td>0.30</td>\n",
       "      <td>4.70</td>\n",
       "      <td>646.82</td>\n",
       "    </tr>\n",
       "    <tr>\n",
       "      <td>М</td>\n",
       "      <td>44.67</td>\n",
       "      <td>0.69</td>\n",
       "      <td>102,456.11</td>\n",
       "      <td>0.36</td>\n",
       "      <td>4.57</td>\n",
       "      <td>641.01</td>\n",
       "    </tr>\n",
       "    <tr>\n",
       "      <td rowspan=\"2\" valign=\"top\">2</td>\n",
       "      <td>Ж</td>\n",
       "      <td>44.43</td>\n",
       "      <td>0.66</td>\n",
       "      <td>113,041.16</td>\n",
       "      <td>0.38</td>\n",
       "      <td>4.51</td>\n",
       "      <td>646.83</td>\n",
       "    </tr>\n",
       "    <tr>\n",
       "      <td>М</td>\n",
       "      <td>46.76</td>\n",
       "      <td>0.62</td>\n",
       "      <td>83,094.02</td>\n",
       "      <td>0.29</td>\n",
       "      <td>5.29</td>\n",
       "      <td>680.15</td>\n",
       "    </tr>\n",
       "    <tr>\n",
       "      <td rowspan=\"2\" valign=\"top\">3</td>\n",
       "      <td>Ж</td>\n",
       "      <td>42.97</td>\n",
       "      <td>0.63</td>\n",
       "      <td>116,069.04</td>\n",
       "      <td>0.37</td>\n",
       "      <td>4.80</td>\n",
       "      <td>630.29</td>\n",
       "    </tr>\n",
       "    <tr>\n",
       "      <td>М</td>\n",
       "      <td>42.59</td>\n",
       "      <td>0.53</td>\n",
       "      <td>98,440.52</td>\n",
       "      <td>0.41</td>\n",
       "      <td>3.76</td>\n",
       "      <td>675.41</td>\n",
       "    </tr>\n",
       "    <tr>\n",
       "      <td rowspan=\"2\" valign=\"top\">4</td>\n",
       "      <td>Ж</td>\n",
       "      <td>46.80</td>\n",
       "      <td>1.00</td>\n",
       "      <td>60,105.66</td>\n",
       "      <td>0.40</td>\n",
       "      <td>5.00</td>\n",
       "      <td>695.20</td>\n",
       "    </tr>\n",
       "    <tr>\n",
       "      <td>М</td>\n",
       "      <td>41.00</td>\n",
       "      <td>1.00</td>\n",
       "      <td>120,398.13</td>\n",
       "      <td>0.00</td>\n",
       "      <td>4.50</td>\n",
       "      <td>517.50</td>\n",
       "    </tr>\n",
       "  </tbody>\n",
       "</table>\n",
       "</div>"
      ],
      "text/plain": [
       "                  age  creditcard  estimated_salary  loyalty  objects  score\n",
       "products gender                                                             \n",
       "1        Ж      43.34 0.69        104,989.56        0.30     4.70     646.82\n",
       "         М      44.67 0.69        102,456.11        0.36     4.57     641.01\n",
       "2        Ж      44.43 0.66        113,041.16        0.38     4.51     646.83\n",
       "         М      46.76 0.62        83,094.02         0.29     5.29     680.15\n",
       "3        Ж      42.97 0.63        116,069.04        0.37     4.80     630.29\n",
       "         М      42.59 0.53        98,440.52         0.41     3.76     675.41\n",
       "4        Ж      46.80 1.00        60,105.66         0.40     5.00     695.20\n",
       "         М      41.00 1.00        120,398.13        0.00     4.50     517.50"
      ]
     },
     "execution_count": 26,
     "metadata": {},
     "output_type": "execute_result"
    }
   ],
   "source": [
    "df_rybinsk.query('churn == 1').pivot_table(index=['products', 'gender'], values=['score', 'age', 'objects', 'creditcard', 'loyalty', 'estimated_salary'], aggfunc='mean')"
   ]
  },
  {
   "cell_type": "markdown",
   "id": "5a4fb8ca",
   "metadata": {},
   "source": [
    "Из данных видно, что в Рыбинске:\n",
    "\n",
    "1. Ушедшие пользователи 1 кредитного продукта - это в большинстве своем женщины (52%) 43 лет, в 69% случаев являлись владельцами кредитных карт с оцененным доходом в 105 тыс. руб. и с довольно низкой активностью (30%), владелицы не менее 4х и не более 5 объектов и со средним баллом кредитного скоринга равным 647. Мужчины (их 48%) чуть старше (44г), в 69% случаев являлись владельцами кредитных карт с оцененным доходом в 102 тыс рублей, так же  с низкой активностью (в 36%), владельцы не более 5 объектов и со средним баллом кредитного скоринга равным 641.\n",
    "\n",
    "2. Ушедшие пользователи 2х кредитных продуктов - это в большинстве своем женщины (61%) возрастом 44 года, в 66% случаев являлись владельцами кредитных карт с оцененным доходом в 113 тыс. руб. и с активностью 38%, владелицы не менее 4 и не более 5 объектов и со средним баллом кредитного скоринга равным 647. Мужчины (их 39%) чуть старше (46 л), в 62% случаев являлись владельцами кредитных карт с оцененным доходом в 83 тыс рублей, с чуть более низкой активностью в 37%, владельцы в среднем 5 объектов и со средним баллом кредитного скоринга равным 680.\n",
    "\n",
    "3. Ушедшие пользователи 3 кредитных продуктов - это в большинстве своем женщины (67%) 43 лет, в 63% случаев являлись владельцами кредитных карт с оцененным доходом в 116 тыс. руб. и с довольно низкой активностью (37%), владелицы 5 объектов и со средним баллом кредитного скоринга равным 630. Мужчины (их 33%) чуть младше, но также возраста 42+, в 53% случаев являлись владельцами кредитных карт с оцененным доходом в 98 тыс рублей, с более высокой активностью в 41%, владельцы не менее 3 и не более 4 объектов и со средним баллом кредитного скоринга равным 675.\n",
    "\n",
    "4. Ушедшие пользователи 4 кредитных продуктов - это в большинстве своем женщины (71%) 47 лет в 100% случаев являлись владельцами кредитных карт с оцененным доходом в 60 тыс. руб. и с довольно низкой активностью (40%), владелицы 5 объектов и со средним баллом кредитного скоринга равным 695. Мужчины (их 29%) возраста 41г, в 100% случаев являлись владельцами кредитных карт с оцененным доходом в 120 тыс рублей, с нулевой активностью, владельцы не менее 4 и не более 5 объектов и со средним баллом кредитного скоринга равным 518."
   ]
  },
  {
   "cell_type": "markdown",
   "id": "6fbb1fe3",
   "metadata": {},
   "source": [
    "**3.4. Сегментация оставшихся клиентов по потребляемым продуктам в Рыбинске** "
   ]
  },
  {
   "cell_type": "code",
   "execution_count": 27,
   "id": "617d4161",
   "metadata": {},
   "outputs": [
    {
     "data": {
      "text/plain": [
       "products  gender\n",
       "1         Ж         378\n",
       "          М         576\n",
       "2         Ж         474\n",
       "          М         622\n",
       "3         Ж         6  \n",
       "          М         8  \n",
       "Name: userid, dtype: int64"
      ]
     },
     "execution_count": 27,
     "metadata": {},
     "output_type": "execute_result"
    }
   ],
   "source": [
    "clients_no_churn_rybinsk = df_rybinsk.query('churn == 0')\n",
    "clients_no_churn_rybinsk.groupby(['products', 'gender'])['userid'].count()"
   ]
  },
  {
   "cell_type": "code",
   "execution_count": 28,
   "id": "636de63f",
   "metadata": {},
   "outputs": [
    {
     "data": {
      "text/html": [
       "<div>\n",
       "<style scoped>\n",
       "    .dataframe tbody tr th:only-of-type {\n",
       "        vertical-align: middle;\n",
       "    }\n",
       "\n",
       "    .dataframe tbody tr th {\n",
       "        vertical-align: top;\n",
       "    }\n",
       "\n",
       "    .dataframe thead th {\n",
       "        text-align: right;\n",
       "    }\n",
       "</style>\n",
       "<table border=\"1\" class=\"dataframe\">\n",
       "  <thead>\n",
       "    <tr style=\"text-align: right;\">\n",
       "      <th></th>\n",
       "      <th></th>\n",
       "      <th>age</th>\n",
       "      <th>creditcard</th>\n",
       "      <th>estimated_salary</th>\n",
       "      <th>loyalty</th>\n",
       "      <th>objects</th>\n",
       "      <th>score</th>\n",
       "    </tr>\n",
       "    <tr>\n",
       "      <th>products</th>\n",
       "      <th>gender</th>\n",
       "      <th></th>\n",
       "      <th></th>\n",
       "      <th></th>\n",
       "      <th></th>\n",
       "      <th></th>\n",
       "      <th></th>\n",
       "    </tr>\n",
       "  </thead>\n",
       "  <tbody>\n",
       "    <tr>\n",
       "      <td rowspan=\"2\" valign=\"top\">1</td>\n",
       "      <td>Ж</td>\n",
       "      <td>38.72</td>\n",
       "      <td>0.70</td>\n",
       "      <td>99,203.29</td>\n",
       "      <td>0.62</td>\n",
       "      <td>5.04</td>\n",
       "      <td>650.74</td>\n",
       "    </tr>\n",
       "    <tr>\n",
       "      <td>М</td>\n",
       "      <td>38.37</td>\n",
       "      <td>0.68</td>\n",
       "      <td>97,252.13</td>\n",
       "      <td>0.61</td>\n",
       "      <td>5.07</td>\n",
       "      <td>650.02</td>\n",
       "    </tr>\n",
       "    <tr>\n",
       "      <td rowspan=\"2\" valign=\"top\">2</td>\n",
       "      <td>Ж</td>\n",
       "      <td>37.47</td>\n",
       "      <td>0.73</td>\n",
       "      <td>99,137.63</td>\n",
       "      <td>0.53</td>\n",
       "      <td>5.12</td>\n",
       "      <td>655.47</td>\n",
       "    </tr>\n",
       "    <tr>\n",
       "      <td>М</td>\n",
       "      <td>37.19</td>\n",
       "      <td>0.69</td>\n",
       "      <td>99,567.73</td>\n",
       "      <td>0.53</td>\n",
       "      <td>5.15</td>\n",
       "      <td>652.24</td>\n",
       "    </tr>\n",
       "    <tr>\n",
       "      <td rowspan=\"2\" valign=\"top\">3</td>\n",
       "      <td>Ж</td>\n",
       "      <td>36.17</td>\n",
       "      <td>0.50</td>\n",
       "      <td>61,113.05</td>\n",
       "      <td>0.33</td>\n",
       "      <td>5.50</td>\n",
       "      <td>670.50</td>\n",
       "    </tr>\n",
       "    <tr>\n",
       "      <td>М</td>\n",
       "      <td>31.88</td>\n",
       "      <td>0.62</td>\n",
       "      <td>88,772.21</td>\n",
       "      <td>0.75</td>\n",
       "      <td>6.50</td>\n",
       "      <td>642.25</td>\n",
       "    </tr>\n",
       "  </tbody>\n",
       "</table>\n",
       "</div>"
      ],
      "text/plain": [
       "                  age  creditcard  estimated_salary  loyalty  objects  score\n",
       "products gender                                                             \n",
       "1        Ж      38.72 0.70        99,203.29         0.62     5.04     650.74\n",
       "         М      38.37 0.68        97,252.13         0.61     5.07     650.02\n",
       "2        Ж      37.47 0.73        99,137.63         0.53     5.12     655.47\n",
       "         М      37.19 0.69        99,567.73         0.53     5.15     652.24\n",
       "3        Ж      36.17 0.50        61,113.05         0.33     5.50     670.50\n",
       "         М      31.88 0.62        88,772.21         0.75     6.50     642.25"
      ]
     },
     "execution_count": 28,
     "metadata": {},
     "output_type": "execute_result"
    }
   ],
   "source": [
    "df_rybinsk.query('churn == 0').pivot_table(index=['products', 'gender'], values=['score', 'age', 'objects', 'creditcard', 'loyalty', 'estimated_salary'], aggfunc='mean')"
   ]
  },
  {
   "cell_type": "markdown",
   "id": "17ef2b9f",
   "metadata": {},
   "source": [
    "Из данных видно, что в Рыбинске:\n",
    "\n",
    "1. Оставшиеся потребители 1 кредитного продукта - это в большинстве своем мужчины (60%) 38 лет, в 68% случаев являются владельцами кредитных карт с оцененным доходом в 97 тыс. руб. и с активностью  в 61%, владельцы в среднем 5 объектов и со средним баллом кредитного скоринга равным 650. Женщины (их 40%) чуть старше, но также возраста 38+, в 70% случаев являются владельцами кредитных карт с оцененным доходом в 99 тыс рублей, так же с активностью в 62%, владелицы в среднем 5 объектов и со средним баллом кредитного скоринга равным 651.\n",
    "2. Оставшиеся пользователи 2х кредитных продуктов - это в большинстве своем мужчины (57%) 37 лет, в 69% случаев являются владельцами кредитных карт с оцененным доходом в 100 тыс. руб. и с активностью 53%, владельцы в среднем 5 Х объектов и со средним баллом кредитного скоринга равным 652. Женщины (их 43%) чуть старше, но также возраста 37+, в 73% случаев являются владельцами кредитных карт с оцененным доходом в 99 тыс рублей, так же  со средней активностью (в 53%), владелицы не менее 5 объектов и со средним баллом кредитного скоринга равным 655.\n",
    "3. Оставшиеся пользователи 3х кредитных продуктов - это в большинстве своем мужчины (57%) 32 лет, в 62% случаев являются владельцами кредитных карт с оцененным доходом в 89 тыс. руб. и с высокой активностью (75%), владельцы не менее 6 и не более 7 объектов и со средним баллом кредитного скоринга равным 642. Женщины (их 43%) чуть старше (36+), в 50% случаев являются владельцами кредитных карт с оцененным доходом в 61 тыс рублей, с низкой активностью (в 33%), владелицы не менее 5 и не более 6 объектов и со средним баллом кредитного скоринга равным 671.\n",
    "4. Среди оставшихся клиентов потребителей 4х банковских продуктов нет."
   ]
  },
  {
   "cell_type": "markdown",
   "id": "9d7defd1",
   "metadata": {},
   "source": [
    "**3.5. Сегментация ушедших клиентов по потребляемым продуктам  в Ростове Великом** "
   ]
  },
  {
   "cell_type": "code",
   "execution_count": 29,
   "id": "3d178f4a",
   "metadata": {},
   "outputs": [
    {
     "data": {
      "text/plain": [
       "products  gender\n",
       "1         Ж         313\n",
       "          М         265\n",
       "2         Ж         75 \n",
       "          М         51 \n",
       "3         Ж         46 \n",
       "          М         40 \n",
       "4         Ж         14 \n",
       "          М         10 \n",
       "Name: userid, dtype: int64"
      ]
     },
     "execution_count": 29,
     "metadata": {},
     "output_type": "execute_result"
    }
   ],
   "source": [
    "clients_churn_rostov_vel = df_rostov_vel.query('churn == 1')\n",
    "clients_churn_rostov_vel.groupby(['products', 'gender'])['userid'].count()"
   ]
  },
  {
   "cell_type": "code",
   "execution_count": 30,
   "id": "90cd1016",
   "metadata": {},
   "outputs": [
    {
     "data": {
      "text/html": [
       "<div>\n",
       "<style scoped>\n",
       "    .dataframe tbody tr th:only-of-type {\n",
       "        vertical-align: middle;\n",
       "    }\n",
       "\n",
       "    .dataframe tbody tr th {\n",
       "        vertical-align: top;\n",
       "    }\n",
       "\n",
       "    .dataframe thead th {\n",
       "        text-align: right;\n",
       "    }\n",
       "</style>\n",
       "<table border=\"1\" class=\"dataframe\">\n",
       "  <thead>\n",
       "    <tr style=\"text-align: right;\">\n",
       "      <th></th>\n",
       "      <th></th>\n",
       "      <th>age</th>\n",
       "      <th>creditcard</th>\n",
       "      <th>estimated_salary</th>\n",
       "      <th>loyalty</th>\n",
       "      <th>objects</th>\n",
       "      <th>score</th>\n",
       "    </tr>\n",
       "    <tr>\n",
       "      <th>products</th>\n",
       "      <th>gender</th>\n",
       "      <th></th>\n",
       "      <th></th>\n",
       "      <th></th>\n",
       "      <th></th>\n",
       "      <th></th>\n",
       "      <th></th>\n",
       "    </tr>\n",
       "  </thead>\n",
       "  <tbody>\n",
       "    <tr>\n",
       "      <td rowspan=\"2\" valign=\"top\">1</td>\n",
       "      <td>Ж</td>\n",
       "      <td>44.58</td>\n",
       "      <td>0.69</td>\n",
       "      <td>100,083.03</td>\n",
       "      <td>0.35</td>\n",
       "      <td>5.12</td>\n",
       "      <td>654.78</td>\n",
       "    </tr>\n",
       "    <tr>\n",
       "      <td>М</td>\n",
       "      <td>45.34</td>\n",
       "      <td>0.70</td>\n",
       "      <td>95,038.20</td>\n",
       "      <td>0.35</td>\n",
       "      <td>4.79</td>\n",
       "      <td>642.55</td>\n",
       "    </tr>\n",
       "    <tr>\n",
       "      <td rowspan=\"2\" valign=\"top\">2</td>\n",
       "      <td>Ж</td>\n",
       "      <td>45.91</td>\n",
       "      <td>0.77</td>\n",
       "      <td>93,617.12</td>\n",
       "      <td>0.44</td>\n",
       "      <td>5.21</td>\n",
       "      <td>641.00</td>\n",
       "    </tr>\n",
       "    <tr>\n",
       "      <td>М</td>\n",
       "      <td>43.41</td>\n",
       "      <td>0.71</td>\n",
       "      <td>104,773.46</td>\n",
       "      <td>0.29</td>\n",
       "      <td>4.94</td>\n",
       "      <td>637.96</td>\n",
       "    </tr>\n",
       "    <tr>\n",
       "      <td rowspan=\"2\" valign=\"top\">3</td>\n",
       "      <td>Ж</td>\n",
       "      <td>45.26</td>\n",
       "      <td>0.72</td>\n",
       "      <td>111,405.17</td>\n",
       "      <td>0.41</td>\n",
       "      <td>4.80</td>\n",
       "      <td>647.39</td>\n",
       "    </tr>\n",
       "    <tr>\n",
       "      <td>М</td>\n",
       "      <td>44.23</td>\n",
       "      <td>0.75</td>\n",
       "      <td>95,040.20</td>\n",
       "      <td>0.40</td>\n",
       "      <td>5.72</td>\n",
       "      <td>655.30</td>\n",
       "    </tr>\n",
       "    <tr>\n",
       "      <td rowspan=\"2\" valign=\"top\">4</td>\n",
       "      <td>Ж</td>\n",
       "      <td>43.07</td>\n",
       "      <td>0.71</td>\n",
       "      <td>91,166.29</td>\n",
       "      <td>0.29</td>\n",
       "      <td>4.29</td>\n",
       "      <td>623.29</td>\n",
       "    </tr>\n",
       "    <tr>\n",
       "      <td>М</td>\n",
       "      <td>46.30</td>\n",
       "      <td>0.80</td>\n",
       "      <td>102,234.76</td>\n",
       "      <td>0.60</td>\n",
       "      <td>5.10</td>\n",
       "      <td>666.70</td>\n",
       "    </tr>\n",
       "  </tbody>\n",
       "</table>\n",
       "</div>"
      ],
      "text/plain": [
       "                  age  creditcard  estimated_salary  loyalty  objects  score\n",
       "products gender                                                             \n",
       "1        Ж      44.58 0.69        100,083.03        0.35     5.12     654.78\n",
       "         М      45.34 0.70        95,038.20         0.35     4.79     642.55\n",
       "2        Ж      45.91 0.77        93,617.12         0.44     5.21     641.00\n",
       "         М      43.41 0.71        104,773.46        0.29     4.94     637.96\n",
       "3        Ж      45.26 0.72        111,405.17        0.41     4.80     647.39\n",
       "         М      44.23 0.75        95,040.20         0.40     5.72     655.30\n",
       "4        Ж      43.07 0.71        91,166.29         0.29     4.29     623.29\n",
       "         М      46.30 0.80        102,234.76        0.60     5.10     666.70"
      ]
     },
     "execution_count": 30,
     "metadata": {},
     "output_type": "execute_result"
    }
   ],
   "source": [
    "df_rostov_vel.query('churn == 1').pivot_table(index=['products', 'gender'], values=['score', 'age', 'objects', 'creditcard', 'loyalty', 'estimated_salary'], aggfunc='mean')"
   ]
  },
  {
   "cell_type": "markdown",
   "id": "952622c8",
   "metadata": {},
   "source": [
    "Из данных видно, что в Ростове Великом:\n",
    "\n",
    "1. Ушедшие потребители 1 кредитного продукта - это в большинстве своем женщины (54%) 45 лет, в 69% случаев являлись владелицами кредитных карт с оцененным доходом в 100 тыс. руб. и с довольно низкой активностью (35%), владелицы в среднем 5 объектов и со средним баллом кредитного скоринга равным 6543. Мужчины (их 46%) чуть старше, но также возраста 45+, в 70% случаев являлись владельцами кредитных карт с оцененным доходом в 95 тыс рублей, так же  с низкой активностью (в 35%), владельцы не менее 4 и не более 5 объектов и со средним баллом кредитного скоринга равным 643.\n",
    "\n",
    "2. Ушедшие пользователи 2х кредитных продуктов - это в большинстве своем женщины (60%) возрастом ближе к 46 годам, в 77% случаев являлись владельцами кредитных карт с оцененным доходом в 93 тыс. руб. и с активностью 44%, владелицы не менее 5 объектов и со средним баллом кредитного скоринга равным 641. Мужчины (их 40%) чуть младше (43 г), в 71% случаев являлись владельцами кредитных карт с оцененным доходом в 105 тыс рублей, с чуть более высокой активностью в 41%, владельцы не менее 4 и не более 5 объектов и со средним баллом кредитного скоринга равным 638.\n",
    "\n",
    "3. Ушедшие потребители 3 кредитных продуктов - это в большинстве своем женщины (53%) 45 лет, в 72% случаев являлись владельцами кредитных карт с оцененным доходом в 111 тыс. руб. и с довольно низкой активностью (41%), владелицы не менее 4 и не более 5 объектов и со средним баллом кредитного скоринга равным 647. Мужчины (их 47%) чуть младше, но также возраста 44+, в 75% случаев являлись владельцами кредитных карт с оцененным доходом в 95 тыс рублей, с такой же активностью в 40%, владельцы  не менее 5 объектов и со средним баллом кредитного скоринга равным 655.\n",
    "\n",
    "4. Ушедшие пользователи 4 кредитных продуктов - это в большинстве своем женщины (58%) 43 лет в 71% случаев являлись владельцами кредитных карт с оцененным доходом в 91 тыс. руб. и с довольно низкой активностью (29%), владелицы в среднем 4х объектов и со средним баллом кредитного скоринга равным 623. Мужчины (их 42%) чуть старше (46 лет), в 80% случаев являлись владельцами кредитных карт с оцененным доходом в 102 тыс рублей, со средней активностью (в 60%), владельцы 5 объектов и со средним баллом кредитного скоринга равным 667."
   ]
  },
  {
   "cell_type": "markdown",
   "id": "87cfea3d",
   "metadata": {},
   "source": [
    "**3.6. Сегментация оставшихся клиентов по потребляемым продуктам  в Ростове Великом** "
   ]
  },
  {
   "cell_type": "code",
   "execution_count": 31,
   "id": "445ff25f",
   "metadata": {},
   "outputs": [
    {
     "data": {
      "text/plain": [
       "products  gender\n",
       "1         Ж         351\n",
       "          М         420\n",
       "2         Ж         387\n",
       "          М         527\n",
       "3         Ж         7  \n",
       "          М         3  \n",
       "Name: userid, dtype: int64"
      ]
     },
     "execution_count": 31,
     "metadata": {},
     "output_type": "execute_result"
    }
   ],
   "source": [
    "clients_no_churn_rostov_vel = df_rostov_vel.query('churn == 0') \n",
    "clients_no_churn_rostov_vel.groupby(['products', 'gender'])['userid'].count()"
   ]
  },
  {
   "cell_type": "code",
   "execution_count": 32,
   "id": "764d1793",
   "metadata": {},
   "outputs": [
    {
     "data": {
      "text/html": [
       "<div>\n",
       "<style scoped>\n",
       "    .dataframe tbody tr th:only-of-type {\n",
       "        vertical-align: middle;\n",
       "    }\n",
       "\n",
       "    .dataframe tbody tr th {\n",
       "        vertical-align: top;\n",
       "    }\n",
       "\n",
       "    .dataframe thead th {\n",
       "        text-align: right;\n",
       "    }\n",
       "</style>\n",
       "<table border=\"1\" class=\"dataframe\">\n",
       "  <thead>\n",
       "    <tr style=\"text-align: right;\">\n",
       "      <th></th>\n",
       "      <th></th>\n",
       "      <th>age</th>\n",
       "      <th>creditcard</th>\n",
       "      <th>estimated_salary</th>\n",
       "      <th>loyalty</th>\n",
       "      <th>objects</th>\n",
       "      <th>score</th>\n",
       "    </tr>\n",
       "    <tr>\n",
       "      <th>products</th>\n",
       "      <th>gender</th>\n",
       "      <th></th>\n",
       "      <th></th>\n",
       "      <th></th>\n",
       "      <th></th>\n",
       "      <th></th>\n",
       "      <th></th>\n",
       "    </tr>\n",
       "  </thead>\n",
       "  <tbody>\n",
       "    <tr>\n",
       "      <td rowspan=\"2\" valign=\"top\">1</td>\n",
       "      <td>Ж</td>\n",
       "      <td>37.18</td>\n",
       "      <td>0.72</td>\n",
       "      <td>108,600.36</td>\n",
       "      <td>0.52</td>\n",
       "      <td>5.03</td>\n",
       "      <td>654.17</td>\n",
       "    </tr>\n",
       "    <tr>\n",
       "      <td>М</td>\n",
       "      <td>37.41</td>\n",
       "      <td>0.71</td>\n",
       "      <td>99,186.50</td>\n",
       "      <td>0.58</td>\n",
       "      <td>5.04</td>\n",
       "      <td>652.16</td>\n",
       "    </tr>\n",
       "    <tr>\n",
       "      <td rowspan=\"2\" valign=\"top\">2</td>\n",
       "      <td>Ж</td>\n",
       "      <td>37.57</td>\n",
       "      <td>0.69</td>\n",
       "      <td>98,916.77</td>\n",
       "      <td>0.53</td>\n",
       "      <td>4.82</td>\n",
       "      <td>654.47</td>\n",
       "    </tr>\n",
       "    <tr>\n",
       "      <td>М</td>\n",
       "      <td>37.20</td>\n",
       "      <td>0.73</td>\n",
       "      <td>102,883.91</td>\n",
       "      <td>0.59</td>\n",
       "      <td>5.16</td>\n",
       "      <td>652.21</td>\n",
       "    </tr>\n",
       "    <tr>\n",
       "      <td rowspan=\"2\" valign=\"top\">3</td>\n",
       "      <td>Ж</td>\n",
       "      <td>33.29</td>\n",
       "      <td>0.86</td>\n",
       "      <td>152,975.72</td>\n",
       "      <td>0.71</td>\n",
       "      <td>2.57</td>\n",
       "      <td>674.71</td>\n",
       "    </tr>\n",
       "    <tr>\n",
       "      <td>М</td>\n",
       "      <td>35.67</td>\n",
       "      <td>1.00</td>\n",
       "      <td>81,450.05</td>\n",
       "      <td>0.33</td>\n",
       "      <td>4.33</td>\n",
       "      <td>680.67</td>\n",
       "    </tr>\n",
       "  </tbody>\n",
       "</table>\n",
       "</div>"
      ],
      "text/plain": [
       "                  age  creditcard  estimated_salary  loyalty  objects  score\n",
       "products gender                                                             \n",
       "1        Ж      37.18 0.72        108,600.36        0.52     5.03     654.17\n",
       "         М      37.41 0.71        99,186.50         0.58     5.04     652.16\n",
       "2        Ж      37.57 0.69        98,916.77         0.53     4.82     654.47\n",
       "         М      37.20 0.73        102,883.91        0.59     5.16     652.21\n",
       "3        Ж      33.29 0.86        152,975.72        0.71     2.57     674.71\n",
       "         М      35.67 1.00        81,450.05         0.33     4.33     680.67"
      ]
     },
     "execution_count": 32,
     "metadata": {},
     "output_type": "execute_result"
    }
   ],
   "source": [
    "df_rostov_vel.query('churn == 0').pivot_table(index=['products', 'gender'], values=['score', 'age', 'objects', 'creditcard', 'loyalty', 'estimated_salary'], aggfunc='mean')"
   ]
  },
  {
   "cell_type": "markdown",
   "id": "42c8ff74",
   "metadata": {},
   "source": [
    "Из данных видно, что в Ростове Великом:\n",
    "\n",
    "1. Оставшиеся пользователи 1 кредитного продукта - это в большинстве своем мужчины (54%) 37 лет, в 71% случаев являются владельцами кредитных карт с оцененным доходом в 99 тыс. руб. и со средней  активностью (58%), владельцы 5 объектов и со средним баллом кредитного скоринга равным 652. Женщины (их 46%) того же также возраста, в 72% случаев являются владельцами кредитных карт с оцененным доходом в 109 тыс рублей, так же  с активностью в 52%, владелицы 5 объектов и со средним баллом кредитного скоринга равным 654.\n",
    "2. Оставшиеся пользователи 2х кредитных продуктов - это в большинстве своем мужчины (58%) 37 лет, в 73% случаев являются владельцами кредитных карт с оцененным доходом в 103 тыс. руб. и со средней активностью (59%), владельцы 5 объектов и со средним баллом кредитного скоринга равным 652. Женщины (их 42%) того же возраста, в 69% случаев являются владельцами кредитных карт с оцененным доходом в 99 тыс рублей, так же  с активностью в 53%, владелицы не менее 4 и не более 5 объектов и со средним баллом кредитного скоринга равным 654.\n",
    "3. Оставшиеся пользователи 3х кредитных продуктов - это в большинстве своем женщины (70%) 33 лет, в 86% случаев являются владельцами кредитных карт с оцененным доходом в 153 тыс. руб. и с высокой активностью (71%), владелицы не менее 2 и не более 3 объектов и со средним баллом кредитного скоринга равным 675. Мужчины (их 30%) чуть старше - возраста 36 лет, в 100% случаев являются владельцами кредитных карт с оцененным доходом в 81 тыс рублей, с низкой активностью (в 33%), владельцы не менее 4 и не более 5 объектов и со средним баллом кредитного скоринга равным 681.\n",
    "4. Среди оставшихся клиентов потребителей 4х банковских продуктов нет."
   ]
  },
  {
   "cell_type": "markdown",
   "id": "e1988e16",
   "metadata": {},
   "source": [
    "**Общий вывод:**\n",
    "\n",
    "1. Среди оставшихся клиентов банка \"Метанпром\" в трех городах нет потребителей 4х продуктов.\n",
    "2. Ушедшие клиенты в трех городах в основном женщины.\n",
    "3. Возраст ушедших клиентов в трех городах на десяток лет выше тех, кто остался."
   ]
  },
  {
   "cell_type": "markdown",
   "id": "d67d0224",
   "metadata": {},
   "source": [
    "# 4. Проверка гипотез"
   ]
  },
  {
   "cell_type": "markdown",
   "id": "2a1df983",
   "metadata": {},
   "source": [
    "**Задание**\n",
    "\n",
    "*1. Проверьте гипотезу различия дохода между теми клиентами, которые пользуются двумя продуктами банка, и теми, которые пользуются одним.*\n",
    "\n",
    "*2. Сформулируйте и проверьте статистическую гипотезу относительно представленных данных.*"
   ]
  },
  {
   "cell_type": "markdown",
   "id": "6ee7602b",
   "metadata": {},
   "source": [
    "Нулевая гипотеза будет о том, что средний доход клиентов, которые пользуются двумя продуктами банка, и тех, кто пользуется одним, равен друг другу. Альтернативной гипотезой будет наша гипотеза \"Средний доход различен между теми клиентами, которые пользуются двумя продуктами банка, и теми, которые пользуются одним.\""
   ]
  },
  {
   "cell_type": "markdown",
   "id": "4e693de5",
   "metadata": {},
   "source": [
    "Следуя логике всего проекта, проверю гипотезы (предложенную и свою) в разрезе городов."
   ]
  },
  {
   "cell_type": "markdown",
   "id": "955e497e",
   "metadata": {},
   "source": [
    "Так как в данных есть выбросы, применим U-критерий Манна-Уитни"
   ]
  },
  {
   "cell_type": "markdown",
   "id": "a18a65d1",
   "metadata": {},
   "source": [
    "**4.1.1. Проверим гипотезу различия дохода между теми клиентами, которые пользуются двумя продуктами банка, и теми, которые пользуются одним, в Ярославле.**"
   ]
  },
  {
   "cell_type": "code",
   "execution_count": 33,
   "id": "31a0881e",
   "metadata": {},
   "outputs": [],
   "source": [
    "#создадим датасеты по количеству потребляемых продуктов (1 и 2) из оставшихся клиентов\n",
    "clients_no_churn_yaroslavl_1 = clients_no_churn_yaroslavl.query('products == 1')\n",
    "clients_no_churn_yaroslavl_2 = clients_no_churn_yaroslavl.query('products == 2')"
   ]
  },
  {
   "cell_type": "code",
   "execution_count": 34,
   "id": "a945a00f",
   "metadata": {},
   "outputs": [
    {
     "name": "stdout",
     "output_type": "stream",
     "text": [
      "p-значение:  0.05730359952887783\n"
     ]
    }
   ],
   "source": [
    "alpha = 0.05 # критический уровень статистической значимости\n",
    "results = st.mannwhitneyu(clients_no_churn_yaroslavl_1['estimated_salary'], clients_no_churn_yaroslavl_2['estimated_salary'])\n",
    "print('p-значение: ', results.pvalue)"
   ]
  },
  {
   "cell_type": "code",
   "execution_count": 35,
   "id": "85a18eb0",
   "metadata": {},
   "outputs": [
    {
     "name": "stdout",
     "output_type": "stream",
     "text": [
      "Не получилось отвергнуть нулевую гипотезу, вывод о различии сделать нельзя\n"
     ]
    }
   ],
   "source": [
    "if (results.pvalue < alpha):\n",
    "    print(\"Отвергаем нулевую гипотезу: разница статистически значима\")\n",
    "else:\n",
    "    print(\"Не получилось отвергнуть нулевую гипотезу, вывод о различии сделать нельзя\")"
   ]
  },
  {
   "cell_type": "markdown",
   "id": "eda14486",
   "metadata": {},
   "source": [
    "Нулевой гипотезой была гипотеза о равенстве средних доходов наших выборок. Р-value больше alpha говорит нам о том, вероятность случайного совпадения средних наших выборок велика. \n",
    "\n",
    "**Вывод**\n",
    "\n",
    "Гипотеза различия дохода между теми клиентами в Ярославле, которые пользуются двумя продуктами банка, и теми, которые пользуются одним, НЕ ПОДТВЕРДИЛАСЬ."
   ]
  },
  {
   "cell_type": "markdown",
   "id": "99dbf25f",
   "metadata": {},
   "source": [
    "**4.1.2. Проверим гипотезу различия дохода между теми клиентами, которые пользуются двумя продуктами банка, и теми, которые пользуются одним, в Рыбинске.**"
   ]
  },
  {
   "cell_type": "code",
   "execution_count": 36,
   "id": "5bf2b259",
   "metadata": {},
   "outputs": [],
   "source": [
    "#создадим датасеты по количеству потребляемых продуктов: 1 и 2\n",
    "clients_no_churn_rybinsk_1 = clients_no_churn_rybinsk.query('products == 1')\n",
    "clients_no_churn_rybinsk_2 = clients_no_churn_rybinsk.query('products == 2')"
   ]
  },
  {
   "cell_type": "code",
   "execution_count": 37,
   "id": "a6ba4a86",
   "metadata": {},
   "outputs": [
    {
     "name": "stdout",
     "output_type": "stream",
     "text": [
      "p-значение:  0.29051838079889736\n"
     ]
    }
   ],
   "source": [
    "alpha = 0.05 # критический уровень статистической значимости\n",
    "results = st.mannwhitneyu(clients_no_churn_rybinsk_1['estimated_salary'], clients_no_churn_rybinsk_2['estimated_salary'])\n",
    "print('p-значение: ', results.pvalue)"
   ]
  },
  {
   "cell_type": "code",
   "execution_count": 38,
   "id": "bf964df9",
   "metadata": {},
   "outputs": [
    {
     "name": "stdout",
     "output_type": "stream",
     "text": [
      "Не получилось отвергнуть нулевую гипотезу, вывод о различии сделать нельзя\n"
     ]
    }
   ],
   "source": [
    "if (results.pvalue < alpha):\n",
    "    print(\"Отвергаем нулевую гипотезу: разница статистически значима\")\n",
    "else:\n",
    "    print(\"Не получилось отвергнуть нулевую гипотезу, вывод о различии сделать нельзя\")"
   ]
  },
  {
   "cell_type": "markdown",
   "id": "9facf675",
   "metadata": {},
   "source": [
    "Нулевой гипотезой была гипотеза о равенстве средних доходов наших выборок. Р-value больше alpha говорит нам о том, вероятность случайного совпадения средних наших выборок велика. \n",
    "\n",
    "**Вывод**\n",
    "\n",
    "Гипотеза различия дохода между теми клиентами в Рыбинске, которые пользуются двумя продуктами банка, и теми, которые пользуются одним, НЕ ПОДТВЕРДИЛАСЬ."
   ]
  },
  {
   "cell_type": "markdown",
   "id": "10ecf893",
   "metadata": {},
   "source": [
    "**4.1.3. Проверим гипотезу различия дохода между теми клиентами, которые пользуются двумя продуктами банка, и теми, которые пользуются одним, в Ростове Великом.**"
   ]
  },
  {
   "cell_type": "code",
   "execution_count": 39,
   "id": "d3c6a90c",
   "metadata": {},
   "outputs": [],
   "source": [
    "#создадим датасеты по количеству потребляемых продуктов: 1 и 2\n",
    "clients_no_churn_rostov_vel_1 = clients_no_churn_rostov_vel.query('products == 1')\n",
    "clients_no_churn_rostov_vel_2 = clients_no_churn_rostov_vel.query('products == 2')"
   ]
  },
  {
   "cell_type": "code",
   "execution_count": 40,
   "id": "fc865bb4",
   "metadata": {},
   "outputs": [
    {
     "name": "stdout",
     "output_type": "stream",
     "text": [
      "p-значение:  0.21386341886864302\n"
     ]
    }
   ],
   "source": [
    "alpha = 0.05 # критический уровень статистической значимости\n",
    "results = st.mannwhitneyu(clients_no_churn_rostov_vel_1['estimated_salary'], clients_no_churn_rostov_vel_2['estimated_salary'])\n",
    "print('p-значение: ', results.pvalue)"
   ]
  },
  {
   "cell_type": "code",
   "execution_count": 41,
   "id": "0a49dea0",
   "metadata": {},
   "outputs": [
    {
     "name": "stdout",
     "output_type": "stream",
     "text": [
      "Не получилось отвергнуть нулевую гипотезу, вывод о различии сделать нельзя\n"
     ]
    }
   ],
   "source": [
    "if (results.pvalue < alpha):\n",
    "    print(\"Отвергаем нулевую гипотезу: разница статистически значима\")\n",
    "else:\n",
    "    print(\"Не получилось отвергнуть нулевую гипотезу, вывод о различии сделать нельзя\")"
   ]
  },
  {
   "cell_type": "markdown",
   "id": "b81bdc5e",
   "metadata": {},
   "source": [
    "Нулевой гипотезой была гипотеза о равенстве средних доходов наших выборок. Р-value больше alpha говорит нам о том, вероятность случайного совпадения средних наших выборок велика. \n",
    "\n",
    "**Вывод**\n",
    "\n",
    "Гипотеза различия дохода между теми клиентами в Ростове Великом, которые пользуются двумя продуктами банка, и теми, которые пользуются одним, НЕ ПОДТВЕРДИЛАСЬ."
   ]
  },
  {
   "cell_type": "markdown",
   "id": "7843ef3d",
   "metadata": {},
   "source": [
    "**4.2.1. Проверим гипотезу различия среднего значения кредитного скоринга между теми клиентами, которые пользовались двумя продуктами банка, и теми, которые пользовались одним,  в Ярославле.**"
   ]
  },
  {
   "cell_type": "markdown",
   "id": "65db0d03",
   "metadata": {},
   "source": [
    "Нулевая гипотеза будет о том, что среднее значение кредитного скоринга ушедших клиентов, которые пользовались двумя продуктами банка, и тех, кто пользовались одним, равен друг другу. Альтернативной гипотезой будет гипотеза \"Среднее значение кредитного скоринга различен между теми ушедшими клиентами, которые пользовались двумя продуктами банка, и теми, которые пользовались одним.\""
   ]
  },
  {
   "cell_type": "code",
   "execution_count": 42,
   "id": "03738437",
   "metadata": {},
   "outputs": [],
   "source": [
    "#создадим датасеты по количеству потребляемых продуктов (1 и 2) из ушедших клиентов\n",
    "clients_churn_yaroslavl_1 = clients_churn_yaroslavl.query('products == 1') \n",
    "clients_churn_yaroslavl_2 = clients_churn_yaroslavl.query('products == 2')"
   ]
  },
  {
   "cell_type": "code",
   "execution_count": 43,
   "id": "d3f6b9fb",
   "metadata": {},
   "outputs": [
    {
     "name": "stdout",
     "output_type": "stream",
     "text": [
      "p-значение:  0.22606949568583895\n"
     ]
    }
   ],
   "source": [
    "alpha = 0.05 # критический уровень статистической значимости\n",
    "results = st.mannwhitneyu(clients_churn_yaroslavl_1['score'], clients_churn_yaroslavl_2['score'])\n",
    "print('p-значение: ', results.pvalue)"
   ]
  },
  {
   "cell_type": "code",
   "execution_count": 44,
   "id": "105349e3",
   "metadata": {},
   "outputs": [
    {
     "name": "stdout",
     "output_type": "stream",
     "text": [
      "Не получилось отвергнуть нулевую гипотезу, вывод о различии сделать нельзя\n"
     ]
    }
   ],
   "source": [
    "if (results.pvalue < alpha):\n",
    "    print(\"Отвергаем нулевую гипотезу: разница статистически значима\")\n",
    "else:\n",
    "    print(\"Не получилось отвергнуть нулевую гипотезу, вывод о различии сделать нельзя\")"
   ]
  },
  {
   "cell_type": "markdown",
   "id": "82445fd4",
   "metadata": {},
   "source": [
    "Нулевой гипотезой была гипотеза о равенстве средних значений кредитного скоринга наших выборок. Р-value больше alpha говорит о том, вероятность случайного совпадения средних наших выборок велика. \n",
    "\n",
    "**Вывод**\n",
    "\n",
    "Гипотеза различия средних значений кредитного скоринга между теми клиентами в Ярославле, которые пользовались двумя продуктами банка, и теми, которые пользовались одним, НЕ ПОДТВЕРДИЛАСЬ."
   ]
  },
  {
   "cell_type": "markdown",
   "id": "8c786c2f",
   "metadata": {},
   "source": [
    "**4.2.2. Проверим гипотезу различия среднего значения кредитного скоринга между теми клиентами, которые пользовались двумя продуктами банка, и теми, которые пользовались одним, в Рыбинске.**"
   ]
  },
  {
   "cell_type": "code",
   "execution_count": 45,
   "id": "6cead299",
   "metadata": {},
   "outputs": [],
   "source": [
    "#создадим датасеты по количеству потребляемых продуктов (1 и 2) из ушедших клиентов\n",
    "clients_churn_rybinsk_1 = clients_churn_rybinsk.query('products == 1') \n",
    "clients_churn_rybinsk_2 = clients_churn_rybinsk.query('products == 2')"
   ]
  },
  {
   "cell_type": "code",
   "execution_count": 46,
   "id": "86bf4bd4",
   "metadata": {},
   "outputs": [
    {
     "name": "stdout",
     "output_type": "stream",
     "text": [
      "p-значение:  0.1281511899591639\n"
     ]
    }
   ],
   "source": [
    "alpha = 0.05 # критический уровень статистической значимости\n",
    "results = st.mannwhitneyu(clients_churn_rybinsk_1['score'], clients_churn_rybinsk_2['score'])\n",
    "print('p-значение: ', results.pvalue)"
   ]
  },
  {
   "cell_type": "code",
   "execution_count": 47,
   "id": "c8f29056",
   "metadata": {},
   "outputs": [
    {
     "name": "stdout",
     "output_type": "stream",
     "text": [
      "Не получилось отвергнуть нулевую гипотезу, вывод о различии сделать нельзя\n"
     ]
    }
   ],
   "source": [
    "if (results.pvalue < alpha):\n",
    "    print(\"Отвергаем нулевую гипотезу: разница статистически значима\")\n",
    "else:\n",
    "    print(\"Не получилось отвергнуть нулевую гипотезу, вывод о различии сделать нельзя\")"
   ]
  },
  {
   "cell_type": "markdown",
   "id": "4de0c4a9",
   "metadata": {},
   "source": [
    "Нулевой гипотезой была гипотеза о равенстве средних значений кредитного скоринга наших выборок. Р-value больше alpha говорит о том, вероятность случайного совпадения средних наших выборок велика. \n",
    "\n",
    "**Вывод**\n",
    "\n",
    "Гипотеза различия средних значений кредитного скоринга между теми клиентами в Рыбинске, которые пользовались двумя продуктами банка, и теми, которые пользовались одним, НЕ ПОДТВЕРДИЛАСЬ."
   ]
  },
  {
   "cell_type": "markdown",
   "id": "db531ec3",
   "metadata": {},
   "source": [
    "**4.2.3. Проверим гипотезу различия среднего значения кредитного скоринга между теми клиентами, которые пользовались двумя продуктами банка, и теми, которые пользовались одним, в Ростове Великом.**"
   ]
  },
  {
   "cell_type": "code",
   "execution_count": 48,
   "id": "8a24a1ac",
   "metadata": {},
   "outputs": [],
   "source": [
    "#создадим датасеты по количеству потребляемых продуктов (1 и 2) из ушедших клиентов\n",
    "clients_churn_rostov_vel_1 = clients_churn_rostov_vel.query('products == 1') \n",
    "clients_churn_rostov_vel_2 = clients_churn_rostov_vel.query('products == 2')"
   ]
  },
  {
   "cell_type": "code",
   "execution_count": 49,
   "id": "80213739",
   "metadata": {},
   "outputs": [
    {
     "name": "stdout",
     "output_type": "stream",
     "text": [
      "p-значение:  0.2650796139013878\n"
     ]
    }
   ],
   "source": [
    "alpha = 0.05 # критический уровень статистической значимости\n",
    "results = st.mannwhitneyu(clients_churn_rostov_vel_1['score'], clients_churn_rostov_vel_2['score'])\n",
    "print('p-значение: ', results.pvalue)"
   ]
  },
  {
   "cell_type": "code",
   "execution_count": 50,
   "id": "9922ce2f",
   "metadata": {},
   "outputs": [
    {
     "name": "stdout",
     "output_type": "stream",
     "text": [
      "Не получилось отвергнуть нулевую гипотезу, вывод о различии сделать нельзя\n"
     ]
    }
   ],
   "source": [
    "if (results.pvalue < alpha):\n",
    "    print(\"Отвергаем нулевую гипотезу: разница статистически значима\")\n",
    "else:\n",
    "    print(\"Не получилось отвергнуть нулевую гипотезу, вывод о различии сделать нельзя\")"
   ]
  },
  {
   "cell_type": "markdown",
   "id": "2bbec523",
   "metadata": {},
   "source": [
    "Нулевой гипотезой была гипотеза о равенстве средних значений кредитного скоринга наших выборок. Р-value больше alpha говорит о том, вероятность случайного совпадения средних наших выборок велика. \n",
    "\n",
    "**Вывод**\n",
    "\n",
    "Гипотеза различия средних значений кредитного скоринга между теми клиентами в Ростове Великом, которые пользовались двумя продуктами банка, и теми, которые пользовались одним, НЕ ПОДТВЕРДИЛАСЬ."
   ]
  },
  {
   "cell_type": "markdown",
   "id": "876a5704",
   "metadata": {},
   "source": [
    "# Общий вывод\n",
    "\n",
    "1. Гипотеза различия дохода между теми клиентами во всех трех городах, которые пользуются двумя продуктами банка, и теми, которые пользуются одним, не подтвердилась.\n",
    "\n",
    "2. Гипотеза различия средних значений кредитного скоринга между теми клиентами, которые пользовались двумя продуктами банка, и теми, которые пользовались одним, во всех трех городах не подтвердилась."
   ]
  },
  {
   "cell_type": "markdown",
   "id": "462264e2",
   "metadata": {},
   "source": [
    "# 5. Выводы и рекомендации"
   ]
  },
  {
   "cell_type": "markdown",
   "id": "f03b5c99",
   "metadata": {},
   "source": [
    "**5.1. Выводы**"
   ]
  },
  {
   "cell_type": "markdown",
   "id": "2d7b8194",
   "metadata": {},
   "source": [
    "5.1.1. Исследовательский анализ данных клиентов банка \"Метанпром\" показал, что:\n",
    "1. В датасете почти на 10% больше мужчин;\n",
    "2. Средний возраст клиента 39 лет;\n",
    "3. Среднее количество объектов во владении равно 5;\n",
    "4. Среднее количество потребляемых банковских продуктов - не более 2х;\n",
    "5. Кредитные карты есть у 71% клиентов;\n",
    "6. Активными клиентов банк считает лишь 52%;\n",
    "7. Отток клиентов составляет 20%;\n",
    "8. Средний возраст оставшихся клиентов 37-38 лет;\n",
    "9. Средний возраст ушедших клиентов 44-45 лет;\n",
    "10. Ушедшие и оставшиеся клиенты имеют примерно одинаковые баллы кредитного скоринга;\n",
    "11. Ушедшие клиенты имели до 4х кредитных продукта;\n",
    "12. У оставшихся клиентов количество потребляемых банковских продуктов не выше 2х;\n",
    "13. У ушедших клиентов Ярославля и Рыбинска оцененный доход был немного выше дохода оставшихся. В Ростове Великом картина наоборот - у оставшихся оцененный доход выше;\n",
    "14. В данных о клиентах существует зависимость между возрастом и фаактом оттока и возрастом и активностью клиента.\n",
    "15. Зависимостей между фактом оттока и балансом или фактом оттока и количесва потребляемых банковских продуктов нет."
   ]
  },
  {
   "cell_type": "markdown",
   "id": "659a1d86",
   "metadata": {},
   "source": [
    "5.1.2. Сегментация пользователей банка позволила сформировать \"портреты\" оставшихся и ушедших клиентов. А именно:\n",
    " \n",
    " *Ушедшие клиенты с 1 банковским продуктом* - это в основном женщины возраста 44 года со средней зарплатой в 102 тысячи рублей, в 70% случаев являлись держателями кредитных карт, с довольно низкой активностью (34%), владелицы 5 объектов со средним кредитным скорингом 648.\n",
    " \n",
    " *Ушедшие клиенты с 2 банковскими продуктами* - это в основном женщины возраста 45 лет со средней зарплатой в 103 тысячи рублей, в 69% случаев являлись держателями кредитных карт, с довольно низкой активностью (41%), владелицы чаще 5 объектов со средним кредитным скорингом 644.\n",
    " \n",
    " *Ушедшие клиенты с 3 банковскими продуктами* - это в основном женщины возраста 45 лет со средней зарплатой в 108 тысяч рублей, в 67% случаев являлись держателями кредитных карт, с довольно низкой активностью (36%), владелицы чаще 5 объектов со средним кредитным скорингом 638.\n",
    " \n",
    " *Ушедшие клиенты с 4 банковскими продуктами* - это в основном женщины возраста 46 лет со средней зарплатой в 89 тысячи рублей, в 78% случаев являлись держателями кредитных карт, с довольно низкой активностью (44%), владелицы 5 объектов со средним кредитным скорингом 665.\n",
    " \n",
    " *Оставшиеся клиенты с 1 и 2 банковскими продуктами* - это в основном мужчины возраста 37 лет со средней зарплатой в 100 тысяч рублей, в 70% случаев являются держателями кредитных карт, с активностью выше среднего (57%), владельцы 5 объектов и со средним кредитным скорингом 651.\n",
    " \n",
    " *Оставшиеся клиенты с 3 банковскими продуктами* в разных городах разные. Так, \n",
    " - в Ярославле это в основном мужчины возраста 43 года со средней зарплатой в 89 тысяч рублей, в 69% случаев являются держателями кредитных карт, с активностью выше среднего (67%), владельцы 4 объектов и со средним кредитным скорингом 675.\n",
    " - в Рыбинске это в основном мужчины возраста 32 года со средней зарплатой в 89 тысяч рублей, в 62% случаев являются держателями кредитных карт, с высокой активностью (75%), владельцы от 6 до 7 объектов и со средним кредитным скорингом 642.\n",
    " - в Ростове Великом это в основном женщины возраста 33 года со средней зарплатой в 153 тысяч рублей, в 86% случаев являются держателями кредитных карт, с высокой активностью (71%), владелицы от 2 до 3 объектов и со средним кредитным скорингом 675.\n",
    " \n",
    " \n",
    " *Оставшихся клиентов с 4 банковскими продуктами* в трех городах нет."
   ]
  },
  {
   "cell_type": "markdown",
   "id": "b52f8da8",
   "metadata": {},
   "source": [
    "5.1.3. Проверка гипотез показала, что:\n",
    "- гипотеза различия дохода между теми клиентами во всех трех городах, которые пользуются двумя продуктами банка, и теми, которые пользуются одним, не подтвердилась.\n",
    "- гипотеза различия средних значений кредитного скоринга между теми клиентами, которые пользовались двумя продуктами банка, и теми, которые пользовались одним, во всех трех городах не подтвердилась."
   ]
  },
  {
   "cell_type": "markdown",
   "id": "caf00fcc",
   "metadata": {},
   "source": [
    "**5.2. Рекомендации**"
   ]
  },
  {
   "cell_type": "markdown",
   "id": "4180e66e",
   "metadata": {},
   "source": [
    "1. Поддерживать оставшихся клиентов дополнительными \"плюшками\", удерживая их активность на том же высоком уровне, такими как: повышенный кэшбэк по дебетовой карте, увличеснный льготный период или пониженная ставка или ранжированная ставка по кредитной карте.\n",
    "2. Продумать политику банка по расширению количества потребляемых продуктов до 4х в отношении оставшихся, например, предложить услуги страхования, открытия инвест счета или копилки, пенсионные или зарплатные проекты, или пакет услуг, связанный с дебетовой или кредитной картами.\n",
    "3. Разработать программу по возвращению ушедших, например, ушедшим женщинам, а они более старшего возраста, предложить повышенные ставки на вклады для детей, \"копилку\" на пенсию, пенсионный проект, страхование жизни/здоровья себя и близких и пр.\n",
    "4. Вновь пришедшим клиентам предлагать персональную программу взаимодействия с банком (на основании вводных данных клиента), т.е. расширить спектр услуг."
   ]
  },
  {
   "cell_type": "code",
   "execution_count": null,
   "id": "7231af87",
   "metadata": {},
   "outputs": [],
   "source": []
  }
 ],
 "metadata": {
  "ExecuteTimeLog": [
   {
    "duration": 125,
    "start_time": "2021-10-14T06:36:00.575Z"
   },
   {
    "duration": 7026,
    "start_time": "2021-10-14T06:36:12.158Z"
   },
   {
    "duration": 2075,
    "start_time": "2021-10-14T06:36:19.186Z"
   },
   {
    "duration": 731,
    "start_time": "2021-10-14T06:36:42.974Z"
   },
   {
    "duration": 484,
    "start_time": "2021-10-14T06:36:55.549Z"
   },
   {
    "duration": 124,
    "start_time": "2021-10-14T06:38:33.412Z"
   },
   {
    "duration": 83,
    "start_time": "2021-10-14T06:39:42.119Z"
   },
   {
    "duration": 84,
    "start_time": "2021-10-14T06:43:23.471Z"
   },
   {
    "duration": 80,
    "start_time": "2021-10-14T06:43:28.831Z"
   },
   {
    "duration": 91,
    "start_time": "2021-10-14T06:50:16.362Z"
   },
   {
    "duration": 91,
    "start_time": "2021-10-14T06:50:57.291Z"
   },
   {
    "duration": 83,
    "start_time": "2021-10-14T06:51:02.552Z"
   },
   {
    "duration": 288,
    "start_time": "2021-10-14T07:04:07.730Z"
   },
   {
    "duration": 82,
    "start_time": "2021-10-14T07:04:11.598Z"
   },
   {
    "duration": 89,
    "start_time": "2021-10-14T07:08:10.171Z"
   },
   {
    "duration": 1915,
    "start_time": "2021-10-14T08:17:19.690Z"
   },
   {
    "duration": 2511,
    "start_time": "2021-10-14T08:17:21.608Z"
   },
   {
    "duration": -245,
    "start_time": "2021-10-14T08:17:24.371Z"
   },
   {
    "duration": -265,
    "start_time": "2021-10-14T08:17:24.392Z"
   },
   {
    "duration": -276,
    "start_time": "2021-10-14T08:17:24.404Z"
   },
   {
    "duration": -288,
    "start_time": "2021-10-14T08:17:24.418Z"
   },
   {
    "duration": -312,
    "start_time": "2021-10-14T08:17:24.443Z"
   },
   {
    "duration": -359,
    "start_time": "2021-10-14T08:17:24.492Z"
   },
   {
    "duration": -372,
    "start_time": "2021-10-14T08:17:24.506Z"
   },
   {
    "duration": -397,
    "start_time": "2021-10-14T08:17:24.532Z"
   },
   {
    "duration": -417,
    "start_time": "2021-10-14T08:17:24.554Z"
   },
   {
    "duration": -456,
    "start_time": "2021-10-14T08:17:24.594Z"
   },
   {
    "duration": -517,
    "start_time": "2021-10-14T08:17:24.656Z"
   },
   {
    "duration": -525,
    "start_time": "2021-10-14T08:17:24.666Z"
   },
   {
    "duration": -533,
    "start_time": "2021-10-14T08:17:24.675Z"
   },
   {
    "duration": -544,
    "start_time": "2021-10-14T08:17:24.687Z"
   },
   {
    "duration": -578,
    "start_time": "2021-10-14T08:17:24.723Z"
   },
   {
    "duration": -671,
    "start_time": "2021-10-14T08:17:24.817Z"
   },
   {
    "duration": -779,
    "start_time": "2021-10-14T08:17:24.926Z"
   },
   {
    "duration": -790,
    "start_time": "2021-10-14T08:17:24.939Z"
   },
   {
    "duration": -798,
    "start_time": "2021-10-14T08:17:24.948Z"
   },
   {
    "duration": -812,
    "start_time": "2021-10-14T08:17:24.963Z"
   },
   {
    "duration": -821,
    "start_time": "2021-10-14T08:17:24.974Z"
   },
   {
    "duration": -832,
    "start_time": "2021-10-14T08:17:24.986Z"
   },
   {
    "duration": -843,
    "start_time": "2021-10-14T08:17:24.999Z"
   },
   {
    "duration": -864,
    "start_time": "2021-10-14T08:17:25.021Z"
   },
   {
    "duration": -900,
    "start_time": "2021-10-14T08:17:25.059Z"
   },
   {
    "duration": -914,
    "start_time": "2021-10-14T08:17:25.074Z"
   },
   {
    "duration": -925,
    "start_time": "2021-10-14T08:17:25.087Z"
   },
   {
    "duration": -941,
    "start_time": "2021-10-14T08:17:25.104Z"
   },
   {
    "duration": -953,
    "start_time": "2021-10-14T08:17:25.117Z"
   },
   {
    "duration": -968,
    "start_time": "2021-10-14T08:17:25.134Z"
   },
   {
    "duration": -989,
    "start_time": "2021-10-14T08:17:25.156Z"
   },
   {
    "duration": -1030,
    "start_time": "2021-10-14T08:17:25.199Z"
   },
   {
    "duration": -1059,
    "start_time": "2021-10-14T08:17:25.229Z"
   },
   {
    "duration": -1069,
    "start_time": "2021-10-14T08:17:25.241Z"
   },
   {
    "duration": -1079,
    "start_time": "2021-10-14T08:17:25.252Z"
   },
   {
    "duration": -1090,
    "start_time": "2021-10-14T08:17:25.264Z"
   },
   {
    "duration": -1099,
    "start_time": "2021-10-14T08:17:25.274Z"
   },
   {
    "duration": -1143,
    "start_time": "2021-10-14T08:17:25.320Z"
   },
   {
    "duration": -1204,
    "start_time": "2021-10-14T08:17:25.382Z"
   },
   {
    "duration": -1245,
    "start_time": "2021-10-14T08:17:25.425Z"
   },
   {
    "duration": -1255,
    "start_time": "2021-10-14T08:17:25.436Z"
   },
   {
    "duration": -1268,
    "start_time": "2021-10-14T08:17:25.451Z"
   },
   {
    "duration": -1282,
    "start_time": "2021-10-14T08:17:25.466Z"
   },
   {
    "duration": -1298,
    "start_time": "2021-10-14T08:17:25.483Z"
   },
   {
    "duration": -1316,
    "start_time": "2021-10-14T08:17:25.503Z"
   },
   {
    "duration": -1328,
    "start_time": "2021-10-14T08:17:25.516Z"
   },
   {
    "duration": -1359,
    "start_time": "2021-10-14T08:17:25.548Z"
   },
   {
    "duration": -1369,
    "start_time": "2021-10-14T08:17:25.559Z"
   },
   {
    "duration": -1376,
    "start_time": "2021-10-14T08:17:25.568Z"
   },
   {
    "duration": -1388,
    "start_time": "2021-10-14T08:17:25.581Z"
   },
   {
    "duration": -1399,
    "start_time": "2021-10-14T08:17:25.593Z"
   },
   {
    "duration": -1412,
    "start_time": "2021-10-14T08:17:25.608Z"
   },
   {
    "duration": -1419,
    "start_time": "2021-10-14T08:17:25.616Z"
   },
   {
    "duration": -1429,
    "start_time": "2021-10-14T08:17:25.627Z"
   },
   {
    "duration": -1437,
    "start_time": "2021-10-14T08:17:25.637Z"
   },
   {
    "duration": -1463,
    "start_time": "2021-10-14T08:17:25.664Z"
   },
   {
    "duration": -1408,
    "start_time": "2021-10-14T08:17:25.672Z"
   },
   {
    "duration": -1416,
    "start_time": "2021-10-14T08:17:25.682Z"
   },
   {
    "duration": -1427,
    "start_time": "2021-10-14T08:17:25.694Z"
   },
   {
    "duration": -1433,
    "start_time": "2021-10-14T08:17:25.702Z"
   },
   {
    "duration": -1439,
    "start_time": "2021-10-14T08:17:25.709Z"
   },
   {
    "duration": -1466,
    "start_time": "2021-10-14T08:17:25.738Z"
   },
   {
    "duration": -1477,
    "start_time": "2021-10-14T08:17:25.750Z"
   },
   {
    "duration": -1500,
    "start_time": "2021-10-14T08:17:25.774Z"
   },
   {
    "duration": -1507,
    "start_time": "2021-10-14T08:17:25.783Z"
   },
   {
    "duration": -1518,
    "start_time": "2021-10-14T08:17:25.795Z"
   },
   {
    "duration": -1530,
    "start_time": "2021-10-14T08:17:25.809Z"
   },
   {
    "duration": -1546,
    "start_time": "2021-10-14T08:17:25.826Z"
   },
   {
    "duration": -1559,
    "start_time": "2021-10-14T08:17:25.841Z"
   },
   {
    "duration": 2051,
    "start_time": "2021-10-14T08:18:08.042Z"
   },
   {
    "duration": 2625,
    "start_time": "2021-10-14T08:18:10.096Z"
   },
   {
    "duration": -172,
    "start_time": "2021-10-14T08:18:12.899Z"
   },
   {
    "duration": -178,
    "start_time": "2021-10-14T08:18:12.906Z"
   },
   {
    "duration": -194,
    "start_time": "2021-10-14T08:18:12.924Z"
   },
   {
    "duration": -213,
    "start_time": "2021-10-14T08:18:12.944Z"
   },
   {
    "duration": -242,
    "start_time": "2021-10-14T08:18:12.974Z"
   },
   {
    "duration": -277,
    "start_time": "2021-10-14T08:18:13.011Z"
   },
   {
    "duration": -308,
    "start_time": "2021-10-14T08:18:13.043Z"
   },
   {
    "duration": -325,
    "start_time": "2021-10-14T08:18:13.061Z"
   },
   {
    "duration": -329,
    "start_time": "2021-10-14T08:18:13.067Z"
   },
   {
    "duration": -335,
    "start_time": "2021-10-14T08:18:13.074Z"
   },
   {
    "duration": -339,
    "start_time": "2021-10-14T08:18:13.079Z"
   },
   {
    "duration": -343,
    "start_time": "2021-10-14T08:18:13.085Z"
   },
   {
    "duration": -349,
    "start_time": "2021-10-14T08:18:13.092Z"
   },
   {
    "duration": -354,
    "start_time": "2021-10-14T08:18:13.099Z"
   },
   {
    "duration": -359,
    "start_time": "2021-10-14T08:18:13.105Z"
   },
   {
    "duration": -364,
    "start_time": "2021-10-14T08:18:13.111Z"
   },
   {
    "duration": -366,
    "start_time": "2021-10-14T08:18:13.115Z"
   },
   {
    "duration": -370,
    "start_time": "2021-10-14T08:18:13.120Z"
   },
   {
    "duration": -371,
    "start_time": "2021-10-14T08:18:13.124Z"
   },
   {
    "duration": -376,
    "start_time": "2021-10-14T08:18:13.130Z"
   },
   {
    "duration": -379,
    "start_time": "2021-10-14T08:18:13.135Z"
   },
   {
    "duration": -385,
    "start_time": "2021-10-14T08:18:13.142Z"
   },
   {
    "duration": -388,
    "start_time": "2021-10-14T08:18:13.147Z"
   },
   {
    "duration": -392,
    "start_time": "2021-10-14T08:18:13.152Z"
   },
   {
    "duration": -420,
    "start_time": "2021-10-14T08:18:13.181Z"
   },
   {
    "duration": -426,
    "start_time": "2021-10-14T08:18:13.189Z"
   },
   {
    "duration": -429,
    "start_time": "2021-10-14T08:18:13.193Z"
   },
   {
    "duration": -462,
    "start_time": "2021-10-14T08:18:13.228Z"
   },
   {
    "duration": -465,
    "start_time": "2021-10-14T08:18:13.233Z"
   },
   {
    "duration": -470,
    "start_time": "2021-10-14T08:18:13.239Z"
   },
   {
    "duration": -472,
    "start_time": "2021-10-14T08:18:13.243Z"
   },
   {
    "duration": -474,
    "start_time": "2021-10-14T08:18:13.247Z"
   },
   {
    "duration": -477,
    "start_time": "2021-10-14T08:18:13.251Z"
   },
   {
    "duration": -481,
    "start_time": "2021-10-14T08:18:13.257Z"
   },
   {
    "duration": -484,
    "start_time": "2021-10-14T08:18:13.261Z"
   },
   {
    "duration": -487,
    "start_time": "2021-10-14T08:18:13.266Z"
   },
   {
    "duration": -491,
    "start_time": "2021-10-14T08:18:13.271Z"
   },
   {
    "duration": -517,
    "start_time": "2021-10-14T08:18:13.299Z"
   },
   {
    "duration": -521,
    "start_time": "2021-10-14T08:18:13.304Z"
   },
   {
    "duration": -525,
    "start_time": "2021-10-14T08:18:13.309Z"
   },
   {
    "duration": -527,
    "start_time": "2021-10-14T08:18:13.313Z"
   },
   {
    "duration": -539,
    "start_time": "2021-10-14T08:18:13.326Z"
   },
   {
    "duration": -542,
    "start_time": "2021-10-14T08:18:13.330Z"
   },
   {
    "duration": -546,
    "start_time": "2021-10-14T08:18:13.336Z"
   },
   {
    "duration": -552,
    "start_time": "2021-10-14T08:18:13.343Z"
   },
   {
    "duration": -555,
    "start_time": "2021-10-14T08:18:13.348Z"
   },
   {
    "duration": -558,
    "start_time": "2021-10-14T08:18:13.352Z"
   },
   {
    "duration": -568,
    "start_time": "2021-10-14T08:18:13.363Z"
   },
   {
    "duration": -571,
    "start_time": "2021-10-14T08:18:13.368Z"
   },
   {
    "duration": -575,
    "start_time": "2021-10-14T08:18:13.373Z"
   },
   {
    "duration": -515,
    "start_time": "2021-10-14T08:18:13.377Z"
   },
   {
    "duration": -520,
    "start_time": "2021-10-14T08:18:13.383Z"
   },
   {
    "duration": -533,
    "start_time": "2021-10-14T08:18:13.398Z"
   },
   {
    "duration": -540,
    "start_time": "2021-10-14T08:18:13.407Z"
   },
   {
    "duration": -544,
    "start_time": "2021-10-14T08:18:13.412Z"
   },
   {
    "duration": -546,
    "start_time": "2021-10-14T08:18:13.416Z"
   },
   {
    "duration": -550,
    "start_time": "2021-10-14T08:18:13.421Z"
   },
   {
    "duration": -553,
    "start_time": "2021-10-14T08:18:13.426Z"
   },
   {
    "duration": -560,
    "start_time": "2021-10-14T08:18:13.435Z"
   },
   {
    "duration": -565,
    "start_time": "2021-10-14T08:18:13.441Z"
   },
   {
    "duration": -567,
    "start_time": "2021-10-14T08:18:13.445Z"
   },
   {
    "duration": -581,
    "start_time": "2021-10-14T08:18:13.461Z"
   },
   {
    "duration": -590,
    "start_time": "2021-10-14T08:18:13.471Z"
   },
   {
    "duration": -600,
    "start_time": "2021-10-14T08:18:13.483Z"
   },
   {
    "duration": -604,
    "start_time": "2021-10-14T08:18:13.488Z"
   },
   {
    "duration": -613,
    "start_time": "2021-10-14T08:18:13.499Z"
   },
   {
    "duration": -615,
    "start_time": "2021-10-14T08:18:13.503Z"
   },
   {
    "duration": -626,
    "start_time": "2021-10-14T08:18:13.515Z"
   },
   {
    "duration": -630,
    "start_time": "2021-10-14T08:18:13.521Z"
   },
   {
    "duration": 1891,
    "start_time": "2021-10-14T08:18:34.825Z"
   },
   {
    "duration": 29,
    "start_time": "2021-10-14T08:18:36.719Z"
   },
   {
    "duration": 18,
    "start_time": "2021-10-14T08:18:36.752Z"
   },
   {
    "duration": 4,
    "start_time": "2021-10-14T08:18:36.773Z"
   },
   {
    "duration": 44,
    "start_time": "2021-10-14T08:18:36.779Z"
   },
   {
    "duration": 18,
    "start_time": "2021-10-14T08:18:36.826Z"
   },
   {
    "duration": 16,
    "start_time": "2021-10-14T08:18:36.847Z"
   },
   {
    "duration": 9,
    "start_time": "2021-10-14T08:18:36.866Z"
   },
   {
    "duration": 53,
    "start_time": "2021-10-14T08:18:36.878Z"
   },
   {
    "duration": 34,
    "start_time": "2021-10-14T08:18:36.934Z"
   },
   {
    "duration": 16,
    "start_time": "2021-10-14T08:18:36.970Z"
   },
   {
    "duration": 14,
    "start_time": "2021-10-14T08:18:36.988Z"
   },
   {
    "duration": 17,
    "start_time": "2021-10-14T08:18:37.005Z"
   },
   {
    "duration": 8,
    "start_time": "2021-10-14T08:18:37.062Z"
   },
   {
    "duration": 27,
    "start_time": "2021-10-14T08:18:37.074Z"
   },
   {
    "duration": 805,
    "start_time": "2021-10-14T08:18:37.105Z"
   },
   {
    "duration": 13,
    "start_time": "2021-10-14T08:18:37.913Z"
   },
   {
    "duration": 2526,
    "start_time": "2021-10-14T08:18:37.929Z"
   },
   {
    "duration": 749,
    "start_time": "2021-10-14T08:18:40.461Z"
   },
   {
    "duration": 7,
    "start_time": "2021-10-14T08:18:41.213Z"
   },
   {
    "duration": 1973,
    "start_time": "2021-10-14T08:18:41.222Z"
   },
   {
    "duration": 36,
    "start_time": "2021-10-14T08:18:43.199Z"
   },
   {
    "duration": 21,
    "start_time": "2021-10-14T08:18:43.246Z"
   },
   {
    "duration": 2526,
    "start_time": "2021-10-14T08:18:43.272Z"
   },
   {
    "duration": 806,
    "start_time": "2021-10-14T08:18:45.800Z"
   },
   {
    "duration": 5,
    "start_time": "2021-10-14T08:18:46.609Z"
   },
   {
    "duration": 1305,
    "start_time": "2021-10-14T08:18:46.617Z"
   },
   {
    "duration": 15,
    "start_time": "2021-10-14T08:18:47.925Z"
   },
   {
    "duration": 28,
    "start_time": "2021-10-14T08:18:47.942Z"
   },
   {
    "duration": 2508,
    "start_time": "2021-10-14T08:18:47.972Z"
   },
   {
    "duration": 740,
    "start_time": "2021-10-14T08:18:50.483Z"
   },
   {
    "duration": 5,
    "start_time": "2021-10-14T08:18:51.225Z"
   },
   {
    "duration": 1290,
    "start_time": "2021-10-14T08:18:51.233Z"
   },
   {
    "duration": 54,
    "start_time": "2021-10-14T08:18:52.525Z"
   },
   {
    "duration": 12,
    "start_time": "2021-10-14T08:18:52.581Z"
   },
   {
    "duration": 11,
    "start_time": "2021-10-14T08:18:52.596Z"
   },
   {
    "duration": 62,
    "start_time": "2021-10-14T08:18:52.610Z"
   },
   {
    "duration": 14,
    "start_time": "2021-10-14T08:18:52.675Z"
   },
   {
    "duration": 34,
    "start_time": "2021-10-14T08:18:52.691Z"
   },
   {
    "duration": 37,
    "start_time": "2021-10-14T08:18:52.727Z"
   },
   {
    "duration": 30,
    "start_time": "2021-10-14T08:18:52.766Z"
   },
   {
    "duration": 9,
    "start_time": "2021-10-14T08:18:52.799Z"
   },
   {
    "duration": 65,
    "start_time": "2021-10-14T08:18:52.811Z"
   },
   {
    "duration": 10,
    "start_time": "2021-10-14T08:18:52.879Z"
   },
   {
    "duration": 35,
    "start_time": "2021-10-14T08:18:52.891Z"
   },
   {
    "duration": 41,
    "start_time": "2021-10-14T08:18:52.928Z"
   },
   {
    "duration": 29,
    "start_time": "2021-10-14T08:18:52.972Z"
   },
   {
    "duration": 10,
    "start_time": "2021-10-14T08:18:53.003Z"
   },
   {
    "duration": 48,
    "start_time": "2021-10-14T08:18:53.015Z"
   },
   {
    "duration": 6,
    "start_time": "2021-10-14T08:18:53.065Z"
   },
   {
    "duration": 8,
    "start_time": "2021-10-14T08:18:53.073Z"
   },
   {
    "duration": 12,
    "start_time": "2021-10-14T08:18:53.084Z"
   },
   {
    "duration": 13,
    "start_time": "2021-10-14T08:18:53.099Z"
   },
   {
    "duration": 12,
    "start_time": "2021-10-14T08:18:53.115Z"
   },
   {
    "duration": 5,
    "start_time": "2021-10-14T08:18:53.163Z"
   },
   {
    "duration": 14,
    "start_time": "2021-10-14T08:18:53.171Z"
   },
   {
    "duration": 13,
    "start_time": "2021-10-14T08:18:53.187Z"
   },
   {
    "duration": 6,
    "start_time": "2021-10-14T08:18:53.203Z"
   },
   {
    "duration": 49,
    "start_time": "2021-10-14T08:18:53.212Z"
   },
   {
    "duration": 13,
    "start_time": "2021-10-14T08:18:53.264Z"
   },
   {
    "duration": 17,
    "start_time": "2021-10-14T08:18:53.280Z"
   },
   {
    "duration": 6,
    "start_time": "2021-10-14T08:18:53.299Z"
   },
   {
    "duration": 9,
    "start_time": "2021-10-14T08:18:53.308Z"
   },
   {
    "duration": 11,
    "start_time": "2021-10-14T08:18:53.362Z"
   },
   {
    "duration": 15,
    "start_time": "2021-10-14T08:18:53.376Z"
   },
   {
    "duration": 13,
    "start_time": "2021-10-14T08:18:53.394Z"
   },
   {
    "duration": 5,
    "start_time": "2021-10-14T08:18:53.410Z"
   },
   {
    "duration": 16,
    "start_time": "2021-10-14T08:18:53.465Z"
   },
   {
    "duration": 14,
    "start_time": "2021-10-14T08:18:53.483Z"
   },
   {
    "duration": 6,
    "start_time": "2021-10-14T08:18:53.500Z"
   },
   {
    "duration": 10,
    "start_time": "2021-10-14T08:18:53.508Z"
   },
   {
    "duration": 82,
    "start_time": "2021-10-14T10:28:20.102Z"
   },
   {
    "duration": 509,
    "start_time": "2021-10-14T10:28:30.162Z"
   },
   {
    "duration": 292,
    "start_time": "2021-10-14T10:28:37.622Z"
   },
   {
    "duration": 278,
    "start_time": "2021-10-14T10:29:01.689Z"
   },
   {
    "duration": 79,
    "start_time": "2021-10-14T10:33:47.727Z"
   },
   {
    "duration": 84,
    "start_time": "2021-10-14T10:34:25.701Z"
   },
   {
    "duration": 97,
    "start_time": "2021-10-14T10:36:10.919Z"
   },
   {
    "duration": 309,
    "start_time": "2021-10-14T10:36:16.441Z"
   },
   {
    "duration": 304,
    "start_time": "2021-10-14T10:36:29.976Z"
   },
   {
    "duration": 101,
    "start_time": "2021-10-14T10:36:40.234Z"
   },
   {
    "duration": 294,
    "start_time": "2021-10-14T10:39:04.666Z"
   },
   {
    "duration": 322,
    "start_time": "2021-10-14T10:39:32.468Z"
   },
   {
    "duration": 326,
    "start_time": "2021-10-14T10:40:34.003Z"
   },
   {
    "duration": 14,
    "start_time": "2021-10-14T10:47:44.649Z"
   },
   {
    "duration": 8,
    "start_time": "2021-10-14T10:47:46.881Z"
   },
   {
    "duration": 16,
    "start_time": "2021-10-14T10:47:47.892Z"
   },
   {
    "duration": 18,
    "start_time": "2021-10-14T10:48:25.997Z"
   },
   {
    "duration": 23,
    "start_time": "2021-10-14T10:48:44.996Z"
   },
   {
    "duration": 19,
    "start_time": "2021-10-14T10:48:47.847Z"
   },
   {
    "duration": 463,
    "start_time": "2021-10-14T10:53:40.401Z"
   },
   {
    "duration": 31,
    "start_time": "2021-10-14T10:54:06.228Z"
   },
   {
    "duration": 16,
    "start_time": "2021-10-14T10:54:29.159Z"
   },
   {
    "duration": 48,
    "start_time": "2021-10-14T10:54:59.820Z"
   },
   {
    "duration": 180,
    "start_time": "2021-10-14T11:08:31.321Z"
   },
   {
    "duration": 319,
    "start_time": "2021-10-14T11:08:44.562Z"
   },
   {
    "duration": 51,
    "start_time": "2021-10-14T11:09:58.460Z"
   },
   {
    "duration": 331,
    "start_time": "2021-10-14T11:12:31.198Z"
   },
   {
    "duration": 312,
    "start_time": "2021-10-14T11:12:56.419Z"
   },
   {
    "duration": 295,
    "start_time": "2021-10-14T11:13:05.027Z"
   },
   {
    "duration": 318,
    "start_time": "2021-10-14T11:13:21.419Z"
   },
   {
    "duration": 287,
    "start_time": "2021-10-14T11:13:25.951Z"
   },
   {
    "duration": 299,
    "start_time": "2021-10-14T11:22:23.619Z"
   },
   {
    "duration": 52,
    "start_time": "2021-10-14T11:23:31.340Z"
   },
   {
    "duration": 54,
    "start_time": "2021-10-14T11:26:17.581Z"
   },
   {
    "duration": 50,
    "start_time": "2021-10-14T11:27:30.865Z"
   },
   {
    "duration": 2213,
    "start_time": "2021-10-14T11:28:26.778Z"
   },
   {
    "duration": 28,
    "start_time": "2021-10-14T11:28:28.993Z"
   },
   {
    "duration": 12,
    "start_time": "2021-10-14T11:28:29.024Z"
   },
   {
    "duration": 6,
    "start_time": "2021-10-14T11:28:29.039Z"
   },
   {
    "duration": 17,
    "start_time": "2021-10-14T11:28:29.061Z"
   },
   {
    "duration": 18,
    "start_time": "2021-10-14T11:28:29.080Z"
   },
   {
    "duration": 6,
    "start_time": "2021-10-14T11:28:29.100Z"
   },
   {
    "duration": 7,
    "start_time": "2021-10-14T11:28:29.111Z"
   },
   {
    "duration": 96,
    "start_time": "2021-10-14T11:28:29.122Z"
   },
   {
    "duration": 72,
    "start_time": "2021-10-14T11:28:29.220Z"
   },
   {
    "duration": 821,
    "start_time": "2021-10-14T11:28:29.295Z"
   },
   {
    "duration": 16,
    "start_time": "2021-10-14T11:28:30.119Z"
   },
   {
    "duration": 2715,
    "start_time": "2021-10-14T11:28:30.137Z"
   },
   {
    "duration": 903,
    "start_time": "2021-10-14T11:28:32.862Z"
   },
   {
    "duration": 10,
    "start_time": "2021-10-14T11:28:33.769Z"
   },
   {
    "duration": 1396,
    "start_time": "2021-10-14T11:28:33.782Z"
   },
   {
    "duration": 14,
    "start_time": "2021-10-14T11:28:35.181Z"
   },
   {
    "duration": 10,
    "start_time": "2021-10-14T11:28:35.198Z"
   },
   {
    "duration": 2514,
    "start_time": "2021-10-14T11:28:35.210Z"
   },
   {
    "duration": 748,
    "start_time": "2021-10-14T11:28:37.726Z"
   },
   {
    "duration": 6,
    "start_time": "2021-10-14T11:28:38.476Z"
   },
   {
    "duration": 1283,
    "start_time": "2021-10-14T11:28:38.484Z"
   },
   {
    "duration": 14,
    "start_time": "2021-10-14T11:28:39.773Z"
   },
   {
    "duration": 11,
    "start_time": "2021-10-14T11:28:39.791Z"
   },
   {
    "duration": 2427,
    "start_time": "2021-10-14T11:28:39.804Z"
   },
   {
    "duration": 724,
    "start_time": "2021-10-14T11:28:42.233Z"
   },
   {
    "duration": 5,
    "start_time": "2021-10-14T11:28:42.959Z"
   },
   {
    "duration": 1268,
    "start_time": "2021-10-14T11:28:42.966Z"
   },
   {
    "duration": 53,
    "start_time": "2021-10-14T11:28:44.236Z"
   },
   {
    "duration": 11,
    "start_time": "2021-10-14T11:28:44.292Z"
   },
   {
    "duration": 10,
    "start_time": "2021-10-14T11:28:44.306Z"
   },
   {
    "duration": 62,
    "start_time": "2021-10-14T11:28:44.318Z"
   },
   {
    "duration": 11,
    "start_time": "2021-10-14T11:28:44.383Z"
   },
   {
    "duration": 30,
    "start_time": "2021-10-14T11:28:44.396Z"
   },
   {
    "duration": 39,
    "start_time": "2021-10-14T11:28:44.429Z"
   },
   {
    "duration": 29,
    "start_time": "2021-10-14T11:28:44.470Z"
   },
   {
    "duration": 10,
    "start_time": "2021-10-14T11:28:44.501Z"
   },
   {
    "duration": 62,
    "start_time": "2021-10-14T11:28:44.513Z"
   },
   {
    "duration": 11,
    "start_time": "2021-10-14T11:28:44.578Z"
   },
   {
    "duration": 30,
    "start_time": "2021-10-14T11:28:44.591Z"
   },
   {
    "duration": 45,
    "start_time": "2021-10-14T11:28:44.623Z"
   },
   {
    "duration": 32,
    "start_time": "2021-10-14T11:28:44.670Z"
   },
   {
    "duration": 10,
    "start_time": "2021-10-14T11:28:44.704Z"
   },
   {
    "duration": 14,
    "start_time": "2021-10-14T11:28:44.716Z"
   },
   {
    "duration": 6,
    "start_time": "2021-10-14T11:28:44.763Z"
   },
   {
    "duration": 7,
    "start_time": "2021-10-14T11:28:44.771Z"
   },
   {
    "duration": 13,
    "start_time": "2021-10-14T11:28:44.780Z"
   },
   {
    "duration": 12,
    "start_time": "2021-10-14T11:28:44.795Z"
   },
   {
    "duration": 7,
    "start_time": "2021-10-14T11:28:44.809Z"
   },
   {
    "duration": 45,
    "start_time": "2021-10-14T11:28:44.818Z"
   },
   {
    "duration": 12,
    "start_time": "2021-10-14T11:28:44.865Z"
   },
   {
    "duration": 13,
    "start_time": "2021-10-14T11:28:44.879Z"
   },
   {
    "duration": 8,
    "start_time": "2021-10-14T11:28:44.894Z"
   },
   {
    "duration": 5,
    "start_time": "2021-10-14T11:28:44.904Z"
   },
   {
    "duration": 53,
    "start_time": "2021-10-14T11:28:44.912Z"
   },
   {
    "duration": 12,
    "start_time": "2021-10-14T11:28:44.967Z"
   },
   {
    "duration": 14,
    "start_time": "2021-10-14T11:28:44.982Z"
   },
   {
    "duration": 25,
    "start_time": "2021-10-14T11:28:44.998Z"
   },
   {
    "duration": 20,
    "start_time": "2021-10-14T11:28:45.026Z"
   },
   {
    "duration": 25,
    "start_time": "2021-10-14T11:28:45.048Z"
   },
   {
    "duration": 22,
    "start_time": "2021-10-14T11:28:45.076Z"
   },
   {
    "duration": 18,
    "start_time": "2021-10-14T11:28:45.101Z"
   },
   {
    "duration": 33,
    "start_time": "2021-10-14T11:28:45.122Z"
   },
   {
    "duration": 26,
    "start_time": "2021-10-14T11:28:45.158Z"
   },
   {
    "duration": 23,
    "start_time": "2021-10-14T11:28:45.188Z"
   },
   {
    "duration": 22,
    "start_time": "2021-10-14T11:28:45.214Z"
   },
   {
    "duration": 1929,
    "start_time": "2021-10-14T11:38:41.960Z"
   },
   {
    "duration": 33,
    "start_time": "2021-10-14T11:38:43.892Z"
   },
   {
    "duration": 14,
    "start_time": "2021-10-14T11:38:43.928Z"
   },
   {
    "duration": 5,
    "start_time": "2021-10-14T11:38:43.962Z"
   },
   {
    "duration": 22,
    "start_time": "2021-10-14T11:38:43.970Z"
   },
   {
    "duration": 20,
    "start_time": "2021-10-14T11:38:43.995Z"
   },
   {
    "duration": 45,
    "start_time": "2021-10-14T11:38:44.018Z"
   },
   {
    "duration": 10,
    "start_time": "2021-10-14T11:38:44.069Z"
   },
   {
    "duration": 84,
    "start_time": "2021-10-14T11:38:44.083Z"
   },
   {
    "duration": 57,
    "start_time": "2021-10-14T11:38:44.170Z"
   },
   {
    "duration": 671,
    "start_time": "2021-10-14T11:38:44.230Z"
   },
   {
    "duration": 15,
    "start_time": "2021-10-14T11:38:44.904Z"
   },
   {
    "duration": 2530,
    "start_time": "2021-10-14T11:38:44.922Z"
   },
   {
    "duration": 772,
    "start_time": "2021-10-14T11:38:47.463Z"
   },
   {
    "duration": 7,
    "start_time": "2021-10-14T11:38:48.238Z"
   },
   {
    "duration": 1311,
    "start_time": "2021-10-14T11:38:48.247Z"
   },
   {
    "duration": 15,
    "start_time": "2021-10-14T11:38:49.562Z"
   },
   {
    "duration": 9,
    "start_time": "2021-10-14T11:38:49.579Z"
   },
   {
    "duration": 2392,
    "start_time": "2021-10-14T11:38:49.591Z"
   },
   {
    "duration": 755,
    "start_time": "2021-10-14T11:38:51.986Z"
   },
   {
    "duration": 17,
    "start_time": "2021-10-14T11:38:52.744Z"
   },
   {
    "duration": 1248,
    "start_time": "2021-10-14T11:38:52.764Z"
   },
   {
    "duration": 13,
    "start_time": "2021-10-14T11:38:54.018Z"
   },
   {
    "duration": 31,
    "start_time": "2021-10-14T11:38:54.035Z"
   },
   {
    "duration": 2498,
    "start_time": "2021-10-14T11:38:54.069Z"
   },
   {
    "duration": 741,
    "start_time": "2021-10-14T11:38:56.570Z"
   },
   {
    "duration": 5,
    "start_time": "2021-10-14T11:38:57.314Z"
   },
   {
    "duration": 1320,
    "start_time": "2021-10-14T11:38:57.321Z"
   },
   {
    "duration": 51,
    "start_time": "2021-10-14T11:38:58.644Z"
   },
   {
    "duration": 12,
    "start_time": "2021-10-14T11:38:58.698Z"
   },
   {
    "duration": 12,
    "start_time": "2021-10-14T11:38:58.712Z"
   },
   {
    "duration": 65,
    "start_time": "2021-10-14T11:38:58.727Z"
   },
   {
    "duration": 12,
    "start_time": "2021-10-14T11:38:58.795Z"
   },
   {
    "duration": 55,
    "start_time": "2021-10-14T11:38:58.809Z"
   },
   {
    "duration": 13,
    "start_time": "2021-10-14T11:38:58.866Z"
   },
   {
    "duration": 46,
    "start_time": "2021-10-14T11:38:58.883Z"
   },
   {
    "duration": 10,
    "start_time": "2021-10-14T11:38:58.963Z"
   },
   {
    "duration": 30,
    "start_time": "2021-10-14T11:38:58.976Z"
   },
   {
    "duration": 11,
    "start_time": "2021-10-14T11:38:59.008Z"
   },
   {
    "duration": 65,
    "start_time": "2021-10-14T11:38:59.021Z"
   },
   {
    "duration": 10,
    "start_time": "2021-10-14T11:38:59.088Z"
   },
   {
    "duration": 60,
    "start_time": "2021-10-14T11:38:59.101Z"
   },
   {
    "duration": 10,
    "start_time": "2021-10-14T11:38:59.164Z"
   },
   {
    "duration": 18,
    "start_time": "2021-10-14T11:38:59.177Z"
   },
   {
    "duration": 6,
    "start_time": "2021-10-14T11:38:59.198Z"
   },
   {
    "duration": 9,
    "start_time": "2021-10-14T11:38:59.206Z"
   },
   {
    "duration": 45,
    "start_time": "2021-10-14T11:38:59.217Z"
   },
   {
    "duration": 13,
    "start_time": "2021-10-14T11:38:59.264Z"
   },
   {
    "duration": 10,
    "start_time": "2021-10-14T11:38:59.280Z"
   },
   {
    "duration": 5,
    "start_time": "2021-10-14T11:38:59.292Z"
   },
   {
    "duration": 15,
    "start_time": "2021-10-14T11:38:59.299Z"
   },
   {
    "duration": 51,
    "start_time": "2021-10-14T11:38:59.317Z"
   },
   {
    "duration": 7,
    "start_time": "2021-10-14T11:38:59.389Z"
   },
   {
    "duration": 8,
    "start_time": "2021-10-14T11:38:59.398Z"
   },
   {
    "duration": 12,
    "start_time": "2021-10-14T11:38:59.409Z"
   },
   {
    "duration": 13,
    "start_time": "2021-10-14T11:38:59.423Z"
   },
   {
    "duration": 6,
    "start_time": "2021-10-14T11:38:59.463Z"
   },
   {
    "duration": 7,
    "start_time": "2021-10-14T11:38:59.471Z"
   },
   {
    "duration": 10,
    "start_time": "2021-10-14T11:38:59.481Z"
   },
   {
    "duration": 12,
    "start_time": "2021-10-14T11:38:59.494Z"
   },
   {
    "duration": 9,
    "start_time": "2021-10-14T11:38:59.508Z"
   },
   {
    "duration": 5,
    "start_time": "2021-10-14T11:38:59.562Z"
   },
   {
    "duration": 14,
    "start_time": "2021-10-14T11:38:59.570Z"
   },
   {
    "duration": 14,
    "start_time": "2021-10-14T11:38:59.586Z"
   },
   {
    "duration": 6,
    "start_time": "2021-10-14T11:38:59.602Z"
   },
   {
    "duration": 10,
    "start_time": "2021-10-14T11:38:59.610Z"
   },
   {
    "duration": 2294,
    "start_time": "2021-10-14T11:52:37.226Z"
   },
   {
    "duration": 2243,
    "start_time": "2021-10-14T11:54:15.795Z"
   },
   {
    "duration": 2469,
    "start_time": "2021-10-14T11:54:39.211Z"
   },
   {
    "duration": 3273,
    "start_time": "2021-10-14T11:54:54.701Z"
   },
   {
    "duration": 958,
    "start_time": "2021-10-14T11:55:06.826Z"
   },
   {
    "duration": 3426,
    "start_time": "2021-10-14T11:55:16.953Z"
   },
   {
    "duration": 776,
    "start_time": "2021-10-14T12:20:21.627Z"
   },
   {
    "duration": 3183,
    "start_time": "2021-10-14T12:20:30.312Z"
   },
   {
    "duration": 3186,
    "start_time": "2021-10-14T12:21:28.496Z"
   },
   {
    "duration": 3512,
    "start_time": "2021-10-14T12:21:43.080Z"
   },
   {
    "duration": 3201,
    "start_time": "2021-10-14T12:21:52.551Z"
   },
   {
    "duration": 308,
    "start_time": "2021-10-14T12:25:50.389Z"
   },
   {
    "duration": 3248,
    "start_time": "2021-10-14T12:25:57.874Z"
   },
   {
    "duration": 13085,
    "start_time": "2021-10-14T12:30:13.146Z"
   },
   {
    "duration": 5486,
    "start_time": "2021-10-14T12:30:29.482Z"
   },
   {
    "duration": 7205,
    "start_time": "2021-10-14T12:30:51.579Z"
   },
   {
    "duration": 288,
    "start_time": "2021-10-14T12:31:58.897Z"
   },
   {
    "duration": 3083,
    "start_time": "2021-10-14T12:32:14.427Z"
   },
   {
    "duration": 3206,
    "start_time": "2021-10-14T12:32:23.406Z"
   },
   {
    "duration": 3531,
    "start_time": "2021-10-14T12:32:36.959Z"
   },
   {
    "duration": 2401,
    "start_time": "2021-10-15T08:07:06.502Z"
   },
   {
    "duration": -211,
    "start_time": "2021-10-15T08:07:09.120Z"
   },
   {
    "duration": -224,
    "start_time": "2021-10-15T08:07:09.134Z"
   },
   {
    "duration": -234,
    "start_time": "2021-10-15T08:07:09.145Z"
   },
   {
    "duration": -238,
    "start_time": "2021-10-15T08:07:09.151Z"
   },
   {
    "duration": -245,
    "start_time": "2021-10-15T08:07:09.159Z"
   },
   {
    "duration": -247,
    "start_time": "2021-10-15T08:07:09.163Z"
   },
   {
    "duration": -252,
    "start_time": "2021-10-15T08:07:09.169Z"
   },
   {
    "duration": -257,
    "start_time": "2021-10-15T08:07:09.175Z"
   },
   {
    "duration": -261,
    "start_time": "2021-10-15T08:07:09.180Z"
   },
   {
    "duration": -264,
    "start_time": "2021-10-15T08:07:09.185Z"
   },
   {
    "duration": -285,
    "start_time": "2021-10-15T08:07:09.207Z"
   },
   {
    "duration": -290,
    "start_time": "2021-10-15T08:07:09.213Z"
   },
   {
    "duration": -295,
    "start_time": "2021-10-15T08:07:09.219Z"
   },
   {
    "duration": -300,
    "start_time": "2021-10-15T08:07:09.226Z"
   },
   {
    "duration": -304,
    "start_time": "2021-10-15T08:07:09.231Z"
   },
   {
    "duration": -307,
    "start_time": "2021-10-15T08:07:09.236Z"
   },
   {
    "duration": -311,
    "start_time": "2021-10-15T08:07:09.241Z"
   },
   {
    "duration": -314,
    "start_time": "2021-10-15T08:07:09.245Z"
   },
   {
    "duration": -318,
    "start_time": "2021-10-15T08:07:09.251Z"
   },
   {
    "duration": -323,
    "start_time": "2021-10-15T08:07:09.257Z"
   },
   {
    "duration": -328,
    "start_time": "2021-10-15T08:07:09.263Z"
   },
   {
    "duration": -331,
    "start_time": "2021-10-15T08:07:09.268Z"
   },
   {
    "duration": -336,
    "start_time": "2021-10-15T08:07:09.274Z"
   },
   {
    "duration": -340,
    "start_time": "2021-10-15T08:07:09.279Z"
   },
   {
    "duration": -343,
    "start_time": "2021-10-15T08:07:09.284Z"
   },
   {
    "duration": -347,
    "start_time": "2021-10-15T08:07:09.289Z"
   },
   {
    "duration": -350,
    "start_time": "2021-10-15T08:07:09.294Z"
   },
   {
    "duration": -295,
    "start_time": "2021-10-15T08:07:09.298Z"
   },
   {
    "duration": -307,
    "start_time": "2021-10-15T08:07:09.312Z"
   },
   {
    "duration": -309,
    "start_time": "2021-10-15T08:07:09.316Z"
   },
   {
    "duration": -317,
    "start_time": "2021-10-15T08:07:09.325Z"
   },
   {
    "duration": -320,
    "start_time": "2021-10-15T08:07:09.330Z"
   },
   {
    "duration": -323,
    "start_time": "2021-10-15T08:07:09.335Z"
   },
   {
    "duration": -345,
    "start_time": "2021-10-15T08:07:09.358Z"
   },
   {
    "duration": -349,
    "start_time": "2021-10-15T08:07:09.363Z"
   },
   {
    "duration": -361,
    "start_time": "2021-10-15T08:07:09.377Z"
   },
   {
    "duration": -365,
    "start_time": "2021-10-15T08:07:09.383Z"
   },
   {
    "duration": -368,
    "start_time": "2021-10-15T08:07:09.387Z"
   },
   {
    "duration": -372,
    "start_time": "2021-10-15T08:07:09.393Z"
   },
   {
    "duration": -376,
    "start_time": "2021-10-15T08:07:09.398Z"
   },
   {
    "duration": -404,
    "start_time": "2021-10-15T08:07:09.427Z"
   },
   {
    "duration": -406,
    "start_time": "2021-10-15T08:07:09.431Z"
   },
   {
    "duration": -409,
    "start_time": "2021-10-15T08:07:09.435Z"
   },
   {
    "duration": -412,
    "start_time": "2021-10-15T08:07:09.440Z"
   },
   {
    "duration": -417,
    "start_time": "2021-10-15T08:07:09.446Z"
   },
   {
    "duration": -420,
    "start_time": "2021-10-15T08:07:09.450Z"
   },
   {
    "duration": -423,
    "start_time": "2021-10-15T08:07:09.455Z"
   },
   {
    "duration": -426,
    "start_time": "2021-10-15T08:07:09.459Z"
   },
   {
    "duration": -435,
    "start_time": "2021-10-15T08:07:09.469Z"
   },
   {
    "duration": -439,
    "start_time": "2021-10-15T08:07:09.474Z"
   },
   {
    "duration": -441,
    "start_time": "2021-10-15T08:07:09.478Z"
   },
   {
    "duration": -448,
    "start_time": "2021-10-15T08:07:09.486Z"
   },
   {
    "duration": -391,
    "start_time": "2021-10-15T08:07:09.491Z"
   },
   {
    "duration": -399,
    "start_time": "2021-10-15T08:07:09.500Z"
   },
   {
    "duration": -403,
    "start_time": "2021-10-15T08:07:09.505Z"
   },
   {
    "duration": -405,
    "start_time": "2021-10-15T08:07:09.509Z"
   },
   {
    "duration": -409,
    "start_time": "2021-10-15T08:07:09.514Z"
   },
   {
    "duration": -424,
    "start_time": "2021-10-15T08:07:09.530Z"
   },
   {
    "duration": -427,
    "start_time": "2021-10-15T08:07:09.535Z"
   },
   {
    "duration": -434,
    "start_time": "2021-10-15T08:07:09.543Z"
   },
   {
    "duration": -437,
    "start_time": "2021-10-15T08:07:09.547Z"
   },
   {
    "duration": -441,
    "start_time": "2021-10-15T08:07:09.553Z"
   },
   {
    "duration": -450,
    "start_time": "2021-10-15T08:07:09.563Z"
   },
   {
    "duration": -454,
    "start_time": "2021-10-15T08:07:09.568Z"
   },
   {
    "duration": -458,
    "start_time": "2021-10-15T08:07:09.574Z"
   },
   {
    "duration": 1915,
    "start_time": "2021-10-15T08:22:19.141Z"
   },
   {
    "duration": 33,
    "start_time": "2021-10-15T08:22:21.059Z"
   },
   {
    "duration": 15,
    "start_time": "2021-10-15T08:22:21.096Z"
   },
   {
    "duration": 6,
    "start_time": "2021-10-15T08:22:21.114Z"
   },
   {
    "duration": 26,
    "start_time": "2021-10-15T08:22:21.123Z"
   },
   {
    "duration": 58,
    "start_time": "2021-10-15T08:22:21.152Z"
   },
   {
    "duration": 9,
    "start_time": "2021-10-15T08:22:21.213Z"
   },
   {
    "duration": 11,
    "start_time": "2021-10-15T08:22:21.227Z"
   },
   {
    "duration": 97,
    "start_time": "2021-10-15T08:22:21.242Z"
   },
   {
    "duration": 70,
    "start_time": "2021-10-15T08:22:21.341Z"
   },
   {
    "duration": 552,
    "start_time": "2021-10-15T08:22:21.414Z"
   },
   {
    "duration": 13,
    "start_time": "2021-10-15T08:22:21.968Z"
   },
   {
    "duration": 3548,
    "start_time": "2021-10-15T08:22:21.983Z"
   },
   {
    "duration": 737,
    "start_time": "2021-10-15T08:22:25.534Z"
   },
   {
    "duration": 6,
    "start_time": "2021-10-15T08:22:26.274Z"
   },
   {
    "duration": 1297,
    "start_time": "2021-10-15T08:22:26.282Z"
   },
   {
    "duration": 25,
    "start_time": "2021-10-15T08:22:27.581Z"
   },
   {
    "duration": 10,
    "start_time": "2021-10-15T08:22:27.609Z"
   },
   {
    "duration": 2283,
    "start_time": "2021-10-15T08:22:27.621Z"
   },
   {
    "duration": 744,
    "start_time": "2021-10-15T08:22:29.906Z"
   },
   {
    "duration": 5,
    "start_time": "2021-10-15T08:22:30.652Z"
   },
   {
    "duration": 1373,
    "start_time": "2021-10-15T08:22:30.660Z"
   },
   {
    "duration": 13,
    "start_time": "2021-10-15T08:22:32.039Z"
   },
   {
    "duration": 10,
    "start_time": "2021-10-15T08:22:32.055Z"
   },
   {
    "duration": 2428,
    "start_time": "2021-10-15T08:22:32.067Z"
   },
   {
    "duration": 715,
    "start_time": "2021-10-15T08:22:34.501Z"
   },
   {
    "duration": 6,
    "start_time": "2021-10-15T08:22:35.218Z"
   },
   {
    "duration": 1309,
    "start_time": "2021-10-15T08:22:35.226Z"
   },
   {
    "duration": 39,
    "start_time": "2021-10-15T08:22:36.537Z"
   },
   {
    "duration": 29,
    "start_time": "2021-10-15T08:22:36.578Z"
   },
   {
    "duration": 11,
    "start_time": "2021-10-15T08:22:36.609Z"
   },
   {
    "duration": 31,
    "start_time": "2021-10-15T08:22:36.622Z"
   },
   {
    "duration": 47,
    "start_time": "2021-10-15T08:22:36.655Z"
   },
   {
    "duration": 31,
    "start_time": "2021-10-15T08:22:36.704Z"
   },
   {
    "duration": 12,
    "start_time": "2021-10-15T08:22:36.738Z"
   },
   {
    "duration": 66,
    "start_time": "2021-10-15T08:22:36.753Z"
   },
   {
    "duration": 11,
    "start_time": "2021-10-15T08:22:36.822Z"
   },
   {
    "duration": 30,
    "start_time": "2021-10-15T08:22:36.836Z"
   },
   {
    "duration": 11,
    "start_time": "2021-10-15T08:22:36.901Z"
   },
   {
    "duration": 29,
    "start_time": "2021-10-15T08:22:36.914Z"
   },
   {
    "duration": 11,
    "start_time": "2021-10-15T08:22:36.946Z"
   },
   {
    "duration": 65,
    "start_time": "2021-10-15T08:22:36.959Z"
   },
   {
    "duration": 10,
    "start_time": "2021-10-15T08:22:37.026Z"
   },
   {
    "duration": 17,
    "start_time": "2021-10-15T08:22:37.038Z"
   },
   {
    "duration": 20,
    "start_time": "2021-10-15T08:22:37.057Z"
   },
   {
    "duration": 21,
    "start_time": "2021-10-15T08:22:37.080Z"
   },
   {
    "duration": 17,
    "start_time": "2021-10-15T08:22:37.104Z"
   },
   {
    "duration": 20,
    "start_time": "2021-10-15T08:22:37.124Z"
   },
   {
    "duration": 17,
    "start_time": "2021-10-15T08:22:37.146Z"
   },
   {
    "duration": 17,
    "start_time": "2021-10-15T08:22:37.166Z"
   },
   {
    "duration": 17,
    "start_time": "2021-10-15T08:22:37.185Z"
   },
   {
    "duration": 23,
    "start_time": "2021-10-15T08:22:37.205Z"
   },
   {
    "duration": 6,
    "start_time": "2021-10-15T08:22:37.231Z"
   },
   {
    "duration": 8,
    "start_time": "2021-10-15T08:22:37.240Z"
   },
   {
    "duration": 12,
    "start_time": "2021-10-15T08:22:37.251Z"
   },
   {
    "duration": 46,
    "start_time": "2021-10-15T08:22:37.265Z"
   },
   {
    "duration": 6,
    "start_time": "2021-10-15T08:22:37.313Z"
   },
   {
    "duration": 8,
    "start_time": "2021-10-15T08:22:37.321Z"
   },
   {
    "duration": 13,
    "start_time": "2021-10-15T08:22:37.332Z"
   },
   {
    "duration": 13,
    "start_time": "2021-10-15T08:22:37.347Z"
   },
   {
    "duration": 42,
    "start_time": "2021-10-15T08:22:37.363Z"
   },
   {
    "duration": 15,
    "start_time": "2021-10-15T08:22:37.408Z"
   },
   {
    "duration": 13,
    "start_time": "2021-10-15T08:22:37.425Z"
   },
   {
    "duration": 13,
    "start_time": "2021-10-15T08:22:37.440Z"
   },
   {
    "duration": 11,
    "start_time": "2021-10-15T08:22:37.455Z"
   },
   {
    "duration": 35,
    "start_time": "2021-10-15T08:22:37.468Z"
   },
   {
    "duration": 725,
    "start_time": "2021-10-15T08:24:27.083Z"
   },
   {
    "duration": 4,
    "start_time": "2021-10-15T08:24:28.280Z"
   },
   {
    "duration": 533,
    "start_time": "2021-10-15T08:30:37.089Z"
   },
   {
    "duration": 13,
    "start_time": "2021-10-15T08:31:18.167Z"
   },
   {
    "duration": 531,
    "start_time": "2021-10-15T08:31:19.648Z"
   },
   {
    "duration": 11,
    "start_time": "2021-10-15T08:32:17.378Z"
   },
   {
    "duration": 7,
    "start_time": "2021-10-15T08:33:11.084Z"
   },
   {
    "duration": 10,
    "start_time": "2021-10-15T08:33:18.423Z"
   },
   {
    "duration": 12,
    "start_time": "2021-10-15T08:33:19.051Z"
   },
   {
    "duration": 18,
    "start_time": "2021-10-15T08:33:23.394Z"
   },
   {
    "duration": 8,
    "start_time": "2021-10-15T08:33:24.383Z"
   },
   {
    "duration": 4,
    "start_time": "2021-10-15T08:33:25.510Z"
   },
   {
    "duration": 12,
    "start_time": "2021-10-15T08:38:26.528Z"
   },
   {
    "duration": 7,
    "start_time": "2021-10-15T08:38:27.371Z"
   },
   {
    "duration": 5,
    "start_time": "2021-10-15T08:38:28.437Z"
   },
   {
    "duration": 12,
    "start_time": "2021-10-15T08:39:01.539Z"
   },
   {
    "duration": 7,
    "start_time": "2021-10-15T08:39:01.991Z"
   },
   {
    "duration": 5,
    "start_time": "2021-10-15T08:39:02.843Z"
   },
   {
    "duration": 10,
    "start_time": "2021-10-15T08:39:48.222Z"
   },
   {
    "duration": 7,
    "start_time": "2021-10-15T08:39:48.826Z"
   },
   {
    "duration": 5,
    "start_time": "2021-10-15T08:39:50.935Z"
   },
   {
    "duration": 7,
    "start_time": "2021-10-15T08:40:28.854Z"
   },
   {
    "duration": 4,
    "start_time": "2021-10-15T08:40:30.422Z"
   },
   {
    "duration": 1958,
    "start_time": "2021-10-15T08:41:45.104Z"
   },
   {
    "duration": 37,
    "start_time": "2021-10-15T08:41:47.065Z"
   },
   {
    "duration": 11,
    "start_time": "2021-10-15T08:41:47.111Z"
   },
   {
    "duration": 4,
    "start_time": "2021-10-15T08:41:47.125Z"
   },
   {
    "duration": 22,
    "start_time": "2021-10-15T08:41:47.131Z"
   },
   {
    "duration": 18,
    "start_time": "2021-10-15T08:41:47.155Z"
   },
   {
    "duration": 8,
    "start_time": "2021-10-15T08:41:47.201Z"
   },
   {
    "duration": 9,
    "start_time": "2021-10-15T08:41:47.214Z"
   },
   {
    "duration": 96,
    "start_time": "2021-10-15T08:41:47.226Z"
   },
   {
    "duration": 53,
    "start_time": "2021-10-15T08:41:47.324Z"
   },
   {
    "duration": 565,
    "start_time": "2021-10-15T08:41:47.400Z"
   },
   {
    "duration": 13,
    "start_time": "2021-10-15T08:41:47.968Z"
   },
   {
    "duration": 3649,
    "start_time": "2021-10-15T08:41:47.983Z"
   },
   {
    "duration": 785,
    "start_time": "2021-10-15T08:41:51.634Z"
   },
   {
    "duration": 7,
    "start_time": "2021-10-15T08:41:52.421Z"
   },
   {
    "duration": 1343,
    "start_time": "2021-10-15T08:41:52.430Z"
   },
   {
    "duration": 33,
    "start_time": "2021-10-15T08:41:53.776Z"
   },
   {
    "duration": 13,
    "start_time": "2021-10-15T08:41:53.811Z"
   },
   {
    "duration": 2481,
    "start_time": "2021-10-15T08:41:53.826Z"
   },
   {
    "duration": 794,
    "start_time": "2021-10-15T08:41:56.310Z"
   },
   {
    "duration": 9,
    "start_time": "2021-10-15T08:41:57.107Z"
   },
   {
    "duration": 1344,
    "start_time": "2021-10-15T08:41:57.118Z"
   },
   {
    "duration": 14,
    "start_time": "2021-10-15T08:41:58.468Z"
   },
   {
    "duration": 30,
    "start_time": "2021-10-15T08:41:58.486Z"
   },
   {
    "duration": 2711,
    "start_time": "2021-10-15T08:41:58.519Z"
   },
   {
    "duration": 767,
    "start_time": "2021-10-15T08:42:01.233Z"
   },
   {
    "duration": 7,
    "start_time": "2021-10-15T08:42:02.004Z"
   },
   {
    "duration": 1368,
    "start_time": "2021-10-15T08:42:02.014Z"
   },
   {
    "duration": 55,
    "start_time": "2021-10-15T08:42:03.384Z"
   },
   {
    "duration": 11,
    "start_time": "2021-10-15T08:42:03.441Z"
   },
   {
    "duration": 15,
    "start_time": "2021-10-15T08:42:03.456Z"
   },
   {
    "duration": 40,
    "start_time": "2021-10-15T08:42:03.502Z"
   },
   {
    "duration": 10,
    "start_time": "2021-10-15T08:42:03.544Z"
   },
   {
    "duration": 64,
    "start_time": "2021-10-15T08:42:03.557Z"
   },
   {
    "duration": 11,
    "start_time": "2021-10-15T08:42:03.624Z"
   },
   {
    "duration": 35,
    "start_time": "2021-10-15T08:42:03.638Z"
   },
   {
    "duration": 37,
    "start_time": "2021-10-15T08:42:03.675Z"
   },
   {
    "duration": 33,
    "start_time": "2021-10-15T08:42:03.714Z"
   },
   {
    "duration": 9,
    "start_time": "2021-10-15T08:42:03.750Z"
   },
   {
    "duration": 67,
    "start_time": "2021-10-15T08:42:03.762Z"
   },
   {
    "duration": 9,
    "start_time": "2021-10-15T08:42:03.832Z"
   },
   {
    "duration": 27,
    "start_time": "2021-10-15T08:42:03.844Z"
   },
   {
    "duration": 37,
    "start_time": "2021-10-15T08:42:03.873Z"
   },
   {
    "duration": 18,
    "start_time": "2021-10-15T08:42:03.913Z"
   },
   {
    "duration": 11,
    "start_time": "2021-10-15T08:42:03.933Z"
   },
   {
    "duration": 13,
    "start_time": "2021-10-15T08:42:03.946Z"
   },
   {
    "duration": 47,
    "start_time": "2021-10-15T08:42:03.962Z"
   },
   {
    "duration": 5,
    "start_time": "2021-10-15T08:42:04.012Z"
   },
   {
    "duration": 17,
    "start_time": "2021-10-15T08:42:04.019Z"
   },
   {
    "duration": 9,
    "start_time": "2021-10-15T08:42:04.039Z"
   },
   {
    "duration": 5,
    "start_time": "2021-10-15T08:42:04.051Z"
   },
   {
    "duration": 45,
    "start_time": "2021-10-15T08:42:04.059Z"
   },
   {
    "duration": 13,
    "start_time": "2021-10-15T08:42:04.108Z"
   },
   {
    "duration": 9,
    "start_time": "2021-10-15T08:42:04.124Z"
   },
   {
    "duration": 14,
    "start_time": "2021-10-15T08:42:04.135Z"
   },
   {
    "duration": 17,
    "start_time": "2021-10-15T08:42:04.151Z"
   },
   {
    "duration": 34,
    "start_time": "2021-10-15T08:42:04.171Z"
   },
   {
    "duration": 14,
    "start_time": "2021-10-15T08:42:04.208Z"
   },
   {
    "duration": 9,
    "start_time": "2021-10-15T08:42:04.224Z"
   },
   {
    "duration": 6,
    "start_time": "2021-10-15T08:42:04.236Z"
   },
   {
    "duration": 8671,
    "start_time": "2021-10-15T08:43:56.960Z"
   },
   {
    "duration": -245,
    "start_time": "2021-10-15T08:44:05.879Z"
   },
   {
    "duration": 8,
    "start_time": "2021-10-15T08:44:05.868Z"
   },
   {
    "duration": 5,
    "start_time": "2021-10-15T08:44:07.787Z"
   },
   {
    "duration": 241,
    "start_time": "2021-10-15T09:37:30.790Z"
   },
   {
    "duration": 389,
    "start_time": "2021-10-15T11:47:53.299Z"
   },
   {
    "duration": 469,
    "start_time": "2021-10-15T11:48:03.943Z"
   },
   {
    "duration": 21,
    "start_time": "2021-10-15T11:53:33.534Z"
   },
   {
    "duration": 18,
    "start_time": "2021-10-15T11:53:44.006Z"
   },
   {
    "duration": 7945,
    "start_time": "2021-10-15T11:54:13.829Z"
   },
   {
    "duration": 4,
    "start_time": "2021-10-15T11:54:21.772Z"
   },
   {
    "duration": 19,
    "start_time": "2021-10-15T11:58:08.231Z"
   },
   {
    "duration": 17,
    "start_time": "2021-10-15T11:58:09.319Z"
   },
   {
    "duration": 2330,
    "start_time": "2021-10-15T12:23:05.642Z"
   },
   {
    "duration": 3806,
    "start_time": "2021-10-15T12:53:33.415Z"
   },
   {
    "duration": 3500,
    "start_time": "2021-10-15T13:14:00.614Z"
   },
   {
    "duration": 2679,
    "start_time": "2021-10-15T13:14:31.439Z"
   },
   {
    "duration": 3362,
    "start_time": "2021-10-15T13:15:32.019Z"
   },
   {
    "duration": 3601,
    "start_time": "2021-10-15T13:25:08.849Z"
   },
   {
    "duration": 3748,
    "start_time": "2021-10-15T13:25:54.040Z"
   },
   {
    "duration": 3664,
    "start_time": "2021-10-15T13:26:36.590Z"
   },
   {
    "duration": 4600,
    "start_time": "2021-10-15T13:26:53.129Z"
   },
   {
    "duration": 5254,
    "start_time": "2021-10-15T13:35:01.580Z"
   },
   {
    "duration": 6040,
    "start_time": "2021-10-15T13:39:49.853Z"
   },
   {
    "duration": 8134,
    "start_time": "2021-10-15T13:45:26.924Z"
   },
   {
    "duration": 8359,
    "start_time": "2021-10-15T13:46:12.061Z"
   },
   {
    "duration": 7960,
    "start_time": "2021-10-15T13:47:20.565Z"
   },
   {
    "duration": 4108,
    "start_time": "2021-10-15T13:49:25.995Z"
   },
   {
    "duration": 4147,
    "start_time": "2021-10-15T13:49:44.523Z"
   },
   {
    "duration": 8345,
    "start_time": "2021-10-15T13:50:44.971Z"
   },
   {
    "duration": 8888,
    "start_time": "2021-10-15T13:52:41.123Z"
   },
   {
    "duration": 9212,
    "start_time": "2021-10-15T13:53:03.624Z"
   },
   {
    "duration": 3973,
    "start_time": "2021-10-15T13:53:32.689Z"
   },
   {
    "duration": 3967,
    "start_time": "2021-10-15T13:54:21.710Z"
   },
   {
    "duration": 4189,
    "start_time": "2021-10-15T13:54:47.649Z"
   },
   {
    "duration": 3857,
    "start_time": "2021-10-15T13:54:59.826Z"
   },
   {
    "duration": 8299,
    "start_time": "2021-10-15T13:55:56.333Z"
   },
   {
    "duration": 8904,
    "start_time": "2021-10-15T13:56:24.886Z"
   },
   {
    "duration": 8959,
    "start_time": "2021-10-15T13:56:56.805Z"
   },
   {
    "duration": 8956,
    "start_time": "2021-10-15T13:57:25.028Z"
   },
   {
    "duration": 4482,
    "start_time": "2021-10-15T13:58:44.786Z"
   },
   {
    "duration": 21527,
    "start_time": "2021-10-15T13:58:59.084Z"
   },
   {
    "duration": 7644,
    "start_time": "2021-10-15T13:59:53.084Z"
   },
   {
    "duration": 344,
    "start_time": "2021-10-15T14:06:06.745Z"
   },
   {
    "duration": 10495,
    "start_time": "2021-10-15T14:06:41.446Z"
   },
   {
    "duration": 262,
    "start_time": "2021-10-15T14:07:07.078Z"
   },
   {
    "duration": 244,
    "start_time": "2021-10-15T14:07:44.728Z"
   },
   {
    "duration": 3442,
    "start_time": "2021-10-15T14:08:39.720Z"
   },
   {
    "duration": 3715,
    "start_time": "2021-10-15T14:09:00.325Z"
   },
   {
    "duration": 2440,
    "start_time": "2021-10-15T14:10:39.630Z"
   },
   {
    "duration": 2557,
    "start_time": "2021-10-15T14:11:07.718Z"
   },
   {
    "duration": 1992,
    "start_time": "2021-10-15T22:03:28.264Z"
   },
   {
    "duration": 36,
    "start_time": "2021-10-15T22:03:30.259Z"
   },
   {
    "duration": 24,
    "start_time": "2021-10-15T22:03:30.298Z"
   },
   {
    "duration": 4,
    "start_time": "2021-10-15T22:03:30.326Z"
   },
   {
    "duration": 36,
    "start_time": "2021-10-15T22:03:30.333Z"
   },
   {
    "duration": 51,
    "start_time": "2021-10-15T22:03:30.371Z"
   },
   {
    "duration": 6,
    "start_time": "2021-10-15T22:03:30.425Z"
   },
   {
    "duration": 9,
    "start_time": "2021-10-15T22:03:30.435Z"
   },
   {
    "duration": 81,
    "start_time": "2021-10-15T22:03:30.447Z"
   },
   {
    "duration": 52,
    "start_time": "2021-10-15T22:03:30.531Z"
   },
   {
    "duration": 46,
    "start_time": "2021-10-15T22:03:30.585Z"
   },
   {
    "duration": 21,
    "start_time": "2021-10-15T22:03:30.633Z"
   },
   {
    "duration": 8024,
    "start_time": "2021-10-15T22:03:30.656Z"
   },
   {
    "duration": 2127,
    "start_time": "2021-10-15T22:03:38.683Z"
   },
   {
    "duration": 834,
    "start_time": "2021-10-15T22:03:40.812Z"
   },
   {
    "duration": 17,
    "start_time": "2021-10-15T22:03:41.649Z"
   },
   {
    "duration": 4474,
    "start_time": "2021-10-15T22:03:41.669Z"
   },
   {
    "duration": 1019,
    "start_time": "2021-10-15T22:03:46.146Z"
   },
   {
    "duration": 9,
    "start_time": "2021-10-15T22:03:47.167Z"
   },
   {
    "duration": 1834,
    "start_time": "2021-10-15T22:03:47.179Z"
   },
   {
    "duration": 470,
    "start_time": "2021-10-15T22:03:49.023Z"
   },
   {
    "duration": 28,
    "start_time": "2021-10-15T22:03:49.496Z"
   },
   {
    "duration": 13,
    "start_time": "2021-10-15T22:03:49.532Z"
   },
   {
    "duration": 3059,
    "start_time": "2021-10-15T22:03:49.549Z"
   },
   {
    "duration": 1026,
    "start_time": "2021-10-15T22:03:52.611Z"
   },
   {
    "duration": 7,
    "start_time": "2021-10-15T22:03:53.641Z"
   },
   {
    "duration": 1833,
    "start_time": "2021-10-15T22:03:53.650Z"
   },
   {
    "duration": 17,
    "start_time": "2021-10-15T22:03:55.487Z"
   },
   {
    "duration": 10,
    "start_time": "2021-10-15T22:03:55.523Z"
   },
   {
    "duration": 2246,
    "start_time": "2021-10-15T22:03:55.535Z"
   },
   {
    "duration": 246,
    "start_time": "2021-10-15T22:03:57.784Z"
   },
   {
    "duration": 696,
    "start_time": "2021-10-15T22:03:58.033Z"
   },
   {
    "duration": 5,
    "start_time": "2021-10-15T22:03:58.732Z"
   },
   {
    "duration": 1222,
    "start_time": "2021-10-15T22:03:58.739Z"
   },
   {
    "duration": 493,
    "start_time": "2021-10-15T22:03:59.964Z"
   },
   {
    "duration": -1572,
    "start_time": "2021-10-15T22:04:02.032Z"
   },
   {
    "duration": -1717,
    "start_time": "2021-10-15T22:04:02.179Z"
   },
   {
    "duration": -1811,
    "start_time": "2021-10-15T22:04:02.274Z"
   },
   {
    "duration": -1846,
    "start_time": "2021-10-15T22:04:02.311Z"
   },
   {
    "duration": -1925,
    "start_time": "2021-10-15T22:04:02.392Z"
   },
   {
    "duration": -1961,
    "start_time": "2021-10-15T22:04:02.430Z"
   },
   {
    "duration": -1989,
    "start_time": "2021-10-15T22:04:02.459Z"
   },
   {
    "duration": -2000,
    "start_time": "2021-10-15T22:04:02.472Z"
   },
   {
    "duration": -2012,
    "start_time": "2021-10-15T22:04:02.485Z"
   },
   {
    "duration": -2023,
    "start_time": "2021-10-15T22:04:02.497Z"
   },
   {
    "duration": -2041,
    "start_time": "2021-10-15T22:04:02.517Z"
   },
   {
    "duration": -2051,
    "start_time": "2021-10-15T22:04:02.529Z"
   },
   {
    "duration": -2080,
    "start_time": "2021-10-15T22:04:02.559Z"
   },
   {
    "duration": -2091,
    "start_time": "2021-10-15T22:04:02.572Z"
   },
   {
    "duration": -2100,
    "start_time": "2021-10-15T22:04:02.582Z"
   },
   {
    "duration": -2109,
    "start_time": "2021-10-15T22:04:02.593Z"
   },
   {
    "duration": -2234,
    "start_time": "2021-10-15T22:04:02.719Z"
   },
   {
    "duration": -2333,
    "start_time": "2021-10-15T22:04:02.820Z"
   },
   {
    "duration": -2341,
    "start_time": "2021-10-15T22:04:02.829Z"
   },
   {
    "duration": -2349,
    "start_time": "2021-10-15T22:04:02.838Z"
   },
   {
    "duration": -2357,
    "start_time": "2021-10-15T22:04:02.847Z"
   },
   {
    "duration": -2364,
    "start_time": "2021-10-15T22:04:02.856Z"
   },
   {
    "duration": -2376,
    "start_time": "2021-10-15T22:04:02.869Z"
   },
   {
    "duration": -2372,
    "start_time": "2021-10-15T22:04:02.894Z"
   },
   {
    "duration": -2390,
    "start_time": "2021-10-15T22:04:02.914Z"
   },
   {
    "duration": -2399,
    "start_time": "2021-10-15T22:04:02.925Z"
   },
   {
    "duration": -2407,
    "start_time": "2021-10-15T22:04:02.934Z"
   },
   {
    "duration": -2464,
    "start_time": "2021-10-15T22:04:02.993Z"
   },
   {
    "duration": -2502,
    "start_time": "2021-10-15T22:04:03.032Z"
   },
   {
    "duration": -2513,
    "start_time": "2021-10-15T22:04:03.044Z"
   },
   {
    "duration": -2523,
    "start_time": "2021-10-15T22:04:03.056Z"
   },
   {
    "duration": 7784,
    "start_time": "2021-10-15T22:10:42.280Z"
   },
   {
    "duration": 7841,
    "start_time": "2021-10-15T22:11:38.953Z"
   },
   {
    "duration": 7628,
    "start_time": "2021-10-15T22:13:20.046Z"
   },
   {
    "duration": 1530,
    "start_time": "2021-10-16T10:27:55.799Z"
   },
   {
    "duration": 29,
    "start_time": "2021-10-16T10:27:57.331Z"
   },
   {
    "duration": 9,
    "start_time": "2021-10-16T10:27:57.362Z"
   },
   {
    "duration": 4,
    "start_time": "2021-10-16T10:27:57.372Z"
   },
   {
    "duration": 16,
    "start_time": "2021-10-16T10:27:57.377Z"
   },
   {
    "duration": 12,
    "start_time": "2021-10-16T10:27:57.395Z"
   },
   {
    "duration": 5,
    "start_time": "2021-10-16T10:27:57.409Z"
   },
   {
    "duration": 7,
    "start_time": "2021-10-16T10:27:57.416Z"
   },
   {
    "duration": 67,
    "start_time": "2021-10-16T10:27:57.425Z"
   },
   {
    "duration": 33,
    "start_time": "2021-10-16T10:27:57.494Z"
   },
   {
    "duration": 42,
    "start_time": "2021-10-16T10:27:57.528Z"
   },
   {
    "duration": 11,
    "start_time": "2021-10-16T10:27:57.572Z"
   },
   {
    "duration": 4940,
    "start_time": "2021-10-16T10:27:57.585Z"
   },
   {
    "duration": 98,
    "start_time": "2021-10-16T10:28:02.527Z"
   },
   {
    "duration": -336,
    "start_time": "2021-10-16T10:28:02.964Z"
   },
   {
    "duration": -340,
    "start_time": "2021-10-16T10:28:02.969Z"
   },
   {
    "duration": -346,
    "start_time": "2021-10-16T10:28:02.976Z"
   },
   {
    "duration": -350,
    "start_time": "2021-10-16T10:28:02.981Z"
   },
   {
    "duration": -354,
    "start_time": "2021-10-16T10:28:02.986Z"
   },
   {
    "duration": -358,
    "start_time": "2021-10-16T10:28:02.991Z"
   },
   {
    "duration": -362,
    "start_time": "2021-10-16T10:28:02.996Z"
   },
   {
    "duration": -366,
    "start_time": "2021-10-16T10:28:03.001Z"
   },
   {
    "duration": -369,
    "start_time": "2021-10-16T10:28:03.005Z"
   },
   {
    "duration": -373,
    "start_time": "2021-10-16T10:28:03.010Z"
   },
   {
    "duration": -376,
    "start_time": "2021-10-16T10:28:03.014Z"
   },
   {
    "duration": -380,
    "start_time": "2021-10-16T10:28:03.019Z"
   },
   {
    "duration": -383,
    "start_time": "2021-10-16T10:28:03.023Z"
   },
   {
    "duration": -387,
    "start_time": "2021-10-16T10:28:03.028Z"
   },
   {
    "duration": -408,
    "start_time": "2021-10-16T10:28:03.049Z"
   },
   {
    "duration": -415,
    "start_time": "2021-10-16T10:28:03.057Z"
   },
   {
    "duration": -422,
    "start_time": "2021-10-16T10:28:03.065Z"
   },
   {
    "duration": -425,
    "start_time": "2021-10-16T10:28:03.069Z"
   },
   {
    "duration": -428,
    "start_time": "2021-10-16T10:28:03.073Z"
   },
   {
    "duration": -433,
    "start_time": "2021-10-16T10:28:03.078Z"
   },
   {
    "duration": -437,
    "start_time": "2021-10-16T10:28:03.083Z"
   },
   {
    "duration": -441,
    "start_time": "2021-10-16T10:28:03.088Z"
   },
   {
    "duration": -444,
    "start_time": "2021-10-16T10:28:03.092Z"
   },
   {
    "duration": -448,
    "start_time": "2021-10-16T10:28:03.097Z"
   },
   {
    "duration": -452,
    "start_time": "2021-10-16T10:28:03.101Z"
   },
   {
    "duration": -455,
    "start_time": "2021-10-16T10:28:03.105Z"
   },
   {
    "duration": -459,
    "start_time": "2021-10-16T10:28:03.110Z"
   },
   {
    "duration": -463,
    "start_time": "2021-10-16T10:28:03.115Z"
   },
   {
    "duration": -463,
    "start_time": "2021-10-16T10:28:03.120Z"
   },
   {
    "duration": -467,
    "start_time": "2021-10-16T10:28:03.125Z"
   },
   {
    "duration": -469,
    "start_time": "2021-10-16T10:28:03.129Z"
   },
   {
    "duration": -473,
    "start_time": "2021-10-16T10:28:03.134Z"
   },
   {
    "duration": -475,
    "start_time": "2021-10-16T10:28:03.138Z"
   },
   {
    "duration": -479,
    "start_time": "2021-10-16T10:28:03.143Z"
   },
   {
    "duration": -490,
    "start_time": "2021-10-16T10:28:03.156Z"
   },
   {
    "duration": -496,
    "start_time": "2021-10-16T10:28:03.163Z"
   },
   {
    "duration": -498,
    "start_time": "2021-10-16T10:28:03.167Z"
   },
   {
    "duration": -502,
    "start_time": "2021-10-16T10:28:03.172Z"
   },
   {
    "duration": -504,
    "start_time": "2021-10-16T10:28:03.176Z"
   },
   {
    "duration": -508,
    "start_time": "2021-10-16T10:28:03.181Z"
   },
   {
    "duration": -512,
    "start_time": "2021-10-16T10:28:03.186Z"
   },
   {
    "duration": -514,
    "start_time": "2021-10-16T10:28:03.190Z"
   },
   {
    "duration": -518,
    "start_time": "2021-10-16T10:28:03.195Z"
   },
   {
    "duration": -521,
    "start_time": "2021-10-16T10:28:03.199Z"
   },
   {
    "duration": -523,
    "start_time": "2021-10-16T10:28:03.203Z"
   },
   {
    "duration": -527,
    "start_time": "2021-10-16T10:28:03.208Z"
   },
   {
    "duration": -529,
    "start_time": "2021-10-16T10:28:03.212Z"
   },
   {
    "duration": -533,
    "start_time": "2021-10-16T10:28:03.217Z"
   },
   {
    "duration": -535,
    "start_time": "2021-10-16T10:28:03.221Z"
   },
   {
    "duration": -539,
    "start_time": "2021-10-16T10:28:03.226Z"
   },
   {
    "duration": -542,
    "start_time": "2021-10-16T10:28:03.230Z"
   },
   {
    "duration": -545,
    "start_time": "2021-10-16T10:28:03.235Z"
   },
   {
    "duration": 2683,
    "start_time": "2021-10-16T10:28:39.597Z"
   },
   {
    "duration": 1477,
    "start_time": "2021-10-16T10:28:57.354Z"
   },
   {
    "duration": 1560,
    "start_time": "2021-10-16T10:30:27.608Z"
   },
   {
    "duration": 2050,
    "start_time": "2021-10-16T10:30:34.413Z"
   },
   {
    "duration": 1463,
    "start_time": "2021-10-16T10:30:40.831Z"
   },
   {
    "duration": 2582,
    "start_time": "2021-10-16T10:30:52.366Z"
   },
   {
    "duration": 2425,
    "start_time": "2021-10-16T10:31:10.090Z"
   },
   {
    "duration": 1440,
    "start_time": "2021-10-16T10:31:29.618Z"
   },
   {
    "duration": 1603,
    "start_time": "2021-10-16T10:32:01.965Z"
   },
   {
    "duration": 1397,
    "start_time": "2021-10-16T10:32:14.548Z"
   },
   {
    "duration": 2080,
    "start_time": "2021-10-16T10:32:24.963Z"
   },
   {
    "duration": 1393,
    "start_time": "2021-10-16T10:32:44.770Z"
   },
   {
    "duration": 1501,
    "start_time": "2021-10-16T10:39:31.306Z"
   },
   {
    "duration": 8874,
    "start_time": "2021-10-16T10:39:42.851Z"
   },
   {
    "duration": 8978,
    "start_time": "2021-10-16T10:40:02.541Z"
   },
   {
    "duration": 7598,
    "start_time": "2021-10-16T10:40:33.648Z"
   },
   {
    "duration": 2658,
    "start_time": "2021-10-16T10:41:07.249Z"
   },
   {
    "duration": 1402,
    "start_time": "2021-10-16T10:41:28.557Z"
   },
   {
    "duration": 280,
    "start_time": "2021-10-16T10:44:49.679Z"
   },
   {
    "duration": 254,
    "start_time": "2021-10-16T10:45:05.041Z"
   },
   {
    "duration": 2332,
    "start_time": "2021-10-16T10:45:13.095Z"
   },
   {
    "duration": 1696,
    "start_time": "2021-10-16T10:45:42.416Z"
   },
   {
    "duration": 1444,
    "start_time": "2021-10-16T10:45:51.649Z"
   },
   {
    "duration": 4602,
    "start_time": "2021-10-16T10:46:18.097Z"
   },
   {
    "duration": 4113,
    "start_time": "2021-10-16T10:46:33.582Z"
   },
   {
    "duration": 3939,
    "start_time": "2021-10-16T10:46:55.524Z"
   },
   {
    "duration": 1487,
    "start_time": "2021-10-16T10:48:25.041Z"
   },
   {
    "duration": 27,
    "start_time": "2021-10-16T10:48:26.530Z"
   },
   {
    "duration": 15,
    "start_time": "2021-10-16T10:48:26.559Z"
   },
   {
    "duration": 20,
    "start_time": "2021-10-16T10:48:26.576Z"
   },
   {
    "duration": 32,
    "start_time": "2021-10-16T10:48:26.597Z"
   },
   {
    "duration": 14,
    "start_time": "2021-10-16T10:48:26.630Z"
   },
   {
    "duration": 23,
    "start_time": "2021-10-16T10:48:26.646Z"
   },
   {
    "duration": 25,
    "start_time": "2021-10-16T10:48:26.672Z"
   },
   {
    "duration": 42,
    "start_time": "2021-10-16T10:48:26.699Z"
   },
   {
    "duration": 32,
    "start_time": "2021-10-16T10:48:26.743Z"
   },
   {
    "duration": 13,
    "start_time": "2021-10-16T10:48:26.777Z"
   },
   {
    "duration": 26,
    "start_time": "2021-10-16T10:48:26.791Z"
   },
   {
    "duration": 4089,
    "start_time": "2021-10-16T10:48:26.819Z"
   },
   {
    "duration": 2995,
    "start_time": "2021-10-16T10:48:30.910Z"
   },
   {
    "duration": 1281,
    "start_time": "2021-10-16T10:48:33.907Z"
   },
   {
    "duration": 1198,
    "start_time": "2021-10-16T10:48:35.190Z"
   },
   {
    "duration": 594,
    "start_time": "2021-10-16T10:48:36.391Z"
   },
   {
    "duration": 9,
    "start_time": "2021-10-16T10:48:36.987Z"
   },
   {
    "duration": 2157,
    "start_time": "2021-10-16T10:48:36.998Z"
   },
   {
    "duration": 438,
    "start_time": "2021-10-16T10:48:39.157Z"
   },
   {
    "duration": 5,
    "start_time": "2021-10-16T10:48:39.597Z"
   },
   {
    "duration": 778,
    "start_time": "2021-10-16T10:48:39.604Z"
   },
   {
    "duration": 446,
    "start_time": "2021-10-16T10:48:40.386Z"
   },
   {
    "duration": 10,
    "start_time": "2021-10-16T10:48:40.836Z"
   },
   {
    "duration": 9,
    "start_time": "2021-10-16T10:48:40.863Z"
   },
   {
    "duration": 1252,
    "start_time": "2021-10-16T10:48:40.874Z"
   },
   {
    "duration": 448,
    "start_time": "2021-10-16T10:48:42.129Z"
   },
   {
    "duration": 6,
    "start_time": "2021-10-16T10:48:42.579Z"
   },
   {
    "duration": 782,
    "start_time": "2021-10-16T10:48:42.586Z"
   },
   {
    "duration": 12,
    "start_time": "2021-10-16T10:48:43.370Z"
   },
   {
    "duration": 11,
    "start_time": "2021-10-16T10:48:43.384Z"
   },
   {
    "duration": 1723,
    "start_time": "2021-10-16T10:48:43.396Z"
   },
   {
    "duration": 158,
    "start_time": "2021-10-16T10:48:45.121Z"
   },
   {
    "duration": 446,
    "start_time": "2021-10-16T10:48:45.281Z"
   },
   {
    "duration": 4,
    "start_time": "2021-10-16T10:48:45.729Z"
   },
   {
    "duration": 861,
    "start_time": "2021-10-16T10:48:45.734Z"
   },
   {
    "duration": 471,
    "start_time": "2021-10-16T10:48:46.597Z"
   },
   {
    "duration": -75,
    "start_time": "2021-10-16T10:48:47.145Z"
   },
   {
    "duration": -87,
    "start_time": "2021-10-16T10:48:47.158Z"
   },
   {
    "duration": -95,
    "start_time": "2021-10-16T10:48:47.167Z"
   },
   {
    "duration": -102,
    "start_time": "2021-10-16T10:48:47.174Z"
   },
   {
    "duration": -106,
    "start_time": "2021-10-16T10:48:47.179Z"
   },
   {
    "duration": -111,
    "start_time": "2021-10-16T10:48:47.185Z"
   },
   {
    "duration": -116,
    "start_time": "2021-10-16T10:48:47.191Z"
   },
   {
    "duration": -123,
    "start_time": "2021-10-16T10:48:47.199Z"
   },
   {
    "duration": -148,
    "start_time": "2021-10-16T10:48:47.225Z"
   },
   {
    "duration": -155,
    "start_time": "2021-10-16T10:48:47.233Z"
   },
   {
    "duration": -161,
    "start_time": "2021-10-16T10:48:47.240Z"
   },
   {
    "duration": -164,
    "start_time": "2021-10-16T10:48:47.244Z"
   },
   {
    "duration": -168,
    "start_time": "2021-10-16T10:48:47.248Z"
   },
   {
    "duration": -172,
    "start_time": "2021-10-16T10:48:47.253Z"
   },
   {
    "duration": -174,
    "start_time": "2021-10-16T10:48:47.257Z"
   },
   {
    "duration": -178,
    "start_time": "2021-10-16T10:48:47.262Z"
   },
   {
    "duration": -184,
    "start_time": "2021-10-16T10:48:47.268Z"
   },
   {
    "duration": -188,
    "start_time": "2021-10-16T10:48:47.273Z"
   },
   {
    "duration": -192,
    "start_time": "2021-10-16T10:48:47.278Z"
   },
   {
    "duration": -196,
    "start_time": "2021-10-16T10:48:47.283Z"
   },
   {
    "duration": -200,
    "start_time": "2021-10-16T10:48:47.288Z"
   },
   {
    "duration": -205,
    "start_time": "2021-10-16T10:48:47.294Z"
   },
   {
    "duration": -209,
    "start_time": "2021-10-16T10:48:47.299Z"
   },
   {
    "duration": -223,
    "start_time": "2021-10-16T10:48:47.314Z"
   },
   {
    "duration": -236,
    "start_time": "2021-10-16T10:48:47.328Z"
   },
   {
    "duration": -241,
    "start_time": "2021-10-16T10:48:47.334Z"
   },
   {
    "duration": -247,
    "start_time": "2021-10-16T10:48:47.340Z"
   },
   {
    "duration": -256,
    "start_time": "2021-10-16T10:48:47.350Z"
   },
   {
    "duration": -270,
    "start_time": "2021-10-16T10:48:47.365Z"
   },
   {
    "duration": -276,
    "start_time": "2021-10-16T10:48:47.372Z"
   },
   {
    "duration": -279,
    "start_time": "2021-10-16T10:48:47.376Z"
   },
   {
    "duration": 628,
    "start_time": "2021-10-16T10:51:00.729Z"
   },
   {
    "duration": 779,
    "start_time": "2021-10-16T10:51:14.162Z"
   },
   {
    "duration": 558,
    "start_time": "2021-10-16T10:51:40.247Z"
   },
   {
    "duration": 778,
    "start_time": "2021-10-16T10:51:51.895Z"
   },
   {
    "duration": 710,
    "start_time": "2021-10-16T10:52:01.026Z"
   },
   {
    "duration": 566,
    "start_time": "2021-10-16T10:52:26.563Z"
   },
   {
    "duration": 680,
    "start_time": "2021-10-16T10:52:39.547Z"
   },
   {
    "duration": 653,
    "start_time": "2021-10-16T11:07:56.473Z"
   },
   {
    "duration": 247,
    "start_time": "2021-10-16T11:16:43.759Z"
   },
   {
    "duration": 245,
    "start_time": "2021-10-16T11:17:23.787Z"
   },
   {
    "duration": 273,
    "start_time": "2021-10-16T11:17:33.083Z"
   },
   {
    "duration": 273,
    "start_time": "2021-10-16T11:18:08.238Z"
   },
   {
    "duration": 271,
    "start_time": "2021-10-16T11:18:23.983Z"
   },
   {
    "duration": 3952,
    "start_time": "2021-10-16T11:25:02.698Z"
   },
   {
    "duration": 768,
    "start_time": "2021-10-16T11:26:10.015Z"
   },
   {
    "duration": 710,
    "start_time": "2021-10-16T11:26:22.525Z"
   },
   {
    "duration": 813,
    "start_time": "2021-10-16T11:26:29.643Z"
   },
   {
    "duration": 1424,
    "start_time": "2021-10-16T11:29:58.697Z"
   },
   {
    "duration": 1391,
    "start_time": "2021-10-16T11:30:14.477Z"
   },
   {
    "duration": 2448,
    "start_time": "2021-10-16T11:30:26.390Z"
   },
   {
    "duration": 1442,
    "start_time": "2021-10-16T11:30:46.346Z"
   },
   {
    "duration": 1293,
    "start_time": "2021-10-16T11:31:06.533Z"
   },
   {
    "duration": 1473,
    "start_time": "2021-10-16T11:31:19.846Z"
   },
   {
    "duration": 637,
    "start_time": "2021-10-16T11:36:01.666Z"
   },
   {
    "duration": 4442,
    "start_time": "2021-10-16T11:36:19.777Z"
   },
   {
    "duration": 3977,
    "start_time": "2021-10-16T11:36:50.459Z"
   },
   {
    "duration": 4073,
    "start_time": "2021-10-16T11:37:10.093Z"
   },
   {
    "duration": 8291,
    "start_time": "2021-10-16T11:37:34.485Z"
   },
   {
    "duration": 640,
    "start_time": "2021-10-16T11:39:55.551Z"
   },
   {
    "duration": 819,
    "start_time": "2021-10-16T11:40:54.433Z"
   },
   {
    "duration": 632,
    "start_time": "2021-10-16T11:41:03.825Z"
   },
   {
    "duration": 39,
    "start_time": "2021-10-16T11:47:45.738Z"
   },
   {
    "duration": 788,
    "start_time": "2021-10-16T11:47:47.416Z"
   },
   {
    "duration": 137,
    "start_time": "2021-10-16T11:48:25.744Z"
   },
   {
    "duration": 792,
    "start_time": "2021-10-16T11:48:27.881Z"
   },
   {
    "duration": 1985,
    "start_time": "2021-10-16T19:47:51.194Z"
   },
   {
    "duration": 38,
    "start_time": "2021-10-16T19:47:53.182Z"
   },
   {
    "duration": 16,
    "start_time": "2021-10-16T19:47:53.223Z"
   },
   {
    "duration": 4,
    "start_time": "2021-10-16T19:47:53.242Z"
   },
   {
    "duration": 21,
    "start_time": "2021-10-16T19:47:53.248Z"
   },
   {
    "duration": 18,
    "start_time": "2021-10-16T19:47:53.271Z"
   },
   {
    "duration": 9,
    "start_time": "2021-10-16T19:47:53.327Z"
   },
   {
    "duration": 9,
    "start_time": "2021-10-16T19:47:53.341Z"
   },
   {
    "duration": 86,
    "start_time": "2021-10-16T19:47:53.354Z"
   },
   {
    "duration": 53,
    "start_time": "2021-10-16T19:47:53.443Z"
   },
   {
    "duration": 47,
    "start_time": "2021-10-16T19:47:53.499Z"
   },
   {
    "duration": 16,
    "start_time": "2021-10-16T19:47:53.548Z"
   },
   {
    "duration": 14302,
    "start_time": "2021-10-16T19:47:53.567Z"
   },
   {
    "duration": 1173,
    "start_time": "2021-10-16T19:48:07.872Z"
   },
   {
    "duration": -1585,
    "start_time": "2021-10-16T19:48:10.635Z"
   },
   {
    "duration": -1592,
    "start_time": "2021-10-16T19:48:10.643Z"
   },
   {
    "duration": -1642,
    "start_time": "2021-10-16T19:48:10.695Z"
   },
   {
    "duration": -1499,
    "start_time": "2021-10-16T19:48:10.705Z"
   },
   {
    "duration": -1506,
    "start_time": "2021-10-16T19:48:10.714Z"
   },
   {
    "duration": -1512,
    "start_time": "2021-10-16T19:48:10.721Z"
   },
   {
    "duration": -1518,
    "start_time": "2021-10-16T19:48:10.729Z"
   },
   {
    "duration": -1507,
    "start_time": "2021-10-16T19:48:10.736Z"
   },
   {
    "duration": -1511,
    "start_time": "2021-10-16T19:48:10.743Z"
   },
   {
    "duration": -1515,
    "start_time": "2021-10-16T19:48:10.752Z"
   },
   {
    "duration": -1520,
    "start_time": "2021-10-16T19:48:10.759Z"
   },
   {
    "duration": -1684,
    "start_time": "2021-10-16T19:48:10.925Z"
   },
   {
    "duration": -1721,
    "start_time": "2021-10-16T19:48:10.964Z"
   },
   {
    "duration": -1726,
    "start_time": "2021-10-16T19:48:10.970Z"
   },
   {
    "duration": -1731,
    "start_time": "2021-10-16T19:48:10.977Z"
   },
   {
    "duration": -1734,
    "start_time": "2021-10-16T19:48:10.981Z"
   },
   {
    "duration": -1747,
    "start_time": "2021-10-16T19:48:10.995Z"
   },
   {
    "duration": -1751,
    "start_time": "2021-10-16T19:48:11.001Z"
   },
   {
    "duration": -1756,
    "start_time": "2021-10-16T19:48:11.007Z"
   },
   {
    "duration": -1759,
    "start_time": "2021-10-16T19:48:11.011Z"
   },
   {
    "duration": -1763,
    "start_time": "2021-10-16T19:48:11.016Z"
   },
   {
    "duration": -1765,
    "start_time": "2021-10-16T19:48:11.020Z"
   },
   {
    "duration": -1768,
    "start_time": "2021-10-16T19:48:11.024Z"
   },
   {
    "duration": -1771,
    "start_time": "2021-10-16T19:48:11.028Z"
   },
   {
    "duration": -1775,
    "start_time": "2021-10-16T19:48:11.034Z"
   },
   {
    "duration": -1778,
    "start_time": "2021-10-16T19:48:11.038Z"
   },
   {
    "duration": -1782,
    "start_time": "2021-10-16T19:48:11.043Z"
   },
   {
    "duration": -1784,
    "start_time": "2021-10-16T19:48:11.047Z"
   },
   {
    "duration": -1787,
    "start_time": "2021-10-16T19:48:11.051Z"
   },
   {
    "duration": -1790,
    "start_time": "2021-10-16T19:48:11.055Z"
   },
   {
    "duration": -1802,
    "start_time": "2021-10-16T19:48:11.068Z"
   },
   {
    "duration": -1804,
    "start_time": "2021-10-16T19:48:11.072Z"
   },
   {
    "duration": -1808,
    "start_time": "2021-10-16T19:48:11.077Z"
   },
   {
    "duration": -1811,
    "start_time": "2021-10-16T19:48:11.081Z"
   },
   {
    "duration": -1815,
    "start_time": "2021-10-16T19:48:11.086Z"
   },
   {
    "duration": -1821,
    "start_time": "2021-10-16T19:48:11.093Z"
   },
   {
    "duration": -1768,
    "start_time": "2021-10-16T19:48:11.097Z"
   },
   {
    "duration": -1770,
    "start_time": "2021-10-16T19:48:11.101Z"
   },
   {
    "duration": -1773,
    "start_time": "2021-10-16T19:48:11.106Z"
   },
   {
    "duration": -1776,
    "start_time": "2021-10-16T19:48:11.111Z"
   },
   {
    "duration": -1779,
    "start_time": "2021-10-16T19:48:11.116Z"
   },
   {
    "duration": -1781,
    "start_time": "2021-10-16T19:48:11.120Z"
   },
   {
    "duration": -1784,
    "start_time": "2021-10-16T19:48:11.125Z"
   },
   {
    "duration": -1786,
    "start_time": "2021-10-16T19:48:11.129Z"
   },
   {
    "duration": -1789,
    "start_time": "2021-10-16T19:48:11.134Z"
   },
   {
    "duration": -1792,
    "start_time": "2021-10-16T19:48:11.139Z"
   },
   {
    "duration": -1795,
    "start_time": "2021-10-16T19:48:11.144Z"
   },
   {
    "duration": -1797,
    "start_time": "2021-10-16T19:48:11.148Z"
   },
   {
    "duration": -1800,
    "start_time": "2021-10-16T19:48:11.153Z"
   },
   {
    "duration": -1803,
    "start_time": "2021-10-16T19:48:11.157Z"
   },
   {
    "duration": -1805,
    "start_time": "2021-10-16T19:48:11.162Z"
   },
   {
    "duration": -1808,
    "start_time": "2021-10-16T19:48:11.166Z"
   },
   {
    "duration": -1819,
    "start_time": "2021-10-16T19:48:11.179Z"
   },
   {
    "duration": 5011,
    "start_time": "2021-10-16T19:51:06.164Z"
   },
   {
    "duration": 939,
    "start_time": "2021-10-16T19:51:36.231Z"
   },
   {
    "duration": 2731,
    "start_time": "2021-10-16T19:53:00.625Z"
   },
   {
    "duration": 2090,
    "start_time": "2021-10-16T19:53:55.806Z"
   },
   {
    "duration": 1526,
    "start_time": "2021-10-16T19:56:00.729Z"
   },
   {
    "duration": 5632,
    "start_time": "2021-10-16T19:56:15.156Z"
   },
   {
    "duration": 1496,
    "start_time": "2021-10-16T19:56:40.458Z"
   },
   {
    "duration": 2073,
    "start_time": "2021-10-16T19:57:43.604Z"
   },
   {
    "duration": 657,
    "start_time": "2021-10-16T20:04:07.088Z"
   },
   {
    "duration": 350,
    "start_time": "2021-10-16T20:04:23.444Z"
   },
   {
    "duration": 1974,
    "start_time": "2021-10-16T20:04:38.318Z"
   },
   {
    "duration": 32,
    "start_time": "2021-10-16T20:04:40.295Z"
   },
   {
    "duration": 15,
    "start_time": "2021-10-16T20:04:40.330Z"
   },
   {
    "duration": 5,
    "start_time": "2021-10-16T20:04:40.354Z"
   },
   {
    "duration": 20,
    "start_time": "2021-10-16T20:04:40.362Z"
   },
   {
    "duration": 62,
    "start_time": "2021-10-16T20:04:40.385Z"
   },
   {
    "duration": 6,
    "start_time": "2021-10-16T20:04:40.450Z"
   },
   {
    "duration": 8,
    "start_time": "2021-10-16T20:04:40.460Z"
   },
   {
    "duration": 86,
    "start_time": "2021-10-16T20:04:40.471Z"
   },
   {
    "duration": 67,
    "start_time": "2021-10-16T20:04:40.559Z"
   },
   {
    "duration": 14053,
    "start_time": "2021-10-16T20:04:40.632Z"
   },
   {
    "duration": 2238,
    "start_time": "2021-10-16T20:04:54.688Z"
   },
   {
    "duration": 2261,
    "start_time": "2021-10-16T20:04:56.929Z"
   },
   {
    "duration": 628,
    "start_time": "2021-10-16T20:04:59.192Z"
   },
   {
    "duration": 17,
    "start_time": "2021-10-16T20:04:59.824Z"
   },
   {
    "duration": 3664,
    "start_time": "2021-10-16T20:04:59.844Z"
   },
   {
    "duration": 753,
    "start_time": "2021-10-16T20:05:03.512Z"
   },
   {
    "duration": 119,
    "start_time": "2021-10-16T20:05:04.267Z"
   },
   {
    "duration": 484,
    "start_time": "2021-10-16T20:05:04.388Z"
   },
   {
    "duration": -11016,
    "start_time": "2021-10-16T20:05:15.892Z"
   },
   {
    "duration": -11020,
    "start_time": "2021-10-16T20:05:15.897Z"
   },
   {
    "duration": -11050,
    "start_time": "2021-10-16T20:05:15.928Z"
   },
   {
    "duration": -11052,
    "start_time": "2021-10-16T20:05:15.932Z"
   },
   {
    "duration": -11056,
    "start_time": "2021-10-16T20:05:15.937Z"
   },
   {
    "duration": -11064,
    "start_time": "2021-10-16T20:05:15.946Z"
   },
   {
    "duration": -11067,
    "start_time": "2021-10-16T20:05:15.951Z"
   },
   {
    "duration": -11072,
    "start_time": "2021-10-16T20:05:15.957Z"
   },
   {
    "duration": -11076,
    "start_time": "2021-10-16T20:05:15.962Z"
   },
   {
    "duration": -11079,
    "start_time": "2021-10-16T20:05:15.967Z"
   },
   {
    "duration": -11091,
    "start_time": "2021-10-16T20:05:15.980Z"
   },
   {
    "duration": -11094,
    "start_time": "2021-10-16T20:05:15.984Z"
   },
   {
    "duration": -11100,
    "start_time": "2021-10-16T20:05:15.991Z"
   },
   {
    "duration": -11102,
    "start_time": "2021-10-16T20:05:15.995Z"
   },
   {
    "duration": -11108,
    "start_time": "2021-10-16T20:05:16.002Z"
   },
   {
    "duration": -11111,
    "start_time": "2021-10-16T20:05:16.007Z"
   },
   {
    "duration": -11115,
    "start_time": "2021-10-16T20:05:16.012Z"
   },
   {
    "duration": -11118,
    "start_time": "2021-10-16T20:05:16.017Z"
   },
   {
    "duration": -11121,
    "start_time": "2021-10-16T20:05:16.022Z"
   },
   {
    "duration": -11163,
    "start_time": "2021-10-16T20:05:16.065Z"
   },
   {
    "duration": -11168,
    "start_time": "2021-10-16T20:05:16.071Z"
   },
   {
    "duration": -11172,
    "start_time": "2021-10-16T20:05:16.077Z"
   },
   {
    "duration": -11176,
    "start_time": "2021-10-16T20:05:16.083Z"
   },
   {
    "duration": -11180,
    "start_time": "2021-10-16T20:05:16.088Z"
   },
   {
    "duration": -11184,
    "start_time": "2021-10-16T20:05:16.093Z"
   },
   {
    "duration": -11187,
    "start_time": "2021-10-16T20:05:16.098Z"
   },
   {
    "duration": -11191,
    "start_time": "2021-10-16T20:05:16.103Z"
   },
   {
    "duration": -11181,
    "start_time": "2021-10-16T20:05:16.108Z"
   },
   {
    "duration": -11208,
    "start_time": "2021-10-16T20:05:16.143Z"
   },
   {
    "duration": -11211,
    "start_time": "2021-10-16T20:05:16.148Z"
   },
   {
    "duration": -11213,
    "start_time": "2021-10-16T20:05:16.153Z"
   },
   {
    "duration": -11215,
    "start_time": "2021-10-16T20:05:16.157Z"
   },
   {
    "duration": -11225,
    "start_time": "2021-10-16T20:05:16.169Z"
   },
   {
    "duration": -11228,
    "start_time": "2021-10-16T20:05:16.174Z"
   },
   {
    "duration": -11231,
    "start_time": "2021-10-16T20:05:16.179Z"
   },
   {
    "duration": -11233,
    "start_time": "2021-10-16T20:05:16.183Z"
   },
   {
    "duration": -11236,
    "start_time": "2021-10-16T20:05:16.188Z"
   },
   {
    "duration": -11240,
    "start_time": "2021-10-16T20:05:16.193Z"
   },
   {
    "duration": -11242,
    "start_time": "2021-10-16T20:05:16.197Z"
   },
   {
    "duration": -11300,
    "start_time": "2021-10-16T20:05:16.256Z"
   },
   {
    "duration": -11303,
    "start_time": "2021-10-16T20:05:16.261Z"
   },
   {
    "duration": -11306,
    "start_time": "2021-10-16T20:05:16.265Z"
   },
   {
    "duration": -11311,
    "start_time": "2021-10-16T20:05:16.271Z"
   },
   {
    "duration": -11314,
    "start_time": "2021-10-16T20:05:16.276Z"
   },
   {
    "duration": -11318,
    "start_time": "2021-10-16T20:05:16.281Z"
   },
   {
    "duration": -11321,
    "start_time": "2021-10-16T20:05:16.286Z"
   },
   {
    "duration": 1742,
    "start_time": "2021-10-16T20:06:12.374Z"
   },
   {
    "duration": 2424,
    "start_time": "2021-10-16T20:07:27.386Z"
   },
   {
    "duration": 3295,
    "start_time": "2021-10-16T20:07:38.885Z"
   },
   {
    "duration": 2659,
    "start_time": "2021-10-16T20:09:04.037Z"
   },
   {
    "duration": 2754,
    "start_time": "2021-10-16T20:10:03.427Z"
   },
   {
    "duration": 3325,
    "start_time": "2021-10-16T20:11:13.085Z"
   },
   {
    "duration": 2681,
    "start_time": "2021-10-16T20:11:27.483Z"
   },
   {
    "duration": 2253,
    "start_time": "2021-10-16T20:13:37.405Z"
   },
   {
    "duration": 1386,
    "start_time": "2021-10-16T20:15:06.243Z"
   },
   {
    "duration": 2239,
    "start_time": "2021-10-16T20:16:05.361Z"
   },
   {
    "duration": 2342,
    "start_time": "2021-10-16T20:18:30.766Z"
   },
   {
    "duration": 3265,
    "start_time": "2021-10-16T20:19:00.506Z"
   },
   {
    "duration": 1341,
    "start_time": "2021-10-16T20:20:42.675Z"
   },
   {
    "duration": 1449,
    "start_time": "2021-10-16T20:20:58.232Z"
   },
   {
    "duration": 174,
    "start_time": "2021-10-16T20:22:30.044Z"
   },
   {
    "duration": 251,
    "start_time": "2021-10-16T20:22:45.465Z"
   },
   {
    "duration": 231,
    "start_time": "2021-10-16T20:23:12.615Z"
   },
   {
    "duration": 94,
    "start_time": "2021-10-16T20:26:25.654Z"
   },
   {
    "duration": 13,
    "start_time": "2021-10-16T20:27:06.375Z"
   },
   {
    "duration": 3600,
    "start_time": "2021-10-16T20:31:25.364Z"
   },
   {
    "duration": 2347,
    "start_time": "2021-10-16T20:32:02.248Z"
   },
   {
    "duration": 3140,
    "start_time": "2021-10-16T20:32:53.517Z"
   },
   {
    "duration": 3397,
    "start_time": "2021-10-16T20:33:57.188Z"
   },
   {
    "duration": 2245,
    "start_time": "2021-10-16T20:34:44.046Z"
   },
   {
    "duration": 2233,
    "start_time": "2021-10-16T20:34:56.498Z"
   },
   {
    "duration": 2627,
    "start_time": "2021-10-16T20:35:15.016Z"
   },
   {
    "duration": 2691,
    "start_time": "2021-10-16T20:35:50.301Z"
   },
   {
    "duration": 2298,
    "start_time": "2021-10-16T20:36:35.943Z"
   },
   {
    "duration": 2473,
    "start_time": "2021-10-16T20:36:50.712Z"
   },
   {
    "duration": 2657,
    "start_time": "2021-10-16T20:37:04.460Z"
   },
   {
    "duration": 2585,
    "start_time": "2021-10-16T20:37:20.178Z"
   },
   {
    "duration": 2574,
    "start_time": "2021-10-16T20:38:27.095Z"
   },
   {
    "duration": 91,
    "start_time": "2021-10-16T20:42:08.038Z"
   },
   {
    "duration": 1765,
    "start_time": "2021-10-16T20:42:47.550Z"
   },
   {
    "duration": 1499,
    "start_time": "2021-10-16T20:43:15.903Z"
   },
   {
    "duration": 1358,
    "start_time": "2021-10-16T20:44:06.974Z"
   },
   {
    "duration": 1275,
    "start_time": "2021-10-16T20:44:15.088Z"
   },
   {
    "duration": 1740,
    "start_time": "2021-10-16T20:44:32.748Z"
   },
   {
    "duration": 9876,
    "start_time": "2021-10-16T20:45:19.399Z"
   },
   {
    "duration": 2197,
    "start_time": "2021-10-16T20:45:44.572Z"
   },
   {
    "duration": 98,
    "start_time": "2021-10-16T20:48:59.456Z"
   },
   {
    "duration": 2344,
    "start_time": "2021-10-16T20:49:10.141Z"
   },
   {
    "duration": 2352,
    "start_time": "2021-10-16T20:50:10.529Z"
   },
   {
    "duration": 1053,
    "start_time": "2021-10-16T20:54:24.656Z"
   },
   {
    "duration": 1603,
    "start_time": "2021-10-16T20:54:36.494Z"
   },
   {
    "duration": 2099,
    "start_time": "2021-10-16T20:55:21.643Z"
   },
   {
    "duration": 35,
    "start_time": "2021-10-16T20:55:23.746Z"
   },
   {
    "duration": 24,
    "start_time": "2021-10-16T20:55:23.784Z"
   },
   {
    "duration": 36,
    "start_time": "2021-10-16T20:55:23.812Z"
   },
   {
    "duration": 28,
    "start_time": "2021-10-16T20:55:23.851Z"
   },
   {
    "duration": 25,
    "start_time": "2021-10-16T20:55:23.881Z"
   },
   {
    "duration": 7,
    "start_time": "2021-10-16T20:55:23.909Z"
   },
   {
    "duration": 11,
    "start_time": "2021-10-16T20:55:23.922Z"
   },
   {
    "duration": 60,
    "start_time": "2021-10-16T20:55:23.936Z"
   },
   {
    "duration": 60,
    "start_time": "2021-10-16T20:55:24.023Z"
   },
   {
    "duration": 15219,
    "start_time": "2021-10-16T20:55:24.086Z"
   },
   {
    "duration": 1322,
    "start_time": "2021-10-16T20:55:39.308Z"
   },
   {
    "duration": 2452,
    "start_time": "2021-10-16T20:55:40.634Z"
   },
   {
    "duration": 646,
    "start_time": "2021-10-16T20:55:43.089Z"
   },
   {
    "duration": 15,
    "start_time": "2021-10-16T20:55:43.739Z"
   },
   {
    "duration": 3647,
    "start_time": "2021-10-16T20:55:43.756Z"
   },
   {
    "duration": 951,
    "start_time": "2021-10-16T20:55:47.406Z"
   },
   {
    "duration": 143,
    "start_time": "2021-10-16T20:55:48.360Z"
   },
   {
    "duration": 572,
    "start_time": "2021-10-16T20:55:48.506Z"
   },
   {
    "duration": -615,
    "start_time": "2021-10-16T20:55:49.698Z"
   },
   {
    "duration": -620,
    "start_time": "2021-10-16T20:55:49.704Z"
   },
   {
    "duration": -622,
    "start_time": "2021-10-16T20:55:49.708Z"
   },
   {
    "duration": -627,
    "start_time": "2021-10-16T20:55:49.714Z"
   },
   {
    "duration": -629,
    "start_time": "2021-10-16T20:55:49.718Z"
   },
   {
    "duration": -632,
    "start_time": "2021-10-16T20:55:49.722Z"
   },
   {
    "duration": -643,
    "start_time": "2021-10-16T20:55:49.735Z"
   },
   {
    "duration": -650,
    "start_time": "2021-10-16T20:55:49.743Z"
   },
   {
    "duration": -654,
    "start_time": "2021-10-16T20:55:49.749Z"
   },
   {
    "duration": -658,
    "start_time": "2021-10-16T20:55:49.754Z"
   },
   {
    "duration": -662,
    "start_time": "2021-10-16T20:55:49.759Z"
   },
   {
    "duration": -666,
    "start_time": "2021-10-16T20:55:49.765Z"
   },
   {
    "duration": -667,
    "start_time": "2021-10-16T20:55:49.769Z"
   },
   {
    "duration": -670,
    "start_time": "2021-10-16T20:55:49.774Z"
   },
   {
    "duration": -672,
    "start_time": "2021-10-16T20:55:49.778Z"
   },
   {
    "duration": -675,
    "start_time": "2021-10-16T20:55:49.783Z"
   },
   {
    "duration": -676,
    "start_time": "2021-10-16T20:55:49.787Z"
   },
   {
    "duration": -679,
    "start_time": "2021-10-16T20:55:49.792Z"
   },
   {
    "duration": -682,
    "start_time": "2021-10-16T20:55:49.797Z"
   },
   {
    "duration": -688,
    "start_time": "2021-10-16T20:55:49.805Z"
   },
   {
    "duration": -687,
    "start_time": "2021-10-16T20:55:49.809Z"
   },
   {
    "duration": -693,
    "start_time": "2021-10-16T20:55:49.816Z"
   },
   {
    "duration": -701,
    "start_time": "2021-10-16T20:55:49.827Z"
   },
   {
    "duration": -706,
    "start_time": "2021-10-16T20:55:49.834Z"
   },
   {
    "duration": -710,
    "start_time": "2021-10-16T20:55:49.839Z"
   },
   {
    "duration": -712,
    "start_time": "2021-10-16T20:55:49.843Z"
   },
   {
    "duration": -715,
    "start_time": "2021-10-16T20:55:49.848Z"
   },
   {
    "duration": -715,
    "start_time": "2021-10-16T20:55:49.853Z"
   },
   {
    "duration": -717,
    "start_time": "2021-10-16T20:55:49.858Z"
   },
   {
    "duration": -720,
    "start_time": "2021-10-16T20:55:49.863Z"
   },
   {
    "duration": -722,
    "start_time": "2021-10-16T20:55:49.867Z"
   },
   {
    "duration": -725,
    "start_time": "2021-10-16T20:55:49.872Z"
   },
   {
    "duration": -727,
    "start_time": "2021-10-16T20:55:49.876Z"
   },
   {
    "duration": -730,
    "start_time": "2021-10-16T20:55:49.881Z"
   },
   {
    "duration": -736,
    "start_time": "2021-10-16T20:55:49.890Z"
   },
   {
    "duration": -739,
    "start_time": "2021-10-16T20:55:49.894Z"
   },
   {
    "duration": -741,
    "start_time": "2021-10-16T20:55:49.898Z"
   },
   {
    "duration": -750,
    "start_time": "2021-10-16T20:55:49.909Z"
   },
   {
    "duration": -753,
    "start_time": "2021-10-16T20:55:49.914Z"
   },
   {
    "duration": -756,
    "start_time": "2021-10-16T20:55:49.919Z"
   },
   {
    "duration": -759,
    "start_time": "2021-10-16T20:55:49.924Z"
   },
   {
    "duration": -772,
    "start_time": "2021-10-16T20:55:49.939Z"
   },
   {
    "duration": -716,
    "start_time": "2021-10-16T20:55:49.943Z"
   },
   {
    "duration": -719,
    "start_time": "2021-10-16T20:55:49.949Z"
   },
   {
    "duration": -725,
    "start_time": "2021-10-16T20:55:49.957Z"
   },
   {
    "duration": -728,
    "start_time": "2021-10-16T20:55:49.962Z"
   },
   {
    "duration": 851,
    "start_time": "2021-10-16T20:56:30.525Z"
   },
   {
    "duration": 1154,
    "start_time": "2021-10-16T20:56:47.685Z"
   },
   {
    "duration": 5,
    "start_time": "2021-10-16T20:57:44.288Z"
   },
   {
    "duration": 1481,
    "start_time": "2021-10-16T20:57:47.883Z"
   },
   {
    "duration": 1543,
    "start_time": "2021-10-16T20:58:54.123Z"
   },
   {
    "duration": 283,
    "start_time": "2021-10-16T20:59:31.916Z"
   },
   {
    "duration": 257,
    "start_time": "2021-10-16T21:26:56.349Z"
   },
   {
    "duration": 56,
    "start_time": "2021-10-16T21:27:09.041Z"
   },
   {
    "duration": 1753,
    "start_time": "2021-10-16T21:27:09.651Z"
   },
   {
    "duration": 2041,
    "start_time": "2021-10-16T21:31:11.557Z"
   },
   {
    "duration": 35,
    "start_time": "2021-10-16T21:31:13.600Z"
   },
   {
    "duration": 12,
    "start_time": "2021-10-16T21:31:13.639Z"
   },
   {
    "duration": 7,
    "start_time": "2021-10-16T21:31:13.655Z"
   },
   {
    "duration": 23,
    "start_time": "2021-10-16T21:31:13.665Z"
   },
   {
    "duration": 50,
    "start_time": "2021-10-16T21:31:13.690Z"
   },
   {
    "duration": 6,
    "start_time": "2021-10-16T21:31:13.742Z"
   },
   {
    "duration": 8,
    "start_time": "2021-10-16T21:31:13.753Z"
   },
   {
    "duration": 94,
    "start_time": "2021-10-16T21:31:13.764Z"
   },
   {
    "duration": 64,
    "start_time": "2021-10-16T21:31:13.860Z"
   },
   {
    "duration": 16986,
    "start_time": "2021-10-16T21:31:13.927Z"
   },
   {
    "duration": 828,
    "start_time": "2021-10-16T21:31:30.924Z"
   },
   {
    "duration": 2388,
    "start_time": "2021-10-16T21:31:31.754Z"
   },
   {
    "duration": 610,
    "start_time": "2021-10-16T21:31:34.145Z"
   },
   {
    "duration": 15,
    "start_time": "2021-10-16T21:31:34.758Z"
   },
   {
    "duration": 17,
    "start_time": "2021-10-16T21:31:34.775Z"
   },
   {
    "duration": 141,
    "start_time": "2021-10-16T21:31:34.795Z"
   },
   {
    "duration": 1317,
    "start_time": "2021-10-16T21:31:34.939Z"
   },
   {
    "duration": 38,
    "start_time": "2021-10-16T21:31:36.258Z"
   },
   {
    "duration": 30,
    "start_time": "2021-10-16T21:31:36.298Z"
   },
   {
    "duration": 481,
    "start_time": "2021-10-16T21:31:36.331Z"
   },
   {
    "duration": -881,
    "start_time": "2021-10-16T21:31:37.698Z"
   },
   {
    "duration": -887,
    "start_time": "2021-10-16T21:31:37.705Z"
   },
   {
    "duration": -894,
    "start_time": "2021-10-16T21:31:37.714Z"
   },
   {
    "duration": -899,
    "start_time": "2021-10-16T21:31:37.720Z"
   },
   {
    "duration": -911,
    "start_time": "2021-10-16T21:31:37.734Z"
   },
   {
    "duration": -918,
    "start_time": "2021-10-16T21:31:37.743Z"
   },
   {
    "duration": -924,
    "start_time": "2021-10-16T21:31:37.751Z"
   },
   {
    "duration": -932,
    "start_time": "2021-10-16T21:31:37.760Z"
   },
   {
    "duration": -934,
    "start_time": "2021-10-16T21:31:37.765Z"
   },
   {
    "duration": -937,
    "start_time": "2021-10-16T21:31:37.770Z"
   },
   {
    "duration": -940,
    "start_time": "2021-10-16T21:31:37.775Z"
   },
   {
    "duration": -942,
    "start_time": "2021-10-16T21:31:37.779Z"
   },
   {
    "duration": -957,
    "start_time": "2021-10-16T21:31:37.796Z"
   },
   {
    "duration": -959,
    "start_time": "2021-10-16T21:31:37.800Z"
   },
   {
    "duration": -961,
    "start_time": "2021-10-16T21:31:37.805Z"
   },
   {
    "duration": -966,
    "start_time": "2021-10-16T21:31:37.812Z"
   },
   {
    "duration": -967,
    "start_time": "2021-10-16T21:31:37.816Z"
   },
   {
    "duration": -973,
    "start_time": "2021-10-16T21:31:37.824Z"
   },
   {
    "duration": -976,
    "start_time": "2021-10-16T21:31:37.829Z"
   },
   {
    "duration": -978,
    "start_time": "2021-10-16T21:31:37.833Z"
   },
   {
    "duration": -981,
    "start_time": "2021-10-16T21:31:37.838Z"
   },
   {
    "duration": -985,
    "start_time": "2021-10-16T21:31:37.844Z"
   },
   {
    "duration": -994,
    "start_time": "2021-10-16T21:31:37.854Z"
   },
   {
    "duration": -997,
    "start_time": "2021-10-16T21:31:37.859Z"
   },
   {
    "duration": -1000,
    "start_time": "2021-10-16T21:31:37.864Z"
   },
   {
    "duration": -1003,
    "start_time": "2021-10-16T21:31:37.868Z"
   },
   {
    "duration": -1007,
    "start_time": "2021-10-16T21:31:37.874Z"
   },
   {
    "duration": -1011,
    "start_time": "2021-10-16T21:31:37.879Z"
   },
   {
    "duration": -1015,
    "start_time": "2021-10-16T21:31:37.884Z"
   },
   {
    "duration": -963,
    "start_time": "2021-10-16T21:31:37.887Z"
   },
   {
    "duration": -975,
    "start_time": "2021-10-16T21:31:37.901Z"
   },
   {
    "duration": -977,
    "start_time": "2021-10-16T21:31:37.905Z"
   },
   {
    "duration": -983,
    "start_time": "2021-10-16T21:31:37.913Z"
   },
   {
    "duration": -983,
    "start_time": "2021-10-16T21:31:37.917Z"
   },
   {
    "duration": -987,
    "start_time": "2021-10-16T21:31:37.922Z"
   },
   {
    "duration": -988,
    "start_time": "2021-10-16T21:31:37.926Z"
   },
   {
    "duration": -991,
    "start_time": "2021-10-16T21:31:37.931Z"
   },
   {
    "duration": -993,
    "start_time": "2021-10-16T21:31:37.935Z"
   },
   {
    "duration": -996,
    "start_time": "2021-10-16T21:31:37.940Z"
   },
   {
    "duration": -998,
    "start_time": "2021-10-16T21:31:37.944Z"
   },
   {
    "duration": -1002,
    "start_time": "2021-10-16T21:31:37.949Z"
   },
   {
    "duration": 268,
    "start_time": "2021-10-16T21:35:21.312Z"
   },
   {
    "duration": 14,
    "start_time": "2021-10-16T21:37:15.392Z"
   },
   {
    "duration": 13,
    "start_time": "2021-10-16T21:37:39.638Z"
   },
   {
    "duration": 33,
    "start_time": "2021-10-16T21:37:49.481Z"
   },
   {
    "duration": 14,
    "start_time": "2021-10-16T21:38:43.637Z"
   },
   {
    "duration": 32,
    "start_time": "2021-10-16T21:38:44.456Z"
   },
   {
    "duration": 14,
    "start_time": "2021-10-16T21:40:41.847Z"
   },
   {
    "duration": 31,
    "start_time": "2021-10-16T21:40:44.266Z"
   },
   {
    "duration": 14,
    "start_time": "2021-10-16T21:41:06.356Z"
   },
   {
    "duration": 34,
    "start_time": "2021-10-16T21:41:06.968Z"
   },
   {
    "duration": 15,
    "start_time": "2021-10-16T21:41:43.836Z"
   },
   {
    "duration": 37,
    "start_time": "2021-10-16T21:41:44.711Z"
   },
   {
    "duration": 14,
    "start_time": "2021-10-16T21:42:04.396Z"
   },
   {
    "duration": 36,
    "start_time": "2021-10-16T21:42:04.900Z"
   },
   {
    "duration": 287,
    "start_time": "2021-10-16T21:42:12.428Z"
   },
   {
    "duration": 2103,
    "start_time": "2021-10-16T21:45:55.729Z"
   },
   {
    "duration": 39,
    "start_time": "2021-10-16T21:45:57.835Z"
   },
   {
    "duration": 14,
    "start_time": "2021-10-16T21:45:57.878Z"
   },
   {
    "duration": 4,
    "start_time": "2021-10-16T21:45:57.896Z"
   },
   {
    "duration": 38,
    "start_time": "2021-10-16T21:45:57.903Z"
   },
   {
    "duration": 20,
    "start_time": "2021-10-16T21:45:57.944Z"
   },
   {
    "duration": 12,
    "start_time": "2021-10-16T21:45:57.967Z"
   },
   {
    "duration": 44,
    "start_time": "2021-10-16T21:45:57.982Z"
   },
   {
    "duration": 55,
    "start_time": "2021-10-16T21:45:58.030Z"
   },
   {
    "duration": 77,
    "start_time": "2021-10-16T21:45:58.087Z"
   },
   {
    "duration": 14365,
    "start_time": "2021-10-16T21:45:58.167Z"
   },
   {
    "duration": 844,
    "start_time": "2021-10-16T21:46:12.535Z"
   },
   {
    "duration": 2428,
    "start_time": "2021-10-16T21:46:13.382Z"
   },
   {
    "duration": 616,
    "start_time": "2021-10-16T21:46:15.812Z"
   },
   {
    "duration": 18,
    "start_time": "2021-10-16T21:46:16.432Z"
   },
   {
    "duration": 14,
    "start_time": "2021-10-16T21:46:16.452Z"
   },
   {
    "duration": 133,
    "start_time": "2021-10-16T21:46:16.468Z"
   },
   {
    "duration": 1312,
    "start_time": "2021-10-16T21:46:16.603Z"
   },
   {
    "duration": 44,
    "start_time": "2021-10-16T21:46:17.918Z"
   },
   {
    "duration": 15,
    "start_time": "2021-10-16T21:46:17.965Z"
   },
   {
    "duration": 44,
    "start_time": "2021-10-16T21:46:17.983Z"
   },
   {
    "duration": 38,
    "start_time": "2021-10-16T21:46:18.030Z"
   },
   {
    "duration": 10,
    "start_time": "2021-10-16T21:46:18.073Z"
   },
   {
    "duration": 64,
    "start_time": "2021-10-16T21:46:18.087Z"
   },
   {
    "duration": 10,
    "start_time": "2021-10-16T21:46:18.154Z"
   },
   {
    "duration": 63,
    "start_time": "2021-10-16T21:46:18.169Z"
   },
   {
    "duration": 11,
    "start_time": "2021-10-16T21:46:18.236Z"
   },
   {
    "duration": 34,
    "start_time": "2021-10-16T21:46:18.249Z"
   },
   {
    "duration": 41,
    "start_time": "2021-10-16T21:46:18.286Z"
   },
   {
    "duration": 50,
    "start_time": "2021-10-16T21:46:18.330Z"
   },
   {
    "duration": 12,
    "start_time": "2021-10-16T21:46:18.383Z"
   },
   {
    "duration": 60,
    "start_time": "2021-10-16T21:46:18.397Z"
   },
   {
    "duration": 491,
    "start_time": "2021-10-16T21:46:18.459Z"
   },
   {
    "duration": -817,
    "start_time": "2021-10-16T21:46:19.769Z"
   },
   {
    "duration": -977,
    "start_time": "2021-10-16T21:46:19.931Z"
   },
   {
    "duration": -1001,
    "start_time": "2021-10-16T21:46:19.957Z"
   },
   {
    "duration": -1011,
    "start_time": "2021-10-16T21:46:19.968Z"
   },
   {
    "duration": -1022,
    "start_time": "2021-10-16T21:46:19.981Z"
   },
   {
    "duration": -1033,
    "start_time": "2021-10-16T21:46:19.994Z"
   },
   {
    "duration": -1045,
    "start_time": "2021-10-16T21:46:20.008Z"
   },
   {
    "duration": -1056,
    "start_time": "2021-10-16T21:46:20.021Z"
   },
   {
    "duration": -1061,
    "start_time": "2021-10-16T21:46:20.028Z"
   },
   {
    "duration": -1064,
    "start_time": "2021-10-16T21:46:20.033Z"
   },
   {
    "duration": -1070,
    "start_time": "2021-10-16T21:46:20.040Z"
   },
   {
    "duration": -1073,
    "start_time": "2021-10-16T21:46:20.045Z"
   },
   {
    "duration": -1085,
    "start_time": "2021-10-16T21:46:20.059Z"
   },
   {
    "duration": -1090,
    "start_time": "2021-10-16T21:46:20.065Z"
   },
   {
    "duration": -1093,
    "start_time": "2021-10-16T21:46:20.070Z"
   },
   {
    "duration": -1097,
    "start_time": "2021-10-16T21:46:20.075Z"
   },
   {
    "duration": -1102,
    "start_time": "2021-10-16T21:46:20.082Z"
   },
   {
    "duration": 12,
    "start_time": "2021-10-16T21:47:23.256Z"
   },
   {
    "duration": 31,
    "start_time": "2021-10-16T21:47:24.043Z"
   },
   {
    "duration": 273,
    "start_time": "2021-10-16T21:47:32.879Z"
   },
   {
    "duration": 1976,
    "start_time": "2021-10-16T21:48:48.501Z"
   },
   {
    "duration": 32,
    "start_time": "2021-10-16T21:48:50.480Z"
   },
   {
    "duration": 17,
    "start_time": "2021-10-16T21:48:50.515Z"
   },
   {
    "duration": 4,
    "start_time": "2021-10-16T21:48:50.536Z"
   },
   {
    "duration": 25,
    "start_time": "2021-10-16T21:48:50.543Z"
   },
   {
    "duration": 20,
    "start_time": "2021-10-16T21:48:50.570Z"
   },
   {
    "duration": 33,
    "start_time": "2021-10-16T21:48:50.592Z"
   },
   {
    "duration": 27,
    "start_time": "2021-10-16T21:48:50.629Z"
   },
   {
    "duration": 66,
    "start_time": "2021-10-16T21:48:50.659Z"
   },
   {
    "duration": 55,
    "start_time": "2021-10-16T21:48:50.729Z"
   },
   {
    "duration": 14806,
    "start_time": "2021-10-16T21:48:50.786Z"
   },
   {
    "duration": 809,
    "start_time": "2021-10-16T21:49:05.594Z"
   },
   {
    "duration": 2658,
    "start_time": "2021-10-16T21:49:06.406Z"
   },
   {
    "duration": 766,
    "start_time": "2021-10-16T21:49:09.067Z"
   },
   {
    "duration": 18,
    "start_time": "2021-10-16T21:49:09.836Z"
   },
   {
    "duration": 26,
    "start_time": "2021-10-16T21:49:09.857Z"
   },
   {
    "duration": 136,
    "start_time": "2021-10-16T21:49:09.886Z"
   },
   {
    "duration": 1397,
    "start_time": "2021-10-16T21:49:10.025Z"
   },
   {
    "duration": 43,
    "start_time": "2021-10-16T21:49:11.425Z"
   },
   {
    "duration": 11,
    "start_time": "2021-10-16T21:49:11.471Z"
   },
   {
    "duration": 40,
    "start_time": "2021-10-16T21:49:11.485Z"
   },
   {
    "duration": 33,
    "start_time": "2021-10-16T21:49:11.528Z"
   },
   {
    "duration": 10,
    "start_time": "2021-10-16T21:49:11.567Z"
   },
   {
    "duration": 58,
    "start_time": "2021-10-16T21:49:11.580Z"
   },
   {
    "duration": 10,
    "start_time": "2021-10-16T21:49:11.640Z"
   },
   {
    "duration": 31,
    "start_time": "2021-10-16T21:49:11.653Z"
   },
   {
    "duration": 36,
    "start_time": "2021-10-16T21:49:11.687Z"
   },
   {
    "duration": 36,
    "start_time": "2021-10-16T21:49:11.726Z"
   },
   {
    "duration": 8,
    "start_time": "2021-10-16T21:49:11.765Z"
   },
   {
    "duration": 66,
    "start_time": "2021-10-16T21:49:11.776Z"
   },
   {
    "duration": 11,
    "start_time": "2021-10-16T21:49:11.845Z"
   },
   {
    "duration": 31,
    "start_time": "2021-10-16T21:49:11.859Z"
   },
   {
    "duration": 495,
    "start_time": "2021-10-16T21:49:11.892Z"
   },
   {
    "duration": -1061,
    "start_time": "2021-10-16T21:49:13.450Z"
   },
   {
    "duration": -1063,
    "start_time": "2021-10-16T21:49:13.454Z"
   },
   {
    "duration": -1066,
    "start_time": "2021-10-16T21:49:13.459Z"
   },
   {
    "duration": -1069,
    "start_time": "2021-10-16T21:49:13.463Z"
   },
   {
    "duration": -1071,
    "start_time": "2021-10-16T21:49:13.467Z"
   },
   {
    "duration": -1073,
    "start_time": "2021-10-16T21:49:13.471Z"
   },
   {
    "duration": -1102,
    "start_time": "2021-10-16T21:49:13.501Z"
   },
   {
    "duration": -1105,
    "start_time": "2021-10-16T21:49:13.506Z"
   },
   {
    "duration": -1112,
    "start_time": "2021-10-16T21:49:13.514Z"
   },
   {
    "duration": -1114,
    "start_time": "2021-10-16T21:49:13.518Z"
   },
   {
    "duration": -1118,
    "start_time": "2021-10-16T21:49:13.523Z"
   },
   {
    "duration": -1182,
    "start_time": "2021-10-16T21:49:13.589Z"
   },
   {
    "duration": -1227,
    "start_time": "2021-10-16T21:49:13.635Z"
   },
   {
    "duration": -1244,
    "start_time": "2021-10-16T21:49:13.654Z"
   },
   {
    "duration": -1250,
    "start_time": "2021-10-16T21:49:13.661Z"
   },
   {
    "duration": -1254,
    "start_time": "2021-10-16T21:49:13.667Z"
   },
   {
    "duration": -1259,
    "start_time": "2021-10-16T21:49:13.673Z"
   },
   {
    "duration": 277,
    "start_time": "2021-10-16T21:51:42.468Z"
   },
   {
    "duration": 15,
    "start_time": "2021-10-16T21:55:56.156Z"
   },
   {
    "duration": 15,
    "start_time": "2021-10-16T21:56:16.127Z"
   },
   {
    "duration": 13,
    "start_time": "2021-10-16T21:56:32.002Z"
   },
   {
    "duration": 15,
    "start_time": "2021-10-16T21:56:47.255Z"
   },
   {
    "duration": 16,
    "start_time": "2021-10-16T21:57:00.899Z"
   },
   {
    "duration": 17,
    "start_time": "2021-10-16T21:57:15.115Z"
   },
   {
    "duration": 2108,
    "start_time": "2021-10-16T21:57:26.168Z"
   },
   {
    "duration": 59,
    "start_time": "2021-10-16T21:57:28.279Z"
   },
   {
    "duration": 12,
    "start_time": "2021-10-16T21:57:28.342Z"
   },
   {
    "duration": 13,
    "start_time": "2021-10-16T21:57:28.357Z"
   },
   {
    "duration": 43,
    "start_time": "2021-10-16T21:57:28.372Z"
   },
   {
    "duration": 26,
    "start_time": "2021-10-16T21:57:28.418Z"
   },
   {
    "duration": 18,
    "start_time": "2021-10-16T21:57:28.448Z"
   },
   {
    "duration": 20,
    "start_time": "2021-10-16T21:57:28.469Z"
   },
   {
    "duration": 80,
    "start_time": "2021-10-16T21:57:28.492Z"
   },
   {
    "duration": 68,
    "start_time": "2021-10-16T21:57:28.575Z"
   },
   {
    "duration": 14601,
    "start_time": "2021-10-16T21:57:28.645Z"
   },
   {
    "duration": 816,
    "start_time": "2021-10-16T21:57:43.248Z"
   },
   {
    "duration": 2345,
    "start_time": "2021-10-16T21:57:44.067Z"
   },
   {
    "duration": 622,
    "start_time": "2021-10-16T21:57:46.414Z"
   },
   {
    "duration": 16,
    "start_time": "2021-10-16T21:57:47.040Z"
   },
   {
    "duration": 20,
    "start_time": "2021-10-16T21:57:47.059Z"
   },
   {
    "duration": 132,
    "start_time": "2021-10-16T21:57:47.081Z"
   },
   {
    "duration": 1463,
    "start_time": "2021-10-16T21:57:47.216Z"
   },
   {
    "duration": 61,
    "start_time": "2021-10-16T21:57:48.682Z"
   },
   {
    "duration": 12,
    "start_time": "2021-10-16T21:57:48.745Z"
   },
   {
    "duration": 13,
    "start_time": "2021-10-16T21:57:48.759Z"
   },
   {
    "duration": 64,
    "start_time": "2021-10-16T21:57:48.775Z"
   },
   {
    "duration": 14,
    "start_time": "2021-10-16T21:57:48.845Z"
   },
   {
    "duration": 63,
    "start_time": "2021-10-16T21:57:48.863Z"
   },
   {
    "duration": 17,
    "start_time": "2021-10-16T21:57:48.929Z"
   },
   {
    "duration": 33,
    "start_time": "2021-10-16T21:57:48.949Z"
   },
   {
    "duration": 43,
    "start_time": "2021-10-16T21:57:48.985Z"
   },
   {
    "duration": 33,
    "start_time": "2021-10-16T21:57:49.031Z"
   },
   {
    "duration": 13,
    "start_time": "2021-10-16T21:57:49.066Z"
   },
   {
    "duration": 69,
    "start_time": "2021-10-16T21:57:49.081Z"
   },
   {
    "duration": 14,
    "start_time": "2021-10-16T21:57:49.153Z"
   },
   {
    "duration": 62,
    "start_time": "2021-10-16T21:57:49.170Z"
   },
   {
    "duration": 11,
    "start_time": "2021-10-16T21:57:49.235Z"
   },
   {
    "duration": 12,
    "start_time": "2021-10-16T21:57:49.248Z"
   },
   {
    "duration": 5,
    "start_time": "2021-10-16T21:57:49.263Z"
   },
   {
    "duration": 14,
    "start_time": "2021-10-16T21:57:49.270Z"
   },
   {
    "duration": 39,
    "start_time": "2021-10-16T21:57:49.286Z"
   },
   {
    "duration": 12,
    "start_time": "2021-10-16T21:57:49.328Z"
   },
   {
    "duration": 17,
    "start_time": "2021-10-16T21:57:49.343Z"
   },
   {
    "duration": 10,
    "start_time": "2021-10-16T21:57:49.363Z"
   },
   {
    "duration": 10,
    "start_time": "2021-10-16T21:57:49.375Z"
   },
   {
    "duration": 41,
    "start_time": "2021-10-16T21:57:49.387Z"
   },
   {
    "duration": 9,
    "start_time": "2021-10-16T21:57:49.431Z"
   },
   {
    "duration": 7,
    "start_time": "2021-10-16T21:57:49.443Z"
   },
   {
    "duration": 17,
    "start_time": "2021-10-16T21:57:49.452Z"
   },
   {
    "duration": 13,
    "start_time": "2021-10-16T21:57:49.472Z"
   },
   {
    "duration": 36,
    "start_time": "2021-10-16T21:57:49.487Z"
   },
   {
    "duration": 14,
    "start_time": "2021-10-16T21:57:49.526Z"
   },
   {
    "duration": 10,
    "start_time": "2021-10-16T21:57:49.542Z"
   },
   {
    "duration": 6,
    "start_time": "2021-10-16T21:57:49.555Z"
   },
   {
    "duration": 1968,
    "start_time": "2021-10-17T00:34:41.120Z"
   },
   {
    "duration": 31,
    "start_time": "2021-10-17T00:34:43.090Z"
   },
   {
    "duration": 11,
    "start_time": "2021-10-17T00:34:43.124Z"
   },
   {
    "duration": 12,
    "start_time": "2021-10-17T00:34:43.137Z"
   },
   {
    "duration": 36,
    "start_time": "2021-10-17T00:34:43.151Z"
   },
   {
    "duration": 18,
    "start_time": "2021-10-17T00:34:43.189Z"
   },
   {
    "duration": 15,
    "start_time": "2021-10-17T00:34:43.209Z"
   },
   {
    "duration": 23,
    "start_time": "2021-10-17T00:34:43.227Z"
   },
   {
    "duration": 55,
    "start_time": "2021-10-17T00:34:43.254Z"
   },
   {
    "duration": 64,
    "start_time": "2021-10-17T00:34:43.312Z"
   },
   {
    "duration": 13113,
    "start_time": "2021-10-17T00:34:43.379Z"
   },
   {
    "duration": 757,
    "start_time": "2021-10-17T00:34:56.495Z"
   },
   {
    "duration": 2220,
    "start_time": "2021-10-17T00:34:57.254Z"
   },
   {
    "duration": 1936,
    "start_time": "2021-10-17T00:34:59.476Z"
   },
   {
    "duration": 15,
    "start_time": "2021-10-17T00:35:01.423Z"
   },
   {
    "duration": 18,
    "start_time": "2021-10-17T00:35:01.441Z"
   },
   {
    "duration": 125,
    "start_time": "2021-10-17T00:35:01.462Z"
   },
   {
    "duration": 1356,
    "start_time": "2021-10-17T00:35:01.590Z"
   },
   {
    "duration": 54,
    "start_time": "2021-10-17T00:35:02.950Z"
   },
   {
    "duration": 25,
    "start_time": "2021-10-17T00:35:03.006Z"
   },
   {
    "duration": 15,
    "start_time": "2021-10-17T00:35:03.033Z"
   },
   {
    "duration": 34,
    "start_time": "2021-10-17T00:35:03.051Z"
   },
   {
    "duration": 14,
    "start_time": "2021-10-17T00:35:03.122Z"
   },
   {
    "duration": 34,
    "start_time": "2021-10-17T00:35:03.140Z"
   },
   {
    "duration": 52,
    "start_time": "2021-10-17T00:35:03.177Z"
   },
   {
    "duration": 34,
    "start_time": "2021-10-17T00:35:03.232Z"
   },
   {
    "duration": 16,
    "start_time": "2021-10-17T00:35:03.269Z"
   },
   {
    "duration": 34,
    "start_time": "2021-10-17T00:35:03.323Z"
   },
   {
    "duration": 14,
    "start_time": "2021-10-17T00:35:03.359Z"
   },
   {
    "duration": 65,
    "start_time": "2021-10-17T00:35:03.376Z"
   },
   {
    "duration": 14,
    "start_time": "2021-10-17T00:35:03.443Z"
   },
   {
    "duration": 64,
    "start_time": "2021-10-17T00:35:03.460Z"
   },
   {
    "duration": 13,
    "start_time": "2021-10-17T00:35:03.527Z"
   },
   {
    "duration": 8,
    "start_time": "2021-10-17T00:35:03.542Z"
   },
   {
    "duration": 8,
    "start_time": "2021-10-17T00:35:03.553Z"
   },
   {
    "duration": 15,
    "start_time": "2021-10-17T00:35:03.563Z"
   },
   {
    "duration": 44,
    "start_time": "2021-10-17T00:35:03.580Z"
   },
   {
    "duration": 5,
    "start_time": "2021-10-17T00:35:03.627Z"
   },
   {
    "duration": 19,
    "start_time": "2021-10-17T00:35:03.634Z"
   },
   {
    "duration": 33,
    "start_time": "2021-10-17T00:35:03.655Z"
   },
   {
    "duration": 7,
    "start_time": "2021-10-17T00:35:03.690Z"
   },
   {
    "duration": 26,
    "start_time": "2021-10-17T00:35:03.700Z"
   },
   {
    "duration": 14,
    "start_time": "2021-10-17T00:35:03.728Z"
   },
   {
    "duration": 12,
    "start_time": "2021-10-17T00:35:03.744Z"
   },
   {
    "duration": 19,
    "start_time": "2021-10-17T00:35:03.758Z"
   },
   {
    "duration": 16,
    "start_time": "2021-10-17T00:35:03.779Z"
   },
   {
    "duration": 24,
    "start_time": "2021-10-17T00:35:03.798Z"
   },
   {
    "duration": 16,
    "start_time": "2021-10-17T00:35:03.825Z"
   },
   {
    "duration": 16,
    "start_time": "2021-10-17T00:35:03.843Z"
   },
   {
    "duration": 11,
    "start_time": "2021-10-17T00:35:03.862Z"
   },
   {
    "duration": 104,
    "start_time": "2021-10-17T20:43:21.192Z"
   },
   {
    "duration": 96,
    "start_time": "2021-10-17T21:10:04.460Z"
   },
   {
    "duration": 85,
    "start_time": "2021-10-17T21:11:55.241Z"
   },
   {
    "duration": 143,
    "start_time": "2021-10-17T21:14:42.221Z"
   }
  ],
  "kernelspec": {
   "display_name": "Python 3 (ipykernel)",
   "language": "python",
   "name": "python3"
  },
  "language_info": {
   "codemirror_mode": {
    "name": "ipython",
    "version": 3
   },
   "file_extension": ".py",
   "mimetype": "text/x-python",
   "name": "python",
   "nbconvert_exporter": "python",
   "pygments_lexer": "ipython3",
   "version": "3.8.10"
  },
  "toc": {
   "base_numbering": 1,
   "nav_menu": {},
   "number_sections": true,
   "sideBar": true,
   "skip_h1_title": true,
   "title_cell": "Table of Contents",
   "title_sidebar": "Contents",
   "toc_cell": false,
   "toc_position": {},
   "toc_section_display": true,
   "toc_window_display": false
  }
 },
 "nbformat": 4,
 "nbformat_minor": 5
}
